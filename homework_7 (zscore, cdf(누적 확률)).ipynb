{
 "cells": [
  {
   "cell_type": "markdown",
   "id": "86335524",
   "metadata": {},
   "source": [
    "# 성적데이터는 n이 적지만, 정규분포를 이룬다고 가정하자.\n",
    "\n",
    "marks=[\n",
    "\n",
    "    \"김하나, English, 100\",\n",
    "\n",
    "    \"김하나, Math, 80\",\n",
    "\n",
    "    \"임하나, English, 70\",\n",
    "\n",
    "    \"임하나, Math, 100\",\n",
    "\n",
    "    \"김갑돌, English, 82.3\",\n",
    "\n",
    "    \"김갑돌, Math, 98.5\"\n",
    "\n",
    "]\n",
    "\n",
    "\n",
    "\n",
    "* 제출: ipynb 파일 1개 (zip하지 마세요)."
   ]
  },
  {
   "cell_type": "code",
   "execution_count": 16,
   "id": "4ca978e3",
   "metadata": {},
   "outputs": [],
   "source": [
    "from pyspark.sql import SparkSession\n",
    "from pyspark.sql.types import FloatType\n",
    "from pyspark.sql import functions as F\n",
    "\n",
    "sparkConfg = pyspark.SparkConf()\n",
    "spark = pyspark.sql.SparkSession.builder\\\n",
    "    .master('local')\\\n",
    "    .appName('myApp')\\\n",
    "    .config(conf=sparkConfg)\\\n",
    "    .getOrCreate()"
   ]
  },
  {
   "cell_type": "markdown",
   "id": "7666f0cb",
   "metadata": {},
   "source": [
    "# * 1-1 성적데이터로 DataFrame을 생성."
   ]
  },
  {
   "cell_type": "code",
   "execution_count": 30,
   "id": "e0a32e3a",
   "metadata": {},
   "outputs": [],
   "source": [
    "marks=[\n",
    "    \"김하나, English, 100\",\n",
    "    \"김하나, Math, 80\",\n",
    "    \"임하나, English, 70\",\n",
    "    \"임하나, Math, 100\",\n",
    "    \"김갑돌, English, 82.3\",\n",
    "    \"김갑돌, Math, 98.5\"\n",
    "]\n",
    "\n",
    "_marksRdd = spark.sparkContext.parallelize(marks)\\\n",
    "            .map(lambda x : x.split(\", \"))"
   ]
  },
  {
   "cell_type": "code",
   "execution_count": 31,
   "id": "3543b173",
   "metadata": {},
   "outputs": [],
   "source": [
    "_marksDf=spark.createDataFrame(_marksRdd, schema=[\"name\", \"subject\", \"mark\"])"
   ]
  },
  {
   "cell_type": "code",
   "execution_count": 32,
   "id": "0503915d",
   "metadata": {},
   "outputs": [
    {
     "name": "stdout",
     "output_type": "stream",
     "text": [
      "root\n",
      " |-- name: string (nullable = true)\n",
      " |-- subject: string (nullable = true)\n",
      " |-- mark: string (nullable = true)\n",
      "\n"
     ]
    }
   ],
   "source": [
    "_marksDf.printSchema()"
   ]
  },
  {
   "cell_type": "code",
   "execution_count": 12,
   "id": "a4102196",
   "metadata": {},
   "outputs": [
    {
     "name": "stdout",
     "output_type": "stream",
     "text": [
      "+------+-------+----+\n",
      "|  name|subject|mark|\n",
      "+------+-------+----+\n",
      "|김하나|English| 100|\n",
      "|김하나|   Math|  80|\n",
      "|임하나|English|  70|\n",
      "|임하나|   Math| 100|\n",
      "|김갑돌|English|82.3|\n",
      "|김갑돌|   Math|98.5|\n",
      "+------+-------+----+\n",
      "\n"
     ]
    }
   ],
   "source": [
    "_marksDf.show()"
   ]
  },
  {
   "cell_type": "markdown",
   "id": "851f42eb",
   "metadata": {},
   "source": [
    "# * 1-2 zscore 컬럼을 생성.\n",
    "\n",
    "zscore를 계산하려면, 평균과 표준편차를 알아야 한다.\n",
    "\n",
    "계산식에 F함수를 직접 사용하면 오류가 발생한다. 따로 평균과 표준편차를 구해서 계산식에서 사용해야 한다."
   ]
  },
  {
   "cell_type": "code",
   "execution_count": 36,
   "id": "fca1f824",
   "metadata": {},
   "outputs": [],
   "source": [
    "_marksDf = _marksDf.withColumn('markF', _marksDf['mark'].cast(FloatType()))"
   ]
  },
  {
   "cell_type": "code",
   "execution_count": 37,
   "id": "3d269199",
   "metadata": {},
   "outputs": [],
   "source": [
    "from pyspark.sql import functions as F\n",
    "\n",
    "_markStats = _marksDf.select(\n",
    "    F.mean('markF').alias('mean'),\n",
    "    F.stddev('markF').alias('std')\n",
    ").collect()"
   ]
  },
  {
   "cell_type": "code",
   "execution_count": 38,
   "id": "69127c2f",
   "metadata": {},
   "outputs": [
    {
     "data": {
      "text/plain": [
       "Row(mean=88.46666717529297, std=12.786190172956093)"
      ]
     },
     "execution_count": 38,
     "metadata": {},
     "output_type": "execute_result"
    }
   ],
   "source": [
    "_markStats[0]"
   ]
  },
  {
   "cell_type": "code",
   "execution_count": 39,
   "id": "7060abb4",
   "metadata": {},
   "outputs": [],
   "source": [
    "meanMark = _markStats[0]['mean']\n",
    "stdMark = _markStats[0]['std']"
   ]
  },
  {
   "cell_type": "code",
   "execution_count": 40,
   "id": "6d3d33c2",
   "metadata": {},
   "outputs": [],
   "source": [
    "# x = x-평균 / 표준편차\n",
    "zscoreUdf = F.udf(lambda x: (x-meanMark)/stdMark, FloatType()) \n",
    "\n",
    "_marksDf=_marksDf.withColumn(\"zscore\", zscoreUdf(_marksDf['markF']))"
   ]
  },
  {
   "cell_type": "code",
   "execution_count": 41,
   "id": "b7401736",
   "metadata": {},
   "outputs": [
    {
     "name": "stdout",
     "output_type": "stream",
     "text": [
      "+------+-------+----+-----+-----------+\n",
      "|  name|subject|mark|markF|     zscore|\n",
      "+------+-------+----+-----+-----------+\n",
      "|김하나|English| 100|100.0|  0.9020148|\n",
      "|김하나|   Math|  80| 80.0| -0.6621728|\n",
      "|임하나|English|  70| 70.0| -1.4442666|\n",
      "|임하나|   Math| 100|100.0|  0.9020148|\n",
      "|김갑돌|English|82.3| 82.3|-0.48229098|\n",
      "|김갑돌|   Math|98.5| 98.5| 0.78470075|\n",
      "+------+-------+----+-----+-----------+\n",
      "\n"
     ]
    }
   ],
   "source": [
    "_marksDf.show()"
   ]
  },
  {
   "cell_type": "markdown",
   "id": "b80dea6d",
   "metadata": {},
   "source": [
    "# * 1-3 cdf 컬럼을 생성."
   ]
  },
  {
   "cell_type": "code",
   "execution_count": 42,
   "id": "606094e1",
   "metadata": {},
   "outputs": [],
   "source": [
    "from pyspark.sql import functions as F\n",
    "from pyspark.sql.types import FloatType\n",
    "from scipy.stats import norm\n",
    "\n",
    "# 누적 확률 스파크는 float64 지원안해서 float 로 변환 후 넣어줌\n",
    "normCdf = F.udf(lambda x: float(norm.cdf(x))) "
   ]
  },
  {
   "cell_type": "code",
   "execution_count": 43,
   "id": "5b1caf8f",
   "metadata": {},
   "outputs": [],
   "source": [
    "_marksDf=_marksDf.withColumn(\"cdf\", normCdf(_marksDf['zscore']))"
   ]
  },
  {
   "cell_type": "code",
   "execution_count": 44,
   "id": "420be7cb",
   "metadata": {},
   "outputs": [
    {
     "name": "stdout",
     "output_type": "stream",
     "text": [
      "+------+-------+----+-----+-----------+-------------------+\n",
      "|  name|subject|mark|markF|     zscore|                cdf|\n",
      "+------+-------+----+-----+-----------+-------------------+\n",
      "|김하나|English| 100|100.0|  0.9020148| 0.8164754981807292|\n",
      "|김하나|   Math|  80| 80.0| -0.6621728| 0.2539302463290559|\n",
      "|임하나|English|  70| 70.0| -1.4442666| 0.0743320011235712|\n",
      "|임하나|   Math| 100|100.0|  0.9020148| 0.8164754981807292|\n",
      "|김갑돌|English|82.3| 82.3|-0.48229098|0.31479962882028223|\n",
      "|김갑돌|   Math|98.5| 98.5| 0.78470075| 0.7836854740814176|\n",
      "+------+-------+----+-----+-----------+-------------------+\n",
      "\n"
     ]
    }
   ],
   "source": [
    "_marksDf.show()"
   ]
  }
 ],
 "metadata": {
  "kernelspec": {
   "display_name": "Python 3",
   "language": "python",
   "name": "python3"
  },
  "language_info": {
   "codemirror_mode": {
    "name": "ipython",
    "version": 3
   },
   "file_extension": ".py",
   "mimetype": "text/x-python",
   "name": "python",
   "nbconvert_exporter": "python",
   "pygments_lexer": "ipython3",
   "version": "3.9.5"
  }
 },
 "nbformat": 4,
 "nbformat_minor": 5
}

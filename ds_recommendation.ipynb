{
 "cells": [
  {
   "cell_type": "markdown",
   "metadata": {
    "slideshow": {
     "slide_type": "slide"
    }
   },
   "source": [
    "# Recommendation\n",
    "\n",
    "* Last updated 20191126TUE1107\n",
    "\n",
    "## S.1 학습내용\n",
    "\n",
    "### S.1.1 목표\n",
    "\n",
    "* 내용기반 추천, 협업 추천을 프로그래밍으로 구현\n",
    "* matrix factorization"
   ]
  },
  {
   "cell_type": "markdown",
   "metadata": {
    "slideshow": {
     "slide_type": "subslide"
    }
   },
   "source": [
    "### S.1.2 목차\n",
    "\n",
    "* S.2 문제의 이해\n",
    "* S.3 추천이란\n",
    "* S.4 collaborative filtering 방법\n",
    "* S.4.1 Neighborhood Methods\n",
    "* S.4.2 Latent Factor Methods\n",
    "* S.5 Utility Matrix\n",
    "* S.6 유사도\n",
    "* S.6.1 Eculdean distance\n",
    "* S.6.2 Manhatan distance\n",
    "* S.6.3 L-form\n",
    "* S.6.4 cosine 유사도\n",
    "* S.6.5 similarity\n",
    "* S.7 영화평가\n",
    "* S.8 인지도 기반 추천\n",
    "* S.9 matrix factorization\n",
    "* S.10 SVD\n",
    "* 문제 S-5: ALS 알고리즘으로 영화 추천"
   ]
  },
  {
   "cell_type": "markdown",
   "metadata": {
    "slideshow": {
     "slide_type": "slide"
    }
   },
   "source": [
    "## S.2 문제의 이해\n",
    "\n",
    "영화, 상품, 음악, 책, 상품 등 온라인으로 판매를 한다고 하자.\n",
    "고객의 **리뷰** 또는 **평점**이 매겨지고 있고, 이러한 평점이 구매에 영향을 미칠 수 있다.\n",
    "고객에 대해 상품을 추천할 수 있다면 유용할 것이다.\n",
    "일반적인 **인기도**에 따른 추천보다는 **개인의 특성에 맞는** 개인의 특성에 맞는 상품이나 콘텐츠를 추천하는 것이 더욱 효과적이겠다."
   ]
  },
  {
   "cell_type": "markdown",
   "metadata": {
    "slideshow": {
     "slide_type": "slide"
    }
   },
   "source": [
    "## S.3 추천이란\n",
    "\n",
    "### 인기도 기반\n",
    "많은 사람들이 선호하는 상품을 추천하는 것이다. \n",
    "예를 들어 영화를 추천할 경우, 많이 본 영화 또는 평점이 높은 영화를 추천하는 것이다.\n",
    "자신이 속한 연령대, 성별로 구분하여 인기 순위가 높은 영화를 추천하면 **세분화**되겠지만, **개인의 특성이 속한 그룹과 동일하다고 보기는 어렵다**.\n",
    "\n",
    "### 상품기반\n",
    "**내용기반 추천 Content Filtering**은 상품간에 유사도를 계산하여 추천을 하는 것이다.\n",
    "영화의 예를 들면, 장르, 출연배우, 인기도 등에 따라 서로 유사한 영화를 선정하여 추천한다.\n",
    "\n",
    "### 사용자 기반\n",
    "**협업 추천 Collaborative Filtering**은 사용자와 상품 간 상호관련성에 따라 추천을 하게 된다.\n",
    "사용자 A가 노래 P, Q, R을 좋아한다고 하자. 사용자 B도 영화 P, Q를 좋아한다고 하자. 그러면 사용자 A와 B는 서로 취향이 유사하고, 아직 관람하지 않은 영화 R을 추천하게 되는 것이다.\n"
   ]
  },
  {
   "cell_type": "markdown",
   "metadata": {
    "slideshow": {
     "slide_type": "slide"
    }
   },
   "source": [
    "## S.4 협업 추천 방법\n",
    "\n",
    "### S.4.1 Neighborhood Methods\n",
    "\n",
    "이 협업 추천 collaborative filtering 방법은 사용자의 상품 선호도에 대한 유사도가 서로 비슷한 사용자를 찾아서 추천한다.\n",
    "\n",
    "단계:\n",
    "* 유사도가 높은 사용자, **이웃 neighbors**를 식별\n",
    "* 그 neighbors가 좋아하는 상품을 추천"
   ]
  },
  {
   "cell_type": "markdown",
   "metadata": {
    "slideshow": {
     "slide_type": "subslide"
    }
   },
   "source": [
    "### S.4.2 Latent Factor Methods\n",
    "\n",
    "Latent Factor는 숨겨진 요인을 의미하고,\n",
    "사용자 x 상품의 선호도를 이 숨겨진 요인으로 분해하고, 그 유사도에 따라 추천한다.\n",
    "그렇다면 숨겨진 요인을 '왜 찾는지', '어떻게 찾는지' 의문이 생기게 된다.\n",
    "숨겨진 요인을 찾는 이유를 이해하면, 찾는 방법에 대해서도 자연히 대답이 되겠다.\n",
    "**사용자의 영화에 대한 평점이 완성된 형태로 있기 어렵고, 비워진 값이 많기** 때문이다.\n",
    "비워진 값을 채우기 때문에 요인, 즉 **숨겨진 요인을 추가해서 그 결측 값을 채울 수** 있다.\n",
    "\n",
    "이 방법으로는:\n",
    "* 행렬 분해 matrix factorization\n",
    "* 교대 최소자승법 ALS Alternating Least Squares\n",
    "latent vectors는 사용자와 상품 벡터가 있는데, 이를 하나씩 고정시키고 문제를 푸는 방식이다. 즉 하나씩 번갈아 학습을 한다.\n",
    "먼저 상품 벡터를 고정시키고, 사용자 벡터에 대해 오류를 최소화하는 값을 구한다. 다음은 고정시켰던 상품 벡터에 대해 오류를 최소화한다. 이런 방식이 최적화될 때까지 반복한다.\n"
   ]
  },
  {
   "cell_type": "markdown",
   "metadata": {
    "slideshow": {
     "slide_type": "slide"
    }
   },
   "source": [
    "## S.5 Utility Matrix\n",
    "\n",
    "사용자 m, 상품 n이 있다고 하자. \n",
    "m x n 테이블이 만들어 지고, 그 셀에는 사용자의 항목에 대한 의견이 입력된다.\n"
   ]
  },
  {
   "cell_type": "markdown",
   "metadata": {
    "slideshow": {
     "slide_type": "subslide"
    }
   },
   "source": [
    "사용자 A는 영화 m2, m4에 대해 1점 4점 평점을 부여하였다.\n",
    "평점은 5점 만점으로 3점은 보통, 1점은 부정적, 5점은 긍정적이다.\n",
    "\n",
    "사용자 \\ 영화 | m1 | m2 | m3 | m4 | m5\n",
    "-----|-----|-----|-----|-----|-----\n",
    "A | - | 1 | - | 4 | -\n",
    "B | - | 4 | - | 2 | 3\n",
    "C | - | 1 | - | 4 | 4\n",
    "\n",
    "문제는 이 테이블에 빈 값이 많을 수 밖에 없다는 것이다. 이를 해결하는 방법은:\n",
    "* 사용자로 하여금 모든 영화에 평점을 부여하도록 하거나\n",
    "* 평점을 유추하는 것이다."
   ]
  },
  {
   "cell_type": "markdown",
   "metadata": {
    "slideshow": {
     "slide_type": "slide"
    }
   },
   "source": [
    "## S.6 유사도\n",
    "\n",
    "### S.6.1 Eculdean distance\n",
    "\n",
    "데이터 거리의 제곱을 계산한 값의 제곱근으로 구한다.\n",
    "\n",
    "$\\sqrt{\\sum\\limits_{i=1}^n (x_i - y_i)^2}$"
   ]
  },
  {
   "cell_type": "code",
   "execution_count": 14,
   "metadata": {
    "collapsed": true
   },
   "outputs": [],
   "source": [
    "import numpy as np\n",
    "\n",
    "a=np.array([0,1,0,4,0])\n",
    "b=np.array([0,4,0,2,3])\n",
    "c=np.array([0,1,0,4,4])"
   ]
  },
  {
   "cell_type": "code",
   "execution_count": 3,
   "metadata": {
    "collapsed": false
   },
   "outputs": [
    {
     "name": "stdout",
     "output_type": "stream",
     "text": [
      "4.69041575982\n"
     ]
    }
   ],
   "source": [
    "from math import*\n",
    " \n",
    "def euclideanDistance(x,y):\n",
    "    return sqrt(sum(pow(a-b,2) for a, b in zip(x, y)))\n",
    "\n",
    "print euclideanDistance(a,b)"
   ]
  },
  {
   "cell_type": "markdown",
   "metadata": {
    "slideshow": {
     "slide_type": "subslide"
    }
   },
   "source": [
    "### S.6.2 Manhatan distance\n",
    "\n",
    "거리의 절대 값\n",
    "\n",
    "$\\sum\\limits_{i=1}^n |x_i - y_i|$"
   ]
  },
  {
   "cell_type": "code",
   "execution_count": 30,
   "metadata": {
    "collapsed": false
   },
   "outputs": [
    {
     "name": "stdout",
     "output_type": "stream",
     "text": [
      "8\n"
     ]
    }
   ],
   "source": [
    "from math import *\n",
    " \n",
    "def manhattanDistance(x,y): \n",
    "    return sum(abs(a-b) for a,b in zip(x,y))\n",
    "\n",
    "print manhattan_distance(a,b)"
   ]
  },
  {
   "cell_type": "markdown",
   "metadata": {
    "slideshow": {
     "slide_type": "subslide"
    }
   },
   "source": [
    "### S.6.3 L-form\n",
    "\n",
    "$(\\sum\\limits_{i=1}^n |x_i - y_i|^p)^{\\frac{1}{p}}$\n",
    "\n",
    "p가 1이면 절대값 합계, L1이 되며, Manhatan distance와 같은 값이다.\n",
    "p가 2이면 제곱합의 루트 L2가 되며, Eculdean distance\n",
    "\n",
    "numpy norm은 양수 값으로 만들어주는 함수를 말한다.\n",
    "numpy norm으로 L-form을 계산할 수 있다."
   ]
  },
  {
   "cell_type": "code",
   "execution_count": 15,
   "metadata": {
    "collapsed": false
   },
   "outputs": [
    {
     "name": "stdout",
     "output_type": "stream",
     "text": [
      "6.0\n"
     ]
    }
   ],
   "source": [
    "x = np.array([1, 2, 3])\n",
    "L1=np.linalg.norm(x, 1)\n",
    "print L1"
   ]
  },
  {
   "cell_type": "code",
   "execution_count": 16,
   "metadata": {
    "collapsed": false
   },
   "outputs": [
    {
     "name": "stdout",
     "output_type": "stream",
     "text": [
      "8.0\n"
     ]
    }
   ],
   "source": [
    "L1=np.linalg.norm(a-b, 1)\n",
    "print L1"
   ]
  },
  {
   "cell_type": "code",
   "execution_count": 17,
   "metadata": {
    "collapsed": false
   },
   "outputs": [
    {
     "name": "stdout",
     "output_type": "stream",
     "text": [
      "3.74165738677\n"
     ]
    }
   ],
   "source": [
    "L2=np.sqrt(x[0]^2 + x[1]**2 + x[2]**2)\n",
    "print L2"
   ]
  },
  {
   "cell_type": "code",
   "execution_count": 18,
   "metadata": {
    "collapsed": false
   },
   "outputs": [
    {
     "name": "stdout",
     "output_type": "stream",
     "text": [
      "4.69041575982\n"
     ]
    }
   ],
   "source": [
    "L2=np.linalg.norm(a-b, 2)\n",
    "print L2"
   ]
  },
  {
   "cell_type": "markdown",
   "metadata": {
    "slideshow": {
     "slide_type": "subslide"
    }
   },
   "source": [
    "```norm()``` 함수의 default는 L2라서 생략할 수 있다."
   ]
  },
  {
   "cell_type": "code",
   "execution_count": 9,
   "metadata": {
    "collapsed": false
   },
   "outputs": [
    {
     "data": {
      "text/plain": [
       "4.6904157598234297"
      ]
     },
     "execution_count": 9,
     "metadata": {},
     "output_type": "execute_result"
    }
   ],
   "source": [
    "np.linalg.norm(a-b)"
   ]
  },
  {
   "cell_type": "markdown",
   "metadata": {
    "slideshow": {
     "slide_type": "subslide"
    }
   },
   "source": [
    "### S.6.4 cosine 유사도\n",
    "\n",
    "$\\cos(\\theta) = \\frac {A \\cdot B }{||A|| \\cdot ||B||} = \\frac {\\sum_{i=1}^{n}{A_i B_i}}{{\\sqrt {\\sum_{i=1}^{n} A_i^{2}}}{\\sqrt {\\sum_{i=1}^{n} B_{i}^{2}}}}$"
   ]
  },
  {
   "cell_type": "code",
   "execution_count": 29,
   "metadata": {
    "collapsed": false
   },
   "outputs": [
    {
     "name": "stdout",
     "output_type": "stream",
     "text": [
      "0.5405\n"
     ]
    }
   ],
   "source": [
    "from math import *\n",
    " \n",
    "def cosSimilarity(x,y): \n",
    "    numerator = sum(a*b for a,b in zip(x,y))\n",
    "    denominator = sqrt(sum([a*a for a in x])) * sqrt(sum([a*a for a in y]))\n",
    "    return round(numerator/float(denominator),4)\n",
    "\n",
    "print cosSimilarity(a,b)"
   ]
  },
  {
   "cell_type": "code",
   "execution_count": 26,
   "metadata": {
    "collapsed": false
   },
   "outputs": [
    {
     "name": "stdout",
     "output_type": "stream",
     "text": [
      "0.540452818933\n"
     ]
    }
   ],
   "source": [
    "cos_sim = np.dot(a, b)/(np.linalg.norm(a)*np.linalg.norm(b))\n",
    "print cos_sim"
   ]
  },
  {
   "cell_type": "code",
   "execution_count": 56,
   "metadata": {
    "collapsed": false
   },
   "outputs": [
    {
     "name": "stdout",
     "output_type": "stream",
     "text": [
      "0.540452818933\n"
     ]
    }
   ],
   "source": [
    "from scipy.spatial.distance import cosine\n",
    "\n",
    "print(1 - cosine(a, b))"
   ]
  },
  {
   "cell_type": "code",
   "execution_count": 57,
   "metadata": {
    "collapsed": false,
    "scrolled": true
   },
   "outputs": [
    {
     "data": {
      "text/plain": [
       "array([[ 1.        ,  0.54045282,  0.71774056],\n",
       "       [ 0.54045282,  1.        ,  0.77580982],\n",
       "       [ 0.71774056,  0.77580982,  1.        ]])"
      ]
     },
     "execution_count": 57,
     "metadata": {},
     "output_type": "execute_result"
    }
   ],
   "source": [
    "from sklearn.metrics.pairwise import cosine_similarity\n",
    "\n",
    "cosine_similarity([a, b, c])"
   ]
  },
  {
   "cell_type": "markdown",
   "metadata": {
    "slideshow": {
     "slide_type": "slide"
    }
   },
   "source": [
    "* 상관관계\n",
    "\n",
    "* Jaccard\n",
    "\n",
    "$\\frac{A \\cap B}{A \\cup B}$"
   ]
  },
  {
   "cell_type": "code",
   "execution_count": 33,
   "metadata": {
    "collapsed": false
   },
   "outputs": [
    {
     "name": "stdout",
     "output_type": "stream",
     "text": [
      "0.4\n"
     ]
    }
   ],
   "source": [
    "from math import *\n",
    " \n",
    "def jaccardSimilarity(x,y): \n",
    "    intersection_cardinality = len(set.intersection(*[set(x), set(y)]))\n",
    "    union_cardinality = len(set.union(*[set(x), set(y)]))\n",
    "    return intersection_cardinality/float(union_cardinality)\n",
    "\n",
    "print jaccardSimilarity(a,b)"
   ]
  },
  {
   "cell_type": "markdown",
   "metadata": {
    "slideshow": {
     "slide_type": "slide"
    }
   },
   "source": [
    "## S.7 영화 평가\n",
    "\n",
    "MovieLens는 University of Minnesota에서 제공하는 프로젝트, [grouplens](https://grouplens.org/)이다.\n",
    "영화평가 파일은 zip으로 되어 있다.\n",
    "\n",
    "Harper, F. M., & Konstan, J. A. (2016). The movielens datasets: History and context. ACM transactions on interactive intelligent systems (tiis), 5(4), 19."
   ]
  },
  {
   "cell_type": "markdown",
   "metadata": {
    "slideshow": {
     "slide_type": "subslide"
    }
   },
   "source": [
    "데이터는 4개의 CSV 파일로 구성되었다 ratings, movies, links and tags.\n",
    "ratings 데이터는 100,836\n",
    "\n",
    "movielens 사이트의 url에서 데이터를 직접 읽어오자."
   ]
  },
  {
   "cell_type": "code",
   "execution_count": 1,
   "metadata": {
    "collapsed": true
   },
   "outputs": [],
   "source": [
    "import os\n",
    "import urllib\n",
    "\n",
    "ml_url = 'http://files.grouplens.org/datasets/movielens/ml-latest.zip'\n",
    "ml_small_url = 'http://files.grouplens.org/datasets/movielens/ml-latest-small.zip'"
   ]
  },
  {
   "cell_type": "markdown",
   "metadata": {
    "slideshow": {
     "slide_type": "subslide"
    }
   },
   "source": [
    "```urllib.urlretrieve()``` 함수로 url에서 직접 읽어 주어진 파일명으로 저장한다. ```ml-latest.zip```와 ```ml-latest-small.zip``` 두 개의 파일이 있다."
   ]
  },
  {
   "cell_type": "code",
   "execution_count": 2,
   "metadata": {
    "collapsed": true
   },
   "outputs": [],
   "source": [
    "ml_fname=os.path.join(os.getcwd(),'data','ml-latest.zip')\n",
    "if(not os.path.exists(ml_fname)):\n",
    "    print \"%s data does not exist! retrieving..\" % ml_fname\n",
    "    ml_f=urllib.urlretrieve(ml_url,ml_fname)"
   ]
  },
  {
   "cell_type": "code",
   "execution_count": 3,
   "metadata": {
    "collapsed": true
   },
   "outputs": [],
   "source": [
    "ml_small_fname=os.path.join(os.getcwd(),'data','ml-latest-small.zip')\n",
    "if(not os.path.exists(ml_small_fname)):\n",
    "    print \"%s data does not exist! retrieving..\" % ml_small_fname\n",
    "    ml_small_f=urllib.urlretrieve(ml_small_url,ml_small_fname)"
   ]
  },
  {
   "cell_type": "markdown",
   "metadata": {
    "slideshow": {
     "slide_type": "subslide"
    }
   },
   "source": [
    "```extractall()``` 함수는 ```data``` 디렉토리에 zip을 풀어서 저장한다."
   ]
  },
  {
   "cell_type": "code",
   "execution_count": null,
   "metadata": {
    "collapsed": true
   },
   "outputs": [],
   "source": [
    "import zipfile\n",
    "\n",
    "zipfiles=[ml_fname,ml_small_fname]\n",
    "for f in zipfiles:\n",
    "    zip = zipfile.ZipFile(f)\n",
    "    zip.extractall('data')"
   ]
  },
  {
   "cell_type": "markdown",
   "metadata": {
    "slideshow": {
     "slide_type": "subslide"
    }
   },
   "source": [
    "압축한 파일을 살펴 보자. 각 파일의 내용을 ```head```로 읽어보자."
   ]
  },
  {
   "cell_type": "code",
   "execution_count": 4,
   "metadata": {
    "collapsed": false
   },
   "outputs": [
    {
     "name": "stdout",
     "output_type": "stream",
     "text": [
      "links.csv  movies.csv  ratings.csv  README.txt\ttags.csv\r\n"
     ]
    }
   ],
   "source": [
    "!ls data/ml-latest-small/"
   ]
  },
  {
   "cell_type": "code",
   "execution_count": 5,
   "metadata": {
    "collapsed": false
   },
   "outputs": [
    {
     "name": "stdout",
     "output_type": "stream",
     "text": [
      "movieId,imdbId,tmdbId\r",
      "\r\n",
      "1,0114709,862\r",
      "\r\n",
      "2,0113497,8844\r",
      "\r\n",
      "3,0113228,15602\r",
      "\r\n",
      "4,0114885,31357\r",
      "\r\n",
      "5,0113041,11862\r",
      "\r\n",
      "6,0113277,949\r",
      "\r\n",
      "7,0114319,11860\r",
      "\r\n",
      "8,0112302,45325\r",
      "\r\n",
      "9,0114576,9091\r",
      "\r\n"
     ]
    }
   ],
   "source": [
    "!head data/ml-latest-small/links.csv"
   ]
  },
  {
   "cell_type": "code",
   "execution_count": 6,
   "metadata": {
    "collapsed": false,
    "slideshow": {
     "slide_type": "subslide"
    }
   },
   "outputs": [
    {
     "name": "stdout",
     "output_type": "stream",
     "text": [
      "movieId,title,genres\r",
      "\r\n",
      "1,Toy Story (1995),Adventure|Animation|Children|Comedy|Fantasy\r",
      "\r\n",
      "2,Jumanji (1995),Adventure|Children|Fantasy\r",
      "\r\n",
      "3,Grumpier Old Men (1995),Comedy|Romance\r",
      "\r\n",
      "4,Waiting to Exhale (1995),Comedy|Drama|Romance\r",
      "\r\n",
      "5,Father of the Bride Part II (1995),Comedy\r",
      "\r\n",
      "6,Heat (1995),Action|Crime|Thriller\r",
      "\r\n",
      "7,Sabrina (1995),Comedy|Romance\r",
      "\r\n",
      "8,Tom and Huck (1995),Adventure|Children\r",
      "\r\n",
      "9,Sudden Death (1995),Action\r",
      "\r\n"
     ]
    }
   ],
   "source": [
    "!head data/ml-latest-small/movies.csv"
   ]
  },
  {
   "cell_type": "code",
   "execution_count": 7,
   "metadata": {
    "collapsed": false,
    "slideshow": {
     "slide_type": "subslide"
    }
   },
   "outputs": [
    {
     "name": "stdout",
     "output_type": "stream",
     "text": [
      "userId,movieId,rating,timestamp\r",
      "\r\n",
      "1,16,4.0,1217897793\r",
      "\r\n",
      "1,24,1.5,1217895807\r",
      "\r\n",
      "1,32,4.0,1217896246\r",
      "\r\n",
      "1,47,4.0,1217896556\r",
      "\r\n",
      "1,50,4.0,1217896523\r",
      "\r\n",
      "1,110,4.0,1217896150\r",
      "\r\n",
      "1,150,3.0,1217895940\r",
      "\r\n",
      "1,161,4.0,1217897864\r",
      "\r\n",
      "1,165,3.0,1217897135\r",
      "\r\n"
     ]
    }
   ],
   "source": [
    "!head data/ml-latest-small/ratings.csv"
   ]
  },
  {
   "cell_type": "code",
   "execution_count": 8,
   "metadata": {
    "collapsed": false,
    "slideshow": {
     "slide_type": "subslide"
    }
   },
   "outputs": [
    {
     "name": "stdout",
     "output_type": "stream",
     "text": [
      "userId,movieId,tag,timestamp\r",
      "\r\n",
      "12,16,20060407,1144396544\r",
      "\r\n",
      "12,16,robert de niro,1144396554\r",
      "\r\n",
      "12,16,scorcese,1144396564\r",
      "\r\n",
      "17,64116,movie to see,1234720092\r",
      "\r\n",
      "21,260,action,1428011080\r",
      "\r\n",
      "21,260,politics,1428011080\r",
      "\r\n",
      "21,260,science fiction,1428011080\r",
      "\r\n",
      "21,296,dark humor,1428788132\r",
      "\r\n",
      "21,296,drugs,1428788132\r",
      "\r\n"
     ]
    }
   ],
   "source": [
    "!head data/ml-latest-small/tags.csv"
   ]
  },
  {
   "cell_type": "markdown",
   "metadata": {
    "slideshow": {
     "slide_type": "subslide"
    }
   },
   "source": [
    "### Panda로 데이터 읽기"
   ]
  },
  {
   "cell_type": "code",
   "execution_count": 1,
   "metadata": {
    "collapsed": true
   },
   "outputs": [],
   "source": [
    "import pandas as pd\n",
    "import os\n",
    "\n",
    "ratings = pd.read_csv(os.path.join(os.getcwd(),'data','ml-latest-small','ratings.csv'))\n",
    "movies = pd.read_csv(os.path.join(os.getcwd(),'data','ml-latest-small','movies.csv'))"
   ]
  },
  {
   "cell_type": "code",
   "execution_count": 2,
   "metadata": {
    "collapsed": false
   },
   "outputs": [
    {
     "data": {
      "text/html": [
       "<div style=\"max-height:1000px;max-width:1500px;overflow:auto;\">\n",
       "<table border=\"1\" class=\"dataframe\">\n",
       "  <thead>\n",
       "    <tr style=\"text-align: right;\">\n",
       "      <th></th>\n",
       "      <th>userId</th>\n",
       "      <th>movieId</th>\n",
       "      <th>rating</th>\n",
       "      <th>timestamp</th>\n",
       "    </tr>\n",
       "  </thead>\n",
       "  <tbody>\n",
       "    <tr>\n",
       "      <th>0</th>\n",
       "      <td>1</td>\n",
       "      <td>16</td>\n",
       "      <td>4.0</td>\n",
       "      <td>1217897793</td>\n",
       "    </tr>\n",
       "    <tr>\n",
       "      <th>1</th>\n",
       "      <td>1</td>\n",
       "      <td>24</td>\n",
       "      <td>1.5</td>\n",
       "      <td>1217895807</td>\n",
       "    </tr>\n",
       "    <tr>\n",
       "      <th>2</th>\n",
       "      <td>1</td>\n",
       "      <td>32</td>\n",
       "      <td>4.0</td>\n",
       "      <td>1217896246</td>\n",
       "    </tr>\n",
       "  </tbody>\n",
       "</table>\n",
       "</div>"
      ],
      "text/plain": [
       "   userId  movieId  rating   timestamp\n",
       "0       1       16     4.0  1217897793\n",
       "1       1       24     1.5  1217895807\n",
       "2       1       32     4.0  1217896246"
      ]
     },
     "execution_count": 2,
     "metadata": {},
     "output_type": "execute_result"
    }
   ],
   "source": [
    "ratings.head(3)"
   ]
  },
  {
   "cell_type": "code",
   "execution_count": 3,
   "metadata": {
    "collapsed": false
   },
   "outputs": [
    {
     "data": {
      "text/html": [
       "<div style=\"max-height:1000px;max-width:1500px;overflow:auto;\">\n",
       "<table border=\"1\" class=\"dataframe\">\n",
       "  <thead>\n",
       "    <tr style=\"text-align: right;\">\n",
       "      <th></th>\n",
       "      <th>movieId</th>\n",
       "      <th>title</th>\n",
       "      <th>genres</th>\n",
       "    </tr>\n",
       "  </thead>\n",
       "  <tbody>\n",
       "    <tr>\n",
       "      <th>0</th>\n",
       "      <td>1</td>\n",
       "      <td>Toy Story (1995)</td>\n",
       "      <td>Adventure|Animation|Children|Comedy|Fantasy</td>\n",
       "    </tr>\n",
       "    <tr>\n",
       "      <th>1</th>\n",
       "      <td>2</td>\n",
       "      <td>Jumanji (1995)</td>\n",
       "      <td>Adventure|Children|Fantasy</td>\n",
       "    </tr>\n",
       "    <tr>\n",
       "      <th>2</th>\n",
       "      <td>3</td>\n",
       "      <td>Grumpier Old Men (1995)</td>\n",
       "      <td>Comedy|Romance</td>\n",
       "    </tr>\n",
       "  </tbody>\n",
       "</table>\n",
       "</div>"
      ],
      "text/plain": [
       "   movieId                    title  \\\n",
       "0        1         Toy Story (1995)   \n",
       "1        2           Jumanji (1995)   \n",
       "2        3  Grumpier Old Men (1995)   \n",
       "\n",
       "                                        genres  \n",
       "0  Adventure|Animation|Children|Comedy|Fantasy  \n",
       "1                   Adventure|Children|Fantasy  \n",
       "2                               Comedy|Romance  "
      ]
     },
     "execution_count": 3,
     "metadata": {},
     "output_type": "execute_result"
    }
   ],
   "source": [
    "movies.head(3)"
   ]
  },
  {
   "cell_type": "markdown",
   "metadata": {
    "slideshow": {
     "slide_type": "subslide"
    }
   },
   "source": [
    "column header 값을 알아보자."
   ]
  },
  {
   "cell_type": "code",
   "execution_count": 4,
   "metadata": {
    "collapsed": false
   },
   "outputs": [
    {
     "data": {
      "text/plain": [
       "array(['userId', 'movieId', 'rating', 'timestamp'], dtype=object)"
      ]
     },
     "execution_count": 4,
     "metadata": {},
     "output_type": "execute_result"
    }
   ],
   "source": [
    "ratings.columns.values"
   ]
  },
  {
   "cell_type": "code",
   "execution_count": 5,
   "metadata": {
    "collapsed": false
   },
   "outputs": [
    {
     "data": {
      "text/plain": [
       "array(['movieId', 'title', 'genres'], dtype=object)"
      ]
     },
     "execution_count": 5,
     "metadata": {},
     "output_type": "execute_result"
    }
   ],
   "source": [
    "movies.columns.values"
   ]
  },
  {
   "cell_type": "markdown",
   "metadata": {
    "slideshow": {
     "slide_type": "slide"
    }
   },
   "source": [
    "### 영화 검색\n",
    "\n",
    "#### 열 읽기\n",
    "Dataframe은 행 row, 열 column으로 구성된 데이터 저장소이다.\n",
    "영화는 컬럼명 'title'로 제목을 검색하고, 행은 그 순서를 선택할 수 있다."
   ]
  },
  {
   "cell_type": "code",
   "execution_count": 6,
   "metadata": {
    "collapsed": false
   },
   "outputs": [
    {
     "data": {
      "text/plain": [
       "'Toy Story (1995)'"
      ]
     },
     "execution_count": 6,
     "metadata": {},
     "output_type": "execute_result"
    }
   ],
   "source": [
    "movies['title'][0]"
   ]
  },
  {
   "cell_type": "markdown",
   "metadata": {
    "slideshow": {
     "slide_type": "subslide"
    }
   },
   "source": [
    "```.contains()``` 함수는 **정규표현식**을 사용해서 문자열이 포함되었는지 확인한다.\n",
    "**```\\d```**는 숫자를 의미하는 메타문자이다.\n",
    "따라서 Toy Story 속편 2, 3이 검색된다."
   ]
  },
  {
   "cell_type": "code",
   "execution_count": 7,
   "metadata": {
    "collapsed": false
   },
   "outputs": [
    {
     "data": {
      "text/html": [
       "<div style=\"max-height:1000px;max-width:1500px;overflow:auto;\">\n",
       "<table border=\"1\" class=\"dataframe\">\n",
       "  <thead>\n",
       "    <tr style=\"text-align: right;\">\n",
       "      <th></th>\n",
       "      <th>movieId</th>\n",
       "      <th>title</th>\n",
       "      <th>genres</th>\n",
       "    </tr>\n",
       "  </thead>\n",
       "  <tbody>\n",
       "    <tr>\n",
       "      <th>0</th>\n",
       "      <td>1</td>\n",
       "      <td>Toy Story (1995)</td>\n",
       "      <td>Adventure|Animation|Children|Comedy|Fantasy</td>\n",
       "    </tr>\n",
       "    <tr>\n",
       "      <th>2496</th>\n",
       "      <td>3114</td>\n",
       "      <td>Toy Story 2 (1999)</td>\n",
       "      <td>Adventure|Animation|Children|Comedy|Fantasy</td>\n",
       "    </tr>\n",
       "    <tr>\n",
       "      <th>8599</th>\n",
       "      <td>78499</td>\n",
       "      <td>Toy Story 3 (2010)</td>\n",
       "      <td>Adventure|Animation|Children|Comedy|Fantasy|IMAX</td>\n",
       "    </tr>\n",
       "  </tbody>\n",
       "</table>\n",
       "</div>"
      ],
      "text/plain": [
       "      movieId               title  \\\n",
       "0           1    Toy Story (1995)   \n",
       "2496     3114  Toy Story 2 (1999)   \n",
       "8599    78499  Toy Story 3 (2010)   \n",
       "\n",
       "                                                genres  \n",
       "0          Adventure|Animation|Children|Comedy|Fantasy  \n",
       "2496       Adventure|Animation|Children|Comedy|Fantasy  \n",
       "8599  Adventure|Animation|Children|Comedy|Fantasy|IMAX  "
      ]
     },
     "execution_count": 7,
     "metadata": {},
     "output_type": "execute_result"
    }
   ],
   "source": [
    "movies[movies['title'].str.contains(\"Toy Story\")==True]"
   ]
  },
  {
   "cell_type": "code",
   "execution_count": 8,
   "metadata": {
    "collapsed": false,
    "scrolled": true
   },
   "outputs": [
    {
     "data": {
      "text/html": [
       "<div style=\"max-height:1000px;max-width:1500px;overflow:auto;\">\n",
       "<table border=\"1\" class=\"dataframe\">\n",
       "  <thead>\n",
       "    <tr style=\"text-align: right;\">\n",
       "      <th></th>\n",
       "      <th>movieId</th>\n",
       "      <th>title</th>\n",
       "      <th>genres</th>\n",
       "    </tr>\n",
       "  </thead>\n",
       "  <tbody>\n",
       "    <tr>\n",
       "      <th>2496</th>\n",
       "      <td>3114</td>\n",
       "      <td>Toy Story 2 (1999)</td>\n",
       "      <td>Adventure|Animation|Children|Comedy|Fantasy</td>\n",
       "    </tr>\n",
       "    <tr>\n",
       "      <th>8599</th>\n",
       "      <td>78499</td>\n",
       "      <td>Toy Story 3 (2010)</td>\n",
       "      <td>Adventure|Animation|Children|Comedy|Fantasy|IMAX</td>\n",
       "    </tr>\n",
       "  </tbody>\n",
       "</table>\n",
       "</div>"
      ],
      "text/plain": [
       "      movieId               title  \\\n",
       "2496     3114  Toy Story 2 (1999)   \n",
       "8599    78499  Toy Story 3 (2010)   \n",
       "\n",
       "                                                genres  \n",
       "2496       Adventure|Animation|Children|Comedy|Fantasy  \n",
       "8599  Adventure|Animation|Children|Comedy|Fantasy|IMAX  "
      ]
     },
     "execution_count": 8,
     "metadata": {},
     "output_type": "execute_result"
    }
   ],
   "source": [
    "movies[movies['title'].str.contains(\"Toy Story.\\d.*\")]"
   ]
  },
  {
   "cell_type": "markdown",
   "metadata": {
    "slideshow": {
     "slide_type": "subslide"
    }
   },
   "source": [
    "#### 행으로 데이터 읽기\n",
    "\n",
    "행 데이터는 인덱스로 검색할 수 있다. 두 명령어 **```loc```**, **```iloc```**를 사용할 수 있는데, 서로 비슷해서 조금 혼란스럽다.\n",
    "우리가 다른 배열에서 사용하는 인덱스와 ```iloc```와 비슷하다."
   ]
  },
  {
   "cell_type": "code",
   "execution_count": 7,
   "metadata": {
    "collapsed": false,
    "scrolled": false
   },
   "outputs": [
    {
     "data": {
      "text/html": [
       "<div style=\"max-height:1000px;max-width:1500px;overflow:auto;\">\n",
       "<table border=\"1\" class=\"dataframe\">\n",
       "  <thead>\n",
       "    <tr style=\"text-align: right;\">\n",
       "      <th></th>\n",
       "      <th>movieId</th>\n",
       "      <th>title</th>\n",
       "      <th>genres</th>\n",
       "    </tr>\n",
       "  </thead>\n",
       "  <tbody>\n",
       "    <tr>\n",
       "      <th>1</th>\n",
       "      <td>2</td>\n",
       "      <td>Jumanji (1995)</td>\n",
       "      <td>Adventure|Children|Fantasy</td>\n",
       "    </tr>\n",
       "    <tr>\n",
       "      <th>2</th>\n",
       "      <td>3</td>\n",
       "      <td>Grumpier Old Men (1995)</td>\n",
       "      <td>Comedy|Romance</td>\n",
       "    </tr>\n",
       "  </tbody>\n",
       "</table>\n",
       "</div>"
      ],
      "text/plain": [
       "   movieId                    title                      genres\n",
       "1        2           Jumanji (1995)  Adventure|Children|Fantasy\n",
       "2        3  Grumpier Old Men (1995)              Comedy|Romance"
      ]
     },
     "execution_count": 7,
     "metadata": {},
     "output_type": "execute_result"
    }
   ],
   "source": [
    "movies[1:3]"
   ]
  },
  {
   "cell_type": "markdown",
   "metadata": {
    "slideshow": {
     "slide_type": "subslide"
    }
   },
   "source": [
    "**```iloc```** 인덱스의 위치로 검색한다. 1은 첫째 행을 의미한다."
   ]
  },
  {
   "cell_type": "code",
   "execution_count": 11,
   "metadata": {
    "collapsed": false,
    "scrolled": true
   },
   "outputs": [
    {
     "data": {
      "text/plain": [
       "movieId                             2\n",
       "title                  Jumanji (1995)\n",
       "genres     Adventure|Children|Fantasy\n",
       "Name: 1, dtype: object"
      ]
     },
     "execution_count": 11,
     "metadata": {},
     "output_type": "execute_result"
    }
   ],
   "source": [
    "movies.iloc[1] # first row"
   ]
  },
  {
   "cell_type": "code",
   "execution_count": 9,
   "metadata": {
    "collapsed": false,
    "scrolled": true
   },
   "outputs": [
    {
     "data": {
      "text/html": [
       "<div style=\"max-height:1000px;max-width:1500px;overflow:auto;\">\n",
       "<table border=\"1\" class=\"dataframe\">\n",
       "  <thead>\n",
       "    <tr style=\"text-align: right;\">\n",
       "      <th></th>\n",
       "      <th>movieId</th>\n",
       "      <th>title</th>\n",
       "      <th>genres</th>\n",
       "    </tr>\n",
       "  </thead>\n",
       "  <tbody>\n",
       "    <tr>\n",
       "      <th>2496</th>\n",
       "      <td>3114</td>\n",
       "      <td>Toy Story 2 (1999)</td>\n",
       "      <td>Adventure|Animation|Children|Comedy|Fantasy</td>\n",
       "    </tr>\n",
       "    <tr>\n",
       "      <th>8599</th>\n",
       "      <td>78499</td>\n",
       "      <td>Toy Story 3 (2010)</td>\n",
       "      <td>Adventure|Animation|Children|Comedy|Fantasy|IMAX</td>\n",
       "    </tr>\n",
       "  </tbody>\n",
       "</table>\n",
       "</div>"
      ],
      "text/plain": [
       "      movieId               title  \\\n",
       "2496     3114  Toy Story 2 (1999)   \n",
       "8599    78499  Toy Story 3 (2010)   \n",
       "\n",
       "                                                genres  \n",
       "2496       Adventure|Animation|Children|Comedy|Fantasy  \n",
       "8599  Adventure|Animation|Children|Comedy|Fantasy|IMAX  "
      ]
     },
     "execution_count": 9,
     "metadata": {},
     "output_type": "execute_result"
    }
   ],
   "source": [
    "movies.iloc[[2496,8599]]"
   ]
  },
  {
   "cell_type": "markdown",
   "metadata": {
    "slideshow": {
     "slide_type": "subslide"
    }
   },
   "source": [
    "**```loc```**는 인덱스 **레이블**로 검색, 즉 인덱스의 레이블 값을 지칭한다."
   ]
  },
  {
   "cell_type": "code",
   "execution_count": 10,
   "metadata": {
    "collapsed": false,
    "scrolled": false,
    "slideshow": {
     "slide_type": "-"
    }
   },
   "outputs": [
    {
     "data": {
      "text/html": [
       "<div style=\"max-height:1000px;max-width:1500px;overflow:auto;\">\n",
       "<table border=\"1\" class=\"dataframe\">\n",
       "  <thead>\n",
       "    <tr style=\"text-align: right;\">\n",
       "      <th></th>\n",
       "      <th>movieId</th>\n",
       "      <th>title</th>\n",
       "      <th>genres</th>\n",
       "    </tr>\n",
       "  </thead>\n",
       "  <tbody>\n",
       "    <tr>\n",
       "      <th>1</th>\n",
       "      <td>2</td>\n",
       "      <td>Jumanji (1995)</td>\n",
       "      <td>Adventure|Children|Fantasy</td>\n",
       "    </tr>\n",
       "    <tr>\n",
       "      <th>3</th>\n",
       "      <td>4</td>\n",
       "      <td>Waiting to Exhale (1995)</td>\n",
       "      <td>Comedy|Drama|Romance</td>\n",
       "    </tr>\n",
       "  </tbody>\n",
       "</table>\n",
       "</div>"
      ],
      "text/plain": [
       "   movieId                     title                      genres\n",
       "1        2            Jumanji (1995)  Adventure|Children|Fantasy\n",
       "3        4  Waiting to Exhale (1995)        Comedy|Drama|Romance"
      ]
     },
     "execution_count": 10,
     "metadata": {},
     "output_type": "execute_result"
    }
   ],
   "source": [
    "movies.loc[[1,3]]"
   ]
  },
  {
   "cell_type": "code",
   "execution_count": 10,
   "metadata": {
    "collapsed": false,
    "scrolled": true
   },
   "outputs": [
    {
     "data": {
      "text/html": [
       "<div style=\"max-height:1000px;max-width:1500px;overflow:auto;\">\n",
       "<table border=\"1\" class=\"dataframe\">\n",
       "  <thead>\n",
       "    <tr style=\"text-align: right;\">\n",
       "      <th></th>\n",
       "      <th>movieId</th>\n",
       "      <th>title</th>\n",
       "      <th>genres</th>\n",
       "    </tr>\n",
       "  </thead>\n",
       "  <tbody>\n",
       "    <tr>\n",
       "      <th>2496</th>\n",
       "      <td>3114</td>\n",
       "      <td>Toy Story 2 (1999)</td>\n",
       "      <td>Adventure|Animation|Children|Comedy|Fantasy</td>\n",
       "    </tr>\n",
       "    <tr>\n",
       "      <th>8599</th>\n",
       "      <td>78499</td>\n",
       "      <td>Toy Story 3 (2010)</td>\n",
       "      <td>Adventure|Animation|Children|Comedy|Fantasy|IMAX</td>\n",
       "    </tr>\n",
       "  </tbody>\n",
       "</table>\n",
       "</div>"
      ],
      "text/plain": [
       "      movieId               title  \\\n",
       "2496     3114  Toy Story 2 (1999)   \n",
       "8599    78499  Toy Story 3 (2010)   \n",
       "\n",
       "                                                genres  \n",
       "2496       Adventure|Animation|Children|Comedy|Fantasy  \n",
       "8599  Adventure|Animation|Children|Comedy|Fantasy|IMAX  "
      ]
     },
     "execution_count": 10,
     "metadata": {},
     "output_type": "execute_result"
    }
   ],
   "source": [
    "movies.loc[[2496,8599]]"
   ]
  },
  {
   "cell_type": "code",
   "execution_count": 11,
   "metadata": {
    "collapsed": false,
    "scrolled": false
   },
   "outputs": [
    {
     "data": {
      "text/html": [
       "<div style=\"max-height:1000px;max-width:1500px;overflow:auto;\">\n",
       "<table border=\"1\" class=\"dataframe\">\n",
       "  <thead>\n",
       "    <tr style=\"text-align: right;\">\n",
       "      <th></th>\n",
       "      <th>title</th>\n",
       "    </tr>\n",
       "  </thead>\n",
       "  <tbody>\n",
       "    <tr>\n",
       "      <th>2496</th>\n",
       "      <td>Toy Story 2 (1999)</td>\n",
       "    </tr>\n",
       "    <tr>\n",
       "      <th>8599</th>\n",
       "      <td>Toy Story 3 (2010)</td>\n",
       "    </tr>\n",
       "  </tbody>\n",
       "</table>\n",
       "</div>"
      ],
      "text/plain": [
       "                   title\n",
       "2496  Toy Story 2 (1999)\n",
       "8599  Toy Story 3 (2010)"
      ]
     },
     "execution_count": 11,
     "metadata": {},
     "output_type": "execute_result"
    }
   ],
   "source": [
    "movies.loc[[2496,8599],['title']]"
   ]
  },
  {
   "cell_type": "markdown",
   "metadata": {
    "slideshow": {
     "slide_type": "subslide"
    }
   },
   "source": [
    "### missing values"
   ]
  },
  {
   "cell_type": "code",
   "execution_count": 12,
   "metadata": {
    "collapsed": false
   },
   "outputs": [
    {
     "data": {
      "text/plain": [
       "userId       0\n",
       "movieId      0\n",
       "rating       0\n",
       "timestamp    0\n",
       "dtype: int64"
      ]
     },
     "execution_count": 12,
     "metadata": {},
     "output_type": "execute_result"
    }
   ],
   "source": [
    "ratings.isnull().sum()"
   ]
  },
  {
   "cell_type": "code",
   "execution_count": 13,
   "metadata": {
    "collapsed": false
   },
   "outputs": [
    {
     "name": "stdout",
     "output_type": "stream",
     "text": [
      "668 10325\n"
     ]
    }
   ],
   "source": [
    "nUsers=ratings.userId.unique().shape[0]\n",
    "nItems=ratings.movieId.unique().shape[0]\n",
    "\n",
    "print nUsers, nItems"
   ]
  },
  {
   "cell_type": "markdown",
   "metadata": {
    "slideshow": {
     "slide_type": "subslide"
    }
   },
   "source": [
    "### ratings와 movies 데이터 합치기\n",
    "\n",
    "```merge()```는 공통 속성 ```on```을 기준으로 두 dataframe을 병합한다.\n",
    "```how```는 ```left, right, inner, outer``` 4가지 방법으로 병합할 수 있다.\n",
    "* ```left```: 왼쪽 dataframe의 모든 행을 보존\n",
    "* ```right```: 오른쪽 dataframe의 모든 행을 보존\n",
    "* ```inner```: 기본 ```default``` 왼쪽 오른쪽 dataframe의 공통 값으로만 병합\n",
    "* ```outer```: 왼쪽 오른쪽 dataframe의........ 행의 일치하는 값이 없는 경우 NaN\n"
   ]
  },
  {
   "cell_type": "code",
   "execution_count": 14,
   "metadata": {
    "collapsed": false,
    "scrolled": false
   },
   "outputs": [
    {
     "data": {
      "text/html": [
       "<div style=\"max-height:1000px;max-width:1500px;overflow:auto;\">\n",
       "<table border=\"1\" class=\"dataframe\">\n",
       "  <thead>\n",
       "    <tr style=\"text-align: right;\">\n",
       "      <th></th>\n",
       "      <th>userId</th>\n",
       "      <th>movieId</th>\n",
       "      <th>rating</th>\n",
       "      <th>timestamp</th>\n",
       "      <th>title</th>\n",
       "      <th>genres</th>\n",
       "    </tr>\n",
       "  </thead>\n",
       "  <tbody>\n",
       "    <tr>\n",
       "      <th>0</th>\n",
       "      <td>1</td>\n",
       "      <td>16</td>\n",
       "      <td>4.0</td>\n",
       "      <td>1217897793</td>\n",
       "      <td>Casino (1995)</td>\n",
       "      <td>Crime|Drama</td>\n",
       "    </tr>\n",
       "    <tr>\n",
       "      <th>1</th>\n",
       "      <td>1</td>\n",
       "      <td>24</td>\n",
       "      <td>1.5</td>\n",
       "      <td>1217895807</td>\n",
       "      <td>Powder (1995)</td>\n",
       "      <td>Drama|Sci-Fi</td>\n",
       "    </tr>\n",
       "    <tr>\n",
       "      <th>2</th>\n",
       "      <td>1</td>\n",
       "      <td>32</td>\n",
       "      <td>4.0</td>\n",
       "      <td>1217896246</td>\n",
       "      <td>Twelve Monkeys (a.k.a. 12 Monkeys) (1995)</td>\n",
       "      <td>Mystery|Sci-Fi|Thriller</td>\n",
       "    </tr>\n",
       "    <tr>\n",
       "      <th>3</th>\n",
       "      <td>1</td>\n",
       "      <td>47</td>\n",
       "      <td>4.0</td>\n",
       "      <td>1217896556</td>\n",
       "      <td>Seven (a.k.a. Se7en) (1995)</td>\n",
       "      <td>Mystery|Thriller</td>\n",
       "    </tr>\n",
       "    <tr>\n",
       "      <th>4</th>\n",
       "      <td>1</td>\n",
       "      <td>50</td>\n",
       "      <td>4.0</td>\n",
       "      <td>1217896523</td>\n",
       "      <td>Usual Suspects, The (1995)</td>\n",
       "      <td>Crime|Mystery|Thriller</td>\n",
       "    </tr>\n",
       "    <tr>\n",
       "      <th>5</th>\n",
       "      <td>1</td>\n",
       "      <td>110</td>\n",
       "      <td>4.0</td>\n",
       "      <td>1217896150</td>\n",
       "      <td>Braveheart (1995)</td>\n",
       "      <td>Action|Drama|War</td>\n",
       "    </tr>\n",
       "    <tr>\n",
       "      <th>6</th>\n",
       "      <td>1</td>\n",
       "      <td>150</td>\n",
       "      <td>3.0</td>\n",
       "      <td>1217895940</td>\n",
       "      <td>Apollo 13 (1995)</td>\n",
       "      <td>Adventure|Drama|IMAX</td>\n",
       "    </tr>\n",
       "    <tr>\n",
       "      <th>7</th>\n",
       "      <td>1</td>\n",
       "      <td>161</td>\n",
       "      <td>4.0</td>\n",
       "      <td>1217897864</td>\n",
       "      <td>Crimson Tide (1995)</td>\n",
       "      <td>Drama|Thriller|War</td>\n",
       "    </tr>\n",
       "    <tr>\n",
       "      <th>8</th>\n",
       "      <td>1</td>\n",
       "      <td>165</td>\n",
       "      <td>3.0</td>\n",
       "      <td>1217897135</td>\n",
       "      <td>Die Hard: With a Vengeance (1995)</td>\n",
       "      <td>Action|Crime|Thriller</td>\n",
       "    </tr>\n",
       "    <tr>\n",
       "      <th>9</th>\n",
       "      <td>1</td>\n",
       "      <td>204</td>\n",
       "      <td>0.5</td>\n",
       "      <td>1217895786</td>\n",
       "      <td>Under Siege 2: Dark Territory (1995)</td>\n",
       "      <td>Action</td>\n",
       "    </tr>\n",
       "  </tbody>\n",
       "</table>\n",
       "</div>"
      ],
      "text/plain": [
       "   userId  movieId  rating   timestamp  \\\n",
       "0       1       16     4.0  1217897793   \n",
       "1       1       24     1.5  1217895807   \n",
       "2       1       32     4.0  1217896246   \n",
       "3       1       47     4.0  1217896556   \n",
       "4       1       50     4.0  1217896523   \n",
       "5       1      110     4.0  1217896150   \n",
       "6       1      150     3.0  1217895940   \n",
       "7       1      161     4.0  1217897864   \n",
       "8       1      165     3.0  1217897135   \n",
       "9       1      204     0.5  1217895786   \n",
       "\n",
       "                                       title                   genres  \n",
       "0                              Casino (1995)              Crime|Drama  \n",
       "1                              Powder (1995)             Drama|Sci-Fi  \n",
       "2  Twelve Monkeys (a.k.a. 12 Monkeys) (1995)  Mystery|Sci-Fi|Thriller  \n",
       "3                Seven (a.k.a. Se7en) (1995)         Mystery|Thriller  \n",
       "4                 Usual Suspects, The (1995)   Crime|Mystery|Thriller  \n",
       "5                          Braveheart (1995)         Action|Drama|War  \n",
       "6                           Apollo 13 (1995)     Adventure|Drama|IMAX  \n",
       "7                        Crimson Tide (1995)       Drama|Thriller|War  \n",
       "8          Die Hard: With a Vengeance (1995)    Action|Crime|Thriller  \n",
       "9       Under Siege 2: Dark Territory (1995)                   Action  "
      ]
     },
     "execution_count": 14,
     "metadata": {},
     "output_type": "execute_result"
    }
   ],
   "source": [
    "ratingsTitle=ratings.merge(movies,on='movieId', how='left')\n",
    "ratingsTitle.head(10)"
   ]
  },
  {
   "cell_type": "markdown",
   "metadata": {
    "slideshow": {
     "slide_type": "slide"
    }
   },
   "source": [
    "## S.8 인지도 기반 추천\n",
    "\n",
    "영화 가운데 평점이 가장 높은 \n",
    "groupby('movieId')는 영화ID를 그룹으로 해서\n",
    "mean() 평균을 구하고\n",
    "sort() 평점이 높은 순서대로 정렬"
   ]
  },
  {
   "cell_type": "code",
   "execution_count": 30,
   "metadata": {
    "collapsed": false
   },
   "outputs": [
    {
     "data": {
      "text/html": [
       "<div style=\"max-height:1000px;max-width:1500px;overflow:auto;\">\n",
       "<table border=\"1\" class=\"dataframe\">\n",
       "  <thead>\n",
       "    <tr style=\"text-align: right;\">\n",
       "      <th></th>\n",
       "      <th>rating</th>\n",
       "    </tr>\n",
       "    <tr>\n",
       "      <th>title</th>\n",
       "      <th></th>\n",
       "    </tr>\n",
       "  </thead>\n",
       "  <tbody>\n",
       "    <tr>\n",
       "      <th>Saddest Music in the World, The (2003)</th>\n",
       "      <td>5</td>\n",
       "    </tr>\n",
       "    <tr>\n",
       "      <th>Interstate 60 (2002)</th>\n",
       "      <td>5</td>\n",
       "    </tr>\n",
       "    <tr>\n",
       "      <th>Gunfighter, The (1950)</th>\n",
       "      <td>5</td>\n",
       "    </tr>\n",
       "    <tr>\n",
       "      <th>Heima (2007)</th>\n",
       "      <td>5</td>\n",
       "    </tr>\n",
       "    <tr>\n",
       "      <th>Limelight (1952)</th>\n",
       "      <td>5</td>\n",
       "    </tr>\n",
       "    <tr>\n",
       "      <th>Plague Dogs, The (1982)</th>\n",
       "      <td>5</td>\n",
       "    </tr>\n",
       "    <tr>\n",
       "      <th>Love Me If You Dare (Jeux d'enfants) (2003)</th>\n",
       "      <td>5</td>\n",
       "    </tr>\n",
       "    <tr>\n",
       "      <th>Syrup (2013)</th>\n",
       "      <td>5</td>\n",
       "    </tr>\n",
       "    <tr>\n",
       "      <th>Interstella 5555: The 5tory of the 5ecret 5tar 5ystem (2003)</th>\n",
       "      <td>5</td>\n",
       "    </tr>\n",
       "    <tr>\n",
       "      <th>Symbol (Shinboru) (2009)</th>\n",
       "      <td>5</td>\n",
       "    </tr>\n",
       "  </tbody>\n",
       "</table>\n",
       "</div>"
      ],
      "text/plain": [
       "                                                    rating\n",
       "title                                                     \n",
       "Saddest Music in the World, The (2003)                   5\n",
       "Interstate 60 (2002)                                     5\n",
       "Gunfighter, The (1950)                                   5\n",
       "Heima (2007)                                             5\n",
       "Limelight (1952)                                         5\n",
       "Plague Dogs, The (1982)                                  5\n",
       "Love Me If You Dare (Jeux d'enfants) (2003)              5\n",
       "Syrup (2013)                                             5\n",
       "Interstella 5555: The 5tory of the 5ecret 5tar ...       5\n",
       "Symbol (Shinboru) (2009)                                 5"
      ]
     },
     "execution_count": 30,
     "metadata": {},
     "output_type": "execute_result"
    }
   ],
   "source": [
    "pd.DataFrame(ratingsTitle.groupby('title')['rating'].mean()).sort('rating', ascending=False).head(10)"
   ]
  },
  {
   "cell_type": "markdown",
   "metadata": {
    "slideshow": {
     "slide_type": "subslide"
    }
   },
   "source": [
    "### Utility matrix"
   ]
  },
  {
   "cell_type": "markdown",
   "metadata": {},
   "source": [
    "#### 사용자, 상품별 평점 계산하기"
   ]
  },
  {
   "cell_type": "code",
   "execution_count": 24,
   "metadata": {
    "collapsed": true
   },
   "outputs": [],
   "source": [
    "import numpy as np\n",
    "nuser_item = np.zeros((nUsers, nItems))"
   ]
  },
  {
   "cell_type": "markdown",
   "metadata": {
    "slideshow": {
     "slide_type": "subslide"
    }
   },
   "source": [
    "**```iterrows()```** 함수는 Pandas의 ```Series``` 객체를 반환하기 때문에, 데이터프레임의 컬럼명으로 값을 조회할 수 있다.\n",
    "**```itertuples()```** 함수는 인덱스 순서대로 데이터를 조회하게 된다."
   ]
  },
  {
   "cell_type": "code",
   "execution_count": 25,
   "metadata": {
    "collapsed": false
   },
   "outputs": [
    {
     "name": "stdout",
     "output_type": "stream",
     "text": [
      "index:  1.0 16.0 4.0 1217897793.0\n",
      "index:  1.0 24.0 1.5 1217895807.0\n",
      "index:  1.0 32.0 4.0 1217896246.0\n",
      "index:  1.0 47.0 4.0 1217896556.0\n",
      "index:  1.0 50.0 4.0 1217896523.0\n"
     ]
    }
   ],
   "source": [
    "i=0;\n",
    "for index,e in ratings.head().iterrows():\n",
    "    print \"index: \",e['userId'],e['movieId'],e['rating'],e['timestamp']"
   ]
  },
  {
   "cell_type": "code",
   "execution_count": 26,
   "metadata": {
    "collapsed": false
   },
   "outputs": [
    {
     "name": "stdout",
     "output_type": "stream",
     "text": [
      "0 1 16 4.0 1217897793\n",
      "1 1 24 1.5 1217895807\n",
      "2 1 32 4.0 1217896246\n",
      "3 1 47 4.0 1217896556\n",
      "4 1 50 4.0 1217896523\n"
     ]
    }
   ],
   "source": [
    "i=0;\n",
    "for e in ratings.head().itertuples():\n",
    "    print e[0],e[1],e[2],e[3],e[4]"
   ]
  },
  {
   "cell_type": "code",
   "execution_count": null,
   "metadata": {
    "collapsed": true,
    "slideshow": {
     "slide_type": "subslide"
    }
   },
   "outputs": [],
   "source": [
    "i=0;\n",
    "for index,e in ratings.head().iterrows():\n",
    "    print \"index: \",e['userId'],e['movieId'],e['rating'],e['timestamp']\n",
    "    nuser_item[e['userId']-1,e['movieId']-1]=e['rating']"
   ]
  },
  {
   "cell_type": "code",
   "execution_count": 28,
   "metadata": {
    "collapsed": false
   },
   "outputs": [
    {
     "data": {
      "text/plain": [
       "array([[ 0.,  0.,  0., ...,  0.,  0.,  0.],\n",
       "       [ 0.,  0.,  0., ...,  0.,  0.,  0.],\n",
       "       [ 0.,  0.,  0., ...,  0.,  0.,  0.],\n",
       "       ..., \n",
       "       [ 0.,  0.,  0., ...,  0.,  0.,  0.],\n",
       "       [ 0.,  0.,  0., ...,  0.,  0.,  0.],\n",
       "       [ 0.,  0.,  0., ...,  0.,  0.,  0.]])"
      ]
     },
     "execution_count": 28,
     "metadata": {},
     "output_type": "execute_result"
    }
   ],
   "source": [
    "nuser_item"
   ]
  },
  {
   "cell_type": "markdown",
   "metadata": {
    "slideshow": {
     "slide_type": "subslide"
    }
   },
   "source": [
    "#### 사용자, 영화 id의 최대 값으로 구성한 utility matrix\n",
    "\n",
    "numpy array을 가능한 최대의 값으로 shape을 정해서 갯수를 정한다. 따라서 비어있는 값이 "
   ]
  },
  {
   "cell_type": "code",
   "execution_count": 15,
   "metadata": {
    "collapsed": true
   },
   "outputs": [],
   "source": [
    "import numpy as np\n",
    "utilityMax = np.ndarray(shape=(np.max(ratings.movieId.values), np.max(ratings.userId.values)),dtype=np.uint8)"
   ]
  },
  {
   "cell_type": "code",
   "execution_count": 16,
   "metadata": {
    "collapsed": false
   },
   "outputs": [
    {
     "data": {
      "text/plain": [
       "((149532, 668), numpy.ndarray)"
      ]
     },
     "execution_count": 16,
     "metadata": {},
     "output_type": "execute_result"
    }
   ],
   "source": [
    "utilityMax.shape, type(utilityMax)"
   ]
  },
  {
   "cell_type": "code",
   "execution_count": 17,
   "metadata": {
    "collapsed": true
   },
   "outputs": [],
   "source": [
    "utilityMax[ratings.movieId.values-1, ratings.userId.values-1] = ratings.rating.values"
   ]
  },
  {
   "cell_type": "markdown",
   "metadata": {
    "slideshow": {
     "slide_type": "subslide"
    }
   },
   "source": [
    "#### 사용자, 영화의 존재하지 않는 id를 제외한 utility matrix\n",
    "\n",
    "피벗테이블 ```pivot table```은 데이터를 그룹별로 구분하여 각 그룹의 갯수, 합계, 평균 등을 분석하는 방법이다.\n",
    "영화의 사용자별, 영화별로 평점을 계산해 보자.\n",
    "**```pivot_table()```**은 셀에 **복수**의 값이 허용되고 (```pivot()```은 복수의 값이 허용되지 않는다), 그런 경우 ```numpy.mean()``` 평균 값을 **기본 default**로 채택한다.\n",
    "\n",
    "* index는 행\n",
    "* columns는 열\n",
    "* values는 셀에 입력되는 값"
   ]
  },
  {
   "cell_type": "code",
   "execution_count": 23,
   "metadata": {
    "collapsed": false,
    "scrolled": false
   },
   "outputs": [
    {
     "data": {
      "text/html": [
       "<div style=\"max-height:1000px;max-width:1500px;overflow:auto;\">\n",
       "<table border=\"1\" class=\"dataframe\">\n",
       "  <thead>\n",
       "    <tr style=\"text-align: right;\">\n",
       "      <th>movieId</th>\n",
       "      <th>1</th>\n",
       "      <th>2</th>\n",
       "      <th>3</th>\n",
       "      <th>4</th>\n",
       "      <th>5</th>\n",
       "      <th>6</th>\n",
       "      <th>7</th>\n",
       "      <th>8</th>\n",
       "      <th>9</th>\n",
       "      <th>10</th>\n",
       "      <th>...</th>\n",
       "      <th>144482</th>\n",
       "      <th>144656</th>\n",
       "      <th>144976</th>\n",
       "      <th>146344</th>\n",
       "      <th>146656</th>\n",
       "      <th>146684</th>\n",
       "      <th>146878</th>\n",
       "      <th>148238</th>\n",
       "      <th>148626</th>\n",
       "      <th>149532</th>\n",
       "    </tr>\n",
       "    <tr>\n",
       "      <th>userId</th>\n",
       "      <th></th>\n",
       "      <th></th>\n",
       "      <th></th>\n",
       "      <th></th>\n",
       "      <th></th>\n",
       "      <th></th>\n",
       "      <th></th>\n",
       "      <th></th>\n",
       "      <th></th>\n",
       "      <th></th>\n",
       "      <th></th>\n",
       "      <th></th>\n",
       "      <th></th>\n",
       "      <th></th>\n",
       "      <th></th>\n",
       "      <th></th>\n",
       "      <th></th>\n",
       "      <th></th>\n",
       "      <th></th>\n",
       "      <th></th>\n",
       "      <th></th>\n",
       "    </tr>\n",
       "  </thead>\n",
       "  <tbody>\n",
       "    <tr>\n",
       "      <th>1</th>\n",
       "      <td>0</td>\n",
       "      <td>0</td>\n",
       "      <td>0</td>\n",
       "      <td>0</td>\n",
       "      <td>0</td>\n",
       "      <td>0</td>\n",
       "      <td>0</td>\n",
       "      <td>0</td>\n",
       "      <td>0</td>\n",
       "      <td>0</td>\n",
       "      <td>...</td>\n",
       "      <td>0</td>\n",
       "      <td>0</td>\n",
       "      <td>0</td>\n",
       "      <td>0</td>\n",
       "      <td>0</td>\n",
       "      <td>0</td>\n",
       "      <td>0</td>\n",
       "      <td>0</td>\n",
       "      <td>0</td>\n",
       "      <td>0</td>\n",
       "    </tr>\n",
       "    <tr>\n",
       "      <th>2</th>\n",
       "      <td>5</td>\n",
       "      <td>0</td>\n",
       "      <td>2</td>\n",
       "      <td>0</td>\n",
       "      <td>3</td>\n",
       "      <td>0</td>\n",
       "      <td>0</td>\n",
       "      <td>0</td>\n",
       "      <td>0</td>\n",
       "      <td>0</td>\n",
       "      <td>...</td>\n",
       "      <td>0</td>\n",
       "      <td>0</td>\n",
       "      <td>0</td>\n",
       "      <td>0</td>\n",
       "      <td>0</td>\n",
       "      <td>0</td>\n",
       "      <td>0</td>\n",
       "      <td>0</td>\n",
       "      <td>0</td>\n",
       "      <td>0</td>\n",
       "    </tr>\n",
       "    <tr>\n",
       "      <th>3</th>\n",
       "      <td>0</td>\n",
       "      <td>0</td>\n",
       "      <td>0</td>\n",
       "      <td>0</td>\n",
       "      <td>3</td>\n",
       "      <td>0</td>\n",
       "      <td>3</td>\n",
       "      <td>0</td>\n",
       "      <td>0</td>\n",
       "      <td>0</td>\n",
       "      <td>...</td>\n",
       "      <td>0</td>\n",
       "      <td>0</td>\n",
       "      <td>0</td>\n",
       "      <td>0</td>\n",
       "      <td>0</td>\n",
       "      <td>0</td>\n",
       "      <td>0</td>\n",
       "      <td>0</td>\n",
       "      <td>0</td>\n",
       "      <td>0</td>\n",
       "    </tr>\n",
       "    <tr>\n",
       "      <th>4</th>\n",
       "      <td>0</td>\n",
       "      <td>0</td>\n",
       "      <td>0</td>\n",
       "      <td>0</td>\n",
       "      <td>0</td>\n",
       "      <td>0</td>\n",
       "      <td>0</td>\n",
       "      <td>0</td>\n",
       "      <td>0</td>\n",
       "      <td>0</td>\n",
       "      <td>...</td>\n",
       "      <td>0</td>\n",
       "      <td>0</td>\n",
       "      <td>0</td>\n",
       "      <td>0</td>\n",
       "      <td>0</td>\n",
       "      <td>0</td>\n",
       "      <td>0</td>\n",
       "      <td>0</td>\n",
       "      <td>0</td>\n",
       "      <td>0</td>\n",
       "    </tr>\n",
       "    <tr>\n",
       "      <th>5</th>\n",
       "      <td>4</td>\n",
       "      <td>0</td>\n",
       "      <td>0</td>\n",
       "      <td>0</td>\n",
       "      <td>0</td>\n",
       "      <td>0</td>\n",
       "      <td>0</td>\n",
       "      <td>0</td>\n",
       "      <td>0</td>\n",
       "      <td>0</td>\n",
       "      <td>...</td>\n",
       "      <td>0</td>\n",
       "      <td>0</td>\n",
       "      <td>0</td>\n",
       "      <td>0</td>\n",
       "      <td>0</td>\n",
       "      <td>0</td>\n",
       "      <td>0</td>\n",
       "      <td>0</td>\n",
       "      <td>0</td>\n",
       "      <td>0</td>\n",
       "    </tr>\n",
       "  </tbody>\n",
       "</table>\n",
       "<p>5 rows × 10325 columns</p>\n",
       "</div>"
      ],
      "text/plain": [
       "movieId  1       2       3       4       5       6       7       8       \\\n",
       "userId                                                                    \n",
       "1             0       0       0       0       0       0       0       0   \n",
       "2             5       0       2       0       3       0       0       0   \n",
       "3             0       0       0       0       3       0       3       0   \n",
       "4             0       0       0       0       0       0       0       0   \n",
       "5             4       0       0       0       0       0       0       0   \n",
       "\n",
       "movieId  9       10       ...    144482  144656  144976  146344  146656  \\\n",
       "userId                    ...                                             \n",
       "1             0       0   ...         0       0       0       0       0   \n",
       "2             0       0   ...         0       0       0       0       0   \n",
       "3             0       0   ...         0       0       0       0       0   \n",
       "4             0       0   ...         0       0       0       0       0   \n",
       "5             0       0   ...         0       0       0       0       0   \n",
       "\n",
       "movieId  146684  146878  148238  148626  149532  \n",
       "userId                                           \n",
       "1             0       0       0       0       0  \n",
       "2             0       0       0       0       0  \n",
       "3             0       0       0       0       0  \n",
       "4             0       0       0       0       0  \n",
       "5             0       0       0       0       0  \n",
       "\n",
       "[5 rows x 10325 columns]"
      ]
     },
     "execution_count": 23,
     "metadata": {},
     "output_type": "execute_result"
    }
   ],
   "source": [
    "_utility = ratings.pivot(index = 'userId', columns ='movieId', values = 'rating').fillna(0)\n",
    "_utility.head()"
   ]
  },
  {
   "cell_type": "code",
   "execution_count": 21,
   "metadata": {
    "collapsed": false,
    "slideshow": {
     "slide_type": "subslide"
    }
   },
   "outputs": [],
   "source": [
    "utility=ratingsTitle.pivot_table(index='userId',columns='title',values='rating')"
   ]
  },
  {
   "cell_type": "code",
   "execution_count": 22,
   "metadata": {
    "collapsed": false
   },
   "outputs": [
    {
     "data": {
      "text/html": [
       "<div style=\"max-height:1000px;max-width:1500px;overflow:auto;\">\n",
       "<table border=\"1\" class=\"dataframe\">\n",
       "  <thead>\n",
       "    <tr style=\"text-align: right;\">\n",
       "      <th>title</th>\n",
       "      <th>'71 (2014)</th>\n",
       "      <th>'Hellboy': The Seeds of Creation (2004)</th>\n",
       "      <th>'Round Midnight (1986)</th>\n",
       "      <th>'Til There Was You (1997)</th>\n",
       "      <th>'burbs, The (1989)</th>\n",
       "      <th>'night Mother (1986)</th>\n",
       "      <th>(500) Days of Summer (2009)</th>\n",
       "      <th>*batteries not included (1987)</th>\n",
       "      <th>...And Justice for All (1979)</th>\n",
       "      <th>10 (1979)</th>\n",
       "      <th>...</th>\n",
       "      <th>[REC] (2007)</th>\n",
       "      <th>[REC]² (2009)</th>\n",
       "      <th>[REC]³ 3 Génesis (2012)</th>\n",
       "      <th>a/k/a Tommy Chong (2005)</th>\n",
       "      <th>eXistenZ (1999)</th>\n",
       "      <th>loudQUIETloud: A Film About the Pixies (2006)</th>\n",
       "      <th>xXx (2002)</th>\n",
       "      <th>xXx: State of the Union (2005)</th>\n",
       "      <th>¡Three Amigos! (1986)</th>\n",
       "      <th>À nous la liberté (Freedom for Us) (1931)</th>\n",
       "    </tr>\n",
       "    <tr>\n",
       "      <th>userId</th>\n",
       "      <th></th>\n",
       "      <th></th>\n",
       "      <th></th>\n",
       "      <th></th>\n",
       "      <th></th>\n",
       "      <th></th>\n",
       "      <th></th>\n",
       "      <th></th>\n",
       "      <th></th>\n",
       "      <th></th>\n",
       "      <th></th>\n",
       "      <th></th>\n",
       "      <th></th>\n",
       "      <th></th>\n",
       "      <th></th>\n",
       "      <th></th>\n",
       "      <th></th>\n",
       "      <th></th>\n",
       "      <th></th>\n",
       "      <th></th>\n",
       "      <th></th>\n",
       "    </tr>\n",
       "  </thead>\n",
       "  <tbody>\n",
       "    <tr>\n",
       "      <th>1</th>\n",
       "      <td>NaN</td>\n",
       "      <td>NaN</td>\n",
       "      <td>NaN</td>\n",
       "      <td>NaN</td>\n",
       "      <td>NaN</td>\n",
       "      <td>NaN</td>\n",
       "      <td>NaN</td>\n",
       "      <td>NaN</td>\n",
       "      <td>NaN</td>\n",
       "      <td>NaN</td>\n",
       "      <td>...</td>\n",
       "      <td>NaN</td>\n",
       "      <td>NaN</td>\n",
       "      <td>NaN</td>\n",
       "      <td>NaN</td>\n",
       "      <td>NaN</td>\n",
       "      <td>NaN</td>\n",
       "      <td>NaN</td>\n",
       "      <td>NaN</td>\n",
       "      <td>NaN</td>\n",
       "      <td>NaN</td>\n",
       "    </tr>\n",
       "    <tr>\n",
       "      <th>2</th>\n",
       "      <td>NaN</td>\n",
       "      <td>NaN</td>\n",
       "      <td>NaN</td>\n",
       "      <td>NaN</td>\n",
       "      <td>NaN</td>\n",
       "      <td>NaN</td>\n",
       "      <td>NaN</td>\n",
       "      <td>NaN</td>\n",
       "      <td>NaN</td>\n",
       "      <td>NaN</td>\n",
       "      <td>...</td>\n",
       "      <td>NaN</td>\n",
       "      <td>NaN</td>\n",
       "      <td>NaN</td>\n",
       "      <td>NaN</td>\n",
       "      <td>NaN</td>\n",
       "      <td>NaN</td>\n",
       "      <td>NaN</td>\n",
       "      <td>NaN</td>\n",
       "      <td>NaN</td>\n",
       "      <td>NaN</td>\n",
       "    </tr>\n",
       "    <tr>\n",
       "      <th>3</th>\n",
       "      <td>NaN</td>\n",
       "      <td>NaN</td>\n",
       "      <td>NaN</td>\n",
       "      <td>NaN</td>\n",
       "      <td>NaN</td>\n",
       "      <td>NaN</td>\n",
       "      <td>NaN</td>\n",
       "      <td>NaN</td>\n",
       "      <td>NaN</td>\n",
       "      <td>NaN</td>\n",
       "      <td>...</td>\n",
       "      <td>NaN</td>\n",
       "      <td>NaN</td>\n",
       "      <td>NaN</td>\n",
       "      <td>NaN</td>\n",
       "      <td>NaN</td>\n",
       "      <td>NaN</td>\n",
       "      <td>NaN</td>\n",
       "      <td>NaN</td>\n",
       "      <td>NaN</td>\n",
       "      <td>NaN</td>\n",
       "    </tr>\n",
       "  </tbody>\n",
       "</table>\n",
       "<p>3 rows × 10323 columns</p>\n",
       "</div>"
      ],
      "text/plain": [
       "title   '71 (2014)  'Hellboy': The Seeds of Creation (2004)  \\\n",
       "userId                                                        \n",
       "1              NaN                                      NaN   \n",
       "2              NaN                                      NaN   \n",
       "3              NaN                                      NaN   \n",
       "\n",
       "title   'Round Midnight (1986)  'Til There Was You (1997)  'burbs, The (1989)  \\\n",
       "userId                                                                          \n",
       "1                          NaN                        NaN                 NaN   \n",
       "2                          NaN                        NaN                 NaN   \n",
       "3                          NaN                        NaN                 NaN   \n",
       "\n",
       "title   'night Mother (1986)  (500) Days of Summer (2009)  \\\n",
       "userId                                                      \n",
       "1                        NaN                          NaN   \n",
       "2                        NaN                          NaN   \n",
       "3                        NaN                          NaN   \n",
       "\n",
       "title   *batteries not included (1987)  ...And Justice for All (1979)  \\\n",
       "userId                                                                  \n",
       "1                                  NaN                            NaN   \n",
       "2                                  NaN                            NaN   \n",
       "3                                  NaN                            NaN   \n",
       "\n",
       "title   10 (1979)                    ...                      [REC] (2007)  \\\n",
       "userId                               ...                                     \n",
       "1             NaN                    ...                               NaN   \n",
       "2             NaN                    ...                               NaN   \n",
       "3             NaN                    ...                               NaN   \n",
       "\n",
       "title   [REC]² (2009)  [REC]³ 3 Génesis (2012)  a/k/a Tommy Chong (2005)  \\\n",
       "userId                                                                     \n",
       "1                 NaN                      NaN                       NaN   \n",
       "2                 NaN                      NaN                       NaN   \n",
       "3                 NaN                      NaN                       NaN   \n",
       "\n",
       "title   eXistenZ (1999)  loudQUIETloud: A Film About the Pixies (2006)  \\\n",
       "userId                                                                   \n",
       "1                   NaN                                            NaN   \n",
       "2                   NaN                                            NaN   \n",
       "3                   NaN                                            NaN   \n",
       "\n",
       "title   xXx (2002)  xXx: State of the Union (2005)  ¡Three Amigos! (1986)  \\\n",
       "userId                                                                      \n",
       "1              NaN                             NaN                    NaN   \n",
       "2              NaN                             NaN                    NaN   \n",
       "3              NaN                             NaN                    NaN   \n",
       "\n",
       "title   À nous la liberté (Freedom for Us) (1931)  \n",
       "userId                                             \n",
       "1                                             NaN  \n",
       "2                                             NaN  \n",
       "3                                             NaN  \n",
       "\n",
       "[3 rows x 10323 columns]"
      ]
     },
     "execution_count": 22,
     "metadata": {},
     "output_type": "execute_result"
    }
   ],
   "source": [
    "utility.head(3)"
   ]
  },
  {
   "cell_type": "markdown",
   "metadata": {
    "slideshow": {
     "slide_type": "subslide"
    }
   },
   "source": [
    "```fillna(0)``` 함수는 비어 있는 ```NaN```을 ```0```으로 채워준다."
   ]
  },
  {
   "cell_type": "code",
   "execution_count": 20,
   "metadata": {
    "collapsed": false,
    "scrolled": true
   },
   "outputs": [
    {
     "data": {
      "text/html": [
       "<div style=\"max-height:1000px;max-width:1500px;overflow:auto;\">\n",
       "<table border=\"1\" class=\"dataframe\">\n",
       "  <thead>\n",
       "    <tr style=\"text-align: right;\">\n",
       "      <th>title</th>\n",
       "      <th>'71 (2014)</th>\n",
       "      <th>'Hellboy': The Seeds of Creation (2004)</th>\n",
       "      <th>'Round Midnight (1986)</th>\n",
       "      <th>'Til There Was You (1997)</th>\n",
       "      <th>'burbs, The (1989)</th>\n",
       "      <th>'night Mother (1986)</th>\n",
       "      <th>(500) Days of Summer (2009)</th>\n",
       "      <th>*batteries not included (1987)</th>\n",
       "      <th>...And Justice for All (1979)</th>\n",
       "      <th>10 (1979)</th>\n",
       "      <th>...</th>\n",
       "      <th>[REC] (2007)</th>\n",
       "      <th>[REC]² (2009)</th>\n",
       "      <th>[REC]³ 3 Génesis (2012)</th>\n",
       "      <th>a/k/a Tommy Chong (2005)</th>\n",
       "      <th>eXistenZ (1999)</th>\n",
       "      <th>loudQUIETloud: A Film About the Pixies (2006)</th>\n",
       "      <th>xXx (2002)</th>\n",
       "      <th>xXx: State of the Union (2005)</th>\n",
       "      <th>¡Three Amigos! (1986)</th>\n",
       "      <th>À nous la liberté (Freedom for Us) (1931)</th>\n",
       "    </tr>\n",
       "    <tr>\n",
       "      <th>userId</th>\n",
       "      <th></th>\n",
       "      <th></th>\n",
       "      <th></th>\n",
       "      <th></th>\n",
       "      <th></th>\n",
       "      <th></th>\n",
       "      <th></th>\n",
       "      <th></th>\n",
       "      <th></th>\n",
       "      <th></th>\n",
       "      <th></th>\n",
       "      <th></th>\n",
       "      <th></th>\n",
       "      <th></th>\n",
       "      <th></th>\n",
       "      <th></th>\n",
       "      <th></th>\n",
       "      <th></th>\n",
       "      <th></th>\n",
       "      <th></th>\n",
       "      <th></th>\n",
       "    </tr>\n",
       "  </thead>\n",
       "  <tbody>\n",
       "    <tr>\n",
       "      <th>1</th>\n",
       "      <td>0</td>\n",
       "      <td>0</td>\n",
       "      <td>0</td>\n",
       "      <td>0</td>\n",
       "      <td>0</td>\n",
       "      <td>0</td>\n",
       "      <td>0</td>\n",
       "      <td>0</td>\n",
       "      <td>0</td>\n",
       "      <td>0</td>\n",
       "      <td>...</td>\n",
       "      <td>0</td>\n",
       "      <td>0</td>\n",
       "      <td>0</td>\n",
       "      <td>0</td>\n",
       "      <td>0</td>\n",
       "      <td>0</td>\n",
       "      <td>0</td>\n",
       "      <td>0</td>\n",
       "      <td>0</td>\n",
       "      <td>0</td>\n",
       "    </tr>\n",
       "    <tr>\n",
       "      <th>2</th>\n",
       "      <td>0</td>\n",
       "      <td>0</td>\n",
       "      <td>0</td>\n",
       "      <td>0</td>\n",
       "      <td>0</td>\n",
       "      <td>0</td>\n",
       "      <td>0</td>\n",
       "      <td>0</td>\n",
       "      <td>0</td>\n",
       "      <td>0</td>\n",
       "      <td>...</td>\n",
       "      <td>0</td>\n",
       "      <td>0</td>\n",
       "      <td>0</td>\n",
       "      <td>0</td>\n",
       "      <td>0</td>\n",
       "      <td>0</td>\n",
       "      <td>0</td>\n",
       "      <td>0</td>\n",
       "      <td>0</td>\n",
       "      <td>0</td>\n",
       "    </tr>\n",
       "    <tr>\n",
       "      <th>3</th>\n",
       "      <td>0</td>\n",
       "      <td>0</td>\n",
       "      <td>0</td>\n",
       "      <td>0</td>\n",
       "      <td>0</td>\n",
       "      <td>0</td>\n",
       "      <td>0</td>\n",
       "      <td>0</td>\n",
       "      <td>0</td>\n",
       "      <td>0</td>\n",
       "      <td>...</td>\n",
       "      <td>0</td>\n",
       "      <td>0</td>\n",
       "      <td>0</td>\n",
       "      <td>0</td>\n",
       "      <td>0</td>\n",
       "      <td>0</td>\n",
       "      <td>0</td>\n",
       "      <td>0</td>\n",
       "      <td>0</td>\n",
       "      <td>0</td>\n",
       "    </tr>\n",
       "  </tbody>\n",
       "</table>\n",
       "<p>3 rows × 10323 columns</p>\n",
       "</div>"
      ],
      "text/plain": [
       "title   '71 (2014)  'Hellboy': The Seeds of Creation (2004)  \\\n",
       "userId                                                        \n",
       "1                0                                        0   \n",
       "2                0                                        0   \n",
       "3                0                                        0   \n",
       "\n",
       "title   'Round Midnight (1986)  'Til There Was You (1997)  'burbs, The (1989)  \\\n",
       "userId                                                                          \n",
       "1                            0                          0                   0   \n",
       "2                            0                          0                   0   \n",
       "3                            0                          0                   0   \n",
       "\n",
       "title   'night Mother (1986)  (500) Days of Summer (2009)  \\\n",
       "userId                                                      \n",
       "1                          0                            0   \n",
       "2                          0                            0   \n",
       "3                          0                            0   \n",
       "\n",
       "title   *batteries not included (1987)  ...And Justice for All (1979)  \\\n",
       "userId                                                                  \n",
       "1                                    0                              0   \n",
       "2                                    0                              0   \n",
       "3                                    0                              0   \n",
       "\n",
       "title   10 (1979)                    ...                      [REC] (2007)  \\\n",
       "userId                               ...                                     \n",
       "1               0                    ...                                 0   \n",
       "2               0                    ...                                 0   \n",
       "3               0                    ...                                 0   \n",
       "\n",
       "title   [REC]² (2009)  [REC]³ 3 Génesis (2012)  a/k/a Tommy Chong (2005)  \\\n",
       "userId                                                                     \n",
       "1                   0                        0                         0   \n",
       "2                   0                        0                         0   \n",
       "3                   0                        0                         0   \n",
       "\n",
       "title   eXistenZ (1999)  loudQUIETloud: A Film About the Pixies (2006)  \\\n",
       "userId                                                                   \n",
       "1                     0                                              0   \n",
       "2                     0                                              0   \n",
       "3                     0                                              0   \n",
       "\n",
       "title   xXx (2002)  xXx: State of the Union (2005)  ¡Three Amigos! (1986)  \\\n",
       "userId                                                                      \n",
       "1                0                               0                      0   \n",
       "2                0                               0                      0   \n",
       "3                0                               0                      0   \n",
       "\n",
       "title   À nous la liberté (Freedom for Us) (1931)  \n",
       "userId                                             \n",
       "1                                               0  \n",
       "2                                               0  \n",
       "3                                               0  \n",
       "\n",
       "[3 rows x 10323 columns]"
      ]
     },
     "execution_count": 20,
     "metadata": {},
     "output_type": "execute_result"
    }
   ],
   "source": [
    "utility.fillna(0).head(3)"
   ]
  },
  {
   "cell_type": "code",
   "execution_count": 21,
   "metadata": {
    "collapsed": false,
    "slideshow": {
     "slide_type": "subslide"
    }
   },
   "outputs": [
    {
     "data": {
      "text/plain": [
       "userId\n",
       "1   NaN\n",
       "2     5\n",
       "3   NaN\n",
       "4   NaN\n",
       "5     4\n",
       "Name: Toy Story (1995), dtype: float64"
      ]
     },
     "execution_count": 21,
     "metadata": {},
     "output_type": "execute_result"
    }
   ],
   "source": [
    "utility['Toy Story (1995)'].head()"
   ]
  },
  {
   "cell_type": "markdown",
   "metadata": {
    "slideshow": {
     "slide_type": "subslide"
    }
   },
   "source": [
    "'Toy Story (1995)'와 상관관계를 계산해 보자."
   ]
  },
  {
   "cell_type": "code",
   "execution_count": 23,
   "metadata": {
    "collapsed": false
   },
   "outputs": [
    {
     "data": {
      "text/plain": [
       "title\n",
       "'71 (2014)                                      NaN\n",
       "'Hellboy': The Seeds of Creation (2004)         NaN\n",
       "'Round Midnight (1986)                          NaN\n",
       "'Til There Was You (1997)                       NaN\n",
       "'burbs, The (1989)                         0.470402\n",
       "dtype: float64"
      ]
     },
     "execution_count": 23,
     "metadata": {},
     "output_type": "execute_result"
    }
   ],
   "source": [
    "utility.corrwith(utility['Toy Story (1995)']).head()"
   ]
  },
  {
   "cell_type": "code",
   "execution_count": 24,
   "metadata": {
    "collapsed": false,
    "slideshow": {
     "slide_type": "subslide"
    }
   },
   "outputs": [
    {
     "data": {
      "text/html": [
       "<div style=\"max-height:1000px;max-width:1500px;overflow:auto;\">\n",
       "<table border=\"1\" class=\"dataframe\">\n",
       "  <thead>\n",
       "    <tr style=\"text-align: right;\">\n",
       "      <th></th>\n",
       "      <th>corr</th>\n",
       "    </tr>\n",
       "    <tr>\n",
       "      <th>title</th>\n",
       "      <th></th>\n",
       "    </tr>\n",
       "  </thead>\n",
       "  <tbody>\n",
       "    <tr>\n",
       "      <th>'burbs, The (1989)</th>\n",
       "      <td>0.470402</td>\n",
       "    </tr>\n",
       "    <tr>\n",
       "      <th>(500) Days of Summer (2009)</th>\n",
       "      <td>0.301871</td>\n",
       "    </tr>\n",
       "    <tr>\n",
       "      <th>*batteries not included (1987)</th>\n",
       "      <td>-0.058926</td>\n",
       "    </tr>\n",
       "    <tr>\n",
       "      <th>...And Justice for All (1979)</th>\n",
       "      <td>-0.046829</td>\n",
       "    </tr>\n",
       "    <tr>\n",
       "      <th>10 (1979)</th>\n",
       "      <td>0.000000</td>\n",
       "    </tr>\n",
       "  </tbody>\n",
       "</table>\n",
       "</div>"
      ],
      "text/plain": [
       "                                    corr\n",
       "title                                   \n",
       "'burbs, The (1989)              0.470402\n",
       "(500) Days of Summer (2009)     0.301871\n",
       "*batteries not included (1987) -0.058926\n",
       "...And Justice for All (1979)  -0.046829\n",
       "10 (1979)                       0.000000"
      ]
     },
     "execution_count": 24,
     "metadata": {},
     "output_type": "execute_result"
    }
   ],
   "source": [
    "corrToyStory = pd.DataFrame(utility.corrwith(utility['Toy Story (1995)']), columns=['corr'])\n",
    "corrToyStory.dropna(inplace=True)\n",
    "corrToyStory.head()"
   ]
  },
  {
   "cell_type": "code",
   "execution_count": 25,
   "metadata": {
    "collapsed": false,
    "scrolled": true,
    "slideshow": {
     "slide_type": "subslide"
    }
   },
   "outputs": [
    {
     "data": {
      "text/html": [
       "<div style=\"max-height:1000px;max-width:1500px;overflow:auto;\">\n",
       "<table border=\"1\" class=\"dataframe\">\n",
       "  <thead>\n",
       "    <tr style=\"text-align: right;\">\n",
       "      <th></th>\n",
       "      <th>corr</th>\n",
       "    </tr>\n",
       "    <tr>\n",
       "      <th>title</th>\n",
       "      <th></th>\n",
       "    </tr>\n",
       "  </thead>\n",
       "  <tbody>\n",
       "    <tr>\n",
       "      <th>Two Mules for Sister Sara (1970)</th>\n",
       "      <td>1</td>\n",
       "    </tr>\n",
       "    <tr>\n",
       "      <th>Raven, The (1963)</th>\n",
       "      <td>1</td>\n",
       "    </tr>\n",
       "    <tr>\n",
       "      <th>Alice (2009)</th>\n",
       "      <td>1</td>\n",
       "    </tr>\n",
       "    <tr>\n",
       "      <th>Assassination of Richard Nixon, The (2004)</th>\n",
       "      <td>1</td>\n",
       "    </tr>\n",
       "    <tr>\n",
       "      <th>Unvanquished, The (Aparajito) (1957)</th>\n",
       "      <td>1</td>\n",
       "    </tr>\n",
       "  </tbody>\n",
       "</table>\n",
       "</div>"
      ],
      "text/plain": [
       "                                            corr\n",
       "title                                           \n",
       "Two Mules for Sister Sara (1970)               1\n",
       "Raven, The (1963)                              1\n",
       "Alice (2009)                                   1\n",
       "Assassination of Richard Nixon, The (2004)     1\n",
       "Unvanquished, The (Aparajito) (1957)           1"
      ]
     },
     "execution_count": 25,
     "metadata": {},
     "output_type": "execute_result"
    }
   ],
   "source": [
    "corrToyStory.sort('corr', ascending=False).head()"
   ]
  },
  {
   "cell_type": "code",
   "execution_count": 26,
   "metadata": {
    "collapsed": false,
    "slideshow": {
     "slide_type": "subslide"
    }
   },
   "outputs": [
    {
     "data": {
      "text/html": [
       "<div style=\"max-height:1000px;max-width:1500px;overflow:auto;\">\n",
       "<table border=\"1\" class=\"dataframe\">\n",
       "  <thead>\n",
       "    <tr style=\"text-align: right;\">\n",
       "      <th></th>\n",
       "      <th>rating</th>\n",
       "    </tr>\n",
       "    <tr>\n",
       "      <th>title</th>\n",
       "      <th></th>\n",
       "    </tr>\n",
       "  </thead>\n",
       "  <tbody>\n",
       "    <tr>\n",
       "      <th>'71 (2014)</th>\n",
       "      <td>1</td>\n",
       "    </tr>\n",
       "    <tr>\n",
       "      <th>'Hellboy': The Seeds of Creation (2004)</th>\n",
       "      <td>1</td>\n",
       "    </tr>\n",
       "    <tr>\n",
       "      <th>'Round Midnight (1986)</th>\n",
       "      <td>1</td>\n",
       "    </tr>\n",
       "    <tr>\n",
       "      <th>'Til There Was You (1997)</th>\n",
       "      <td>3</td>\n",
       "    </tr>\n",
       "    <tr>\n",
       "      <th>'burbs, The (1989)</th>\n",
       "      <td>20</td>\n",
       "    </tr>\n",
       "    <tr>\n",
       "      <th>'night Mother (1986)</th>\n",
       "      <td>1</td>\n",
       "    </tr>\n",
       "    <tr>\n",
       "      <th>(500) Days of Summer (2009)</th>\n",
       "      <td>37</td>\n",
       "    </tr>\n",
       "    <tr>\n",
       "      <th>*batteries not included (1987)</th>\n",
       "      <td>11</td>\n",
       "    </tr>\n",
       "    <tr>\n",
       "      <th>...And Justice for All (1979)</th>\n",
       "      <td>10</td>\n",
       "    </tr>\n",
       "    <tr>\n",
       "      <th>10 (1979)</th>\n",
       "      <td>3</td>\n",
       "    </tr>\n",
       "  </tbody>\n",
       "</table>\n",
       "</div>"
      ],
      "text/plain": [
       "                                         rating\n",
       "title                                          \n",
       "'71 (2014)                                    1\n",
       "'Hellboy': The Seeds of Creation (2004)       1\n",
       "'Round Midnight (1986)                        1\n",
       "'Til There Was You (1997)                     3\n",
       "'burbs, The (1989)                           20\n",
       "'night Mother (1986)                          1\n",
       "(500) Days of Summer (2009)                  37\n",
       "*batteries not included (1987)               11\n",
       "...And Justice for All (1979)                10\n",
       "10 (1979)                                     3"
      ]
     },
     "execution_count": 26,
     "metadata": {},
     "output_type": "execute_result"
    }
   ],
   "source": [
    "pd.DataFrame(ratingsTitle.groupby('title')['rating'].count()).head(10)"
   ]
  },
  {
   "cell_type": "code",
   "execution_count": 27,
   "metadata": {
    "collapsed": true
   },
   "outputs": [],
   "source": [
    "corr_rcountToyStory=corrToyStory.join(pd.DataFrame(ratingsTitle.groupby('title')['rating'].count()))"
   ]
  },
  {
   "cell_type": "markdown",
   "metadata": {
    "slideshow": {
     "slide_type": "subslide"
    }
   },
   "source": [
    "column 명을 변경한다."
   ]
  },
  {
   "cell_type": "code",
   "execution_count": 29,
   "metadata": {
    "collapsed": false
   },
   "outputs": [],
   "source": [
    "corr_rcountToyStory.columns=['corr','ratingsCount']"
   ]
  },
  {
   "cell_type": "code",
   "execution_count": 40,
   "metadata": {
    "collapsed": false,
    "scrolled": true
   },
   "outputs": [
    {
     "data": {
      "text/html": [
       "<div style=\"max-height:1000px;max-width:1500px;overflow:auto;\">\n",
       "<table border=\"1\" class=\"dataframe\">\n",
       "  <thead>\n",
       "    <tr style=\"text-align: right;\">\n",
       "      <th></th>\n",
       "      <th>corr</th>\n",
       "      <th>ratingsCount</th>\n",
       "    </tr>\n",
       "    <tr>\n",
       "      <th>title</th>\n",
       "      <th></th>\n",
       "      <th></th>\n",
       "    </tr>\n",
       "  </thead>\n",
       "  <tbody>\n",
       "    <tr>\n",
       "      <th>'burbs, The (1989)</th>\n",
       "      <td>0.470402</td>\n",
       "      <td>20</td>\n",
       "    </tr>\n",
       "    <tr>\n",
       "      <th>(500) Days of Summer (2009)</th>\n",
       "      <td>0.301871</td>\n",
       "      <td>37</td>\n",
       "    </tr>\n",
       "    <tr>\n",
       "      <th>*batteries not included (1987)</th>\n",
       "      <td>-0.058926</td>\n",
       "      <td>11</td>\n",
       "    </tr>\n",
       "    <tr>\n",
       "      <th>...And Justice for All (1979)</th>\n",
       "      <td>-0.046829</td>\n",
       "      <td>10</td>\n",
       "    </tr>\n",
       "    <tr>\n",
       "      <th>10 (1979)</th>\n",
       "      <td>0.000000</td>\n",
       "      <td>3</td>\n",
       "    </tr>\n",
       "    <tr>\n",
       "      <th>10 Things I Hate About You (1999)</th>\n",
       "      <td>0.349920</td>\n",
       "      <td>59</td>\n",
       "    </tr>\n",
       "    <tr>\n",
       "      <th>10,000 BC (2008)</th>\n",
       "      <td>0.155556</td>\n",
       "      <td>11</td>\n",
       "    </tr>\n",
       "    <tr>\n",
       "      <th>101 Dalmatians (1996)</th>\n",
       "      <td>0.161703</td>\n",
       "      <td>42</td>\n",
       "    </tr>\n",
       "    <tr>\n",
       "      <th>101 Dalmatians (One Hundred and One Dalmatians) (1961)</th>\n",
       "      <td>0.439606</td>\n",
       "      <td>37</td>\n",
       "    </tr>\n",
       "    <tr>\n",
       "      <th>102 Dalmatians (2000)</th>\n",
       "      <td>-0.519589</td>\n",
       "      <td>7</td>\n",
       "    </tr>\n",
       "  </tbody>\n",
       "</table>\n",
       "</div>"
      ],
      "text/plain": [
       "                                                        corr  ratingsCount\n",
       "title                                                                     \n",
       "'burbs, The (1989)                                  0.470402            20\n",
       "(500) Days of Summer (2009)                         0.301871            37\n",
       "*batteries not included (1987)                     -0.058926            11\n",
       "...And Justice for All (1979)                      -0.046829            10\n",
       "10 (1979)                                           0.000000             3\n",
       "10 Things I Hate About You (1999)                   0.349920            59\n",
       "10,000 BC (2008)                                    0.155556            11\n",
       "101 Dalmatians (1996)                               0.161703            42\n",
       "101 Dalmatians (One Hundred and One Dalmatians)...  0.439606            37\n",
       "102 Dalmatians (2000)                              -0.519589             7"
      ]
     },
     "execution_count": 40,
     "metadata": {},
     "output_type": "execute_result"
    }
   ],
   "source": [
    "corr_rcountToyStory.head(10)"
   ]
  },
  {
   "cell_type": "code",
   "execution_count": 41,
   "metadata": {
    "collapsed": false,
    "slideshow": {
     "slide_type": "subslide"
    }
   },
   "outputs": [
    {
     "data": {
      "text/html": [
       "<div style=\"max-height:1000px;max-width:1500px;overflow:auto;\">\n",
       "<table border=\"1\" class=\"dataframe\">\n",
       "  <thead>\n",
       "    <tr style=\"text-align: right;\">\n",
       "      <th></th>\n",
       "      <th>corr</th>\n",
       "      <th>ratingsCount</th>\n",
       "    </tr>\n",
       "    <tr>\n",
       "      <th>title</th>\n",
       "      <th></th>\n",
       "      <th></th>\n",
       "    </tr>\n",
       "  </thead>\n",
       "  <tbody>\n",
       "    <tr>\n",
       "      <th>Pulp Fiction (1994)</th>\n",
       "      <td>0.154139</td>\n",
       "      <td>325</td>\n",
       "    </tr>\n",
       "    <tr>\n",
       "      <th>Forrest Gump (1994)</th>\n",
       "      <td>0.092166</td>\n",
       "      <td>311</td>\n",
       "    </tr>\n",
       "    <tr>\n",
       "      <th>Shawshank Redemption, The (1994)</th>\n",
       "      <td>0.118852</td>\n",
       "      <td>308</td>\n",
       "    </tr>\n",
       "    <tr>\n",
       "      <th>Jurassic Park (1993)</th>\n",
       "      <td>0.417862</td>\n",
       "      <td>294</td>\n",
       "    </tr>\n",
       "    <tr>\n",
       "      <th>Silence of the Lambs, The (1991)</th>\n",
       "      <td>0.071004</td>\n",
       "      <td>290</td>\n",
       "    </tr>\n",
       "    <tr>\n",
       "      <th>Star Wars: Episode IV - A New Hope (1977)</th>\n",
       "      <td>0.148712</td>\n",
       "      <td>273</td>\n",
       "    </tr>\n",
       "    <tr>\n",
       "      <th>Matrix, The (1999)</th>\n",
       "      <td>0.254059</td>\n",
       "      <td>261</td>\n",
       "    </tr>\n",
       "    <tr>\n",
       "      <th>Terminator 2: Judgment Day (1991)</th>\n",
       "      <td>0.257904</td>\n",
       "      <td>253</td>\n",
       "    </tr>\n",
       "    <tr>\n",
       "      <th>Schindler's List (1993)</th>\n",
       "      <td>0.313121</td>\n",
       "      <td>248</td>\n",
       "    </tr>\n",
       "    <tr>\n",
       "      <th>Braveheart (1995)</th>\n",
       "      <td>0.183313</td>\n",
       "      <td>248</td>\n",
       "    </tr>\n",
       "  </tbody>\n",
       "</table>\n",
       "</div>"
      ],
      "text/plain": [
       "                                               corr  ratingsCount\n",
       "title                                                            \n",
       "Pulp Fiction (1994)                        0.154139           325\n",
       "Forrest Gump (1994)                        0.092166           311\n",
       "Shawshank Redemption, The (1994)           0.118852           308\n",
       "Jurassic Park (1993)                       0.417862           294\n",
       "Silence of the Lambs, The (1991)           0.071004           290\n",
       "Star Wars: Episode IV - A New Hope (1977)  0.148712           273\n",
       "Matrix, The (1999)                         0.254059           261\n",
       "Terminator 2: Judgment Day (1991)          0.257904           253\n",
       "Schindler's List (1993)                    0.313121           248\n",
       "Braveheart (1995)                          0.183313           248"
      ]
     },
     "execution_count": 41,
     "metadata": {},
     "output_type": "execute_result"
    }
   ],
   "source": [
    "corr_rcountToyStory.sort('ratingsCount', ascending=False).head(10)"
   ]
  },
  {
   "cell_type": "markdown",
   "metadata": {
    "slideshow": {
     "slide_type": "subslide"
    }
   },
   "source": [
    "#### filtering\n",
    "\n",
    "```[corr_rcountToyStory ['ratingsCount']>50]```는 컬럼명에 대한 조건을 넣어 데이터를 필터링을 할 수 있다."
   ]
  },
  {
   "cell_type": "code",
   "execution_count": 47,
   "metadata": {
    "collapsed": false
   },
   "outputs": [
    {
     "data": {
      "text/html": [
       "<div style=\"max-height:1000px;max-width:1500px;overflow:auto;\">\n",
       "<table border=\"1\" class=\"dataframe\">\n",
       "  <thead>\n",
       "    <tr style=\"text-align: right;\">\n",
       "      <th></th>\n",
       "      <th>corr</th>\n",
       "      <th>ratingsCount</th>\n",
       "    </tr>\n",
       "    <tr>\n",
       "      <th>title</th>\n",
       "      <th></th>\n",
       "      <th></th>\n",
       "    </tr>\n",
       "  </thead>\n",
       "  <tbody>\n",
       "    <tr>\n",
       "      <th>Toy Story (1995)</th>\n",
       "      <td>1.000000</td>\n",
       "      <td>232</td>\n",
       "    </tr>\n",
       "    <tr>\n",
       "      <th>Wallace &amp; Gromit: A Close Shave (1995)</th>\n",
       "      <td>0.725063</td>\n",
       "      <td>55</td>\n",
       "    </tr>\n",
       "    <tr>\n",
       "      <th>Toy Story 2 (1999)</th>\n",
       "      <td>0.709677</td>\n",
       "      <td>104</td>\n",
       "    </tr>\n",
       "    <tr>\n",
       "      <th>Client, The (1994)</th>\n",
       "      <td>0.695989</td>\n",
       "      <td>65</td>\n",
       "    </tr>\n",
       "    <tr>\n",
       "      <th>Others, The (2001)</th>\n",
       "      <td>0.681520</td>\n",
       "      <td>53</td>\n",
       "    </tr>\n",
       "  </tbody>\n",
       "</table>\n",
       "</div>"
      ],
      "text/plain": [
       "                                            corr  ratingsCount\n",
       "title                                                         \n",
       "Toy Story (1995)                        1.000000           232\n",
       "Wallace & Gromit: A Close Shave (1995)  0.725063            55\n",
       "Toy Story 2 (1999)                      0.709677           104\n",
       "Client, The (1994)                      0.695989            65\n",
       "Others, The (2001)                      0.681520            53"
      ]
     },
     "execution_count": 47,
     "metadata": {},
     "output_type": "execute_result"
    }
   ],
   "source": [
    "corr_rcountToyStory[corr_rcountToyStory ['ratingsCount']>50].sort('corr', ascending=False).head()"
   ]
  },
  {
   "cell_type": "code",
   "execution_count": null,
   "metadata": {
    "collapsed": true
   },
   "outputs": [],
   "source": []
  },
  {
   "cell_type": "markdown",
   "metadata": {
    "slideshow": {
     "slide_type": "slide"
    }
   },
   "source": [
    "## S.9 matrix factorization\n",
    "\n",
    "사용자 또는 제품 간에 가까운 유사도를 찾고 이런 이웃이 선택했거나 좋아했던 아이템을 추천하는 Neighborhood Methods을 보았다.\n",
    "\n",
    "또 다른 방식으로, Utility Matrix의 빈 값을 채워서 추천으로 사용할 수 있다.\n",
    "MF는 vector에 존재하는 빈 값을 해결하기 위해 제시된 해법으로 Netflix Prize Challenge 이후로 많이 쓰이고 있다.\n",
    "(Koren, Y., Bell, R., & Volinsky, C., 2009, \"Matrix factorization techniques for recommender systems,\" Computer, 8, 30-37.)\n",
    "\n",
    "매트릭스를 분리해내는 기법으로, 2개 또는 그 이상으로 분리해내고, 이들을 곱하면 원래의 매트릭스가 산출되도록 한다.\n",
    "즉\n",
    "* **original matrix**를 **u**, **i**로 분리하고\n",
    "* 분리된 속성 **u** x **i**를 곱하여 원래의 **original matrix**를 산출할 수 있다."
   ]
  },
  {
   "cell_type": "markdown",
   "metadata": {
    "collapsed": true,
    "slideshow": {
     "slide_type": "subslide"
    }
   },
   "source": [
    "예를 들어, 사용자 U1부터 U5, 상품 D1부터 D4가 있고, 사용자의 상품에 대한 평가점수가 있다고 하자.\n",
    "그렇다면 다음 표가 완성될 수 있다.\n",
    "이 표에 비어있는 평가점수를 채워 넣어야 한다.\n",
    "비슷한 사용자끼리 서로 비슷한 점수를 넣는다고 가정하고\n",
    "숨겨진 latent features를 유추하고 나면, 이를 통해서 빈 값을 채워넣을 수 있다.\n",
    "\n",
    "```python\n",
    "\tD1\tD2\tD3\tD4\n",
    "U1\t5\t3\t-\t1\n",
    "U2\t4\t-\t-\t1\n",
    "U3\t1\t1\t-\t5\n",
    "U4\t1\t-\t-\t4\n",
    "U5\t-\t1\t5\t4\n",
    "```\n",
    "\n",
    "MF는 뭔가 **숨겨진 평가항목 latent features**이 있어서 사용자의 평가점수를 결정한다고 가정한다.\n",
    "예를 들어, 두 사용자가 어떤 영화를 다 같이 좋아한다고 하자.\n",
    "그 영화가 액션영화라고 하면 **장르가 숨겨진 속성**이 되고\n",
    "이러한 latent features를 발견할 수 있다면, 사용자의 상품에 대한 평가점수를, 즉 원래의 평가점수를 알아낼 수 있다.\n"
   ]
  },
  {
   "cell_type": "markdown",
   "metadata": {
    "slideshow": {
     "slide_type": "subslide"
    }
   },
   "source": [
    "### 알고리즘\n",
    "\n",
    "학습율 alpha\n",
    "regularization $\\lambda$\n",
    "latent features K\n",
    "http://www.albertauyeung.com/post/python-matrix-factorization/\n",
    "\n",
    "* p는 User Vector로 사용자users 와 특징features의 벡터\n",
    "* q는 Item Vector이고 상품 item 특징 features의 벡터\n",
    "\n",
    "rating을 p와 q의 연산으로 \n",
    "**예측** 값 $\\hat{r}$은 다음과 같이 계산된다.\n",
    "\n",
    "행 i, 열 j의 rating $\\hat{r}_{ij}$는 사용자, 상품의 곱으로 예측할 수 있다.\n",
    "k는 latent features의 갯수를 말한다.\n",
    "\n",
    "$\\hat{r}_{ij} = \\sum_{k=1}^K p_{ik} q_{kj}$"
   ]
  },
  {
   "cell_type": "markdown",
   "metadata": {
    "slideshow": {
     "slide_type": "subslide"
    }
   },
   "source": [
    "### 오류\n",
    "\n",
    "오류는 RMSE Root Mean Square Error로 다음과 같이 계산된다.\n",
    "\n",
    "$e_{ij} = r_{ij} - \\hat{r_{ij}} = r_{ij} - \\sum_{k=1}^K p_{ik} q_{kj}$\n",
    "\n",
    "이 오류를 최소화하는 p, q를 찾기 위해서는 **경사도하강법 Gradient Descent** 알고리즘을 적용한다."
   ]
  },
  {
   "cell_type": "markdown",
   "metadata": {},
   "source": [
    "$e_{ij}=(r_{ij} - \\sum_{k=1}^K p_{ik} q_{kj})^2 + \\frac{1}{2}\\beta \\sum_{k=1}^K (||p||^2 + ||q||^2)$"
   ]
  },
  {
   "cell_type": "markdown",
   "metadata": {},
   "source": [
    "$\\frac{\\partial e}{\\partial{p_j}} = 2 \\times (r_{ij} - \\sum_{k=1}^K p_{ik} q_{kj}) \\times -q_{kj}$\n",
    "\n",
    "$\\frac{\\partial e}{\\partial{q_j}} = 2 \\times (r_{ij} - \\sum_{k=1}^K p_{ik} q_{kj}) \\times -q_{kj}$"
   ]
  },
  {
   "cell_type": "markdown",
   "metadata": {
    "slideshow": {
     "slide_type": "subslide"
    }
   },
   "source": [
    "### Update rules\n",
    "\n",
    "실제 - 예측의 차이는 오류이다. 그 오류에 학습비율을 곱해서 갱신한다.\n",
    "\n",
    "$p_{new} = p_{old} - \\alpha \\times 2 \\times (r - \\sum_{k=1}^K p_{ik} q_{jk}) \\times -q = p_{old} + 2 \\alpha q (r - \\sum_{k=1}^K p_{ik} q_{jk})$\n",
    "\n",
    "$q_{new} = q_{old} - \\alpha \\times 2 \\times (r - \\sum_{k=1}^K p_{ik} q_{jk}) \\times -p = q_{old} + 2 \\alpha p (r - \\sum_{k=1}^K p_{ik} q_{jk})$"
   ]
  },
  {
   "cell_type": "markdown",
   "metadata": {
    "slideshow": {
     "slide_type": "subslide"
    }
   },
   "source": [
    "### 풀어보기\n",
    "\n",
    "```python\n",
    "5 2 4 4 3\n",
    "3 1 2 4 1\n",
    "2 3 1 4\n",
    "2 5 4 3 5\n",
    "4 4 5 4\n",
    "```"
   ]
  },
  {
   "cell_type": "markdown",
   "metadata": {},
   "source": [
    "```dot()``` 계산을 하면:\n",
    "\n",
    "```python\n",
    "p   1                           p+1 p+1 p+1 p+1 p+1\n",
    "1   1     1   1   1   1   1     2   2   2   2   2\n",
    "1   1     1   1   1   1   1     2   2   2   2   2\n",
    "1   1                           2   2   2   2   2\n",
    "1   1                           2   2   2   2   2\n",
    "```"
   ]
  },
  {
   "cell_type": "markdown",
   "metadata": {},
   "source": [
    "오류를 계산하면:\n",
    "\n",
    "$(5-(p+1))^2+(2-(p+1))^2+(4-(p+1))^2+(4-(p+1))^2+(3-(p+1))^2\\\\\n",
    "=((4-p)+(1-p)+(3-p)+(3-p)+(2-p))^2$"
   ]
  },
  {
   "cell_type": "markdown",
   "metadata": {},
   "source": [
    "편미분하면:\n",
    "\n",
    "$\\frac{\\partial e}{\\partial{p}} = -2 ((4-p)+(1-p)+(3-p)+(3-p)+(2-p)) = -2(13-5p) = -26 + 10p$\n",
    "\n",
    "이를 0으로 놓으면 p=2.6"
   ]
  },
  {
   "cell_type": "markdown",
   "metadata": {
    "slideshow": {
     "slide_type": "subslide"
    }
   },
   "source": [
    "앞서 계산한 p=2.6으로 대체하면:\n",
    "\n",
    "```python\n",
    "2.6 1                           3.6 3.6 3.6 3.6 3.6\n",
    "1   1     1   1   1   1   1     2   2   2   2   2\n",
    "1   1     1   1   1   1   1     2   2   2   2   2\n",
    "1   1                           2   2   2   2   2\n",
    "1   1                           2   2   2   2   2\n",
    "```"
   ]
  },
  {
   "cell_type": "markdown",
   "metadata": {},
   "source": [
    "```dot()``` 계산을 하면:\n",
    "\n",
    "```python\n",
    "2.6 1                           2.6q+1 3.6 3.6 3.6 3.6\n",
    "1   1     q   1   1   1   1     q+1    2   2   2   2\n",
    "1   1     1   1   1   1   1     q+1    2   2   2   2\n",
    "1   1                           q+1    2   2   2   2\n",
    "1   1                           q+1    2   2   2   2\n",
    "```"
   ]
  },
  {
   "cell_type": "markdown",
   "metadata": {},
   "source": [
    "$(5-(2.6q+1))^2+(3-(q+1))^2+(2-(q+1))^2+(2-(q+1))^2+(4-(q+1))^2\\\\\n",
    "=((4-2.6q)+(2-q)+(1-q)+(1-q)+(3-q))^2$"
   ]
  },
  {
   "cell_type": "markdown",
   "metadata": {},
   "source": [
    "$\\frac{\\partial e}{\\partial{p}} = -2 (2.6(4-2.6q)+(2-q)+(1-q)+(1-q)+(3-q)) = -2(17.4-10.76p) = -34.8 + 21.52p$\n",
    "이를 0으로 놓으면 q=1.6171"
   ]
  },
  {
   "cell_type": "markdown",
   "metadata": {
    "slideshow": {
     "slide_type": "subslide"
    }
   },
   "source": [
    "앞서 계산한 q=1.6171으로 대체하면:\n",
    "\n",
    "```python\n",
    "2.6 1                           5.204  3.6 3.6 3.6 3.6\n",
    "1   1     1.617 1   1   1   1   2.617  2   2   2   2\n",
    "1   1     1     1   1   1   1   2.617  2   2   2   2\n",
    "1   1                           2.617  2   2   2   2\n",
    "1   1                           2.617  2   2   2   2\n",
    "```"
   ]
  },
  {
   "cell_type": "markdown",
   "metadata": {
    "collapsed": true,
    "slideshow": {
     "slide_type": "subslide"
    }
   },
   "source": [
    "### 데이터"
   ]
  },
  {
   "cell_type": "code",
   "execution_count": 1,
   "metadata": {
    "collapsed": true
   },
   "outputs": [],
   "source": [
    "import numpy as np\n",
    "R = np.array([\n",
    "     [5,3,0,1],\n",
    "     [4,0,0,1],\n",
    "     [1,1,0,5],\n",
    "     [1,0,0,4],\n",
    "     [0,1,5,4],\n",
    "    ])"
   ]
  },
  {
   "cell_type": "code",
   "execution_count": 2,
   "metadata": {
    "collapsed": false
   },
   "outputs": [
    {
     "data": {
      "text/plain": [
       "(5, 4)"
      ]
     },
     "execution_count": 2,
     "metadata": {},
     "output_type": "execute_result"
    }
   ],
   "source": [
    "row=R.shape[0]\n",
    "col=R.shape[1]\n",
    "row,col"
   ]
  },
  {
   "cell_type": "code",
   "execution_count": 3,
   "metadata": {
    "collapsed": true
   },
   "outputs": [],
   "source": [
    "K = 2\n",
    "alpha=0.0002\n",
    "beta=0.02"
   ]
  },
  {
   "cell_type": "markdown",
   "metadata": {
    "slideshow": {
     "slide_type": "subslide"
    }
   },
   "source": [
    "### P, Q\n",
    "\n",
    "P,Q는 무작위 숫자로 채워넣는다.\n",
    "\n",
    "P = np.random.normal(scale=1./K, size=(row, K))\n",
    "Q = np.random.normal(scale=1./K, size=(col, K))"
   ]
  },
  {
   "cell_type": "code",
   "execution_count": 4,
   "metadata": {
    "collapsed": false
   },
   "outputs": [],
   "source": [
    "P = np.random.rand(row,K)\n",
    "Q = np.random.rand(col,K)"
   ]
  },
  {
   "cell_type": "code",
   "execution_count": 5,
   "metadata": {
    "collapsed": false
   },
   "outputs": [
    {
     "name": "stdout",
     "output_type": "stream",
     "text": [
      "[[ 0.25212011  0.57644393]\n",
      " [ 0.72812487  0.61569378]\n",
      " [ 0.16025546  0.13956114]\n",
      " [ 0.1869733   0.10502015]\n",
      " [ 0.45877939  0.01944509]] [[ 0.29406036  0.70754676]\n",
      " [ 0.0912193   0.71597879]\n",
      " [ 0.93299184  0.20255461]\n",
      " [ 0.78658996  0.84440043]]\n"
     ]
    }
   ],
   "source": [
    "print P, Q"
   ]
  },
  {
   "cell_type": "code",
   "execution_count": 6,
   "metadata": {
    "collapsed": false
   },
   "outputs": [
    {
     "data": {
      "text/plain": [
       "array([ 0.25212011,  0.57644393])"
      ]
     },
     "execution_count": 6,
     "metadata": {},
     "output_type": "execute_result"
    }
   ],
   "source": [
    "P[0,:]"
   ]
  },
  {
   "cell_type": "code",
   "execution_count": 7,
   "metadata": {
    "collapsed": false
   },
   "outputs": [
    {
     "data": {
      "text/plain": [
       "array([ 0.29406036,  0.70754676])"
      ]
     },
     "execution_count": 7,
     "metadata": {},
     "output_type": "execute_result"
    }
   ],
   "source": [
    "Q.T[:,0]"
   ]
  },
  {
   "cell_type": "code",
   "execution_count": 8,
   "metadata": {
    "collapsed": false
   },
   "outputs": [
    {
     "data": {
      "text/plain": [
       "((2,), (2,))"
      ]
     },
     "execution_count": 8,
     "metadata": {},
     "output_type": "execute_result"
    }
   ],
   "source": [
    "P[0,:].shape, Q.T[:,0].shape"
   ]
  },
  {
   "cell_type": "markdown",
   "metadata": {
    "slideshow": {
     "slide_type": "subslide"
    }
   },
   "source": [
    "### 예측\n",
    "\n",
    "rating의 예측 값은 5x4 행렬이어야 한다. P(5x2)와 Q.T(2x4)로 연산을 해야 5x4 행렬이 만들어진다.\n",
    "우선 **```0,0```**의 예측 값을 계산해 보자. 첫 반복이라 실제 값과 큰 차이가 있고, 반복을 하면서 근사 값으로 갱신되게 된다."
   ]
  },
  {
   "cell_type": "code",
   "execution_count": 9,
   "metadata": {
    "collapsed": false
   },
   "outputs": [
    {
     "name": "stdout",
     "output_type": "stream",
     "text": [
      "5\n"
     ]
    }
   ],
   "source": [
    "print R[0,0]"
   ]
  },
  {
   "cell_type": "code",
   "execution_count": 10,
   "metadata": {
    "collapsed": false
   },
   "outputs": [
    {
     "name": "stdout",
     "output_type": "stream",
     "text": [
      "0.481999565208\n"
     ]
    }
   ],
   "source": [
    "rhat=np.dot(P[0,:],Q.T[:,0])\n",
    "print rhat"
   ]
  },
  {
   "cell_type": "markdown",
   "metadata": {
    "slideshow": {
     "slide_type": "subslide"
    }
   },
   "source": [
    "## 오류\n",
    "\n",
    "오류는 실제와 예측의 차이이다."
   ]
  },
  {
   "cell_type": "code",
   "execution_count": 11,
   "metadata": {
    "collapsed": false
   },
   "outputs": [
    {
     "name": "stdout",
     "output_type": "stream",
     "text": [
      "4.51800043479\n"
     ]
    }
   ],
   "source": [
    "eij=R[0,0]-rhat\n",
    "print eij"
   ]
  },
  {
   "cell_type": "markdown",
   "metadata": {
    "slideshow": {
     "slide_type": "subslide"
    }
   },
   "source": [
    "## gradient\n",
    "\n",
    "\n",
    "### P gradient\n",
    "\n",
    "$\\frac{\\partial e}{\\partial{p_j}} = 2 \\times (r_{ij} - \\sum_{k=1}^K p_{ik} q_{kj}) \\times -q_{kj}$\n",
    "\n",
    "5x4 4x2 => 5x2"
   ]
  },
  {
   "cell_type": "code",
   "execution_count": 12,
   "metadata": {
    "collapsed": false
   },
   "outputs": [
    {
     "data": {
      "text/plain": [
       "1.3285648118302464"
      ]
     },
     "execution_count": 12,
     "metadata": {},
     "output_type": "execute_result"
    }
   ],
   "source": [
    "np.dot(eij,Q[0][0])"
   ]
  },
  {
   "cell_type": "code",
   "execution_count": 13,
   "metadata": {
    "collapsed": false
   },
   "outputs": [
    {
     "data": {
      "text/plain": [
       "0.005042402283838932"
      ]
     },
     "execution_count": 13,
     "metadata": {},
     "output_type": "execute_result"
    }
   ],
   "source": [
    "beta*P[0][0]"
   ]
  },
  {
   "cell_type": "code",
   "execution_count": 14,
   "metadata": {
    "collapsed": false
   },
   "outputs": [
    {
     "name": "stdout",
     "output_type": "stream",
     "text": [
      "2.65208722138 0.812728759185\n"
     ]
    }
   ],
   "source": [
    "for k in xrange(K):\n",
    "    pGradient=2*np.dot(eij,Q[k][0]) - beta*P[0][k]\n",
    "    print pGradient,"
   ]
  },
  {
   "cell_type": "markdown",
   "metadata": {
    "slideshow": {
     "slide_type": "subslide"
    }
   },
   "source": [
    "### Q gradient\n",
    "\n",
    "5x4, 5x2 -> 4x2"
   ]
  },
  {
   "cell_type": "code",
   "execution_count": 15,
   "metadata": {
    "collapsed": false
   },
   "outputs": [
    {
     "data": {
      "text/plain": [
       "1.1390787855389446"
      ]
     },
     "execution_count": 15,
     "metadata": {},
     "output_type": "execute_result"
    }
   ],
   "source": [
    "np.dot(eij.T,P[0][0])"
   ]
  },
  {
   "cell_type": "code",
   "execution_count": 16,
   "metadata": {
    "collapsed": false
   },
   "outputs": [
    {
     "data": {
      "text/plain": [
       "0.0058812071003773725"
      ]
     },
     "execution_count": 16,
     "metadata": {},
     "output_type": "execute_result"
    }
   ],
   "source": [
    "beta*Q[0][0]"
   ]
  },
  {
   "cell_type": "code",
   "execution_count": 17,
   "metadata": {
    "collapsed": false
   },
   "outputs": [
    {
     "name": "stdout",
     "output_type": "stream",
     "text": [
      "2.27227636398 5.20692348493\n"
     ]
    }
   ],
   "source": [
    "for k in xrange(K):\n",
    "    qGradient=2*np.dot(eij,P[0][k]) - beta*Q[k][0]\n",
    "    print qGradient,"
   ]
  },
  {
   "cell_type": "markdown",
   "metadata": {
    "slideshow": {
     "slide_type": "subslide"
    }
   },
   "source": [
    "### update"
   ]
  },
  {
   "cell_type": "code",
   "execution_count": 18,
   "metadata": {
    "collapsed": false
   },
   "outputs": [
    {
     "name": "stdout",
     "output_type": "stream",
     "text": [
      "0.252650531636\n",
      "0.577720304851\n"
     ]
    }
   ],
   "source": [
    "for k in xrange(K):\n",
    "    pGradient=2*np.dot(eij,Q.T[k][0]) - beta*P[0][k]\n",
    "    P[0][k]+=alpha*pGradient\n",
    "    print P[0][k]"
   ]
  },
  {
   "cell_type": "code",
   "execution_count": 19,
   "metadata": {
    "collapsed": false,
    "scrolled": true
   },
   "outputs": [
    {
     "name": "stdout",
     "output_type": "stream",
     "text": [
      "[[ 0.25265053  0.5777203 ]\n",
      " [ 0.72812487  0.61569378]\n",
      " [ 0.16025546  0.13956114]\n",
      " [ 0.1869733   0.10502015]\n",
      " [ 0.45877939  0.01944509]]\n"
     ]
    }
   ],
   "source": [
    "print P"
   ]
  },
  {
   "cell_type": "code",
   "execution_count": 20,
   "metadata": {
    "collapsed": false
   },
   "outputs": [
    {
     "name": "stdout",
     "output_type": "stream",
     "text": [
      "0.294515768862 0.091219295983\n"
     ]
    }
   ],
   "source": [
    "for k in xrange(K):\n",
    "    qGradient=2*np.dot(eij,P[0][k]) - beta*Q.T[k][0]\n",
    "    Q.T[k][0]+=alpha*qGradient\n",
    "    print Q[k][0],"
   ]
  },
  {
   "cell_type": "code",
   "execution_count": 21,
   "metadata": {
    "collapsed": false
   },
   "outputs": [
    {
     "name": "stdout",
     "output_type": "stream",
     "text": [
      "[[ 0.29451577  0.70858798]\n",
      " [ 0.0912193   0.71597879]\n",
      " [ 0.93299184  0.20255461]\n",
      " [ 0.78658996  0.84440043]]\n"
     ]
    }
   ],
   "source": [
    "print Q"
   ]
  },
  {
   "cell_type": "code",
   "execution_count": 22,
   "metadata": {
    "collapsed": false
   },
   "outputs": [],
   "source": [
    "iters=1000\n",
    "for iter in range(iters):\n",
    "    for i in xrange(row):\n",
    "        for j in xrange(col):\n",
    "            if R[i][j] > 0:\n",
    "                rhat=np.dot(P[i,:],Q.T[:,j])\n",
    "                eij = R[i][j] - rhat\n",
    "                for k in xrange(K):\n",
    "                    #pGradient=2*np.dot(eij,Q.T[k][j]) - beta*P[i][k]\n",
    "                    pGradient=2*np.dot(eij,Q.T[k][j])\n",
    "                    #qGradient=2*np.dot(eij,P[i][k]) - beta*Q.T[k][j]\n",
    "                    qGradient=2*np.dot(eij,P[i][k])\n",
    "                    P[i][k]+=alpha*pGradient\n",
    "                    Q.T[k][j]+=alpha*qGradient"
   ]
  },
  {
   "cell_type": "code",
   "execution_count": 23,
   "metadata": {
    "collapsed": false
   },
   "outputs": [
    {
     "name": "stdout",
     "output_type": "stream",
     "text": [
      "[[ 0.22398596  1.88927438]\n",
      " [ 0.51281666  1.21609441]\n",
      " [ 1.42841165  0.66332048]\n",
      " [ 1.18538922  0.58354549]\n",
      " [ 1.99887352  0.65517789]] [[ 0.61021678  2.10693651]\n",
      " [ 0.18593322  1.30942194]\n",
      " [ 2.03122635  0.58578186]\n",
      " [ 1.98398818  0.88459688]]\n"
     ]
    }
   ],
   "source": [
    "print P,Q"
   ]
  },
  {
   "cell_type": "markdown",
   "metadata": {},
   "source": [
    "\n",
    "```python\n",
    "    D1\tD2\tD3\tD4\n",
    "U1\t4.97\t2.98\t2.18\t0.98\n",
    "U2\t3.97\t2.40\t1.97\t0.99\n",
    "U3\t1.02\t0.93\t5.32\t4.93\n",
    "U4\t1.00\t0.85\t4.59\t3.93\n",
    "U5\t1.36\t1.07\t4.89\t4.12\n",
    "```"
   ]
  },
  {
   "cell_type": "code",
   "execution_count": 24,
   "metadata": {
    "collapsed": false
   },
   "outputs": [
    {
     "name": "stdout",
     "output_type": "stream",
     "text": [
      "[[ 4.11726116  2.51550376  1.56166885  2.11563173]\n",
      " [ 2.87516305  1.68773036  1.75401276  2.09317552]\n",
      " [ 2.26921489  1.13415557  3.2899885   3.42072307]\n",
      " [ 1.95283769  0.98451051  2.74962419  2.86800074]\n",
      " [ 2.60016438  1.2295613   4.4439559   4.54530977]]\n"
     ]
    }
   ],
   "source": [
    "print np.dot(P,Q.T)"
   ]
  },
  {
   "cell_type": "code",
   "execution_count": null,
   "metadata": {
    "collapsed": true
   },
   "outputs": [],
   "source": []
  },
  {
   "cell_type": "markdown",
   "metadata": {
    "slideshow": {
     "slide_type": "slide"
    }
   },
   "source": [
    "## 문제 S-5: ALS 알고리즘으로 영화 추천\n",
    "\n",
    "### 문제\n",
    "\n",
    "함께 영화를 보러 간다고 하자.\n",
    "어떤 영화를 볼까? 묻지 않고 영화를 고르면 좋아할까?\n",
    "그렇다면 어떤 영화를 좋아하는지 직접 묻지 않고 어떻게 알 수 있을까?\n",
    "영화에 대한 선호도를 모른다 하더라도, 추정할 수 있는 방법이 있다.\n",
    "추천 알고리즘인 Matrix Factorization을 푸는 방식으로 ALS Alternating Least Squares를 추천해 보자.\n",
    "\n",
    "참조: [spark recommendation](https://www.codementor.io/spark/tutorial/building-a-recommender-with-apache-spark-python-example-app-part1)\n",
    "\n",
    "* 주 13 - spark 추천 영화 음악? \n",
    "    * amazon similarity lookup http://blogs.gartner.com/martin-kihn/how-to-build-a-recommender-system-in-python/\n",
    "    * https://www.codementor.io/spark/tutorial/building-a-web-service-with-apache-spark-flask-example-app-part2\n",
    "    * https://github.com/grahamjenson/list_of_recommender_systems\n",
    "        * content-based filtering\n",
    "        * collaborative filtering\n"
   ]
  },
  {
   "cell_type": "markdown",
   "metadata": {
    "slideshow": {
     "slide_type": "subslide"
    }
   },
   "source": [
    "## IPython Notebook에서 SparkSession 생성하기\n",
    "\n",
    "Jupyter Notebook에서 Spark를 사용하려면 몇 가지 설정이 필요하다.\n",
    "Spark 실행에 필요한 라이브러리를 경로에서 찾을 수 있게 설정해야 한다.\n",
    "아래와 같이 ```sys.path.insert()``` 함수를 사용하면 라이브러리를 Python 경로에 추가할 수 있다."
   ]
  },
  {
   "cell_type": "code",
   "execution_count": 1,
   "metadata": {
    "collapsed": true
   },
   "outputs": [],
   "source": [
    "import os\n",
    "import sys \n",
    "os.environ[\"SPARK_HOME\"]=os.path.join(os.environ['HOME'],'Downloads','spark-2.0.0-bin-hadoop2.7')\n",
    "os.environ[\"PYLIB\"]=os.path.join(os.environ[\"SPARK_HOME\"],'python','lib')\n",
    "sys.path.insert(0,os.path.join(os.environ[\"PYLIB\"],'py4j-0.10.1-src.zip'))\n",
    "sys.path.insert(0,os.path.join(os.environ[\"PYLIB\"],'pyspark.zip'))"
   ]
  },
  {
   "cell_type": "code",
   "execution_count": 4,
   "metadata": {
    "collapsed": true,
    "slideshow": {
     "slide_type": "slide"
    }
   },
   "outputs": [],
   "source": [
    "import pyspark\n",
    "myConf=pyspark.SparkConf()\n",
    "spark = pyspark.sql.SparkSession.builder\\\n",
    "    .master(\"local\")\\\n",
    "    .appName(\"myApp\")\\\n",
    "    .config(conf=myConf)\\\n",
    "    .getOrCreate()"
   ]
  },
  {
   "cell_type": "markdown",
   "metadata": {
    "slideshow": {
     "slide_type": "subslide"
    }
   },
   "source": [
    "## 데이터\n",
    "\n",
    "사용자의 영화에 대한 평가가 저장되어 있는 ```ratings```, 영화정보를 가지고 있는 ```movies``` 파일을 읽어서, RDD를 생성한다."
   ]
  },
  {
   "cell_type": "markdown",
   "metadata": {
    "slideshow": {
     "slide_type": "subslide"
    }
   },
   "source": [
    "### ratings\n",
    "\n",
    "```ratings```는 사용자, 영화, 평점, 시간 정보를 가지고 있는데, 이 파일을 읽어보자."
   ]
  },
  {
   "cell_type": "code",
   "execution_count": 14,
   "metadata": {
    "collapsed": false
   },
   "outputs": [],
   "source": [
    "import os\n",
    "small_ratings = os.path.join('data', 'ml-latest-small', 'ratings.csv')"
   ]
  },
  {
   "cell_type": "markdown",
   "metadata": {
    "slideshow": {
     "slide_type": "subslide"
    }
   },
   "source": [
    "RDD는 sparkContext의 ```textFile(파일)``` 함수로부터 생성한다.\n",
    "보통 파일은 헤더와 내용으로 구성된다. 첫 줄을 읽어서, 데이터 헤더를 확인하자."
   ]
  },
  {
   "cell_type": "code",
   "execution_count": 34,
   "metadata": {
    "collapsed": true
   },
   "outputs": [],
   "source": [
    "small_ratings_rdd = spark.sparkContext.textFile(small_ratings)"
   ]
  },
  {
   "cell_type": "code",
   "execution_count": 35,
   "metadata": {
    "collapsed": false
   },
   "outputs": [
    {
     "name": "stdout",
     "output_type": "stream",
     "text": [
      "[u'userId,movieId,rating,timestamp']\n"
     ]
    }
   ],
   "source": [
    "print small_ratings_rdd.take(1)"
   ]
  },
  {
   "cell_type": "code",
   "execution_count": 36,
   "metadata": {
    "collapsed": true
   },
   "outputs": [],
   "source": [
    "small_ratings_rdd_header = small_ratings_rdd.take(1)"
   ]
  },
  {
   "cell_type": "code",
   "execution_count": 37,
   "metadata": {
    "collapsed": false
   },
   "outputs": [
    {
     "name": "stdout",
     "output_type": "stream",
     "text": [
      "userId,movieId,rating,timestamp\n"
     ]
    }
   ],
   "source": [
    "print small_ratings_rdd_header[0]"
   ]
  },
  {
   "cell_type": "markdown",
   "metadata": {
    "slideshow": {
     "slide_type": "subslide"
    }
   },
   "source": [
    "파일의 첫째 줄이 header이므로 이를 ```filter()```한다.\n",
    "데이터는 4개의 컬럼으로 구성된다. 이를 컴마로 분리하고 처음 3개만 RDD로 만든다.\n",
    "\n",
    "\n",
    "```python\n",
    "userId,movieId,rating,timestamp\n",
    "1,16,4.0,1217897793\n",
    "1,24,1.5,1217895807\n",
    "1,32,4.0,1217896246\n",
    "...\n",
    "```"
   ]
  },
  {
   "cell_type": "markdown",
   "metadata": {
    "slideshow": {
     "slide_type": "subslide"
    }
   },
   "source": [
    "아래 ```cache()``` 함수는 필요한 경우에 사용한다.\n",
    "RDD는 lazy 연산을 한다. ```collect()```, ```count()``` 등과 같은 action 함수와 같이, 실제 데이터로부터 연산이 필요하기 전까지는 lazy 연산을 한다. ```cache()``` 함수는 메모리에 올려놓는다는 의미이다. cache는 연산이 일어나면 메모리에 데이터를 올려놓고, 다음부터 그 cache에 저장된 것을 사용하게 되므로 빠르다.\n"
   ]
  },
  {
   "cell_type": "code",
   "execution_count": 7,
   "metadata": {
    "collapsed": true
   },
   "outputs": [],
   "source": [
    "small_ratings_data = small_ratings_rdd\\\n",
    "    .filter(lambda line: line!=small_ratings_rdd_header)\\\n",
    "    .map(lambda line: line.split(\",\"))\\\n",
    "    .map(lambda tokens: (tokens[0],tokens[1],tokens[2]))\\\n",
    "    .cache()"
   ]
  },
  {
   "cell_type": "code",
   "execution_count": 8,
   "metadata": {
    "collapsed": false
   },
   "outputs": [
    {
     "data": {
      "text/plain": [
       "[(u'1', u'16', u'4.0'), (u'1', u'24', u'1.5'), (u'1', u'32', u'4.0')]"
      ]
     },
     "execution_count": 8,
     "metadata": {},
     "output_type": "execute_result"
    }
   ],
   "source": [
    "small_ratings_data.take(3)"
   ]
  },
  {
   "cell_type": "markdown",
   "metadata": {
    "slideshow": {
     "slide_type": "subslide"
    }
   },
   "source": [
    "이를 ```csvRdd()``` 함수로 만들어 ratings, movies 데이터를 만들어 보자.\n",
    "\n",
    "RDD는 lazy 연산을 한다. ```collect()```, ```count()``` 등과 같은 action 함수와 같이, 실제 데이터로부터 연산이 필요하기 전까지는 lazy 연산을 한다. ```cache()``` 함수는 메모리에 올려놓는다는 의미이다. cache는 연산이 일어나면 메모리에 데이터를 올려놓고, 다음부터 그 cache에 저장된 것을 사용하게 되므로 빠르다.\n",
    "```cache()```는 필요한 경우에 사용한다."
   ]
  },
  {
   "cell_type": "code",
   "execution_count": 38,
   "metadata": {
    "collapsed": true
   },
   "outputs": [],
   "source": [
    "def csvRdd(csvpath):\n",
    "    _rdd = spark.sparkContext.textFile(csvpath)\n",
    "    _rdd_header = _rdd.take(1)[0]\n",
    "    print \"header: %s\" % _rdd_header\n",
    "    rdd = _rdd\\\n",
    "        .filter(lambda line: line!=_rdd_header) \\\n",
    "        .map(lambda line: line.split(\",\")) \\\n",
    "        .map(lambda tokens: (tokens[0],tokens[1],tokens[2])) \\\n",
    "        .cache()\n",
    "    return rdd"
   ]
  },
  {
   "cell_type": "code",
   "execution_count": null,
   "metadata": {
    "collapsed": true
   },
   "outputs": [],
   "source": [
    "#ratingspath = os.path.join(datapath, 'ml-latest-small', 'ratings.csv')\n",
    "#ratings=csvRdd(ratingspath)\n",
    "ratings=csvRdd(small_ratings)"
   ]
  },
  {
   "cell_type": "code",
   "execution_count": 20,
   "metadata": {
    "collapsed": false
   },
   "outputs": [
    {
     "name": "stdout",
     "output_type": "stream",
     "text": [
      "header: userId,movieId,rating,timestamp\n"
     ]
    },
    {
     "data": {
      "text/plain": [
       "[(u'1', u'16', u'4.0'), (u'1', u'24', u'1.5'), (u'1', u'32', u'4.0')]"
      ]
     },
     "execution_count": 20,
     "metadata": {},
     "output_type": "execute_result"
    }
   ],
   "source": [
    "ratings.take(3)"
   ]
  },
  {
   "cell_type": "markdown",
   "metadata": {
    "slideshow": {
     "slide_type": "subslide"
    }
   },
   "source": [
    "### movies\n",
    "\n",
    "```movies``` 파일은 영화제목, 장르 정보를 가지고 있다."
   ]
  },
  {
   "cell_type": "code",
   "execution_count": 39,
   "metadata": {
    "collapsed": false
   },
   "outputs": [
    {
     "name": "stdout",
     "output_type": "stream",
     "text": [
      "header: movieId,title,genres\n"
     ]
    },
    {
     "data": {
      "text/plain": [
       "[(u'1', u'Toy Story (1995)', u'Adventure|Animation|Children|Comedy|Fantasy'),\n",
       " (u'2', u'Jumanji (1995)', u'Adventure|Children|Fantasy'),\n",
       " (u'3', u'Grumpier Old Men (1995)', u'Comedy|Romance')]"
      ]
     },
     "execution_count": 39,
     "metadata": {},
     "output_type": "execute_result"
    }
   ],
   "source": [
    "moviespath = os.path.join('data', 'ml-latest-small', 'movies.csv')\n",
    "movies=csvRdd(moviespath)\n",
    "movies.take(3)"
   ]
  },
  {
   "cell_type": "markdown",
   "metadata": {
    "slideshow": {
     "slide_type": "subslide"
    }
   },
   "source": [
    "### train, test\n",
    "\n",
    "훈련, 테스트 데이터를 분리해 보자. ```randomSplit(weights, seed=None)``` 함수는 weights, seed를 인자로 받는다.\n",
    "* weights: ```ratings``` 데이터의 분할하는 비율을 설정하고, 정규화해서 합계를 1.0으로 만들어 준다.\n",
    "* seed: 샘플링하는 숫자\n",
    "\n",
    "구분 | 비율\n",
    "-----|-----\n",
    "train | 6\n",
    "validation | 2\n",
    "test | 2"
   ]
  },
  {
   "cell_type": "code",
   "execution_count": 22,
   "metadata": {
    "collapsed": true
   },
   "outputs": [],
   "source": [
    "from pyspark.mllib.recommendation import ALS\n",
    "import math\n",
    "\n",
    "_train, _validation, _test=ratings.randomSplit([6, 2, 2], seed=0L)"
   ]
  },
  {
   "cell_type": "code",
   "execution_count": 23,
   "metadata": {
    "collapsed": true
   },
   "outputs": [],
   "source": [
    "_validation_01 = _validation.map(lambda x: (x[0], x[1]))"
   ]
  },
  {
   "cell_type": "code",
   "execution_count": 24,
   "metadata": {
    "collapsed": false
   },
   "outputs": [],
   "source": [
    "_test_01 = _test.map(lambda x: (x[0], x[1]))"
   ]
  },
  {
   "cell_type": "markdown",
   "metadata": {
    "slideshow": {
     "slide_type": "subslide"
    }
   },
   "source": [
    "### ALS 모델링\n",
    "\n",
    "ALS는 mllib, ml 패키지 모두 제공되고 있으나, 서로 사용하는 방법이 다르므로 주의가 필요하다.\n",
    "RDD 기반 API는 Spark 3.0에서는 제외될 예정이다.\n",
    "\n",
    "```python\n",
    "#----------------ml package------------------\n",
    "from pyspark.ml.recommendation import ALS\n",
    "als = ALS(rank=10, maxIter=20, userCol=\"user\", itemCol=\"item\", ratingCol=\"rating\")\n",
    "model = als.fit(trainDf)\n",
    "predictions = model.transform(testDf)\n",
    "\n",
    "#----------------mllib package----------------\n",
    "from pyspark.mllib.recommendation import ALS\n",
    "model = ALS.train(trainRdd, 10, seed=3, iterations=20)\n",
    "predictions = model.predictAll(testRdd).map(lambda r: (r.user, r.product, r.rating))\n",
    "```"
   ]
  },
  {
   "cell_type": "markdown",
   "metadata": {
    "collapsed": true
   },
   "source": [
    "\n",
    "\n",
    "ALS는 mllib, ml 패키지 모두 제공되고 있으나, 서로 사용하는 방법이 다르므로 주의가 필요하다.\n",
    "RDD 기반 API는 Spark 3.0에서는 제외될 예정이다.\n",
    "\n",
    "```python\n",
    "#----------------ml package------------------\n",
    "from pyspark.ml.recommendation import ALS\n",
    "als = ALS(rank=10, maxIter=20, userCol=\"user\", itemCol=\"item\", ratingCol=\"rating\")\n",
    "model = als.fit(trainDf)\n",
    "predictions = model.transform(testDf)\n",
    "\n",
    "#----------------mllib package----------------\n",
    "from pyspark.mllib.recommendation import ALS\n",
    "model = ALS.train(trainRdd, 10, seed=3, iterations=20)\n",
    "predictions = model.predictAll(testRdd).map(lambda r: (r.user, r.product, r.rating))\n",
    "```"
   ]
  },
  {
   "cell_type": "markdown",
   "metadata": {
    "slideshow": {
     "slide_type": "subslide"
    }
   },
   "source": [
    "ALS 모델에 필요한 설정이 있다.\n",
    "* rank는 숨겨진 요인 latent factors의 수\n",
    "* iterations 반복회수\n",
    "* lambda는 regularization 계수 (높으면 regularizaton 높음..."
   ]
  },
  {
   "cell_type": "code",
   "execution_count": 78,
   "metadata": {
    "collapsed": false
   },
   "outputs": [],
   "source": [
    "seed = 5L\n",
    "iterations = 10\n",
    "regularization_parameter = 0.1\n",
    "\n",
    "errors = [0, 0, 0]\n",
    "err = 0\n",
    "tolerance = 0.02\n",
    "\n",
    "min_error = float('inf')\n",
    "best_rank = -1\n",
    "best_iteration = -1\n",
    "\n",
    "rank=4\n",
    "# start for\n",
    "# ranks = [4, 8, 12]\n",
    "# for rank in ranks:\n",
    "model = ALS.train(_train,rank,seed=seed,iterations=iterations,lambda_=0.1)"
   ]
  },
  {
   "cell_type": "markdown",
   "metadata": {
    "slideshow": {
     "slide_type": "subslide"
    }
   },
   "source": [
    "### 예측\n",
    "\n",
    "#### 전체\n",
    "\n",
    "```predictAll()``` 함수는 ```ratings``` 평가점수를 예측한다. 즉 사용자의 영화에 대한 평가점수가 없는 경우, 몇 점인지 예측하게 된다."
   ]
  },
  {
   "cell_type": "code",
   "execution_count": 79,
   "metadata": {
    "collapsed": true
   },
   "outputs": [],
   "source": [
    "predictions = model.predictAll(_validation_01)"
   ]
  },
  {
   "cell_type": "markdown",
   "metadata": {},
   "source": [
    "predictions은 RDD이므로, 예측 결과 값은 아래와 같이 ```take()```, ```collect()``` 함수를 바로 사용하거나, ```map()``` 함수를 사용해서 추출할 수 있다."
   ]
  },
  {
   "cell_type": "code",
   "execution_count": 80,
   "metadata": {
    "collapsed": false
   },
   "outputs": [
    {
     "data": {
      "text/plain": [
       "pyspark.rdd.RDD"
      ]
     },
     "execution_count": 80,
     "metadata": {},
     "output_type": "execute_result"
    }
   ],
   "source": [
    "type(predictions)"
   ]
  },
  {
   "cell_type": "code",
   "execution_count": 81,
   "metadata": {
    "collapsed": false
   },
   "outputs": [
    {
     "data": {
      "text/plain": [
       "[Rating(user=475, product=81132, rating=1.208942277934203),\n",
       " Rating(user=469, product=667, rating=2.287210521555096)]"
      ]
     },
     "execution_count": 81,
     "metadata": {},
     "output_type": "execute_result"
    }
   ],
   "source": [
    "predictions.take(2)"
   ]
  },
  {
   "cell_type": "code",
   "execution_count": 82,
   "metadata": {
    "collapsed": false
   },
   "outputs": [
    {
     "data": {
      "text/plain": [
       "[((475, 81132), 1.208942277934203), ((469, 667), 2.287210521555096)]"
      ]
     },
     "execution_count": 82,
     "metadata": {},
     "output_type": "execute_result"
    }
   ],
   "source": [
    "predictions.map(lambda r: ((r[0], r[1]), r[2])).take(2)"
   ]
  },
  {
   "cell_type": "markdown",
   "metadata": {
    "slideshow": {
     "slide_type": "subslide"
    }
   },
   "source": [
    "실제와 예측을 나란히 비교해 보자.\n",
    "먼저 예측을 저장하고, 이를 ```map()``` 함수로 실제 값을 출력하고 ```join()``` 함수로 나란히 출력해 보자."
   ]
  },
  {
   "cell_type": "code",
   "execution_count": 83,
   "metadata": {
    "collapsed": false
   },
   "outputs": [],
   "source": [
    "predictions=predictions.map(lambda r: ((r[0], r[1]), r[2]))"
   ]
  },
  {
   "cell_type": "code",
   "execution_count": 84,
   "metadata": {
    "collapsed": true
   },
   "outputs": [],
   "source": [
    "rates_and_preds = _validation\\\n",
    "    .map(lambda r: ((int(r[0]), int(r[1])), float(r[2])))\\\n",
    "    .join(predictions)"
   ]
  },
  {
   "cell_type": "code",
   "execution_count": 85,
   "metadata": {
    "collapsed": false
   },
   "outputs": [
    {
     "data": {
      "text/plain": [
       "[((627, 30793), (3.5, 3.3273636051642086)),\n",
       " ((668, 4030), (1.5, 1.8208563455773858)),\n",
       " ((332, 2528), (4.0, 4.088212813873781))]"
      ]
     },
     "execution_count": 85,
     "metadata": {},
     "output_type": "execute_result"
    }
   ],
   "source": [
    "rates_and_preds.take(3)"
   ]
  },
  {
   "cell_type": "code",
   "execution_count": null,
   "metadata": {
    "collapsed": true
   },
   "outputs": [],
   "source": []
  },
  {
   "cell_type": "code",
   "execution_count": 88,
   "metadata": {
    "collapsed": false
   },
   "outputs": [
    {
     "data": {
      "text/plain": [
       "PythonRDD[1214] at RDD at PythonRDD.scala:48"
      ]
     },
     "execution_count": 88,
     "metadata": {},
     "output_type": "execute_result"
    }
   ],
   "source": [
    "model.userFeatures()"
   ]
  },
  {
   "cell_type": "code",
   "execution_count": null,
   "metadata": {
    "collapsed": true
   },
   "outputs": [],
   "source": []
  },
  {
   "cell_type": "markdown",
   "metadata": {
    "slideshow": {
     "slide_type": "subslide"
    }
   },
   "source": [
    "#### 사용자별 예측\n",
    "\n",
    "userId, moveId를 넣으면, 평가점수를 예측할 수 있다.\n",
    "예를 들어, 1번 사용자, 24번 영화에 대한 rating은 약 2.04이다."
   ]
  },
  {
   "cell_type": "code",
   "execution_count": 70,
   "metadata": {
    "collapsed": false,
    "scrolled": true
   },
   "outputs": [
    {
     "data": {
      "text/plain": [
       "2.477817297611674"
      ]
     },
     "execution_count": 70,
     "metadata": {},
     "output_type": "execute_result"
    }
   ],
   "source": [
    "model.predict(1,24)"
   ]
  },
  {
   "cell_type": "markdown",
   "metadata": {},
   "source": [
    "* 1번 사용자, 상위 10개 상품 추천"
   ]
  },
  {
   "cell_type": "code",
   "execution_count": 92,
   "metadata": {
    "collapsed": false,
    "scrolled": true
   },
   "outputs": [],
   "source": [
    "top10for1 = model.recommendProducts(1,10)"
   ]
  },
  {
   "cell_type": "code",
   "execution_count": 93,
   "metadata": {
    "collapsed": false
   },
   "outputs": [
    {
     "data": {
      "text/plain": [
       "list"
      ]
     },
     "execution_count": 93,
     "metadata": {},
     "output_type": "execute_result"
    }
   ],
   "source": [
    "type(top10for1)"
   ]
  },
  {
   "cell_type": "code",
   "execution_count": 94,
   "metadata": {
    "collapsed": false,
    "scrolled": true
   },
   "outputs": [
    {
     "data": {
      "text/plain": [
       "[Rating(user=1, product=5147, rating=5.417326172972089),\n",
       " Rating(user=1, product=3272, rating=5.272865359188067),\n",
       " Rating(user=1, product=103980, rating=5.221125234610412),\n",
       " Rating(user=1, product=90603, rating=5.199192419824584),\n",
       " Rating(user=1, product=6583, rating=5.131635645196752),\n",
       " Rating(user=1, product=105844, rating=5.127320038146992),\n",
       " Rating(user=1, product=714, rating=5.094333621153465),\n",
       " Rating(user=1, product=917, rating=5.076105430608997),\n",
       " Rating(user=1, product=59810, rating=5.037403608152832),\n",
       " Rating(user=1, product=104177, rating=5.037403608152832)]"
      ]
     },
     "execution_count": 94,
     "metadata": {},
     "output_type": "execute_result"
    }
   ],
   "source": [
    "top10for1"
   ]
  },
  {
   "cell_type": "code",
   "execution_count": 96,
   "metadata": {
    "collapsed": false
   },
   "outputs": [
    {
     "data": {
      "text/plain": [
       "103980"
      ]
     },
     "execution_count": 96,
     "metadata": {},
     "output_type": "execute_result"
    }
   ],
   "source": [
    "top10for1[2][1]"
   ]
  },
  {
   "cell_type": "code",
   "execution_count": 99,
   "metadata": {
    "collapsed": false
   },
   "outputs": [
    {
     "data": {
      "text/plain": [
       "<bound method PipelinedRDD.lookup of PythonRDD[273] at RDD at PythonRDD.scala:48>"
      ]
     },
     "execution_count": 99,
     "metadata": {},
     "output_type": "execute_result"
    }
   ],
   "source": [
    "movies.lookup"
   ]
  },
  {
   "cell_type": "markdown",
   "metadata": {
    "slideshow": {
     "slide_type": "subslide"
    }
   },
   "source": [
    "### 오류\n",
    "\n",
    "MSE Mean Squared Error을 출력해보자."
   ]
  },
  {
   "cell_type": "code",
   "execution_count": 90,
   "metadata": {
    "collapsed": true
   },
   "outputs": [],
   "source": [
    "error = math.sqrt(rates_and_preds\n",
    "                  .map(lambda r: (r[1][0]-r[1][1])**2)\\\n",
    "                  .mean()\n",
    "                 )"
   ]
  },
  {
   "cell_type": "code",
   "execution_count": 91,
   "metadata": {
    "collapsed": false
   },
   "outputs": [
    {
     "name": "stdout",
     "output_type": "stream",
     "text": [
      "0.919837162894\n"
     ]
    }
   ],
   "source": [
    "print error"
   ]
  },
  {
   "cell_type": "code",
   "execution_count": null,
   "metadata": {
    "collapsed": true
   },
   "outputs": [],
   "source": []
  }
 ],
 "metadata": {
  "celltoolbar": "Slideshow",
  "kernelspec": {
   "display_name": "Python 2",
   "language": "python",
   "name": "python2"
  },
  "language_info": {
   "codemirror_mode": {
    "name": "ipython",
    "version": 2
   },
   "file_extension": ".py",
   "mimetype": "text/x-python",
   "name": "python",
   "nbconvert_exporter": "python",
   "pygments_lexer": "ipython2",
   "version": "2.7.12"
  }
 },
 "nbformat": 4,
 "nbformat_minor": 0
}

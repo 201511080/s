{
 "cells": [
  {
   "cell_type": "markdown",
   "id": "77d62628",
   "metadata": {},
   "source": [
    "데이터가 다음과 같이 주어졌을 때:\n",
    "\n",
    "* x: [1,2],[1,4],[1,6]\n",
    "\n",
    "* y: 3,6,7\n",
    "\n",
    "\n",
    "\n",
    "회귀식을 도출해보자.\n",
    "\n",
    "* 1) matrix inverse method로 계수를 계산하고 출력,\n",
    "\n",
    "* 2) 예측과 실제의 오류 합계를 계산하고 출력,\n",
    "\n",
    "* 3) 입력 데이터와 회귀선의 그래프를 작성한다.\n",
    "\n",
    "\n",
    "\n",
    "* 제출: ipynb 파일 1개 (zip하지 마세요).\n",
    "\n",
    "* 기한: 2021/11/23 화 22:00시"
   ]
  },
  {
   "cell_type": "code",
   "execution_count": 2,
   "id": "5bb71d4e",
   "metadata": {},
   "outputs": [
    {
     "name": "stdout",
     "output_type": "stream",
     "text": [
      "(3, 2) (3,)\n"
     ]
    }
   ],
   "source": [
    "import numpy as np\n",
    "\n",
    "# 앞에는 상수항, 뒤에는 x1\n",
    "x1=np.array([[1,2],[1,4],[1,6]])\n",
    "\n",
    "y1=np.array([3,6,7])\n",
    "\n",
    "print(x1.shape,y1.shape)"
   ]
  },
  {
   "cell_type": "code",
   "execution_count": 3,
   "id": "a2db0d2d",
   "metadata": {},
   "outputs": [
    {
     "name": "stdout",
     "output_type": "stream",
     "text": [
      "x1: \n",
      " [[1 2]\n",
      " [1 4]\n",
      " [1 6]]\n"
     ]
    }
   ],
   "source": [
    "print(\"x1: \\n\", x1)"
   ]
  },
  {
   "cell_type": "markdown",
   "id": "5932460c",
   "metadata": {},
   "source": [
    "# 1) matrix inverse method로 계수를 계산하고 출력,"
   ]
  },
  {
   "cell_type": "code",
   "execution_count": 20,
   "id": "0236acc3",
   "metadata": {
    "scrolled": true
   },
   "outputs": [],
   "source": [
    "w0, w1=np.dot(np.linalg.inv(np.dot(x1.T, x1)), np.dot(x1.T, y1)) "
   ]
  },
  {
   "cell_type": "code",
   "execution_count": 21,
   "id": "8347a258",
   "metadata": {},
   "outputs": [
    {
     "data": {
      "text/plain": [
       "'w0:1.3333333333333286 w1:1.0'"
      ]
     },
     "execution_count": 21,
     "metadata": {},
     "output_type": "execute_result"
    }
   ],
   "source": [
    "f\"w0:{w0} w1:{w1}\""
   ]
  },
  {
   "cell_type": "markdown",
   "id": "6024f11c",
   "metadata": {},
   "source": [
    "# 2) 예측과 실제의 오류 합계를 계산하고 출력"
   ]
  },
  {
   "cell_type": "code",
   "execution_count": 22,
   "id": "2c5d5094",
   "metadata": {},
   "outputs": [
    {
     "data": {
      "text/plain": [
       "'predicted yhat: [3.33333333 5.33333333 7.33333333]'"
      ]
     },
     "execution_count": 22,
     "metadata": {},
     "output_type": "execute_result"
    }
   ],
   "source": [
    "x=x1[:,1]  #[2, 4, 6]\n",
    "yhat=x*w1+w0\n",
    "f\"predicted yhat: {yhat}\""
   ]
  },
  {
   "cell_type": "code",
   "execution_count": 23,
   "id": "8b58e6c6",
   "metadata": {},
   "outputs": [
    {
     "name": "stdout",
     "output_type": "stream",
     "text": [
      "SSE sum of squared errors: 0.6666666666666666\n"
     ]
    }
   ],
   "source": [
    "print(\"SSE sum of squared errors: {}\".format(np.sum(np.power(yhat-y1,2))))"
   ]
  },
  {
   "cell_type": "markdown",
   "id": "e590d133",
   "metadata": {},
   "source": [
    "# 3) 입력 데이터와 회귀선의 그래프를 작성한다."
   ]
  },
  {
   "cell_type": "code",
   "execution_count": 24,
   "id": "94d31d24",
   "metadata": {
    "scrolled": true
   },
   "outputs": [
    {
     "data": {
      "text/plain": [
       "[<matplotlib.lines.Line2D at 0x123bd2fa0>]"
      ]
     },
     "execution_count": 24,
     "metadata": {},
     "output_type": "execute_result"
    },
    {
     "data": {
      "image/png": "[encoded data removed]",
      "text/plain": [
       "<Figure size 432x288 with 1 Axes>"
      ]
     },
     "metadata": {
      "needs_background": "light"
     },
     "output_type": "display_data"
    }
   ],
   "source": [
    "ㅠ"
   ]
  },
  {
   "cell_type": "markdown",
   "id": "c16cd3f7",
   "metadata": {},
   "source": [
    "# 풀이"
   ]
  },
  {
   "cell_type": "code",
   "execution_count": 5,
   "id": "f9c22426",
   "metadata": {},
   "outputs": [
    {
     "name": "stdout",
     "output_type": "stream",
     "text": [
      "xTx=\n",
      " [[ 3 12]\n",
      " [12 56]]\n"
     ]
    }
   ],
   "source": [
    "# 풀이\n",
    "\n",
    "# Dot proudct: 내적 계산 https://tartist.tistory.com/81\n",
    "# x1.T 90도 회전\n",
    "# 2 by 3 와 3 by 2의 닷 계산\n",
    "# 중간의 3가 생략된다. 2 by 2 가 된다\n",
    "# 2 by 2로 만드는 이유는 w0, w1 2개 필요한데 2로 시작하는 숫자가 필요하다.\n",
    "xTx = np.dot(x1.T, x1)\n",
    "print(\"xTx=\\n\", xTx)"
   ]
  },
  {
   "cell_type": "code",
   "execution_count": 6,
   "id": "c1b96292",
   "metadata": {},
   "outputs": [
    {
     "name": "stdout",
     "output_type": "stream",
     "text": [
      "xTxI=\n",
      " [[ 2.33333333 -0.5       ]\n",
      " [-0.5         0.125     ]]\n"
     ]
    }
   ],
   "source": [
    "# invserse 된 값 구함\n",
    "xTxI = np.linalg.inv(xTx)\n",
    "print(\"xTxI=\\n\", xTxI)"
   ]
  },
  {
   "cell_type": "code",
   "execution_count": 8,
   "id": "020d0b8a",
   "metadata": {},
   "outputs": [
    {
     "data": {
      "text/plain": [
       "array([16, 72])"
      ]
     },
     "execution_count": 8,
     "metadata": {},
     "output_type": "execute_result"
    }
   ],
   "source": [
    "xTyT = np.dot(x1.T, y1)\n",
    "xTyT"
   ]
  },
  {
   "cell_type": "code",
   "execution_count": 11,
   "id": "a10b0173",
   "metadata": {},
   "outputs": [
    {
     "name": "stdout",
     "output_type": "stream",
     "text": [
      "weight= [1.33333333 1.        ]\n"
     ]
    }
   ],
   "source": [
    "# 2 by 2 와 2 by 1 의 닷\n",
    "# 2 by 1 결과 \n",
    "print(\"weight=\", np.dot(xTxI, xTyT))"
   ]
  },
  {
   "cell_type": "code",
   "execution_count": 13,
   "id": "2e619f18",
   "metadata": {},
   "outputs": [
    {
     "name": "stdout",
     "output_type": "stream",
     "text": [
      "w0, w1 1.3333333333333286 1.0\n"
     ]
    }
   ],
   "source": [
    "# x0, x1에 대한 계수\n",
    "# 계수: 변수(문자)에 일정하게 곱해진 상수(숫자)이다.\n",
    "# 방정식에서 변수 이외의 부분 즉, 나머지 인수 전체를 의미한다\n",
    "w0, w1 = np.dot(xTxI, xTyT)\n",
    "print(\"w0, w1\", w0, w1)"
   ]
  },
  {
   "cell_type": "markdown",
   "id": "5a9b063f",
   "metadata": {},
   "source": [
    "## matrix 로 직접계산"
   ]
  },
  {
   "cell_type": "code",
   "execution_count": 16,
   "id": "7377b9ea",
   "metadata": {},
   "outputs": [],
   "source": [
    "X=np.array([[1,2],[1,4],[1,6]])\n",
    "Y=np.array([3,6,7])"
   ]
  },
  {
   "cell_type": "code",
   "execution_count": 18,
   "id": "4cf7dcc0",
   "metadata": {},
   "outputs": [
    {
     "ename": "ValueError",
     "evalue": "operands could not be broadcast together with shapes (2,3) (3,2) ",
     "output_type": "error",
     "traceback": [
      "\u001b[0;31m---------------------------------------------------------------------------\u001b[0m",
      "\u001b[0;31mValueError\u001b[0m                                Traceback (most recent call last)",
      "\u001b[0;32m<ipython-input-18-314e81eb136b>\u001b[0m in \u001b[0;36m<module>\u001b[0;34m\u001b[0m\n\u001b[0;32m----> 1\u001b[0;31m \u001b[0mxTx\u001b[0m\u001b[0;34m=\u001b[0m\u001b[0mX\u001b[0m\u001b[0;34m.\u001b[0m\u001b[0mT\u001b[0m\u001b[0;34m*\u001b[0m\u001b[0mX\u001b[0m\u001b[0;34m\u001b[0m\u001b[0;34m\u001b[0m\u001b[0m\n\u001b[0m",
      "\u001b[0;31mValueError\u001b[0m: operands could not be broadcast together with shapes (2,3) (3,2) "
     ]
    }
   ],
   "source": [
    "xTx=X.T*X"
   ]
  },
  {
   "cell_type": "code",
   "execution_count": 19,
   "id": "4d26f897",
   "metadata": {},
   "outputs": [],
   "source": [
    "# linear algebra(대수) \n",
    "# list square (최소 제곱법) lstsq 최소 제곱 해를 선형 행렬 방정식으로 반환합니다.\n",
    "\n",
    "# w0, w1 을 구했다면? 회식을 모델링해서 구했다는 의미\n",
    "# 예측하는 라인, 실제 값은 Y가 실제데이터\n",
    "w0, w1 = np.linalg.lstsq(x1, y1, rcond=None)[0]"
   ]
  },
  {
   "cell_type": "markdown",
   "id": "35ed5e83",
   "metadata": {},
   "source": [
    "### 예측"
   ]
  },
  {
   "cell_type": "code",
   "execution_count": 20,
   "id": "817e5cbe",
   "metadata": {},
   "outputs": [],
   "source": [
    "# 상수항 데이터는 필요 없고, x1 데이터만 필요하다.\n",
    "# x1 절편, y1 기울기가 된다.\n",
    "# 그래프에 상수는 없음, X1 만 나타남 -> 예측값을 정할 때에는 앞에 있는 상수항은 제거하고 \n",
    "# X1만 별또로 저장해서 회귀식에 넣어서 예측값을 구한다."
   ]
  },
  {
   "cell_type": "markdown",
   "id": "a609edb4",
   "metadata": {},
   "source": [
    "#### 항목별로 예측"
   ]
  },
  {
   "cell_type": "code",
   "execution_count": 21,
   "id": "e8243af5",
   "metadata": {},
   "outputs": [
    {
     "data": {
      "text/plain": [
       "array([2, 4, 6])"
      ]
     },
     "execution_count": 21,
     "metadata": {},
     "output_type": "execute_result"
    }
   ],
   "source": [
    "# 상수항 제거하고 속삼나 꺼냄\n",
    "x=x1[:, 1]\n",
    "x"
   ]
  },
  {
   "cell_type": "code",
   "execution_count": 24,
   "id": "45a2a106",
   "metadata": {},
   "outputs": [
    {
     "data": {
      "text/plain": [
       "'predicated yhat: [3.33333333 5.33333333 7.33333333]'"
      ]
     },
     "execution_count": 24,
     "metadata": {},
     "output_type": "execute_result"
    }
   ],
   "source": [
    "# yhat -> 예측값, x항목별로 분석\n",
    "yhat = w0+w1*x\n",
    "f\"predicated yhat: {yhat}\""
   ]
  },
  {
   "cell_type": "markdown",
   "id": "c2230770",
   "metadata": {},
   "source": [
    "#### 벡터, matrixfh 예측\n"
   ]
  },
  {
   "cell_type": "markdown",
   "id": "bbf39448",
   "metadata": {},
   "source": [
    "shape 정렬"
   ]
  },
  {
   "cell_type": "code",
   "execution_count": 28,
   "id": "54ee146b",
   "metadata": {},
   "outputs": [
    {
     "data": {
      "text/plain": [
       "'x1.shape:(3, 2) w.shape:: (2,)'"
      ]
     },
     "execution_count": 28,
     "metadata": {},
     "output_type": "execute_result"
    }
   ],
   "source": [
    "#shape 정렬\n",
    "\n",
    "# w 를 array 로 만듬\n",
    "w = np.array([w0, w1])\n",
    "\n",
    "f\"x1.shape:{x1.shape} w.shape:: {w.shape}\""
   ]
  },
  {
   "cell_type": "code",
   "execution_count": 29,
   "id": "975a33be",
   "metadata": {},
   "outputs": [
    {
     "data": {
      "text/plain": [
       "'w.shpape: (2, 1)'"
      ]
     },
     "execution_count": 29,
     "metadata": {},
     "output_type": "execute_result"
    }
   ],
   "source": [
    "# x1, w의 dot 연산을 위해 차원, shape 를 맞춰준다. \n",
    "\n",
    "# 1차원 Transpose\n",
    "# []형식을 [[], []] 형식으로 만들어서 transpose 해줘야한다. \n",
    "# : 모든 데이터 가져오기\n",
    "w=w[:, np.newaxis]\n",
    "f\"w.shpape: {w.shape}\""
   ]
  },
  {
   "cell_type": "code",
   "execution_count": 30,
   "id": "bee7a9ca",
   "metadata": {},
   "outputs": [
    {
     "data": {
      "text/plain": [
       "array([[1.33333333],\n",
       "       [1.        ]])"
      ]
     },
     "execution_count": 30,
     "metadata": {},
     "output_type": "execute_result"
    }
   ],
   "source": [
    "w"
   ]
  },
  {
   "cell_type": "markdown",
   "id": "bf16d4a0",
   "metadata": {},
   "source": [
    "예측 계산"
   ]
  },
  {
   "cell_type": "code",
   "execution_count": 32,
   "id": "98d0817f",
   "metadata": {},
   "outputs": [
    {
     "data": {
      "text/plain": [
       "'predicated yhat: [[3.33333333]\\n [5.33333333]\\n [7.33333333]]'"
      ]
     },
     "execution_count": 32,
     "metadata": {},
     "output_type": "execute_result"
    }
   ],
   "source": [
    "# 위처럼 항목별로 계산 할때는 식을 만들어서 했다. W0+W1*x\n",
    "# 행렬로 간단한게 해본다\n",
    "\n",
    "# dot 연산으로 예측값 바로구할 수 있다\n",
    "pred=np.dot(x1, w)\n",
    "f\"predicated yhat: {pred}\""
   ]
  },
  {
   "cell_type": "code",
   "execution_count": 33,
   "id": "abab6386",
   "metadata": {},
   "outputs": [
    {
     "data": {
      "text/plain": [
       "array([[3],\n",
       "       [6],\n",
       "       [7]])"
      ]
     },
     "execution_count": 33,
     "metadata": {},
     "output_type": "execute_result"
    }
   ],
   "source": [
    "# 오류를 구하기 위해 Y1 데이터도 차원을 맞춰야 한다.\n",
    "# y1 역시 차원을 맞추어 \b예측, 뺼셈 연산이 가능하도록 만들자\n",
    "_y1 = y1[:, np.newaxis]\n",
    "_y1"
   ]
  },
  {
   "cell_type": "code",
   "execution_count": 35,
   "id": "3024c9b7",
   "metadata": {},
   "outputs": [
    {
     "data": {
      "text/plain": [
       "array([[-0.33333333],\n",
       "       [ 0.66666667],\n",
       "       [-0.33333333]])"
      ]
     },
     "execution_count": 35,
     "metadata": {},
     "output_type": "execute_result"
    }
   ],
   "source": [
    "# y1에 예측 값 빼주기, 오류 구했다. \n",
    "_y1 - pred"
   ]
  },
  {
   "cell_type": "markdown",
   "id": "f3537ad1",
   "metadata": {},
   "source": [
    "# 오류 계산\n",
    "- 오류는 여러 오류가 있따 \n",
    "- 1.실제 - 예측 - 절대값으로 구하기 \n",
    "- 2.실제 - 예측 - square(power"
   ]
  },
  {
   "cell_type": "markdown",
   "id": "79edfea8",
   "metadata": {},
   "source": [
    "### 우리는 SSE(Sum of squred errors) 를 구한다."
   ]
  },
  {
   "cell_type": "code",
   "execution_count": 36,
   "id": "de78122a",
   "metadata": {},
   "outputs": [
    {
     "name": "stdout",
     "output_type": "stream",
     "text": [
      "SSE sum of squared errors: 0.6666666666666667\n"
     ]
    }
   ],
   "source": [
    "# 전체 오류의 제곱의 합계는 0.67 이네\n",
    "print(\"SSE sum of squared errors: {}\".format(np.sum(np.power(yhat-y1,2))))"
   ]
  },
  {
   "cell_type": "code",
   "execution_count": 37,
   "id": "d2d84402",
   "metadata": {},
   "outputs": [
    {
     "name": "stdout",
     "output_type": "stream",
     "text": [
      "i\t오류 \ty\t예측\n"
     ]
    },
    {
     "ename": "IndexError",
     "evalue": "invalid index to scalar variable.",
     "output_type": "error",
     "traceback": [
      "\u001b[0;31m---------------------------------------------------------------------------\u001b[0m",
      "\u001b[0;31mIndexError\u001b[0m                                Traceback (most recent call last)",
      "\u001b[0;32m<ipython-input-37-80eeb595db04>\u001b[0m in \u001b[0;36m<module>\u001b[0;34m\u001b[0m\n\u001b[1;32m      2\u001b[0m \u001b[0;31m# 반복문으로 계산\u001b[0m\u001b[0;34m\u001b[0m\u001b[0;34m\u001b[0m\u001b[0;34m\u001b[0m\u001b[0m\n\u001b[1;32m      3\u001b[0m \u001b[0;32mfor\u001b[0m \u001b[0mi\u001b[0m \u001b[0;32min\u001b[0m \u001b[0mrange\u001b[0m\u001b[0;34m(\u001b[0m\u001b[0mlen\u001b[0m\u001b[0;34m(\u001b[0m\u001b[0mx1\u001b[0m\u001b[0;34m)\u001b[0m\u001b[0;34m)\u001b[0m\u001b[0;34m:\u001b[0m\u001b[0;34m\u001b[0m\u001b[0;34m\u001b[0m\u001b[0m\n\u001b[0;32m----> 4\u001b[0;31m     \u001b[0mpredicted\u001b[0m \u001b[0;34m=\u001b[0m \u001b[0mw0\u001b[0m\u001b[0;34m*\u001b[0m\u001b[0mx1\u001b[0m\u001b[0;34m[\u001b[0m\u001b[0mi\u001b[0m\u001b[0;34m]\u001b[0m\u001b[0;34m[\u001b[0m\u001b[0;36m0\u001b[0m\u001b[0;34m]\u001b[0m \u001b[0;34m+\u001b[0m \u001b[0mw1\u001b[0m\u001b[0;34m*\u001b[0m\u001b[0mw1\u001b[0m\u001b[0;34m[\u001b[0m\u001b[0mi\u001b[0m\u001b[0;34m]\u001b[0m\u001b[0;34m[\u001b[0m\u001b[0;36m1\u001b[0m\u001b[0;34m]\u001b[0m\u001b[0;34m\u001b[0m\u001b[0;34m\u001b[0m\u001b[0m\n\u001b[0m\u001b[1;32m      5\u001b[0m     \u001b[0merror\u001b[0m \u001b[0;34m=\u001b[0m \u001b[0my1\u001b[0m\u001b[0;34m[\u001b[0m\u001b[0mi\u001b[0m\u001b[0;34m]\u001b[0m\u001b[0;34m-\u001b[0m\u001b[0mpredicted\u001b[0m\u001b[0;34m\u001b[0m\u001b[0;34m\u001b[0m\u001b[0m\n\u001b[1;32m      6\u001b[0m     \u001b[0mprint\u001b[0m\u001b[0;34m(\u001b[0m\u001b[0;34m\"{0:2d}\\t{1:.2f} =\\t {2} - \\t{3:.2f}\"\u001b[0m\u001b[0;34m.\u001b[0m\u001b[0mformat\u001b[0m\u001b[0;34m(\u001b[0m\u001b[0mi\u001b[0m\u001b[0;34m,\u001b[0m \u001b[0merror\u001b[0m\u001b[0;34m,\u001b[0m \u001b[0my1\u001b[0m\u001b[0;34m[\u001b[0m\u001b[0mi\u001b[0m\u001b[0;34m]\u001b[0m\u001b[0;34m,\u001b[0m \u001b[0mpredicted\u001b[0m\u001b[0;34m)\u001b[0m\u001b[0;34m)\u001b[0m\u001b[0;34m\u001b[0m\u001b[0;34m\u001b[0m\u001b[0m\n",
      "\u001b[0;31mIndexError\u001b[0m: invalid index to scalar variable."
     ]
    }
   ],
   "source": [
    "print(\"i\\t오류 \\ty\\t예측\")\n",
    "# 반복문으로 계산\n",
    "for i in range(len(x1)):\n",
    "    predicted = w0*x1[i][0] + w1*w1[i][1]\n",
    "    error = y1[i]-predicted\n",
    "    print(\"{0:2d}\\t{1:.2f} =\\t {2} - \\t{3:.2f}\".format(i, error, y1[i], predicted))"
   ]
  },
  {
   "cell_type": "code",
   "execution_count": 41,
   "id": "f9152264",
   "metadata": {},
   "outputs": [
    {
     "name": "stdout",
     "output_type": "stream",
     "text": [
      "predicated yhat: [3.33333333 5.33333333 7.33333333]\n",
      "SSE sum of squared errors: 0.6666666666666666\n"
     ]
    },
    {
     "data": {
      "text/plain": [
       "[<matplotlib.lines.Line2D at 0x11b02f640>]"
      ]
     },
     "execution_count": 41,
     "metadata": {},
     "output_type": "execute_result"
    },
    {
     "data": {
      "image/png": "[encoded data removed]",
      "text/plain": [
       "<Figure size 432x288 with 1 Axes>"
      ]
     },
     "metadata": {
      "needs_background": "light"
     },
     "output_type": "display_data"
    }
   ],
   "source": [
    "%matplotlib inline\n",
    "import matplotlib.pyplot as plt\n",
    "\n",
    "# (1) data ready\n",
    "x1=np.array([[1, 2], [1,4], [1,6]])\n",
    "y1=np.array([3,6,7])\n",
    "\n",
    "# (2) shape is right already (colum:x0, x1 row:records)\n",
    "# {3} compute w (w0 for x0, w1 for x1)\n",
    "# list 스퀘어 방식으로 구하는 방법도 있음 \n",
    "# w0,w1=np.linglg.lstsq(x1, y1, rcond=NONE)[0]\n",
    "w0, w1=np.dot(np.linalg.inv(np.dot(x1.T, x1)), np.dot(x1.T, y1))\n",
    "\n",
    "# (4) predicated\n",
    "x=x1[:, 1] #계수들만 가져옴\n",
    "yhat=w0+w1*x\n",
    "print(\"predicated yhat: {}\".format(yhat))\n",
    "\n",
    "# (5)error\n",
    "print(\"SSE sum of squared errors: {}\".format(np.sum(np.power(yhat-y1,2))))\n",
    "\n",
    "# (6) graph\n",
    "fig=plt.figure()\n",
    "# 행 첫번째 열 첫번째의 1번째\n",
    "ax=fig.add_subplot(111)\n",
    "\n",
    "# 스캐터, x축이 x계수, y축이 값\n",
    "ax.scatter(x, y1)\n",
    "# 선그래프, 회귀선 x축이 x계수, y축이 예측\n",
    "ax.plot(x, yhat)"
   ]
  }
 ],
 "metadata": {
  "kernelspec": {
   "display_name": "Python 3",
   "language": "python",
   "name": "python3"
  },
  "language_info": {
   "codemirror_mode": {
    "name": "ipython",
    "version": 3
   },
   "file_extension": ".py",
   "mimetype": "text/x-python",
   "name": "python",
   "nbconvert_exporter": "python",
   "pygments_lexer": "ipython3",
   "version": "3.9.6"
  }
 },
 "nbformat": 4,
 "nbformat_minor": 5
}

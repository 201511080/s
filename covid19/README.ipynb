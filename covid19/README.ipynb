{
 "cells": [
  {
   "cell_type": "markdown",
   "id": "93857370",
   "metadata": {},
   "source": [
    "# 한국의 COVID-19 추이\n",
    "\n",
    "최근 코로나 백신 보급이 이루어지고 있습니다. 이런 상황에서 코로나가 어느정도로 확산됐는지, 또 백신 보급 상황이 궁긍했습니다.\n",
    "\n",
    "코로나 관련 데이터 셋을 모아 시각화 하고 분석해보았습니다.\n",
    "\n",
    "# Overview\n",
    "\n",
    "### 1. 서울 자치구별 확진자 분석\n",
    "\n",
    "### 2. 백신 보급 추이와 전망\n",
    "\n",
    "### 3. 2학기 대면수업 안전할까?\n",
    "\n",
    "\n",
    "\n",
    "# 1. 데이터 정보\n",
    "\n",
    "1. covid_seoul_region.csv\n",
    "- 서울특별시 코로나19 자치구별 확진자 발생동향\n",
    "    - 출처: http://data.seoul.go.kr/dataList/OA-20470/S/1/datasetView.do\n",
    "- 서울 구역별 감염자 분석에 사용한 데이터 셋입니다.\n",
    "\n",
    "2. covid_vaccine_dataset.csv\n",
    "- 서울특별시 코로나19 백신 예방접종 현황\n",
    "    - 출처: http://data.seoul.go.kr/dataList/OA-20914/S/1/datasetView.do\n",
    "- 백신 예방접종 현항 및 추이 예측에 사용한 데이터 셋입니다.\n",
    "\n",
    "\n",
    "\n",
    "\n",
    "# 2. 추가 패키지\n",
    "- pandas\n",
    "- numpy\n",
    "- matplotlib\n",
    "- seaborn\n",
    "- squarify\n",
    "\n",
    "아래 명령어 수행\n",
    "```\n",
    "pip3 install pandas\n",
    "pip3 install numpy\n",
    "pip3 install matplotlib\n",
    "pip3 install seaborn\n",
    "pip3 install squarify\n",
    "```"
   ]
  }
 ],
 "metadata": {
  "kernelspec": {
   "display_name": "Python 3",
   "language": "python",
   "name": "python3"
  },
  "language_info": {
   "codemirror_mode": {
    "name": "ipython",
    "version": 3
   },
   "file_extension": ".py",
   "mimetype": "text/x-python",
   "name": "python",
   "nbconvert_exporter": "python",
   "pygments_lexer": "ipython3",
   "version": "3.9.4"
  }
 },
 "nbformat": 4,
 "nbformat_minor": 5
}

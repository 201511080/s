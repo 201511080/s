{
 "cells": [
  {
   "cell_type": "code",
   "execution_count": 9,
   "id": "42cee18a",
   "metadata": {},
   "outputs": [],
   "source": [
    "import os"
   ]
  },
  {
   "cell_type": "code",
   "execution_count": 2,
   "id": "d46ed051",
   "metadata": {},
   "outputs": [],
   "source": [
    "import pyspark\n",
    "\n",
    "sparkConfig = pyspark.SparkConf()\n",
    "spark = pyspark.sql.SparkSession\\\n",
    "    .builder\\\n",
    "    .master('local')\\\n",
    "    .appName('myApp')\\\n",
    "    .config(conf=sparkConfig)\\\n",
    "    .getOrCreate()"
   ]
  },
  {
   "cell_type": "code",
   "execution_count": null,
   "id": "9fb9e5c2",
   "metadata": {},
   "outputs": [],
   "source": [
    "myDf.write.format('com.databricks.spark.csv').save(os.path.join('data','covid_seoul_region.csv'))"
   ]
  },
  {
   "cell_type": "code",
   "execution_count": 120,
   "id": "6bb834d4",
   "metadata": {},
   "outputs": [],
   "source": [
    "from pyspark.sql.types import StructType, StructField\n",
    "from pyspark.sql.types import IntegerType, DoubleType\n",
    "\n",
    "cfile= os.path.join(\"data\", \"covid_seoul_region.csv\")\n",
    "\n",
    "# or textFile 해서 lines.map(lambda l: l.split(\",\")), createDataFrame\n",
    "_area = spark.read.option(\"header\", True).csv(cfile)"
   ]
  },
  {
   "cell_type": "code",
   "execution_count": 121,
   "id": "4cd47b10",
   "metadata": {},
   "outputs": [],
   "source": [
    "# 데이터 정제\n",
    "_area = _area.drop('수집일')"
   ]
  },
  {
   "cell_type": "code",
   "execution_count": 99,
   "id": "ec148ccb",
   "metadata": {},
   "outputs": [
    {
     "name": "stdout",
     "output_type": "stream",
     "text": [
      "root\n",
      " |-- 자치구 기준일: string (nullable = true)\n",
      " |-- 종로구 전체: string (nullable = true)\n",
      " |-- 종로구 추가: string (nullable = true)\n",
      " |-- 중구 전체: string (nullable = true)\n",
      " |-- 중구 추가: string (nullable = true)\n",
      " |-- 용산구 전체: string (nullable = true)\n",
      " |-- 용산구 추가: string (nullable = true)\n",
      " |-- 성동구 전체: string (nullable = true)\n",
      " |-- 성동구 추가: string (nullable = true)\n",
      " |-- 광진구 전체: string (nullable = true)\n",
      " |-- 광진구 추가: string (nullable = true)\n",
      " |-- 동대문구 전체: string (nullable = true)\n",
      " |-- 동대문구 추가: string (nullable = true)\n",
      " |-- 중랑구 전체: string (nullable = true)\n",
      " |-- 중랑구 추가: string (nullable = true)\n",
      " |-- 성북구 전체: string (nullable = true)\n",
      " |-- 성북구 추가: string (nullable = true)\n",
      " |-- 강북구 전체: string (nullable = true)\n",
      " |-- 강북구 추가: string (nullable = true)\n",
      " |-- 도봉구 전체: string (nullable = true)\n",
      " |-- 도봉구 추가: string (nullable = true)\n",
      " |-- 노원구 전체: string (nullable = true)\n",
      " |-- 노원구 추가: string (nullable = true)\n",
      " |-- 은평구 전체: string (nullable = true)\n",
      " |-- 은평구 추가: string (nullable = true)\n",
      " |-- 서대문구 전체: string (nullable = true)\n",
      " |-- 서대문구 추가: string (nullable = true)\n",
      " |-- 마포구 전체: string (nullable = true)\n",
      " |-- 마포구 추가: string (nullable = true)\n",
      " |-- 양천구 전체: string (nullable = true)\n",
      " |-- 양천구 추가: string (nullable = true)\n",
      " |-- 강서구 전체: string (nullable = true)\n",
      " |-- 강서구 추가: string (nullable = true)\n",
      " |-- 구로구 전체: string (nullable = true)\n",
      " |-- 구로구 추가: string (nullable = true)\n",
      " |-- 금천구 전체: string (nullable = true)\n",
      " |-- 금천구 추가: string (nullable = true)\n",
      " |-- 영등포구 전체: string (nullable = true)\n",
      " |-- 영등포구 추가: string (nullable = true)\n",
      " |-- 동작구 전체: string (nullable = true)\n",
      " |-- 동작구 추가: string (nullable = true)\n",
      " |-- 관악구 전체: string (nullable = true)\n",
      " |-- 관악구 추가: string (nullable = true)\n",
      " |-- 서초구 전체: string (nullable = true)\n",
      " |-- 서추구 추가: string (nullable = true)\n",
      " |-- 강남구 전체: string (nullable = true)\n",
      " |-- 강남구 추가: string (nullable = true)\n",
      " |-- 송파구 전체: string (nullable = true)\n",
      " |-- 송파구 추가: string (nullable = true)\n",
      " |-- 강동구 전체: string (nullable = true)\n",
      " |-- 강동구 추가: string (nullable = true)\n",
      " |-- 기타 전체: string (nullable = true)\n",
      " |-- 기타 추가: string (nullable = true)\n",
      "\n"
     ]
    }
   ],
   "source": [
    "_area.printSchema()"
   ]
  },
  {
   "cell_type": "code",
   "execution_count": 79,
   "id": "66cb80ed",
   "metadata": {},
   "outputs": [
    {
     "data": {
      "text/plain": [
       "[Row(자치구 기준일='2021.06.13.00', 종로구 전체='781', 종로구 추가='1', 중구 전체='704', 중구 추가='1', 용산구 전체='1251', 용산구 추가='6', 성동구 전체='1270', 성동구 추가='4', 광진구 전체='1522', 광진구 추가='6', 동대문구 전체='1717', 동대문구 추가='14', 중랑구 전체='2063', 중랑구 추가='3', 성북구 전체='1929', 성북구 추가='4', 강북구 전체='1347', 강북구 추가='4', 도봉구 전체='1441', 도봉구 추가='4', 노원구 전체='2145', 노원구 추가='6', 은평구 전체='2005', 은평구 추가='5', 서대문구 전체='1175', 서대문구 추가='10', 마포구 전체='1475', 마포구 추가='7', 양천구 전체='1616', 양천구 추가='5', 강서구 전체='2250', 강서구 추가='1', 구로구 전체='1543', 구로구 추가='3', 금천구 전체='774', 금천구 추가='5', 영등포구 전체='1721', 영등포구 추가='6', 동작구 전체='1937', 동작구 추가='5', 관악구 전체='2128', 관악구 추가='3', 서초구 전체='1994', 서추구 추가='9', 강남구 전체='2728', 강남구 추가='27', 송파구 전체='2804', 송파구 추가='19', 강동구 전체='1868', 강동구 추가='5', 기타 전체='4290', 기타 추가='13', 수집일='11:40.0')]"
      ]
     },
     "execution_count": 79,
     "metadata": {},
     "output_type": "execute_result"
    }
   ],
   "source": [
    "_area.take(1)"
   ]
  },
  {
   "cell_type": "code",
   "execution_count": null,
   "id": "fb5511de",
   "metadata": {},
   "outputs": [],
   "source": []
  },
  {
   "cell_type": "markdown",
   "id": "04430c84",
   "metadata": {},
   "source": [
    "# 9.1: 문제 설정\n",
    "먼저 관심있는 데이터를 수집했고, 그 데이터에 대해 뭔가 궁금하게 생각하는 의문이 있을 것이다.\n",
    "\n",
    "예를 들어 '따릉이' 데이터에 대해 (1) 대여가 증가하는 추세인지? (2) 계절별로 차이가 있는지? 의문 또는 문제를 가질 수 있겠다.\n",
    "\n",
    "이러한 의문은 증명가능하도록 만들어져야 분석을 통해 답할 수 있다.\n",
    "\n",
    "문제는 2개만 만들자."
   ]
  },
  {
   "cell_type": "markdown",
   "id": "a036ee96",
   "metadata": {},
   "source": [
    "# 서울 코로나 자치구별 확진자 분석 \n",
    "\n",
    "### 1 종로구 확진자 증가 추세\n",
    "\n",
    "### 2 지역별로 차이가 있는지?"
   ]
  },
  {
   "cell_type": "markdown",
   "id": "70362ed9",
   "metadata": {},
   "source": [
    "# 9.2: 문제의 답"
   ]
  },
  {
   "cell_type": "markdown",
   "id": "54d7843f",
   "metadata": {},
   "source": [
    "## 1 학교 근처 누적 확진자"
   ]
  },
  {
   "cell_type": "markdown",
   "id": "b711e398",
   "metadata": {},
   "source": [
    "### 1.1 누적 확진자 수 집계"
   ]
  },
  {
   "cell_type": "code",
   "execution_count": 163,
   "id": "93a03062",
   "metadata": {},
   "outputs": [],
   "source": [
    "# 학교 근처 지역\n",
    "_areas_of_interest = ['종로구 전체', '성북구 전체', '서대문구 전체']\n",
    "\n",
    "_filtered_columns = list(filter(lambda x: x != '자치구 기준일', _area.columns))\n",
    "_filtered_columns = list(filter(lambda x: x in _areas_of_interest, _filtered_columns))"
   ]
  },
  {
   "cell_type": "code",
   "execution_count": 165,
   "id": "fab96225",
   "metadata": {},
   "outputs": [
    {
     "name": "stdout",
     "output_type": "stream",
     "text": [
      "+----------------+------------------+----------------+\n",
      "|sum(성북구 전체)|sum(서대문구 전체)|sum(종로구 전체)|\n",
      "+----------------+------------------+----------------+\n",
      "|        282776.0|          165935.0|        119967.0|\n",
      "+----------------+------------------+----------------+\n",
      "\n"
     ]
    }
   ],
   "source": [
    "# lines.groupBy('자치구 기준일').pivot('month').select().show()\n",
    "# lines.groupBy('자치구 기준일').pivot('자치구 기준일').sum().show()\n",
    "\n",
    "#  맨 앞 컬럼에 헤더가 있으면 if x is not _filtered_columns\n",
    "# _area.agg({\"종로구 전체\":\"sum\"}).show()\n",
    "# _area.agg({\"성북구 전체\":\"sum\"}).show()\n",
    "# _area.agg({\"서대문구 전체\":\"sum\"}).show()\n",
    "exprs = {x: \"sum\" for x in _filtered_columns}\n",
    "\n",
    "_area.agg(exprs).show()"
   ]
  },
  {
   "cell_type": "markdown",
   "id": "5859606a",
   "metadata": {},
   "source": [
    "### 1.2 특정 날짜 확진자 수 통계 (2021.06.13.00)"
   ]
  },
  {
   "cell_type": "code",
   "execution_count": 166,
   "id": "dab3955a",
   "metadata": {},
   "outputs": [
    {
     "name": "stdout",
     "output_type": "stream",
     "text": [
      "+-------------+-----------+-----------+---------+---------+-----------+-----------+-----------+-----------+-----------+-----------+-------------+-------------+-----------+-----------+-----------+-----------+-----------+-----------+-----------+-----------+-----------+-----------+-----------+-----------+-------------+-------------+-----------+-----------+-----------+-----------+-----------+-----------+-----------+-----------+-----------+-----------+-------------+-------------+-----------+-----------+-----------+-----------+-----------+-----------+-----------+-----------+-----------+-----------+-----------+-----------+---------+---------+\n",
      "|자치구 기준일|종로구 전체|종로구 추가|중구 전체|중구 추가|용산구 전체|용산구 추가|성동구 전체|성동구 추가|광진구 전체|광진구 추가|동대문구 전체|동대문구 추가|중랑구 전체|중랑구 추가|성북구 전체|성북구 추가|강북구 전체|강북구 추가|도봉구 전체|도봉구 추가|노원구 전체|노원구 추가|은평구 전체|은평구 추가|서대문구 전체|서대문구 추가|마포구 전체|마포구 추가|양천구 전체|양천구 추가|강서구 전체|강서구 추가|구로구 전체|구로구 추가|금천구 전체|금천구 추가|영등포구 전체|영등포구 추가|동작구 전체|동작구 추가|관악구 전체|관악구 추가|서초구 전체|서추구 추가|강남구 전체|강남구 추가|송파구 전체|송파구 추가|강동구 전체|강동구 추가|기타 전체|기타 추가|\n",
      "+-------------+-----------+-----------+---------+---------+-----------+-----------+-----------+-----------+-----------+-----------+-------------+-------------+-----------+-----------+-----------+-----------+-----------+-----------+-----------+-----------+-----------+-----------+-----------+-----------+-------------+-------------+-----------+-----------+-----------+-----------+-----------+-----------+-----------+-----------+-----------+-----------+-------------+-------------+-----------+-----------+-----------+-----------+-----------+-----------+-----------+-----------+-----------+-----------+-----------+-----------+---------+---------+\n",
      "|2021.06.13.00|        781|          1|      704|        1|       1251|          6|       1270|          4|       1522|          6|         1717|           14|       2063|          3|       1929|          4|       1347|          4|       1441|          4|       2145|          6|       2005|          5|         1175|           10|       1475|          7|       1616|          5|       2250|          1|       1543|          3|        774|          5|         1721|            6|       1937|          5|       2128|          3|       1994|          9|       2728|         27|       2804|         19|       1868|          5|     4290|       13|\n",
      "+-------------+-----------+-----------+---------+---------+-----------+-----------+-----------+-----------+-----------+-----------+-------------+-------------+-----------+-----------+-----------+-----------+-----------+-----------+-----------+-----------+-----------+-----------+-----------+-----------+-------------+-------------+-----------+-----------+-----------+-----------+-----------+-----------+-----------+-----------+-----------+-----------+-------------+-------------+-----------+-----------+-----------+-----------+-----------+-----------+-----------+-----------+-----------+-----------+-----------+-----------+---------+---------+\n",
      "\n"
     ]
    }
   ],
   "source": [
    "_area.select([c for c in _area.columns]).where(_area['자치구 기준일'].startswith('2021.06.13.00')).show()"
   ]
  },
  {
   "cell_type": "code",
   "execution_count": 175,
   "id": "b9615781",
   "metadata": {},
   "outputs": [
    {
     "name": "stdout",
     "output_type": "stream",
     "text": [
      "+-----------+-----------+-------------+\n",
      "|종로구 전체|성북구 전체|서대문구 전체|\n",
      "+-----------+-----------+-------------+\n",
      "|        781|       1929|         1175|\n",
      "|        780|       1925|         1165|\n",
      "|        778|       1920|         1157|\n",
      "|        774|       1909|         1151|\n",
      "|        769|       1904|         1143|\n",
      "|        768|       1902|         1140|\n",
      "|        767|       1894|         1140|\n",
      "|        765|       1887|         1137|\n",
      "|        764|       1880|         1131|\n",
      "|        762|       1864|         1128|\n",
      "|        761|       1855|         1122|\n",
      "|        759|       1848|         1113|\n",
      "|        758|       1840|         1105|\n",
      "|        758|       1827|         1100|\n",
      "|        758|       1823|         1097|\n",
      "|        755|       1812|         1084|\n",
      "|        754|       1806|         1076|\n",
      "|        752|       1801|         1067|\n",
      "|        748|       1794|         1056|\n",
      "|        743|       1784|         1041|\n",
      "+-----------+-----------+-------------+\n",
      "only showing top 20 rows\n",
      "\n"
     ]
    }
   ],
   "source": [
    "_area.select([c for c in _filtered_columns]).show()"
   ]
  },
  {
   "cell_type": "code",
   "execution_count": 174,
   "id": "25d80351",
   "metadata": {},
   "outputs": [
    {
     "name": "stdout",
     "output_type": "stream",
     "text": [
      "+-------+------------------+-----------------+-----------------+\n",
      "|summary|       종로구 전체|      성북구 전체|    서대문구 전체|\n",
      "+-------+------------------+-----------------+-----------------+\n",
      "|  count|               473|              473|              473|\n",
      "|   mean|253.63002114164905|597.8350951374207|350.8139534883721|\n",
      "| stddev|272.65510378910096|608.5685467871335|370.3358748874007|\n",
      "|    min|               100|             1010|               10|\n",
      "|    max|                98|              995|              999|\n",
      "+-------+------------------+-----------------+-----------------+\n",
      "\n"
     ]
    }
   ],
   "source": [
    "_area.select([c for c in _filtered_columns]).describe().show()"
   ]
  },
  {
   "cell_type": "markdown",
   "id": "b74a6bad",
   "metadata": {},
   "source": [
    "### 1.3 2021년 6월 증가추세"
   ]
  },
  {
   "cell_type": "markdown",
   "id": "6c257088",
   "metadata": {},
   "source": [
    "#### 일주일 합계 "
   ]
  },
  {
   "cell_type": "code",
   "execution_count": 227,
   "id": "543a41c3",
   "metadata": {},
   "outputs": [
    {
     "name": "stdout",
     "output_type": "stream",
     "text": [
      "+-------------+-----+-----------+-----------+-------------+\n",
      "|자치구 기준일|total|종로구 전체|성북구 전체|서대문구 전체|\n",
      "+-------------+-----+-----------+-----------+-------------+\n",
      "|2021.06.13.00| 3885|        781|       1929|         1175|\n",
      "|2021.06.12.00| 3870|        780|       1925|         1165|\n",
      "|2021.06.11.00| 3855|        778|       1920|         1157|\n",
      "|2021.06.10.00| 3834|        774|       1909|         1151|\n",
      "|2021.06.09.00| 3816|        769|       1904|         1143|\n",
      "|2021.06.08.00| 3810|        768|       1902|         1140|\n",
      "|2021.06.07.00| 3801|        767|       1894|         1140|\n",
      "|2021.06.06.00| 3789|        765|       1887|         1137|\n",
      "|2021.06.05.00| 3775|        764|       1880|         1131|\n",
      "|2021.06.04.00| 3754|        762|       1864|         1128|\n",
      "|2021.06.03.00| 3738|        761|       1855|         1122|\n",
      "|2021.06.02.00| 3720|        759|       1848|         1113|\n",
      "|2021.06.01.00| 3703|        758|       1840|         1105|\n",
      "+-------------+-----+-----------+-----------+-------------+\n",
      "\n"
     ]
    }
   ],
   "source": [
    "from pyspark.sql import functions as F\n",
    "from pyspark.sql.types import IntegerType\n",
    "\n",
    "# from pyspark.sql.window import Window\n",
    "# winAgg  = Window.partitionBy(\"자치구 기준일\")\n",
    "# _areaSumDf = _area.withColumn('sum', F.sum(F.row(\"자치구 기준일\")).over(winAgg))\n",
    "# _areaSumDf = _area.withColumn('sum', add(*[df[x] for x in df.columns]))\n",
    "\n",
    "#b_areaSumDf = _area.withColumn('sum', add(*[df[x] for x in df.columns]))\n",
    "\n",
    "\n",
    "_areaSumDf = _area.withColumn('total', sum(_area[col] for col in _filtered_columns).cast(IntegerType()))\n",
    "\n",
    "_areaSumColumns = ['자치구 기준일', 'total'] + _filtered_columns\n",
    "\n",
    "# 2021.06\n",
    "_areaSumDf = _areaSumDf.select([c for c in _areaSumColumns]).where(_area['자치구 기준일'].startswith('2021.06'))\n",
    "_areaSumDf.show()"
   ]
  },
  {
   "cell_type": "code",
   "execution_count": 243,
   "id": "d331a4d9",
   "metadata": {},
   "outputs": [],
   "source": [
    "exprs = {x: \"sum\" for x in _filtered_columns}\n",
    "\n",
    "date_list = _areaSumDf.select(\"자치구 기준일\").rdd.map(lambda x: x[0]).collect()\n",
    "totals = _areaSumDf.select(\"total\").rdd.map(lambda x: x[0]).collect()\n",
    "# for h in _areaSumDf.select(\"자치구 기준일\").rdd.map(r => r(0)).collect():\n",
    "#     print(f\"h: {h.asDict}\")\n",
    "\n",
    "# _area.groupBy(\"자치구 기준일\").agg(exprs).show()\n",
    "# for h in _areaSumDf.select(\"자치구 기준일\").collect():\n",
    "#     print(f\"h: {h.asDict}\")"
   ]
  },
  {
   "cell_type": "markdown",
   "id": "33edbf05",
   "metadata": {},
   "source": [
    "#### 증가 추이 그래프"
   ]
  },
  {
   "cell_type": "code",
   "execution_count": 259,
   "id": "7a0c2acc",
   "metadata": {},
   "outputs": [
    {
     "data": {
      "image/png": "[encoded data removed]",
      "text/plain": [
       "<Figure size 432x288 with 1 Axes>"
      ]
     },
     "metadata": {
      "needs_background": "light"
     },
     "output_type": "display_data"
    }
   ],
   "source": [
    "%matplotlib inline\n",
    "import matplotlib.pyplot as plt\n",
    "\n",
    "# 튜토리얼 https://wikidocs.net/92094\n",
    "\n",
    "# 출처 구글: 세게은행 https://www.google.com/search?q=%EB%8C%80%ED%95%9C%EB%AF%BC%EA%B5%AD+%EC%B4%9D+%EC%9D%B8%EA%B5%AC%EC%88%98&oq=%EB%8C%80%ED%95%9C%EB%AF%BC%EA%B5%AD+%EC%B4%9D+%EC%9D%B8%EA%B5%AC%EC%88%98&aqs=chrome..69i57j0i3l2j0i131i433j0i3j69i65j69i61l2.2348j0j7&sourceid=chrome&ie=UTF-8\n",
    "total_population_south_korea = 51710000\n",
    "\n",
    "# 전국민 숫자를 가로선으로 긋는다.\n",
    "# plt.axhline(y=total_population_south_korea, color='r', linewidth=1)\n",
    "\n",
    "plt.plot(totals)\n",
    "plt.xlabel('날짜')\n",
    "plt.ylabel('확진자')\n",
    "plt.ylim([0, max(totals) + 200])      # X축의 범위: [xmin, xmax]\n",
    "plt.xlim([0, len(date_list)])     # Y축의 범위: [ymin, ymax]\n",
    "\n",
    "plt.xticks([i for i, value in enumerate(date_list)], date_list, rotation=60)\n",
    "\n",
    "\n",
    "plt.show()\n"
   ]
  },
  {
   "cell_type": "markdown",
   "id": "bc782ebf",
   "metadata": {},
   "source": [
    "## 2. 지역별로 차이가 있는지?"
   ]
  },
  {
   "cell_type": "markdown",
   "id": "768f0fec",
   "metadata": {},
   "source": [
    "### 2.1 누적 확진자가 많은 자치구, 적은 자치구 확인"
   ]
  },
  {
   "cell_type": "code",
   "execution_count": 52,
   "id": "722771b7",
   "metadata": {},
   "outputs": [],
   "source": [
    "import pandas as pd\n",
    "\n",
    "# 필요한 데이터 임포트\n",
    "covid_seoul_region_df = pd.read_csv('data/covid_seoul_region.csv', index_col=0, engine='python', encoding='utf-8')\n",
    "\n",
    "# 필터링\n",
    "mask = covid_seoul_region_df.index != '20'\n",
    "covid_seoul_region_df = covid_seoul_region_df.loc[mask, :]\n",
    "\n",
    "# 불필요한 '수집일' 열 제거\n",
    "covid_seoul_region_df = covid_seoul_region_df.drop('수집일', axis=1)\n",
    " \n",
    "covid_seoul_region_total_df = covid_seoul_region_df.T[covid_seoul_region_df.T.index.str.contains(\"전체\")]\n",
    "covid_seoul_region_today_df = covid_seoul_region_df.T[covid_seoul_region_df.T.index.str.contains(\"추가\")]"
   ]
  },
  {
   "cell_type": "code",
   "execution_count": 54,
   "id": "6a36b52f",
   "metadata": {},
   "outputs": [],
   "source": [
    "# Prepare Data\n",
    "labels = covid_seoul_region_total_df.index.values.tolist()\n",
    "sizes = covid_seoul_region_total_df.iloc[:,0]\n",
    "colors = [plt.cm.Spectral(i/float(len(labels))) for i in range(len(labels))]"
   ]
  },
  {
   "cell_type": "code",
   "execution_count": 57,
   "id": "6a5fc71e",
   "metadata": {},
   "outputs": [
    {
     "data": {
      "text/plain": [
       "Text(0.5, 1.0, '코로나 발생자 수 지역 별 분석')"
      ]
     },
     "execution_count": 57,
     "metadata": {},
     "output_type": "execute_result"
    },
    {
     "data": {
      "image/png": "[encoded data removed]",
      "text/plain": [
       "<Figure size 960x640 with 1 Axes>"
      ]
     },
     "metadata": {
      "needs_background": "light"
     },
     "output_type": "display_data"
    }
   ],
   "source": [
    "import squarify\n",
    "import matplotlib.pyplot as plt\n",
    "# plot 스타일을 미리 정의해놓은 패키지\n",
    "import seaborn as sns\n",
    "\n",
    "# 한글 폰트\n",
    "plt.rcParams['font.family'] = 'AppleGothic'\n",
    "\n",
    "# Draw Plot\n",
    "plt.figure(figsize=(12,8), dpi= 80)\n",
    "squarify.plot(sizes=sizes, label=labels, color=colors, alpha=.8)\n",
    "\n",
    "# Decorate\n",
    "plt.title('코로나 발생자 수 지역 별 분석')"
   ]
  }
 ],
 "metadata": {
  "kernelspec": {
   "display_name": "Python 3",
   "language": "python",
   "name": "python3"
  },
  "language_info": {
   "codemirror_mode": {
    "name": "ipython",
    "version": 3
   },
   "file_extension": ".py",
   "mimetype": "text/x-python",
   "name": "python",
   "nbconvert_exporter": "python",
   "pygments_lexer": "ipython3",
   "version": "3.9.5"
  }
 },
 "nbformat": 4,
 "nbformat_minor": 5
}

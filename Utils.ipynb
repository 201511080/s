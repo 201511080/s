{
 "cells": [
  {
   "cell_type": "markdown",
   "id": "02df5f6c",
   "metadata": {},
   "source": [
    "폰트 출력"
   ]
  },
  {
   "cell_type": "code",
   "execution_count": 1,
   "id": "b8789b52",
   "metadata": {},
   "outputs": [
    {
     "name": "stdout",
     "output_type": "stream",
     "text": [
      "NanumSquare_ac /Users/kangjuyoung/Library/Fonts/NanumSquare_acL.ttf\n",
      "NanumSquare_ac /Users/kangjuyoung/Library/Fonts/NanumSquare_acB.ttf\n",
      "NanumSquare_ac /Users/kangjuyoung/Library/Fonts/NanumSquare_acR.ttf\n",
      "NanumSquare_ac /Users/kangjuyoung/Library/Fonts/NanumSquare_acEB.ttf\n"
     ]
    }
   ],
   "source": [
    "from matplotlib import font_manager\n",
    "# 모든 폰트 리스트 출력\n",
    "\n",
    "for font in font_manager.fontManager.ttflist:\n",
    "    if 'Nanum' in font.name:\n",
    "        print(font.name, font.fname)"
   ]
  }
 ],
 "metadata": {
  "kernelspec": {
   "display_name": "Python 3",
   "language": "python",
   "name": "python3"
  },
  "language_info": {
   "codemirror_mode": {
    "name": "ipython",
    "version": 3
   },
   "file_extension": ".py",
   "mimetype": "text/x-python",
   "name": "python",
   "nbconvert_exporter": "python",
   "pygments_lexer": "ipython3",
   "version": "3.9.5"
  }
 },
 "nbformat": 4,
 "nbformat_minor": 5
}

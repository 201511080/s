{
 "cells": [
  {
   "cell_type": "markdown",
   "id": "b1a202f8",
   "metadata": {},
   "source": [
    "# 아래 데이터를 RDD로 만들고, 성적의 합계 및 평균을 계산하세요.\n",
    "\n",
    "문항별로 RDD를 만들지 말고, 하나의 RDD만을 생성하고, 이를 변형해서 문제를 푸세요.\n",
    "\n",
    "\n",
    "\n",
    "이름 | 과목 | 점수\n",
    "\n",
    "-----|-----|-----\n",
    "\n",
    "김하나 | English | 100\n",
    "\n",
    "김하나 | Math | 80\n",
    "\n",
    "임하나 | English | 70\n",
    "\n",
    "임하나 | Math | 100\n",
    "\n",
    "김갑돌 | English | 82.3\n",
    "\n",
    "김갑돌 | Math | 98.5"
   ]
  },
  {
   "cell_type": "markdown",
   "id": "8656769d",
   "metadata": {},
   "source": [
    "# RDD 만들기\n"
   ]
  },
  {
   "cell_type": "code",
   "execution_count": 6,
   "id": "37e147a2",
   "metadata": {},
   "outputs": [],
   "source": [
    "import pyspark;\n",
    "\n",
    "myConf=pyspark.SparkConf()\n",
    "spark = pyspark.sql.SparkSession.builder\\\n",
    "    .master(\"local\")\\\n",
    "    .appName(\"myApp\")\\\n",
    "    .config(conf=myConf)\\\n",
    "    .getOrCreate()\n",
    "marks=[\n",
    "    \"'김하나','English', 100\",\n",
    "    \"'김하나','Math', 80\",\n",
    "    \"'임하나','English', 70\",\n",
    "    \"'임하나','Math', 100\",\n",
    "    \"'김갑돌','English', 82.3\",\n",
    "    \"'김갑돌','Math', 98.5\"\n",
    "]\n",
    "_marksRdd=spark.sparkContext.parallelize(marks)"
   ]
  },
  {
   "cell_type": "markdown",
   "id": "098734e8",
   "metadata": {},
   "source": [
    "* 문제 3-1: 이름으로 합계를 구해보자. 올바른 출력은 다음과 같다.\n",
    "\n",
    "\n",
    "\n",
    "```\n",
    "\n",
    "'임하나' 170.0\n",
    "\n",
    "'김하나' 180.0\n",
    "\n",
    "'김갑돌' 180.8\n",
    "\n",
    "```"
   ]
  },
  {
   "cell_type": "code",
   "execution_count": 11,
   "id": "ca26af2a",
   "metadata": {},
   "outputs": [
    {
     "name": "stdout",
     "output_type": "stream",
     "text": [
      "'김하나' 180.0\n",
      "'임하나' 170.0\n",
      "'김갑돌' 180.8\n"
     ]
    }
   ],
   "source": [
    "_marksbyname=_marksRdd\\\n",
    "    .map(lambda x:x.split(','))\\\n",
    "    .map(lambda x: (x[0],float(x[2])))\\\n",
    "    .reduceByKey(lambda x,y:x+y)\\\n",
    "    .collect()\n",
    "\n",
    "for i in _marksbyname:\n",
    "    print(i[0],i[1])"
   ]
  },
  {
   "cell_type": "markdown",
   "id": "aa693785",
   "metadata": {},
   "source": [
    "* 문제 3-2: 과목으로 합계를 계산해 보자. 출력은 다음과 같이 나와야 한다.\n",
    "\n",
    "\n",
    "\n",
    "```\n",
    "\n",
    "'English' 252.3\n",
    "\n",
    "'Math' 278.5\n",
    "\n",
    "```"
   ]
  },
  {
   "cell_type": "code",
   "execution_count": 13,
   "id": "febf183d",
   "metadata": {},
   "outputs": [
    {
     "name": "stdout",
     "output_type": "stream",
     "text": [
      "'English' 252.3\n",
      "'Math' 278.5\n"
     ]
    }
   ],
   "source": [
    "_marksbysubject=_marksRdd\\\n",
    "    .map(lambda x:x.split(','))\\\n",
    "    .map(lambda x: (x[1],float(x[2])))\\\n",
    "    .reduceByKey(lambda x,y:x+y)\\\n",
    "    .collect()\n",
    "for i in _marksbysubject:\n",
    "    print (i[0],i[1])"
   ]
  },
  {
   "cell_type": "markdown",
   "id": "547e85c3",
   "metadata": {},
   "source": [
    "* 문제 3-3: 이름으로 합계과 개수를 구해보자. 출력은 다음과 같이 계산된다.\n",
    "\n",
    "\n",
    "\n",
    "```\n",
    "\n",
    "'임하나' (170.0, 2)\n",
    "\n",
    "'김하나' (180.0, 2)\n",
    "\n",
    "'김갑돌' (180.8, 2)\n",
    "\n",
    "```"
   ]
  },
  {
   "cell_type": "code",
   "execution_count": 15,
   "id": "2a04e0fa",
   "metadata": {},
   "outputs": [],
   "source": [
    "_marksbyname2=_marksRdd\\\n",
    "    .map(lambda x:x.split(','))\\\n",
    "    .map(lambda x: (x[0],float(x[2])))"
   ]
  },
  {
   "cell_type": "code",
   "execution_count": 16,
   "id": "661f33c6",
   "metadata": {},
   "outputs": [],
   "source": [
    "sum_counts = _marksbyname2.combineByKey(\n",
    "    (lambda x: (x, 1)),\n",
    "    (lambda acc, value: (acc[0]+value, acc[1]+1)),\n",
    "    (lambda acc1, acc2: (acc1[0]+acc2[0], acc1[1]+acc2[1]))\n",
    ")"
   ]
  },
  {
   "cell_type": "code",
   "execution_count": 17,
   "id": "21fe0666",
   "metadata": {},
   "outputs": [
    {
     "name": "stdout",
     "output_type": "stream",
     "text": [
      "'김하나' (180.0, 2) \n",
      "'임하나' (170.0, 2) \n",
      "'김갑돌' (180.8, 2) \n"
     ]
    }
   ],
   "source": [
    "for i in sum_counts.collect():\n",
    "    for each in i:\n",
    "        print (each, end=' ')\n",
    "    print()"
   ]
  },
  {
   "cell_type": "markdown",
   "id": "140cbf12",
   "metadata": {},
   "source": [
    "* 문제 3-4: 이름으로 평균을 계산해 보자. 앞서 3-3에서 사용했던 결과를 활용하고, 올바른 출력은 다음과 같다.\n",
    "\n",
    "\n",
    "\n",
    "```\n",
    "\n",
    "'임하나' 85.0\n",
    "\n",
    "'김하나' 90.0\n",
    "\n",
    "'김갑돌' 90.4\n",
    "\n",
    "```\n",
    "\n",
    "\n",
    "\n",
    "* 제출: ipynb 파일 1개 (zip하지 마세요)."
   ]
  },
  {
   "cell_type": "code",
   "execution_count": 18,
   "id": "fe1a27f0",
   "metadata": {},
   "outputs": [
    {
     "name": "stdout",
     "output_type": "stream",
     "text": [
      "'김하나' 90.0 \n",
      "'임하나' 85.0 \n",
      "'김갑돌' 90.4 \n"
     ]
    }
   ],
   "source": [
    "# average\n",
    "averageByKey = sum_counts\\\n",
    "    .map(lambda x: (x[0],x[1][0]/x[1][1]))\\\n",
    "    .collect()\n",
    "for i in averageByKey:\n",
    "    for j in i:\n",
    "        print (j, end=' ')\n",
    "    print()"
   ]
  }
 ],
 "metadata": {
  "kernelspec": {
   "display_name": "Python 3",
   "language": "python",
   "name": "python3"
  },
  "language_info": {
   "codemirror_mode": {
    "name": "ipython",
    "version": 3
   },
   "file_extension": ".py",
   "mimetype": "text/x-python",
   "name": "python",
   "nbconvert_exporter": "python",
   "pygments_lexer": "ipython3",
   "version": "3.9.5"
  }
 },
 "nbformat": 4,
 "nbformat_minor": 5
}

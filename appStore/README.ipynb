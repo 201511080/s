{
 "cells": [
  {
   "cell_type": "markdown",
   "id": "ef91de73",
   "metadata": {},
   "source": [
    "# 2020 모바일 어플리케이션 마켓 정보 분석\n",
    "\n",
    "평소에 많이 사용하는 플레이스토어에 배포된 앱을 분석해봤습니다.\n",
    "\n",
    "# Overview\n",
    "\n",
    "### 1. 카테고리별 리뷰 평균 점수\n",
    "\n",
    "### 2. 유료앱 여부와 리뷰 점수 상관관계\n",
    "\n",
    "### 3. 광고를 포함하는 앱과 그렇지 않은 앱의 리뷰 평균 점수 비교\n",
    "\n",
    "### 4. 결론\n",
    "\n",
    "\n",
    "\n",
    "# 1. 데이터 정보\n",
    "\n",
    "1. playstore.csv\n",
    "- Playstore 앱 정보 목록\n",
    "    - 출처: https://www.kaggle.com/gauthamp10/google-playstore-apps\n",
    "\n",
    "\n",
    "# 2. 추가 패키지\n",
    "- pandas\n",
    "- numpy\n",
    "- matplotlib\n",
    "- seaborn\n",
    "- squarify\n",
    "\n",
    "아래 명령어 수행\n",
    "```\n",
    "pip3 install pandas\n",
    "pip3 install numpy\n",
    "pip3 install matplotlib\n",
    "pip3 install seaborn\n",
    "pip3 install squarify\n",
    "```"
   ]
  }
 ],
 "metadata": {
  "kernelspec": {
   "display_name": "Python 3",
   "language": "python",
   "name": "python3"
  },
  "language_info": {
   "codemirror_mode": {
    "name": "ipython",
    "version": 3
   },
   "file_extension": ".py",
   "mimetype": "text/x-python",
   "name": "python",
   "nbconvert_exporter": "python",
   "pygments_lexer": "ipython3",
   "version": "3.9.4"
  }
 },
 "nbformat": 4,
 "nbformat_minor": 5
}

{
 "cells": [
  {
   "cell_type": "markdown",
   "id": "91ab9a22",
   "metadata": {},
   "source": [
    "서울시 열린데이터 https://data.seoul.go.kr/ 에서 제공하는 ```서울특별시_공공자전거 일별 대여건수_(2018~2019.03).csv```를 분석해보자.\n",
    "\n",
    "파일은 웹 검색을 하고 다운로드해서 사용하면 된다.\n",
    "\n",
    "-> 구글링 https://data.seoul.go.kr/dataList/OA-14994/F/1/datasetView.do#\n",
    "\n",
    "데이터는 일자별로, 대여건수이이고, 몇 줄만 출력해보면 다음과 같다.\n",
    "\n",
    "\n",
    "\n",
    "|      date| count|\n",
    "\n",
    "|----------|------|\n",
    "\n",
    "|2018-01-01|  4950|\n",
    "\n",
    "|2018-01-02|  7136|\n",
    "\n",
    "|2018-01-03|  7156|\n",
    "\n",
    "|2018-01-04|  7102|\n",
    "\n",
    "|2018-01-05|  7705|\n",
    "\n",
    "* 제출: ipynb 파일 1개 (zip하지 마세요), 파일첨부 필요하지 않아요."
   ]
  },
  {
   "cell_type": "markdown",
   "id": "2ec3b660",
   "metadata": {},
   "source": [
    "# 데이터 및 모듈 세팅"
   ]
  },
  {
   "cell_type": "code",
   "execution_count": 14,
   "id": "7d0672d2",
   "metadata": {},
   "outputs": [],
   "source": [
    "import os\n",
    "import pyspark\n",
    "\n",
    "sparkConfig = pyspark.SparkConf()\n",
    "\n",
    "spark = pyspark.sql.SparkSession.builder\\\n",
    "    .master('local')\\\n",
    "    .appName('app')\\\n",
    "    .config(conf=sparkConfig)\\\n",
    "    .getOrCreate()"
   ]
  },
  {
   "cell_type": "code",
   "execution_count": 15,
   "id": "1368155a",
   "metadata": {},
   "outputs": [],
   "source": [
    "from pyspark.sql.types import *\n",
    "\n",
    "schema=StructType([\n",
    "    StructField(\"date\", DateType(), True),\n",
    "    StructField(\"count\", IntegerType(), True),\n",
    "])\n",
    "\n",
    "_bicycle = spark.read.format('com.databricks.spark.csv')\\\n",
    "    .options(header='true', inferschema='true')\\\n",
    "    .schema(schema)\\\n",
    "    .load('data/서울특별시_공공자전거 일별 대여건수_(2018_2019.03).csv')"
   ]
  },
  {
   "cell_type": "code",
   "execution_count": 16,
   "id": "d542a4e7",
   "metadata": {},
   "outputs": [
    {
     "name": "stdout",
     "output_type": "stream",
     "text": [
      "root\n",
      " |-- date: date (nullable = true)\n",
      " |-- count: integer (nullable = true)\n",
      "\n"
     ]
    }
   ],
   "source": [
    "_bicycle.printSchema()"
   ]
  },
  {
   "cell_type": "code",
   "execution_count": 17,
   "id": "ae5b9f4a",
   "metadata": {},
   "outputs": [
    {
     "data": {
      "text/plain": [
       "455"
      ]
     },
     "execution_count": 17,
     "metadata": {},
     "output_type": "execute_result"
    }
   ],
   "source": [
    "_bicycle.count()"
   ]
  },
  {
   "cell_type": "code",
   "execution_count": 18,
   "id": "ad89eb4c",
   "metadata": {},
   "outputs": [
    {
     "name": "stdout",
     "output_type": "stream",
     "text": [
      "+----------+-----+\n",
      "|      date|count|\n",
      "+----------+-----+\n",
      "|2018-01-01| 4950|\n",
      "|2018-01-02| 7136|\n",
      "|2018-01-03| 7156|\n",
      "|2018-01-04| 7102|\n",
      "|2018-01-05| 7705|\n",
      "+----------+-----+\n",
      "only showing top 5 rows\n",
      "\n"
     ]
    }
   ],
   "source": [
    "_bicycle.show(5)"
   ]
  },
  {
   "cell_type": "markdown",
   "id": "5d5ca46d",
   "metadata": {},
   "source": [
    "# 문제 1-1: 년도별 대여건수 합계\n",
    "\n",
    "데이터는 2018, 2019년 15개월 간의 대여건수이다. 년도별로 대여건수의 합계를 계산해서 출력하자.\n",
    "\n",
    "\n",
    "\n",
    "|year|sum(count)|\n",
    "\n",
    "|----|----------|\n",
    "\n",
    "|2018|  10124874|\n",
    "\n",
    "|2019|   1871935|"
   ]
  },
  {
   "cell_type": "code",
   "execution_count": 19,
   "id": "aa7d3c74",
   "metadata": {},
   "outputs": [
    {
     "data": {
      "text/plain": [
       "[('2018', 10124874), ('2019', 1871935)]"
      ]
     },
     "execution_count": 19,
     "metadata": {},
     "output_type": "execute_result"
    }
   ],
   "source": [
    "# Rdd 를 이용한 방법\n",
    "rddResult = _bicycle.rdd\\\n",
    "    .map(lambda x: (str(x[0]).split(\"-\")[0], x[1]))\\\n",
    "    .reduceByKey(lambda x, y: x + y)\\\n",
    "    .collect()\n",
    "    \n",
    "rddResult"
   ]
  },
  {
   "cell_type": "code",
   "execution_count": 20,
   "id": "167979ea",
   "metadata": {},
   "outputs": [
    {
     "data": {
      "text/plain": [
       "[Row(date=datetime.date(2018, 1, 1), count=4950),\n",
       " Row(date=datetime.date(2018, 1, 2), count=7136),\n",
       " Row(date=datetime.date(2018, 1, 3), count=7156),\n",
       " Row(date=datetime.date(2018, 1, 4), count=7102),\n",
       " Row(date=datetime.date(2018, 1, 5), count=7705)]"
      ]
     },
     "execution_count": 20,
     "metadata": {},
     "output_type": "execute_result"
    }
   ],
   "source": [
    "_bicycle.take(5)"
   ]
  },
  {
   "cell_type": "code",
   "execution_count": 21,
   "id": "a1db94d2",
   "metadata": {},
   "outputs": [
    {
     "data": {
      "text/plain": [
       "[Row(date=datetime.date(2018, 1, 1), count=4950, formattedDate=datetime.date(2018, 1, 1), year=2018),\n",
       " Row(date=datetime.date(2018, 1, 2), count=7136, formattedDate=datetime.date(2018, 1, 2), year=2018),\n",
       " Row(date=datetime.date(2018, 1, 3), count=7156, formattedDate=datetime.date(2018, 1, 3), year=2018),\n",
       " Row(date=datetime.date(2018, 1, 4), count=7102, formattedDate=datetime.date(2018, 1, 4), year=2018),\n",
       " Row(date=datetime.date(2018, 1, 5), count=7705, formattedDate=datetime.date(2018, 1, 5), year=2018)]"
      ]
     },
     "execution_count": 21,
     "metadata": {},
     "output_type": "execute_result"
    }
   ],
   "source": [
    "from pyspark.sql.functions import to_date, col, year, sum\n",
    "# from pyspark.sql import functions as F\n",
    "\n",
    "# Dataframe 을 이용한 방법\n",
    "\n",
    "bicycleDataFrame = _bicycle\\\n",
    ".withColumn(\"formattedDate\", to_date(col(\"date\"), \"yyyy-MM-d\"))\\\n",
    ".withColumn('year', year(\"date\"))\n",
    "\n",
    "bicycleDataFrame.take(5)"
   ]
  },
  {
   "cell_type": "code",
   "execution_count": 22,
   "id": "4daa9e93",
   "metadata": {},
   "outputs": [
    {
     "name": "stdout",
     "output_type": "stream",
     "text": [
      "+----+----------+\n",
      "|year|sum(count)|\n",
      "+----+----------+\n",
      "|2018|  10124874|\n",
      "|2019|   1871935|\n",
      "+----+----------+\n",
      "\n"
     ]
    }
   ],
   "source": [
    "bicycleDataFrame\\\n",
    ".groupBy(\"year\")\\\n",
    ".agg({\"count\": \"sum\"})\\\n",
    ".orderBy(\"year\")\\\n",
    ".show()\n",
    "\n",
    "# bicycleDataFrame\\\n",
    "# .groupBy(\"year\")\\\n",
    "# .agg(sum('count'))\\\n",
    "# .orderBy(\"year\")\n",
    "# .show()"
   ]
  },
  {
   "cell_type": "markdown",
   "id": "68d1ba77",
   "metadata": {},
   "source": [
    "# 문제 1-2: 년도별, 월별 대여건수 합계\n",
    "\n",
    "년별, 월별로 대여건수를 계산하여 합계를 계산하여 출력한다.\n"
   ]
  },
  {
   "cell_type": "code",
   "execution_count": 23,
   "id": "9b62ac70",
   "metadata": {},
   "outputs": [
    {
     "name": "stdout",
     "output_type": "stream",
     "text": [
      "+----------+----------+\n",
      "|year/month|sum(count)|\n",
      "+----------+----------+\n",
      "|   2018-01|    164367|\n",
      "|   2018-02|    168741|\n",
      "|   2018-03|    462661|\n",
      "|   2018-04|    687885|\n",
      "|   2018-05|    965609|\n",
      "|   2018-06|   1207123|\n",
      "|   2018-07|   1100015|\n",
      "|   2018-08|   1037505|\n",
      "|   2018-09|   1447993|\n",
      "|   2018-10|   1420621|\n",
      "|   2018-11|    961532|\n",
      "|   2018-12|    500822|\n",
      "|   2019-01|    495573|\n",
      "|   2019-02|    471543|\n",
      "|   2019-03|    904819|\n",
      "+----------+----------+\n",
      "\n"
     ]
    }
   ],
   "source": [
    "from pyspark.sql import functions as F\n",
    "\n",
    "bicycleDataFrame2 = _bicycle\\\n",
    ".withColumn(\"formattedDate\", F.to_date(F.col(\"date\"), \"yyyy-MM-d\"))\\\n",
    ".withColumn('year/month', F.date_format(F.col(\"date\") ,\"yyyy-MM\"))\n",
    "\n",
    "bicycleGroupByYearMonthDF = bicycleDataFrame2\\\n",
    ".groupBy(\"year/month\")\\\n",
    ".agg({\"count\": \"sum\"})\\\n",
    ".orderBy(\"year/month\")\n",
    "\n",
    "bicycleGroupByYearMonthDF.show()"
   ]
  },
  {
   "cell_type": "markdown",
   "id": "28d71434",
   "metadata": {},
   "source": [
    "# 문제 1-3: 년도별, 월별 대여건수 그래프\n",
    "\n",
    "문제 1-2의 출력을 선 그래프로 그려보자.\n"
   ]
  },
  {
   "cell_type": "code",
   "execution_count": 24,
   "id": "21abf311",
   "metadata": {},
   "outputs": [],
   "source": [
    "import numpy as np\n"
   ]
  },
  {
   "cell_type": "code",
   "execution_count": 25,
   "id": "66fa9539",
   "metadata": {},
   "outputs": [
    {
     "data": {
      "image/png": "[encoded data removed]",
      "text/plain": [
       "<Figure size 1332x756 with 1 Axes>"
      ]
     },
     "metadata": {
      "needs_background": "light"
     },
     "output_type": "display_data"
    }
   ],
   "source": [
    "%matplotlib inline\n",
    "\n",
    "from matplotlib import pyplot as plt\n",
    "import numpy as np\n",
    "\n",
    "_dateRdd=bicycleGroupByYearMonthDF.rdd.map(lambda fields: fields[0]).collect()\n",
    "_sumRdd=bicycleGroupByYearMonthDF.rdd.map(lambda fields: fields[1]).collect()\n",
    "\n",
    "# Get the cuirrenct \n",
    "fig = plt.gcf()\n",
    "fig.set_size_inches(18.5, 10.5, forward=True)\n",
    "\n",
    "# Get the current axis\n",
    "ax = plt.gca()\n",
    "\n",
    "# Now set the ticks and labels\n",
    "# ax.set_xticks(_sumRdd)\n",
    "# ax.set_xticklabels(_sumRdd)\n",
    "\n",
    "plt.plot(np.array(_dateRdd), np.array(_sumRdd))\n",
    "plt.show()"
   ]
  }
 ],
 "metadata": {
  "kernelspec": {
   "display_name": "Python 3",
   "language": "python",
   "name": "python3"
  },
  "language_info": {
   "codemirror_mode": {
    "name": "ipython",
    "version": 3
   },
   "file_extension": ".py",
   "mimetype": "text/x-python",
   "name": "python",
   "nbconvert_exporter": "python",
   "pygments_lexer": "ipython3",
   "version": "3.9.5"
  }
 },
 "nbformat": 4,
 "nbformat_minor": 5
}

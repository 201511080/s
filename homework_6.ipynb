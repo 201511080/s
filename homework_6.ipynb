{
 "cells": [
  {
   "cell_type": "markdown",
   "id": "91ab9a22",
   "metadata": {},
   "source": [
    "서울시 열린데이터 https://data.seoul.go.kr/ 에서 제공하는 ```서울특별시_공공자전거 일별 대여건수_(2018~2019.03).csv```를 분석해보자.\n",
    "\n",
    "파일은 웹 검색을 하고 다운로드해서 사용하면 된다.\n",
    "\n",
    "데이터는 일자별로, 대여건수이이고, 몇 줄만 출력해보면 다음과 같다.\n",
    "\n",
    "\n",
    "\n",
    "|      date| count|\n",
    "\n",
    "|----------|------|\n",
    "\n",
    "|2018-01-01|  4950|\n",
    "\n",
    "|2018-01-02|  7136|\n",
    "\n",
    "|2018-01-03|  7156|\n",
    "\n",
    "|2018-01-04|  7102|\n",
    "\n",
    "|2018-01-05|  7705|\n",
    "\n",
    "* 제출: ipynb 파일 1개 (zip하지 마세요), 파일첨부 필요하지 않아요."
   ]
  },
  {
   "cell_type": "markdown",
   "id": "2ec3b660",
   "metadata": {},
   "source": [
    "# 데이터 및 모듈 세팅"
   ]
  },
  {
   "cell_type": "code",
   "execution_count": null,
   "id": "7d0672d2",
   "metadata": {},
   "outputs": [],
   "source": []
  },
  {
   "cell_type": "markdown",
   "id": "5d5ca46d",
   "metadata": {},
   "source": [
    "# 문제 1-1: 년도별 대여건수 합계\n",
    "\n",
    "데이터는 2018, 2019년 15개월 간의 대여건수이다. 년도별로 대여건수의 합계를 계산해서 출력하자.\n",
    "\n",
    "\n",
    "\n",
    "|year|sum(count)|\n",
    "\n",
    "|----|----------|\n",
    "\n",
    "|2018|  10124874|\n",
    "\n",
    "|2019|   1871935|"
   ]
  },
  {
   "cell_type": "code",
   "execution_count": null,
   "id": "aa7d3c74",
   "metadata": {},
   "outputs": [],
   "source": []
  },
  {
   "cell_type": "markdown",
   "id": "68d1ba77",
   "metadata": {},
   "source": [
    "# 문제 1-2: 년도별, 월별 대여건수 합계\n",
    "\n",
    "년별, 월별로 대여건수를 계산하여 합계를 계산하여 출력한다.\n"
   ]
  },
  {
   "cell_type": "code",
   "execution_count": null,
   "id": "9b62ac70",
   "metadata": {},
   "outputs": [],
   "source": []
  },
  {
   "cell_type": "markdown",
   "id": "28d71434",
   "metadata": {},
   "source": [
    "# 문제 1-3: 년도별, 월별 대여건수 그래프\n",
    "\n",
    "문제 1-2의 출력을 선 그래프로 그려보자.\n"
   ]
  },
  {
   "cell_type": "code",
   "execution_count": null,
   "id": "f7cbfcaf",
   "metadata": {},
   "outputs": [],
   "source": []
  }
 ],
 "metadata": {
  "kernelspec": {
   "display_name": "Python 3",
   "language": "python",
   "name": "python3"
  },
  "language_info": {
   "codemirror_mode": {
    "name": "ipython",
    "version": 3
   },
   "file_extension": ".py",
   "mimetype": "text/x-python",
   "name": "python",
   "nbconvert_exporter": "python",
   "pygments_lexer": "ipython3",
   "version": "3.9.5"
  }
 },
 "nbformat": 4,
 "nbformat_minor": 5
}

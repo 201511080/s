{
 "cells": [
  {
   "cell_type": "markdown",
   "id": "91ab9a22",
   "metadata": {},
   "source": [
    "서울시 열린데이터 https://data.seoul.go.kr/ 에서 제공하는 ```서울특별시_공공자전거 일별 대여건수_(2018~2019.03).csv```를 분석해보자.\n",
    "\n",
    "파일은 웹 검색을 하고 다운로드해서 사용하면 된다.\n",
    "\n",
    "-> 구글링 https://data.seoul.go.kr/dataList/OA-14994/F/1/datasetView.do#\n",
    "\n",
    "데이터는 일자별로, 대여건수이이고, 몇 줄만 출력해보면 다음과 같다.\n",
    "\n",
    "\n",
    "\n",
    "|      date| count|\n",
    "\n",
    "|----------|------|\n",
    "\n",
    "|2018-01-01|  4950|\n",
    "\n",
    "|2018-01-02|  7136|\n",
    "\n",
    "|2018-01-03|  7156|\n",
    "\n",
    "|2018-01-04|  7102|\n",
    "\n",
    "|2018-01-05|  7705|\n",
    "\n",
    "* 제출: ipynb 파일 1개 (zip하지 마세요), 파일첨부 필요하지 않아요."
   ]
  },
  {
   "cell_type": "markdown",
   "id": "2ec3b660",
   "metadata": {},
   "source": [
    "# 데이터 및 모듈 세팅"
   ]
  },
  {
   "cell_type": "code",
   "execution_count": 3,
   "id": "7d0672d2",
   "metadata": {},
   "outputs": [],
   "source": [
    "import os\n",
    "import pyspark\n",
    "\n",
    "sparkConfig = pyspark.SparkConf()\n",
    "\n",
    "spark = pyspark.sql.SparkSession.builder\\\n",
    "    .master('local')\\\n",
    "    .appName('app')\\\n",
    "    .config(conf=sparkConfig)\\\n",
    "    .getOrCreate()"
   ]
  },
  {
   "cell_type": "code",
   "execution_count": 4,
   "id": "1368155a",
   "metadata": {},
   "outputs": [],
   "source": [
    "from pyspark.sql.types import *\n",
    "\n",
    "schema=StructType([\n",
    "    StructField(\"date\", DateType(), True),\n",
    "    StructField(\"count\", IntegerType(), True),\n",
    "])\n",
    "\n",
    "_bicycle = spark.read.format('com.databricks.spark.csv')\\\n",
    "    .options(header='true', inferschema='true')\\\n",
    "    .schema(schema)\\\n",
    "    .load('data/서울특별시_공공자전거 일별 대여건수_(2018_2019.03).csv')"
   ]
  },
  {
   "cell_type": "code",
   "execution_count": 5,
   "id": "d542a4e7",
   "metadata": {},
   "outputs": [
    {
     "name": "stdout",
     "output_type": "stream",
     "text": [
      "root\n",
      " |-- date: date (nullable = true)\n",
      " |-- count: integer (nullable = true)\n",
      "\n"
     ]
    }
   ],
   "source": [
    "_bicycle.printSchema()"
   ]
  },
  {
   "cell_type": "code",
   "execution_count": 6,
   "id": "ae5b9f4a",
   "metadata": {},
   "outputs": [
    {
     "data": {
      "text/plain": [
       "455"
      ]
     },
     "execution_count": 6,
     "metadata": {},
     "output_type": "execute_result"
    }
   ],
   "source": [
    "_bicycle.count()"
   ]
  },
  {
   "cell_type": "code",
   "execution_count": 7,
   "id": "ad89eb4c",
   "metadata": {
    "scrolled": true
   },
   "outputs": [
    {
     "name": "stdout",
     "output_type": "stream",
     "text": [
      "+----------+-----+\n",
      "|      date|count|\n",
      "+----------+-----+\n",
      "|2018-01-01| 4950|\n",
      "|2018-01-02| 7136|\n",
      "|2018-01-03| 7156|\n",
      "|2018-01-04| 7102|\n",
      "|2018-01-05| 7705|\n",
      "+----------+-----+\n",
      "only showing top 5 rows\n",
      "\n"
     ]
    }
   ],
   "source": [
    "_bicycle.show(5)"
   ]
  },
  {
   "cell_type": "code",
   "execution_count": 21,
   "id": "38dd6bdc",
   "metadata": {},
   "outputs": [],
   "source": [
    "from pyspark.sql.functions import udf\n",
    "from pyspark.sql.types import StringType\n",
    "\n",
    "def classfiyQuarter(s):\n",
    "    q=\"\"\n",
    "    if 1<=s and s< 4:\n",
    "        q=\"Q1\"\n",
    "    elif 4<=s and s< 7:\n",
    "        q=\"Q2\"\n",
    "    elif 7<=s and s< 10:\n",
    "        q=\"Q3\"\n",
    "    elif 10<=s and s<= 12:\n",
    "        q=\"Q4\"\n",
    "    else:\n",
    "        q=no\n",
    "    return q\n",
    "    \n",
    "quarter_udf = udf(classfiyQuarter, StringType())"
   ]
  },
  {
   "cell_type": "markdown",
   "id": "5d5ca46d",
   "metadata": {},
   "source": [
    "# 문제 1-1: 년도별 대여건수 합계\n",
    "\n",
    "데이터는 2018, 2019년 15개월 간의 대여건수이다. 년도별로 대여건수의 합계를 계산해서 출력하자.\n",
    "\n",
    "\n",
    "\n",
    "|year|sum(count)|\n",
    "\n",
    "|----|----------|\n",
    "\n",
    "|2018|  10124874|\n",
    "\n",
    "|2019|   1871935|"
   ]
  },
  {
   "cell_type": "code",
   "execution_count": 8,
   "id": "aa7d3c74",
   "metadata": {},
   "outputs": [
    {
     "data": {
      "text/plain": [
       "[('2018', 10124874), ('2019', 1871935)]"
      ]
     },
     "execution_count": 8,
     "metadata": {},
     "output_type": "execute_result"
    }
   ],
   "source": [
    "# Rdd 를 이용한 방법\n",
    "rddResult = _bicycle.rdd\\\n",
    "    .map(lambda x: (str(x[0]).split(\"-\")[0], x[1]))\\\n",
    "    .reduceByKey(lambda x, y: x + y)\\\n",
    "    .collect()\n",
    "    \n",
    "rddResult"
   ]
  },
  {
   "cell_type": "code",
   "execution_count": 9,
   "id": "167979ea",
   "metadata": {},
   "outputs": [
    {
     "data": {
      "text/plain": [
       "[Row(date=datetime.date(2018, 1, 1), count=4950),\n",
       " Row(date=datetime.date(2018, 1, 2), count=7136),\n",
       " Row(date=datetime.date(2018, 1, 3), count=7156),\n",
       " Row(date=datetime.date(2018, 1, 4), count=7102),\n",
       " Row(date=datetime.date(2018, 1, 5), count=7705)]"
      ]
     },
     "execution_count": 9,
     "metadata": {},
     "output_type": "execute_result"
    }
   ],
   "source": [
    "_bicycle.take(5)"
   ]
  },
  {
   "cell_type": "code",
   "execution_count": 10,
   "id": "a1db94d2",
   "metadata": {},
   "outputs": [
    {
     "data": {
      "text/plain": [
       "[Row(date=datetime.date(2018, 1, 1), count=4950, formattedDate=datetime.date(2018, 1, 1), year=2018),\n",
       " Row(date=datetime.date(2018, 1, 2), count=7136, formattedDate=datetime.date(2018, 1, 2), year=2018),\n",
       " Row(date=datetime.date(2018, 1, 3), count=7156, formattedDate=datetime.date(2018, 1, 3), year=2018),\n",
       " Row(date=datetime.date(2018, 1, 4), count=7102, formattedDate=datetime.date(2018, 1, 4), year=2018),\n",
       " Row(date=datetime.date(2018, 1, 5), count=7705, formattedDate=datetime.date(2018, 1, 5), year=2018)]"
      ]
     },
     "execution_count": 10,
     "metadata": {},
     "output_type": "execute_result"
    }
   ],
   "source": [
    "from pyspark.sql.functions import to_date, col, year, sum\n",
    "# from pyspark.sql import functions as F\n",
    "\n",
    "# Dataframe 을 이용한 방법\n",
    "\n",
    "bicycleDataFrame = _bicycle\\\n",
    ".withColumn(\"formattedDate\", to_date(col(\"date\"), \"yyyy-MM-d\"))\\\n",
    ".withColumn('year', year(\"date\"))\n",
    "\n",
    "bicycleDataFrame.take(5)"
   ]
  },
  {
   "cell_type": "code",
   "execution_count": 11,
   "id": "4daa9e93",
   "metadata": {},
   "outputs": [
    {
     "name": "stdout",
     "output_type": "stream",
     "text": [
      "+----+----------+\n",
      "|year|sum(count)|\n",
      "+----+----------+\n",
      "|2018|  10124874|\n",
      "|2019|   1871935|\n",
      "+----+----------+\n",
      "\n"
     ]
    }
   ],
   "source": [
    "bicycleDataFrame\\\n",
    ".groupBy(\"year\")\\\n",
    ".agg({\"count\": \"sum\"})\\\n",
    ".orderBy(\"year\")\\\n",
    ".show()\n",
    "\n",
    "# bicycleDataFrame\\\n",
    "# .groupBy(\"year\")\\\n",
    "# .agg(sum('count'))\\\n",
    "# .orderBy(\"year\")\n",
    "# .show()"
   ]
  },
  {
   "cell_type": "markdown",
   "id": "68d1ba77",
   "metadata": {},
   "source": [
    "# 문제 1-2: 년도별, 월별 대여건수 합계\n",
    "\n",
    "년별, 월별로 대여건수를 계산하여 합계를 계산하여 출력한다.\n"
   ]
  },
  {
   "cell_type": "code",
   "execution_count": 22,
   "id": "9b62ac70",
   "metadata": {},
   "outputs": [
    {
     "name": "stdout",
     "output_type": "stream",
     "text": [
      "root\n",
      " |-- date: date (nullable = true)\n",
      " |-- count: integer (nullable = true)\n",
      " |-- formattedDate: date (nullable = true)\n",
      " |-- year: integer (nullable = true)\n",
      " |-- month: integer (nullable = true)\n",
      " |-- year/month: string (nullable = true)\n",
      " |-- quarter: string (nullable = true)\n",
      "\n"
     ]
    }
   ],
   "source": [
    "from pyspark.sql import functions as F\n",
    "\n",
    "bicycleDataFrame2 = _bicycle\\\n",
    ".withColumn(\"formattedDate\", F.to_date(F.col(\"date\"), \"yyyy-MM-d\"))\\\n",
    ".withColumn('year', year(\"date\"))\\\n",
    ".withColumn('month', F.month(\"date\"))\\\n",
    ".withColumn('year/month', F.date_format(F.col(\"date\") ,\"yyyy-MM\"))\n",
    "\n",
    "\n",
    "bicycleDataFrame2 = bicycleDataFrame2.withColumn('quarter', quarter_udf(\"month\"))\\\n",
    "\n",
    "bicycleDataFrame2.printSchema()"
   ]
  },
  {
   "cell_type": "code",
   "execution_count": 25,
   "id": "816126fc",
   "metadata": {},
   "outputs": [
    {
     "name": "stdout",
     "output_type": "stream",
     "text": [
      "+-------+-----+\n",
      "|quarter|count|\n",
      "+-------+-----+\n",
      "|     Q1|  180|\n",
      "|     Q2|   91|\n",
      "|     Q3|   92|\n",
      "|     Q4|   92|\n",
      "+-------+-----+\n",
      "\n"
     ]
    }
   ],
   "source": [
    "bicycleDataFrame2.groupBy(\"quarter\").count().orderBy(\"quarter\").show()"
   ]
  },
  {
   "cell_type": "code",
   "execution_count": 28,
   "id": "5f71c1c7",
   "metadata": {},
   "outputs": [
    {
     "name": "stdout",
     "output_type": "stream",
     "text": [
      "+-------+-----+\n",
      "|quarter|count|\n",
      "+-------+-----+\n",
      "|     Q1|  180|\n",
      "|     Q2|   91|\n",
      "|     Q3|   92|\n",
      "|     Q4|   92|\n",
      "+-------+-----+\n",
      "\n"
     ]
    }
   ],
   "source": [
    "bicycleDataFrame2.groupBy(\"quarter\").count().orderBy(\"quarter\").show()"
   ]
  },
  {
   "cell_type": "code",
   "execution_count": 23,
   "id": "170eab81",
   "metadata": {},
   "outputs": [
    {
     "data": {
      "text/plain": [
       "[Row(date=datetime.date(2018, 1, 1), count=4950, formattedDate=datetime.date(2018, 1, 1), year=2018, month=1, year/month='2018-01', quarter='Q1'),\n",
       " Row(date=datetime.date(2018, 1, 2), count=7136, formattedDate=datetime.date(2018, 1, 2), year=2018, month=1, year/month='2018-01', quarter='Q1'),\n",
       " Row(date=datetime.date(2018, 1, 3), count=7156, formattedDate=datetime.date(2018, 1, 3), year=2018, month=1, year/month='2018-01', quarter='Q1'),\n",
       " Row(date=datetime.date(2018, 1, 4), count=7102, formattedDate=datetime.date(2018, 1, 4), year=2018, month=1, year/month='2018-01', quarter='Q1'),\n",
       " Row(date=datetime.date(2018, 1, 5), count=7705, formattedDate=datetime.date(2018, 1, 5), year=2018, month=1, year/month='2018-01', quarter='Q1')]"
      ]
     },
     "execution_count": 23,
     "metadata": {},
     "output_type": "execute_result"
    }
   ],
   "source": [
    "bicycleDataFrame2.take(5)"
   ]
  },
  {
   "cell_type": "code",
   "execution_count": 30,
   "id": "baf1c68a",
   "metadata": {},
   "outputs": [
    {
     "name": "stdout",
     "output_type": "stream",
     "text": [
      "+----------+----------+\n",
      "|year/month|sum(count)|\n",
      "+----------+----------+\n",
      "|   2018-01|    164367|\n",
      "|   2018-02|    168741|\n",
      "|   2018-03|    462661|\n",
      "|   2018-04|    687885|\n",
      "|   2018-05|    965609|\n",
      "|   2018-06|   1207123|\n",
      "|   2018-07|   1100015|\n",
      "|   2018-08|   1037505|\n",
      "|   2018-09|   1447993|\n",
      "|   2018-10|   1420621|\n",
      "|   2018-11|    961532|\n",
      "|   2018-12|    500822|\n",
      "|   2019-01|    495573|\n",
      "|   2019-02|    471543|\n",
      "|   2019-03|    904819|\n",
      "+----------+----------+\n",
      "\n"
     ]
    }
   ],
   "source": [
    "bicycleGroupByYearMonthDF = bicycleDataFrame2\\\n",
    ".groupBy(\"year/month\")\\\n",
    ".agg({\"count\": \"sum\"})\\\n",
    ".orderBy(\"year/month\")\n",
    "\n",
    "bicycleGroupByYearMonthDF.show()"
   ]
  },
  {
   "cell_type": "markdown",
   "id": "8e000c90",
   "metadata": {},
   "source": [
    "# 정답은 피봇해야함"
   ]
  },
  {
   "cell_type": "code",
   "execution_count": 31,
   "id": "564f30a1",
   "metadata": {},
   "outputs": [
    {
     "name": "stdout",
     "output_type": "stream",
     "text": [
      "+----+------+------+------+------+------+-------+-------+-------+-------+-------+------+------+\n",
      "|year|     1|     2|     3|     4|     5|      6|      7|      8|      9|     10|    11|    12|\n",
      "+----+------+------+------+------+------+-------+-------+-------+-------+-------+------+------+\n",
      "|2018|164367|168741|462661|687885|965609|1207123|1100015|1037505|1447993|1420621|961532|500822|\n",
      "|2019|495573|471543|904819|  null|  null|   null|   null|   null|   null|   null|  null|  null|\n",
      "+----+------+------+------+------+------+-------+-------+-------+-------+-------+------+------+\n",
      "\n"
     ]
    }
   ],
   "source": [
    "bicycleGroupByYearMonthDF2 = bicycleDataFrame2\\\n",
    ".groupBy(\"year\")\\\n",
    ".pivot(\"month\")\\\n",
    ".agg({\"count\": \"sum\"})\n",
    "\n",
    "bicycleGroupByYearMonthDF2.show()"
   ]
  },
  {
   "cell_type": "code",
   "execution_count": 33,
   "id": "fe4de713",
   "metadata": {},
   "outputs": [],
   "source": [
    "import pandas as pd\n",
    "import numpy as np\n",
    "\n",
    "bicycleP = bicycleDataFrame2.toPandas()"
   ]
  },
  {
   "cell_type": "code",
   "execution_count": 34,
   "id": "ae66cd61",
   "metadata": {},
   "outputs": [
    {
     "name": "stdout",
     "output_type": "stream",
     "text": [
      "<class 'pandas.core.frame.DataFrame'>\n",
      "RangeIndex: 455 entries, 0 to 454\n",
      "Data columns (total 7 columns):\n",
      " #   Column         Non-Null Count  Dtype \n",
      "---  ------         --------------  ----- \n",
      " 0   date           455 non-null    object\n",
      " 1   count          455 non-null    int32 \n",
      " 2   formattedDate  455 non-null    object\n",
      " 3   year           455 non-null    int32 \n",
      " 4   month          455 non-null    int32 \n",
      " 5   year/month     455 non-null    object\n",
      " 6   quarter        455 non-null    object\n",
      "dtypes: int32(3), object(4)\n",
      "memory usage: 19.7+ KB\n"
     ]
    }
   ],
   "source": [
    "bicycleP.info()"
   ]
  },
  {
   "cell_type": "code",
   "execution_count": 35,
   "id": "2c2e0918",
   "metadata": {},
   "outputs": [
    {
     "data": {
      "text/html": [
       "<div>\n",
       "<style scoped>\n",
       "    .dataframe tbody tr th:only-of-type {\n",
       "        vertical-align: middle;\n",
       "    }\n",
       "\n",
       "    .dataframe tbody tr th {\n",
       "        vertical-align: top;\n",
       "    }\n",
       "\n",
       "    .dataframe thead th {\n",
       "        text-align: right;\n",
       "    }\n",
       "</style>\n",
       "<table border=\"1\" class=\"dataframe\">\n",
       "  <thead>\n",
       "    <tr style=\"text-align: right;\">\n",
       "      <th></th>\n",
       "      <th>count</th>\n",
       "    </tr>\n",
       "    <tr>\n",
       "      <th>year</th>\n",
       "      <th></th>\n",
       "    </tr>\n",
       "  </thead>\n",
       "  <tbody>\n",
       "    <tr>\n",
       "      <th>2018</th>\n",
       "      <td>10124874</td>\n",
       "    </tr>\n",
       "    <tr>\n",
       "      <th>2019</th>\n",
       "      <td>1871935</td>\n",
       "    </tr>\n",
       "  </tbody>\n",
       "</table>\n",
       "</div>"
      ],
      "text/plain": [
       "         count\n",
       "year          \n",
       "2018  10124874\n",
       "2019   1871935"
      ]
     },
     "execution_count": 35,
     "metadata": {},
     "output_type": "execute_result"
    }
   ],
   "source": [
    "bicycleP.groupby('year').aggregate({\"count\": \"sum\"})"
   ]
  },
  {
   "cell_type": "code",
   "execution_count": 36,
   "id": "21866cd5",
   "metadata": {},
   "outputs": [
    {
     "data": {
      "text/html": [
       "<div>\n",
       "<style scoped>\n",
       "    .dataframe tbody tr th:only-of-type {\n",
       "        vertical-align: middle;\n",
       "    }\n",
       "\n",
       "    .dataframe tbody tr th {\n",
       "        vertical-align: top;\n",
       "    }\n",
       "\n",
       "    .dataframe thead th {\n",
       "        text-align: right;\n",
       "    }\n",
       "</style>\n",
       "<table border=\"1\" class=\"dataframe\">\n",
       "  <thead>\n",
       "    <tr style=\"text-align: right;\">\n",
       "      <th>month</th>\n",
       "      <th>1</th>\n",
       "      <th>2</th>\n",
       "      <th>3</th>\n",
       "      <th>4</th>\n",
       "      <th>5</th>\n",
       "      <th>6</th>\n",
       "      <th>7</th>\n",
       "      <th>8</th>\n",
       "      <th>9</th>\n",
       "      <th>10</th>\n",
       "      <th>11</th>\n",
       "      <th>12</th>\n",
       "    </tr>\n",
       "    <tr>\n",
       "      <th>year</th>\n",
       "      <th></th>\n",
       "      <th></th>\n",
       "      <th></th>\n",
       "      <th></th>\n",
       "      <th></th>\n",
       "      <th></th>\n",
       "      <th></th>\n",
       "      <th></th>\n",
       "      <th></th>\n",
       "      <th></th>\n",
       "      <th></th>\n",
       "      <th></th>\n",
       "    </tr>\n",
       "  </thead>\n",
       "  <tbody>\n",
       "    <tr>\n",
       "      <th>2018</th>\n",
       "      <td>164367.0</td>\n",
       "      <td>168741.0</td>\n",
       "      <td>462661.0</td>\n",
       "      <td>687885.0</td>\n",
       "      <td>965609.0</td>\n",
       "      <td>1207123.0</td>\n",
       "      <td>1100015.0</td>\n",
       "      <td>1037505.0</td>\n",
       "      <td>1447993.0</td>\n",
       "      <td>1420621.0</td>\n",
       "      <td>961532.0</td>\n",
       "      <td>500822.0</td>\n",
       "    </tr>\n",
       "    <tr>\n",
       "      <th>2019</th>\n",
       "      <td>495573.0</td>\n",
       "      <td>471543.0</td>\n",
       "      <td>904819.0</td>\n",
       "      <td>NaN</td>\n",
       "      <td>NaN</td>\n",
       "      <td>NaN</td>\n",
       "      <td>NaN</td>\n",
       "      <td>NaN</td>\n",
       "      <td>NaN</td>\n",
       "      <td>NaN</td>\n",
       "      <td>NaN</td>\n",
       "      <td>NaN</td>\n",
       "    </tr>\n",
       "  </tbody>\n",
       "</table>\n",
       "</div>"
      ],
      "text/plain": [
       "month        1         2         3         4         5          6          7   \\\n",
       "year                                                                            \n",
       "2018   164367.0  168741.0  462661.0  687885.0  965609.0  1207123.0  1100015.0   \n",
       "2019   495573.0  471543.0  904819.0       NaN       NaN        NaN        NaN   \n",
       "\n",
       "month         8          9          10        11        12  \n",
       "year                                                        \n",
       "2018   1037505.0  1447993.0  1420621.0  961532.0  500822.0  \n",
       "2019         NaN        NaN        NaN       NaN       NaN  "
      ]
     },
     "execution_count": 36,
     "metadata": {},
     "output_type": "execute_result"
    }
   ],
   "source": [
    "# 행 \n",
    "pd.pivot_table(bicycleP, values = 'count', index = ['year'], columns = ['month'], aggfunc= 'sum')"
   ]
  },
  {
   "cell_type": "code",
   "execution_count": 38,
   "id": "2fd50758",
   "metadata": {},
   "outputs": [],
   "source": [
    "bicycleP2018 = bicycleP[bicycleP['year']==2018]"
   ]
  },
  {
   "cell_type": "code",
   "execution_count": 44,
   "id": "d6f19294",
   "metadata": {},
   "outputs": [],
   "source": [
    "bicycleP2018byQ = pd.pivot_table(bicycleP, values = 'count', index = ['year'], columns = ['quarter'], aggfunc= 'sum')"
   ]
  },
  {
   "cell_type": "code",
   "execution_count": 45,
   "id": "7f233975",
   "metadata": {},
   "outputs": [
    {
     "data": {
      "text/html": [
       "<div>\n",
       "<style scoped>\n",
       "    .dataframe tbody tr th:only-of-type {\n",
       "        vertical-align: middle;\n",
       "    }\n",
       "\n",
       "    .dataframe tbody tr th {\n",
       "        vertical-align: top;\n",
       "    }\n",
       "\n",
       "    .dataframe thead th {\n",
       "        text-align: right;\n",
       "    }\n",
       "</style>\n",
       "<table border=\"1\" class=\"dataframe\">\n",
       "  <thead>\n",
       "    <tr style=\"text-align: right;\">\n",
       "      <th>quarter</th>\n",
       "      <th>Q1</th>\n",
       "      <th>Q2</th>\n",
       "      <th>Q3</th>\n",
       "      <th>Q4</th>\n",
       "    </tr>\n",
       "    <tr>\n",
       "      <th>year</th>\n",
       "      <th></th>\n",
       "      <th></th>\n",
       "      <th></th>\n",
       "      <th></th>\n",
       "    </tr>\n",
       "  </thead>\n",
       "  <tbody>\n",
       "    <tr>\n",
       "      <th>2018</th>\n",
       "      <td>795769.0</td>\n",
       "      <td>2860617.0</td>\n",
       "      <td>3585513.0</td>\n",
       "      <td>2882975.0</td>\n",
       "    </tr>\n",
       "    <tr>\n",
       "      <th>2019</th>\n",
       "      <td>1871935.0</td>\n",
       "      <td>NaN</td>\n",
       "      <td>NaN</td>\n",
       "      <td>NaN</td>\n",
       "    </tr>\n",
       "  </tbody>\n",
       "</table>\n",
       "</div>"
      ],
      "text/plain": [
       "quarter         Q1         Q2         Q3         Q4\n",
       "year                                               \n",
       "2018      795769.0  2860617.0  3585513.0  2882975.0\n",
       "2019     1871935.0        NaN        NaN        NaN"
      ]
     },
     "execution_count": 45,
     "metadata": {},
     "output_type": "execute_result"
    }
   ],
   "source": [
    "bicycleP2018byQ.iloc[:, 0:4]"
   ]
  },
  {
   "cell_type": "markdown",
   "id": "5bbd762d",
   "metadata": {},
   "source": [
    "# 분기 추출"
   ]
  },
  {
   "cell_type": "code",
   "execution_count": 20,
   "id": "645f9474",
   "metadata": {},
   "outputs": [],
   "source": []
  },
  {
   "cell_type": "markdown",
   "id": "28d71434",
   "metadata": {},
   "source": [
    "# 문제 1-3: 년도별, 월별 대여건수 그래프\n",
    "\n",
    "문제 1-2의 출력을 선 그래프로 그려보자.\n"
   ]
  },
  {
   "cell_type": "code",
   "execution_count": 49,
   "id": "140cfbee",
   "metadata": {},
   "outputs": [],
   "source": [
    "\n",
    "bicycleDataFrame3 = _bicycle\\\n",
    ".withColumn(\"formattedDate\", F.to_date(F.col(\"date\"), \"yyyy-MM-d\"))\\\n",
    ".withColumn('year', year(\"date\"))\\\n",
    ".withColumn('month', F.month(\"date\"))\\\n",
    ".withColumn('year/month', F.date_format(F.col(\"date\") ,\"yyyy-MM\"))\n",
    "\n",
    "\n",
    "bicycleDataFrame3 = bicycleDataFrame2.withColumn('quarter', quarter_udf(\"month\"))\\\n",
    "\n",
    "\n",
    "sumMonthly = bicycleDataFrame3.groupBy('year').pivot('month').agg({'count': 'sum'})"
   ]
  },
  {
   "cell_type": "code",
   "execution_count": 50,
   "id": "b57298a6",
   "metadata": {},
   "outputs": [],
   "source": [
    "pdf = sumMonthly.toPandas()"
   ]
  },
  {
   "cell_type": "code",
   "execution_count": 51,
   "id": "58a3575f",
   "metadata": {},
   "outputs": [
    {
     "data": {
      "text/html": [
       "<div>\n",
       "<style scoped>\n",
       "    .dataframe tbody tr th:only-of-type {\n",
       "        vertical-align: middle;\n",
       "    }\n",
       "\n",
       "    .dataframe tbody tr th {\n",
       "        vertical-align: top;\n",
       "    }\n",
       "\n",
       "    .dataframe thead th {\n",
       "        text-align: right;\n",
       "    }\n",
       "</style>\n",
       "<table border=\"1\" class=\"dataframe\">\n",
       "  <thead>\n",
       "    <tr style=\"text-align: right;\">\n",
       "      <th></th>\n",
       "      <th>year</th>\n",
       "      <th>1</th>\n",
       "      <th>2</th>\n",
       "      <th>3</th>\n",
       "      <th>4</th>\n",
       "      <th>5</th>\n",
       "      <th>6</th>\n",
       "      <th>7</th>\n",
       "      <th>8</th>\n",
       "      <th>9</th>\n",
       "      <th>10</th>\n",
       "      <th>11</th>\n",
       "      <th>12</th>\n",
       "    </tr>\n",
       "  </thead>\n",
       "  <tbody>\n",
       "    <tr>\n",
       "      <th>0</th>\n",
       "      <td>2018</td>\n",
       "      <td>164367</td>\n",
       "      <td>168741</td>\n",
       "      <td>462661</td>\n",
       "      <td>687885.0</td>\n",
       "      <td>965609.0</td>\n",
       "      <td>1207123.0</td>\n",
       "      <td>1100015.0</td>\n",
       "      <td>1037505.0</td>\n",
       "      <td>1447993.0</td>\n",
       "      <td>1420621.0</td>\n",
       "      <td>961532.0</td>\n",
       "      <td>500822.0</td>\n",
       "    </tr>\n",
       "    <tr>\n",
       "      <th>1</th>\n",
       "      <td>2019</td>\n",
       "      <td>495573</td>\n",
       "      <td>471543</td>\n",
       "      <td>904819</td>\n",
       "      <td>NaN</td>\n",
       "      <td>NaN</td>\n",
       "      <td>NaN</td>\n",
       "      <td>NaN</td>\n",
       "      <td>NaN</td>\n",
       "      <td>NaN</td>\n",
       "      <td>NaN</td>\n",
       "      <td>NaN</td>\n",
       "      <td>NaN</td>\n",
       "    </tr>\n",
       "  </tbody>\n",
       "</table>\n",
       "</div>"
      ],
      "text/plain": [
       "   year       1       2       3         4         5          6          7  \\\n",
       "0  2018  164367  168741  462661  687885.0  965609.0  1207123.0  1100015.0   \n",
       "1  2019  495573  471543  904819       NaN       NaN        NaN        NaN   \n",
       "\n",
       "           8          9         10        11        12  \n",
       "0  1037505.0  1447993.0  1420621.0  961532.0  500822.0  \n",
       "1        NaN        NaN        NaN       NaN       NaN  "
      ]
     },
     "execution_count": 51,
     "metadata": {},
     "output_type": "execute_result"
    }
   ],
   "source": [
    "pdf.head()"
   ]
  },
  {
   "cell_type": "code",
   "execution_count": 53,
   "id": "730bf5c0",
   "metadata": {},
   "outputs": [],
   "source": [
    "# transpose 바꾸어 놓다\n",
    "# drop\n",
    "my = pdf.drop('year', 1).transpose()"
   ]
  },
  {
   "cell_type": "code",
   "execution_count": 54,
   "id": "e9954616",
   "metadata": {},
   "outputs": [
    {
     "data": {
      "text/html": [
       "<div>\n",
       "<style scoped>\n",
       "    .dataframe tbody tr th:only-of-type {\n",
       "        vertical-align: middle;\n",
       "    }\n",
       "\n",
       "    .dataframe tbody tr th {\n",
       "        vertical-align: top;\n",
       "    }\n",
       "\n",
       "    .dataframe thead th {\n",
       "        text-align: right;\n",
       "    }\n",
       "</style>\n",
       "<table border=\"1\" class=\"dataframe\">\n",
       "  <thead>\n",
       "    <tr style=\"text-align: right;\">\n",
       "      <th></th>\n",
       "      <th>0</th>\n",
       "      <th>1</th>\n",
       "    </tr>\n",
       "  </thead>\n",
       "  <tbody>\n",
       "    <tr>\n",
       "      <th>1</th>\n",
       "      <td>164367.0</td>\n",
       "      <td>495573.0</td>\n",
       "    </tr>\n",
       "    <tr>\n",
       "      <th>2</th>\n",
       "      <td>168741.0</td>\n",
       "      <td>471543.0</td>\n",
       "    </tr>\n",
       "    <tr>\n",
       "      <th>3</th>\n",
       "      <td>462661.0</td>\n",
       "      <td>904819.0</td>\n",
       "    </tr>\n",
       "    <tr>\n",
       "      <th>4</th>\n",
       "      <td>687885.0</td>\n",
       "      <td>NaN</td>\n",
       "    </tr>\n",
       "    <tr>\n",
       "      <th>5</th>\n",
       "      <td>965609.0</td>\n",
       "      <td>NaN</td>\n",
       "    </tr>\n",
       "    <tr>\n",
       "      <th>6</th>\n",
       "      <td>1207123.0</td>\n",
       "      <td>NaN</td>\n",
       "    </tr>\n",
       "    <tr>\n",
       "      <th>7</th>\n",
       "      <td>1100015.0</td>\n",
       "      <td>NaN</td>\n",
       "    </tr>\n",
       "    <tr>\n",
       "      <th>8</th>\n",
       "      <td>1037505.0</td>\n",
       "      <td>NaN</td>\n",
       "    </tr>\n",
       "    <tr>\n",
       "      <th>9</th>\n",
       "      <td>1447993.0</td>\n",
       "      <td>NaN</td>\n",
       "    </tr>\n",
       "    <tr>\n",
       "      <th>10</th>\n",
       "      <td>1420621.0</td>\n",
       "      <td>NaN</td>\n",
       "    </tr>\n",
       "    <tr>\n",
       "      <th>11</th>\n",
       "      <td>961532.0</td>\n",
       "      <td>NaN</td>\n",
       "    </tr>\n",
       "    <tr>\n",
       "      <th>12</th>\n",
       "      <td>500822.0</td>\n",
       "      <td>NaN</td>\n",
       "    </tr>\n",
       "  </tbody>\n",
       "</table>\n",
       "</div>"
      ],
      "text/plain": [
       "            0         1\n",
       "1    164367.0  495573.0\n",
       "2    168741.0  471543.0\n",
       "3    462661.0  904819.0\n",
       "4    687885.0       NaN\n",
       "5    965609.0       NaN\n",
       "6   1207123.0       NaN\n",
       "7   1100015.0       NaN\n",
       "8   1037505.0       NaN\n",
       "9   1447993.0       NaN\n",
       "10  1420621.0       NaN\n",
       "11   961532.0       NaN\n",
       "12   500822.0       NaN"
      ]
     },
     "execution_count": 54,
     "metadata": {},
     "output_type": "execute_result"
    }
   ],
   "source": [
    "my"
   ]
  },
  {
   "cell_type": "code",
   "execution_count": 55,
   "id": "a006c43d",
   "metadata": {},
   "outputs": [
    {
     "data": {
      "text/plain": [
       "<AxesSubplot:>"
      ]
     },
     "execution_count": 55,
     "metadata": {},
     "output_type": "execute_result"
    },
    {
     "data": {
      "image/png": "[encoded data removed]",
      "text/plain": [
       "<Figure size 432x288 with 1 Axes>"
      ]
     },
     "metadata": {
      "needs_background": "light"
     },
     "output_type": "display_data"
    }
   ],
   "source": [
    "my.plot(kind='line')"
   ]
  },
  {
   "cell_type": "code",
   "execution_count": null,
   "id": "d5320317",
   "metadata": {},
   "outputs": [],
   "source": [
    "%matplotlib inline\n",
    "\n",
    "from matplotlib import pyplot as plt\n",
    "\n"
   ]
  },
  {
   "cell_type": "code",
   "execution_count": null,
   "id": "fdd6ec38",
   "metadata": {},
   "outputs": [],
   "source": []
  },
  {
   "cell_type": "code",
   "execution_count": null,
   "id": "2a3de256",
   "metadata": {},
   "outputs": [],
   "source": []
  },
  {
   "cell_type": "code",
   "execution_count": null,
   "id": "21abf311",
   "metadata": {},
   "outputs": [],
   "source": [
    "import numpy as np\n"
   ]
  },
  {
   "cell_type": "code",
   "execution_count": null,
   "id": "66fa9539",
   "metadata": {},
   "outputs": [],
   "source": [
    "%matplotlib inline\n",
    "\n",
    "from matplotlib import pyplot as plt\n",
    "import numpy as np\n",
    "\n",
    "_dateRdd=bicycleGroupByYearMonthDF.rdd.map(lambda fields: fields[0]).collect()\n",
    "_sumRdd=bicycleGroupByYearMonthDF.rdd.map(lambda fields: fields[1]).collect()\n",
    "\n",
    "# Get the cuirrenct \n",
    "fig = plt.gcf()\n",
    "fig.set_size_inches(18.5, 10.5, forward=True)\n",
    "\n",
    "# Get the current axis\n",
    "ax = plt.gca()\n",
    "\n",
    "# Now set the ticks and labels\n",
    "# ax.set_xticks(_sumRdd)\n",
    "# ax.set_xticklabels(_sumRdd)\n",
    "\n",
    "plt.plot(np.array(_dateRdd), np.array(_sumRdd))\n",
    "plt.show()"
   ]
  }
 ],
 "metadata": {
  "kernelspec": {
   "display_name": "Python 3",
   "language": "python",
   "name": "python3"
  },
  "language_info": {
   "codemirror_mode": {
    "name": "ipython",
    "version": 3
   },
   "file_extension": ".py",
   "mimetype": "text/x-python",
   "name": "python",
   "nbconvert_exporter": "python",
   "pygments_lexer": "ipython3",
   "version": "3.9.5"
  }
 },
 "nbformat": 4,
 "nbformat_minor": 5
}

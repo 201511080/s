{
 "cells": [
  {
   "cell_type": "markdown",
   "id": "cefbfc2d",
   "metadata": {},
   "source": [
    "# 10주 기념축사 TF-IDF\n",
    "'제74주년 경찰의 날 기념식 축사' 전문을 읽고 TF-IDF를 계산하세요.\n",
    "\n",
    "전문은 http://www.korea.kr/archive/speechView.do?newsId=132031636 에서 읽을 수 있고,\n",
    "\n",
    "해당 사이트에서 텍스트만 파일로 저장한 후 사용한다.\n",
    "\n",
    "\n",
    "\n",
    "* 1) DataFrame을 생성\n",
    "\n",
    "* 2) 단어로 분리해서, 출력\n",
    "\n",
    "* 3) 불용어 구성, 출력 - 축사 전문에서 한글자로 된 단어를 찾아내 스스로 구성\n",
    "\n",
    "* 4) 불용어 제거하고, 출력\n",
    "\n",
    "* 5) TF-IDF를 계산하고, 출력\n",
    "\n",
    "* 6) TF-IDF 컬럼을 features로 구성, 출력\n",
    "\n",
    "\n",
    "\n",
    "* 제출: ipynb 파일 1개 (zip하지 마세요).\n",
    "\n",
    "* 기한: 2021/11/09 화 22:00시"
   ]
  }
 ],
 "metadata": {
  "kernelspec": {
   "display_name": "Python 3",
   "language": "python",
   "name": "python3"
  },
  "language_info": {
   "codemirror_mode": {
    "name": "ipython",
    "version": 3
   },
   "file_extension": ".py",
   "mimetype": "text/x-python",
   "name": "python",
   "nbconvert_exporter": "python",
   "pygments_lexer": "ipython3",
   "version": "3.9.5"
  }
 },
 "nbformat": 4,
 "nbformat_minor": 5
}

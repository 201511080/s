{
 "cells": [
  {
   "cell_type": "markdown",
   "id": "fa5c36f9",
   "metadata": {},
   "source": [
    "### 강의자료 \"ds3_spark_rdd.ipynb\"의 \"문제 S-2: RDD를 사용하여 word count를 계산하고 그래프 그리기\"에서 제공한 파일을 'ds_bigdata_wiki.txt'를 저장하여 문제를 푸세요.\n",
    "\n",
    "텍스트 파일을 읽고 pyspark으로 RDD를 생성하여, 단어빈도를 계산하는 프로그램을 작성하세요.\n",
    "\n",
    "불용어는 차주에 배우게 되므로, 처리하지 않는다.\n",
    "\n",
    "단어빈도를 내림차순으로 출력해서 상위 15개를 출력하세요. (단어 오름차순도 미리 낸 과제에 대해서는 맞게 채점)\n",
    "\n",
    "(문제와 직접적인 연관이 없는 명령어는 삭제하여 정리하고 제출하세요)\n",
    "\n",
    "\n",
    "\n",
    "* 제출: ipynb 파일 1개 (zip하지 마세요), 파일첨부 필요하지 않아요."
   ]
  },
  {
   "cell_type": "code",
   "execution_count": 23,
   "id": "7c0bbbb5",
   "metadata": {},
   "outputs": [
    {
     "name": "stdout",
     "output_type": "stream",
     "text": [
      "21 데이터\n",
      "18 데이터를\n",
      "15 및\n",
      "14 빅\n",
      "12 등\n",
      "9 있다.\n",
      "8 수\n",
      "8 데이터의\n",
      "7 미국\n",
      "7 통해\n",
      "6 유권자\n",
      "6 선거\n",
      "6 대한\n",
      "6 빅데이터\n",
      "5 활용한\n"
     ]
    }
   ],
   "source": [
    "myConf=pyspark.SparkConf()\n",
    "spark = pyspark.sql.SparkSession.builder\\\n",
    "    .master(\"local\")\\\n",
    "    .appName(\"myApp\")\\\n",
    "    .config(conf=myConf)\\\n",
    "    .getOrCreate()\n",
    "\n",
    "bigdataWikiRdd=spark.sparkContext\\\n",
    "    .textFile(os.path.join(\"data\",\"ds_bigdata_wiki.txt\"))\n",
    "\n",
    "wordCount = bigdataWikiRdd\\\n",
    "    .flatMap(lambda x: x.split())\\\n",
    "    .map(lambda x: (x, 1))\\\n",
    "    .reduceByKey(lambda x, y: x+y)\\\n",
    "    .map(lambda x:(x[1],x[0]))\\\n",
    "    .sortByKey(False)\\\n",
    "    .take(15)\n",
    "\n",
    "for i in wordCount:\n",
    "    print (i[0],i[1])"
   ]
  }
 ],
 "metadata": {
  "kernelspec": {
   "display_name": "Python 3",
   "language": "python",
   "name": "python3"
  },
  "language_info": {
   "codemirror_mode": {
    "name": "ipython",
    "version": 3
   },
   "file_extension": ".py",
   "mimetype": "text/x-python",
   "name": "python",
   "nbconvert_exporter": "python",
   "pygments_lexer": "ipython3",
   "version": "3.9.5"
  }
 },
 "nbformat": 4,
 "nbformat_minor": 5
}

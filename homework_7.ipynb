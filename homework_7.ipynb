{
 "cells": [
  {
   "cell_type": "markdown",
   "id": "b0650ca8",
   "metadata": {},
   "source": [
    "# 성적데이터는 n이 적지만, 정규분포를 이룬다고 가정하자.\n",
    "\n",
    "marks=[\n",
    "\n",
    "    \"김하나, English, 100\",\n",
    "\n",
    "    \"김하나, Math, 80\",\n",
    "\n",
    "    \"임하나, English, 70\",\n",
    "\n",
    "    \"임하나, Math, 100\",\n",
    "\n",
    "    \"김갑돌, English, 82.3\",\n",
    "\n",
    "    \"김갑돌, Math, 98.5\"\n",
    "\n",
    "]\n",
    "\n",
    "\n",
    "\n",
    "* 제출: ipynb 파일 1개 (zip하지 마세요)."
   ]
  },
  {
   "cell_type": "code",
   "execution_count": 2,
   "id": "08b9c5db",
   "metadata": {},
   "outputs": [
    {
     "data": {
      "text/plain": [
       "'data/text'"
      ]
     },
     "execution_count": 2,
     "metadata": {},
     "output_type": "execute_result"
    }
   ],
   "source": [
    "import os\n",
    "\n",
    "test = os.path.join('data','text')\n",
    "test"
   ]
  },
  {
   "cell_type": "code",
   "execution_count": null,
   "id": "b5171862",
   "metadata": {},
   "outputs": [],
   "source": []
  },
  {
   "cell_type": "markdown",
   "id": "5c17ab9a",
   "metadata": {},
   "source": [
    "# * 1-1 성적데이터로 DataFrame을 생성."
   ]
  },
  {
   "cell_type": "code",
   "execution_count": null,
   "id": "f9d72174",
   "metadata": {},
   "outputs": [],
   "source": []
  },
  {
   "cell_type": "markdown",
   "id": "88708e0f",
   "metadata": {},
   "source": [
    "# * 1-2 zscore 컬럼을 생성.\n",
    "\n",
    "zscore를 계산하려면, 평균과 표준편차를 알아야 한다.\n",
    "\n",
    "계산식에 F함수를 직접 사용하면 오류가 발생한다. 따로 평균과 표준편차를 구해서 계산식에서 사용해야 한다."
   ]
  },
  {
   "cell_type": "code",
   "execution_count": null,
   "id": "fcbf2531",
   "metadata": {},
   "outputs": [],
   "source": []
  },
  {
   "cell_type": "markdown",
   "id": "f55323d4",
   "metadata": {},
   "source": [
    "# * 1-3 cdf 컬럼을 생성."
   ]
  },
  {
   "cell_type": "code",
   "execution_count": null,
   "id": "b486dea3",
   "metadata": {},
   "outputs": [],
   "source": []
  },
  {
   "cell_type": "code",
   "execution_count": null,
   "id": "0f2ab26f",
   "metadata": {},
   "outputs": [],
   "source": []
  },
  {
   "cell_type": "code",
   "execution_count": null,
   "id": "2a78c2d1",
   "metadata": {},
   "outputs": [],
   "source": []
  }
 ],
 "metadata": {
  "kernelspec": {
   "display_name": "Python 3",
   "language": "python",
   "name": "python3"
  },
  "language_info": {
   "codemirror_mode": {
    "name": "ipython",
    "version": 3
   },
   "file_extension": ".py",
   "mimetype": "text/x-python",
   "name": "python",
   "nbconvert_exporter": "python",
   "pygments_lexer": "ipython3",
   "version": "3.9.5"
  }
 },
 "nbformat": 4,
 "nbformat_minor": 5
}

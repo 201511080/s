{
 "cells": [
  {
   "cell_type": "markdown",
   "id": "8f7b2446",
   "metadata": {},
   "source": [
    "# 2주 과제\n",
    "'서울특별시교육청 공공도서관 소장도서'로 검색하면 API를 찾을 수 있다.\n",
    "\n",
    "이 API는 서울특별시교육청 공공도서관 및 평생학습관의 소장도서 정보 (표제, 저자, 발행자, 발행년, 청구기호, 소장위치, ISBN 등)를 조회할 수 있다.\n",
    "\n",
    "검색어는 '파이썬'으로 20건만 하고, 그 결과는 파일에 저장한다.\n",
    "\n",
    "파일 내용을 확인하기 위해, type명령어로 내용을 출력하세요. (!type 파일명)\n",
    "\n",
    "url은 http://openapi-lib.sen.go.kr, 인자는 다음과 같이 구성한다.\n",
    "\n",
    "\n",
    "\n",
    "변수명 | 설명 \n",
    "\n",
    "-----|-----\n",
    "\n",
    "serviceKey | 공공데이터포털에서 발급받은 인증키\n",
    "\n",
    "title | 도서제목검색어\n",
    "\n",
    "manageCd | 도서관코드 (MA (강남도서관)..MU (종로도서관))\n",
    "\n",
    "numOfRows | 한 페이지 결과 수 (Default: 10)\n",
    "\n",
    "pageNo | 페이지 번호 (Default: 1)\n",
    "\n",
    "\n",
    "\n",
    "* 제출: ipynb (zip하지 마세요), 파일첨부 필요하지 않아요."
   ]
  },
  {
   "cell_type": "markdown",
   "id": "6d2ade39",
   "metadata": {},
   "source": [
    "## 활용 신청\n",
    "\n",
    "https://www.data.go.kr/data/15001051/openapi.do\n",
    "    \n",
    "키\n",
    "8OGTO7jd9Ih3JPZej0XBI0ITT2g6v1f1zxq7TibztJxeUYTyVjqSYAqePFeUP1eX7D5r2EKdlWU3w6Wfu9fKug%3D%3D"
   ]
  },
  {
   "cell_type": "markdown",
   "id": "4295f950",
   "metadata": {},
   "source": [
    "# API 정보 선언"
   ]
  },
  {
   "cell_type": "code",
   "execution_count": 32,
   "id": "ea292d1a",
   "metadata": {},
   "outputs": [],
   "source": [
    "API_URL = \"http://openapi-lib.sen.go.kr/openapi/service/lib/openApi\"\n",
    "# API_KEY = \"8OGTO7jd9Ih3JPZej0XBI0ITT2g6v1f1zxq7TibztJxeUYTyVjqSYAqePFeUP1eX7D5r2EKdlWU3w6Wfu9fKug==\"\n",
    "\n",
    "# 교수님키\n",
    "API_KEY = \"8Bx4C1+bogiu3i0M5k7aqOf+TA5yCWK+FDI7nTSJ0oAhDj1NC5CtbI1TMgFmnpuZxJ9LBoCScqBhuw5sul2tmQ==\"\n",
    "\n",
    "NUM_OF_ROWS = 20\n",
    "CONTENT_TYPE='json'\n",
    "LINE_NUM=str(20)"
   ]
  },
  {
   "cell_type": "markdown",
   "id": "c16725fb",
   "metadata": {},
   "source": [
    "# 파라미터 생성"
   ]
  },
  {
   "cell_type": "code",
   "execution_count": 35,
   "id": "efd6f73c",
   "metadata": {},
   "outputs": [
    {
     "name": "stdout",
     "output_type": "stream",
     "text": [
      "정상적인 APU URL http://openapi-lib.sen.go.kr/openapi/service/lib/openApi?serviceKey=8Bx4C1%2Bbogiu3i0M5k7aqOf%2BTA5yCWK%2BFDI7nTSJ0oAhDj1NC5CtbI1TMgFmnpuZxJ9LBoCScqBhuw5sul2tmQ%3D%3D&title=%ED%8C%8C%EC%9D%B4%EC%8D%AC&manageCd=MA&numOfRows=20&pageNo=1\n",
      "정상적인 APU URL http://openapi-lib.sen.go.kr/openapi/service/lib/openApi?serviceKey=8Bx4C1%2Bbogiu3i0M5k7aqOf%2BTA5yCWK%2BFDI7nTSJ0oAhDj1NC5CtbI1TMgFmnpuZxJ9LBoCScqBhuw5sul2tmQ%3D%3D&title=%ED%8C%8C%EC%9D%B4%EC%8D%AC&manageCd=MA&numOfRows=20&pageNo=1\n"
     ]
    }
   ],
   "source": [
    "from urllib.parse import urlencode\n",
    "\n",
    "params = urlencode({\n",
    "    'serviceKey': API_KEY, \n",
    "    'title': '파이썬',\n",
    "    'manageCd': 'MA',\n",
    "    'numOfRows': NUM_OF_ROWS,\n",
    "    'pageNo': 1\n",
    "}, doseq=False)\n",
    "callUrl = API_URL + '?' + params\n",
    "print(u\"정상적인 APU URL {0}\".format(callUrl))\n",
    "\n",
    "print(u\"정상적인 APU URL {0}\".format(\"http://openapi-lib.sen.go.kr/openapi/service/lib/openApi?serviceKey=8Bx4C1%2Bbogiu3i0M5k7aqOf%2BTA5yCWK%2BFDI7nTSJ0oAhDj1NC5CtbI1TMgFmnpuZxJ9LBoCScqBhuw5sul2tmQ%3D%3D&title=%ED%8C%8C%EC%9D%B4%EC%8D%AC&manageCd=MA&numOfRows=20&pageNo=1\"))"
   ]
  },
  {
   "cell_type": "markdown",
   "id": "56c2ee26",
   "metadata": {},
   "source": [
    "# 호출"
   ]
  },
  {
   "cell_type": "code",
   "execution_count": 40,
   "id": "91772e6e",
   "metadata": {},
   "outputs": [],
   "source": [
    "import lxml\n",
    "import lxml.etree\n",
    "import requests\n",
    "\n",
    "data=requests.get(callUrl).text\n",
    "tree=lxml.etree.fromstring(data.encode('utf-8'))"
   ]
  },
  {
   "cell_type": "code",
   "execution_count": 39,
   "id": "5a95b97b",
   "metadata": {},
   "outputs": [
    {
     "data": {
      "text/plain": [
       "<Element response at 0x10cebbcc0>"
      ]
     },
     "execution_count": 39,
     "metadata": {},
     "output_type": "execute_result"
    }
   ],
   "source": [
    "tree"
   ]
  },
  {
   "cell_type": "markdown",
   "id": "5532d96b",
   "metadata": {},
   "source": [
    "# 파일로 만들기"
   ]
  },
  {
   "cell_type": "code",
   "execution_count": 45,
   "id": "b6f76c6f",
   "metadata": {},
   "outputs": [
    {
     "name": "stdout",
     "output_type": "stream",
     "text": [
      "Overwriting src/ds_open_lib_xml.py\n"
     ]
    }
   ],
   "source": [
    "%%writefile src/ds_open_lib_xml.py\n",
    "import os\n",
    "import requests\n",
    "import urllib\n",
    "import mylib \n",
    "import lxml\n",
    "import lxml.etree\n",
    "from io import StringIO\n",
    "from urllib.parse import urlencode\n",
    "\n",
    "def doIt():\n",
    "    API_URL = \"http://openapi-lib.sen.go.kr/openapi/service/lib/openApi\"\n",
    "    # 교수님키\n",
    "    API_KEY = \"8Bx4C1+bogiu3i0M5k7aqOf+TA5yCWK+FDI7nTSJ0oAhDj1NC5CtbI1TMgFmnpuZxJ9LBoCScqBhuw5sul2tmQ==\"\n",
    "    \n",
    "    NUM_OF_ROWS = 20\n",
    "    CONTENT_TYPE='json'\n",
    "    LINE_NUM=str(20)\n",
    "    \n",
    "    params = urlencode({\n",
    "        'serviceKey': API_KEY, \n",
    "        'title': '파이썬',\n",
    "        'manageCd': 'MA',\n",
    "        'numOfRows': NUM_OF_ROWS,\n",
    "        'pageNo': 1\n",
    "    }, doseq=False)\n",
    "    \n",
    "    data=requests.get(API_URL + '?' + params).text\n",
    "    tree=lxml.etree.fromstring(data.encode('utf-8'))\n",
    "    for node in tree.xpath('//title'):\n",
    "        print (node.text, end=\", \")\n",
    "\n",
    "if __name__ == \"__main__\":\n",
    "    doIt()"
   ]
  },
  {
   "cell_type": "code",
   "execution_count": 50,
   "id": "2a285af6",
   "metadata": {
    "scrolled": true
   },
   "outputs": [
    {
     "name": "stdout",
     "output_type": "stream",
     "text": [
      "파이썬 3로 컴퓨터 비전 다루기  : 이미지 인식, 추적, 기계 학습, 비디오 처리, 컴퓨터 비전 웹서비스, 파이썬을 활용한 네트워크 프로그래밍  : 개발자와 관리자를 위한 효율적인 네트워크 애플리케이션 개발, 실전 스케일링 파이썬 프로그래밍  : 오픈 소스 개발자들에게 배우는 대규모 파이썬 개발 노하우, 구글로 공부하는 파이썬  : 구글에서 찾는 파이썬 실전 예제 분석, 러닝 파이썬  = Learning Python, 5th Edition. 하  : 파이썬에 관한 것, 그 무엇이든!, 러닝 파이썬 = Learning Python, 5th Edition. 상 : 파이썬에 관한 것, 그 무엇이든!, RESTful 파이썬 웹 서비스 제작  : 장고, 플라스크, 토네이도와 함께 하는 RESTful 웹 서비스, (그림으로 정리한) 알고리즘과 자료구조  : 자바+파이썬, (파이썬으로 배우는) 금융 분석  : 금융의 기초 개념 이해부터 예제를 통한 계산 활용까지, 딥러닝 데이터 전처리 입문  : 파이썬과 R로 배우는 데이터 다루기, 파이썬 인 프랙티스  : 디자인 패턴, 동시성, 네트워킹, 성능 최적화, GUI 제작 기법, 일 잘하는 평사원의 업무 자동화  : 업무에 날개를 달아주는 파이썬, 파이썬으로 배우는 웹 크롤러  = Python web crawler  : 파이썬 코드 조각으로 데이터 모으기, 파이썬으로 시작하는 코딩  : 나만의 게임을 만들어 보자!, (파이썬과 케라스를 이용한) 딥러닝/강화학습 주식투자  : 퀀트 투자, 알고리즘 트레이딩을 위한 최첨단 해법 입문, 파이썬 GUI 프로그래밍 쿡북 2/e  : 파이썬 3로 쉽고 빠르게 GUI 개발하기, (데이터 분석을 위한) 파이썬 철저 입문  : 기초 문법부터 실무에 필요한 데이터 분석 기술까지 한 번에 배우는, 파이썬 데이터 분석 입문, (빠르게 활용하는) 파이썬 3.6 프로그래밍  : 기초 예제부터 라즈베리 파이, 알렉사, 텔레그램 봇까지 만들면서 배우는, 파이썬 데이터 사이언스 핸드북  : IPython, Jupyter, NumPy, Pandas, Matplotlib, Scikit-learn 라이브러리를 활용한 데이터 과학과 머신러닝, "
     ]
    }
   ],
   "source": [
    "!python3 src/ds_open_lib_xml.py"
   ]
  },
  {
   "cell_type": "code",
   "execution_count": 51,
   "id": "0ce1ce29",
   "metadata": {},
   "outputs": [
    {
     "name": "stdout",
     "output_type": "stream",
     "text": [
      "src/ds_open_lib_xml.py not found\r\n"
     ]
    }
   ],
   "source": [
    "!type src/ds_open_lib_xml.py"
   ]
  }
 ],
 "metadata": {
  "kernelspec": {
   "display_name": "Python 3",
   "language": "python",
   "name": "python3"
  },
  "language_info": {
   "codemirror_mode": {
    "name": "ipython",
    "version": 3
   },
   "file_extension": ".py",
   "mimetype": "text/x-python",
   "name": "python",
   "nbconvert_exporter": "python",
   "pygments_lexer": "ipython3",
   "version": "3.9.5"
  }
 },
 "nbformat": 4,
 "nbformat_minor": 5
}

{
 "cells": [
  {
   "cell_type": "markdown",
   "metadata": {},
   "source": [
    "# 2017년도 2학기 빅데이터 실습 중간시험 풀이"
   ]
  },
  {
   "cell_type": "markdown",
   "metadata": {
    "collapsed": false
   },
   "source": [
    "# 2017/2학기 중간고사 '빅데이터실습'\n",
    "\n",
    "## 시험시간: 2017년 10월 24일 화요일 11:50~12:50 60분\n",
    "\n",
    "## 학번, 이름, id (공개용):\n",
    "\n",
    "## 시험 방법\n",
    "* 핸드폰 전원은 OFF.\n",
    "* '오픈북' 시험. 단, 이메일, 문자, 카톡, SNS 등 어떤 '의사소통'도 불가.\n",
    "* 프로그램이 실행되지 않으면 '0'점으로 채점.\n",
    "* 답안은 eCampus로 제출.\n",
    "    * 문제마다 .py를 제출\n",
    "    * '문제 번호' 앞에 자체평가, 풀었으면 'O' 풀지 못했으면 'X', 그 외 세모표.\n",
    "* 모든 문제는 request, BeautifulSoup, css selector를 사용. 필요한 경우 selenium, PhantomJS.\n",
    "    \n",
    "## 문제 1.\n",
    "* 한글 위키사이트 '빅 데이터'를 검색하여 '활용사례 및 의의' 제목과 설명을 화면출력\n",
    "* https://ko.wikipedia.org/wiki/\n",
    "* 프로그램 이름 201711111p1.py\n",
    "\n",
    "## 문제 2.\n",
    "* 전종목시세 종목갯수, 종목, 현재가, 등락율을 화면출력 (전체)\n",
    "* http://finance.daum.net/quote/all.daum\n",
    "* 프로그램 이름 201711111p2.py\n",
    "\n",
    "## 문제 3.\n",
    "* 다음 뉴스 검색 '사라지는 촌지 접대' 댓글 갯수, 작성자, 일자, 댓글내용을 화면출력 (20건 이상)\n",
    "* http://v.media.daum.net/v/20170926225302536\n",
    "경향신문, \"사라지는 촌지·접대에 '찬성 89%'..업계는 여전히 '3·5·10' 규정 반발\"\n",
    "* 프로그램 이름 201711111p3.py\n",
    "\n",
    "### 끝"
   ]
  },
  {
   "cell_type": "markdown",
   "metadata": {},
   "source": [
    "## 문제 1: 위키의 빅데이터 활용사례 수집\n",
    "\n",
    "### 문제\n",
    "\n",
    "한글로 위키사이트에서 검색하여, 한글로 된 정보를 가져올 수 있는지 묻는 문제이다.\n",
    "한글 위키사이트 https://ko.wikipedia.org/ 는 한글로 정보를 제공한다.\n",
    "페이지의 중간쯤 위치한 텍스트 정보를 그 부분만 '떠서' 가져올 수 있는지 본다.\n",
    "'3. 활용사례 및 의의'로 이동하면 제목, 설명으로 구성된 부분을 가져온다.\n",
    "\n",
    "### 해결\n",
    "\n",
    "* 크롬 웹브라우저로 한글위키사이트 https://ko.wikipedia.org/ 를 방문해서, 위키백과 검색어 '빅데이터'를 검색한다. \n",
    "* 크롬 개발자도구를 열고, <ctrl-f> 단축키를 사용해 검색창을 연다.\n",
    "* 검색창에 '활용사례_및_의의'를 입력하고 검색하면, 총 3개가 발견된다. 이 가운데 2번째가 수집대상이다.\n",
    "* 페이지 구조를 파악한다. <div id=\"mw-content-text\"...> 태그를 찾아 본다. 본문이 적혀있다. 이 태그 안에 ```활용사례_및_의의```가 있다.\n",
    "* ```활용사례_및_의의```는 14개 항목의 제목, 내용으로 구성되어 있다.\n",
    "    * 제목 14개는 #mw-content-text h4\n",
    "    * 내용 24개은 제목에 1개 이상으로 #mw-content-text h4 ~ p\n",
    "    * 제목과 내용을 차례 차례 출력할 수도 있다. 그러나 제목과 내용의 갯수가 서로 달라 쉽지 않다.\n",
    "    * nth-of-type()은 복수 차일드 중 하나를 가리킨다. 주의: #mw-content-text h4:nth-of-type(1) ~ p 이라고 해서 1번째 모든 p를 출력하지 않는다.\n",
    "    \n",
    "순서 | 활용사례 | css selector\n",
    "-----|-----|-----\n",
    "1 | 2008년 미국 대통령 선거 | #mw-content-text h4:nth-of-type(1)\n",
    "2 | 대한민국 제19대 총선 | #mw-content-text h4:nth-of-type(2)\n",
    "3 | 아마존닷컴의 추천 상품 표시 / 구글 및 페이스북의 맞춤형 광고 | #mw-content-text h4:nth-of-type(3)\n",
    "...|...|\n",
    "14 | 구글번역 | #mw-content-text h4:nth-of-type(14)\n",
    "    \n",
    "    \n"
   ]
  },
  {
   "cell_type": "markdown",
   "metadata": {},
   "source": [
    "* 한글을 직접 사용하거나 url encoding (%xx)을 사용해도 된다."
   ]
  },
  {
   "cell_type": "code",
   "execution_count": 1,
   "metadata": {
    "collapsed": false
   },
   "outputs": [
    {
     "name": "stdout",
     "output_type": "stream",
     "text": [
      "93863\n",
      "94109\n"
     ]
    }
   ],
   "source": [
    "import requests\n",
    "url1='https://ko.wikipedia.org/wiki/%EB%B9%85_%EB%8D%B0%EC%9D%B4%ED%84%B0' #url encoding\n",
    "url2=u'https://ko.wikipedia.org/wiki/빅데이터'\n",
    "r1 = requests.get(url1)\n",
    "r2 = requests.get(url2)\n",
    "print len(r1.text)\n",
    "print len(r2.text)"
   ]
  },
  {
   "cell_type": "code",
   "execution_count": 2,
   "metadata": {
    "collapsed": false
   },
   "outputs": [
    {
     "name": "stdout",
     "output_type": "stream",
     "text": [
      "#mw-content-text h4:nth-of-type(1)\n"
     ]
    }
   ],
   "source": [
    "from bs4 import BeautifulSoup\n",
    "soup=BeautifulSoup(r2.text,\"lxml\")\n",
    "i=1\n",
    "mycss_h4='#mw-content-text h4:nth-of-type({})'.format(i)\n",
    "print mycss_h4\n",
    "sel_h4=soup.select(mycss_h4)\n",
    "mycss_h4_p='#mw-content-text h4:nth-of-type({}) ~ p'.format(i)\n",
    "sel_h4_p=soup.select(mycss_h4_p)\n"
   ]
  },
  {
   "cell_type": "code",
   "execution_count": 3,
   "metadata": {
    "collapsed": false,
    "scrolled": true
   },
   "outputs": [
    {
     "name": "stdout",
     "output_type": "stream",
     "text": [
      "2008년 미국 대통령 선거[편집]\n",
      "2008년 미국 대통령 선거에서 버락 오바마 미국 대통령 후보는 다양한 형태의 유권자 데이터베이스를 확보하여 이를 분석, 활용한 '유권자 맞춤형 선거 전략'을 전개했다. 당시 오바마 캠프는 인종, 종교, 나이, 가구형태, 소비수준과 같은 기본 인적 사항으로 유권자를 분류하는 것을 넘어서서 과거 투표 여부, 구독하는 잡지, 마시는 음료 등 유권자 성향까지 전화나 개별 방문을 또는 소셜 미디어를 통해 유권자 정보를 수집하였다. 수집된 데이터는 오바마 캠프 본부로 전송되어 유권자 데이터베이스를 온라인으로 통합관리하는 ‘보트빌더(VoteBuilder.com)’시스템의 도움으로 유권자 성향 분석, 미결정 유권자 선별 , 유권자에 대한 예측을 해나갔다. 이를 바탕으로‘유권자 지도’를 작성한 뒤 ‘유권자 맞춤형 선거 전략’을 전개하는 등 오바마 캠프는 비용 대비 효과적인 선거를 치를 수 있었다.\n",
      "중앙선거관리위원회는 대한민국 제19대 총선부터 소셜 네트워크 등 인터넷 상의 선거 운동을 상시 허용하였다.[15] 이에 소셜 미디어 상에서 선거 관련 데이터는 증폭되었으며, 2010년 대한민국 제5회 지방 선거 및 2011년 대한민국 재보궐선거에서 소셜 네트워크 서비스의 중요성을 확인한 정당들 또한 SNS 역량 지수를 공천 심사에 반영하는 등[16] 소셜 네트워크 활용에 주목했다. 이 가운데 여론 조사 기관들은 기존 여론조사 방식으로 예측한 2010년 제5회 지방 선거 및 2011년 재보궐선거의 여론조사 결과와 실제 투표 결과와의 큰 차이를 보완하고자 빅 데이터 기술을 활용한 SNS 여론 분석을 시행했다. 그러나 SNS 이용자의 대다수가 수도권 20~30대에 쏠려 있기에[17], 빅 데이터를 이용한 대한민국 제19대 총선에 대한 SNS 분석은 수도권으로 한정되어 일치하는 한계를 드러내기도 했다.\n",
      "아마존닷컴은 모든 고객들의 구매 내역을 데이터베이스에 기록하고, 이 기록을 분석해 소비자의 소비 취향과 관심사를 파악한다.[18] 이런 빅 데이터의 활용을 통해 아마존은 고객별로 '추천 상품(레코멘데이션)'을 표시한다. 고객 한사람 한사람의 취미나 독서 경향을 찾아 그와 일치한다고 생각되는 상품을 메일, 홈 페이지상에서 중점적으로 고객 한사람 한사람에게 자동적으로 제시하는 것이다.[19] 아마존닷컴의 추천 상품 표시와 같은 방식으로 구글 및 페이스북도 이용자의 검색 조건, 나아가 사진과 동영상 같은 비정형 데이터 사용을 즉각 처리하여 이용자에게 맞춤형 광고를 제공하는 등 빅 데이터의 활용을 증대시키고 있다.\n",
      "머니볼 이론이란 경기 데이터를 철저하게 분석해 오직 데이터를 기반으로 적재적소에 선수들을 배치해 승률을 높인다는 게임 이론이다.[20] 이는 미국 메이저 리그 베이스볼 오클랜드 어슬레틱스의 구단장 빌리 빈이 리그 전체 25위에 해당하는 낮은 구단 지원금 속에서도 최소비용으로 최대효과를 거둔 상황에서 유래되었다. 빌리 빈은 하치해 최하위에 그치던 팀을 4년 연속 포스트시즌에 진출시키고 메이저 리그 최초로 20연승이라는 신기록을 세우도록 탈바꿈 시켰다. 미국 월스트리트 저널은 미국 경제에 큰 영향을 끼치는 파워 엘리트 30인에 워렌 버핏, 앨런 그린스펀과 함께 빌리 빈을 선정[21] 하는 등 머니볼 이론은 경영, 금융 분야에서도 주목받았다. 최근 들어서 과학기술 및 카메라 기술의 발달로 더욱 정교한 데이터의 수집이 가능해졌으며 투구의 궤적 및 투수의 그립, 타구 방향, 야수의 움직임까지 잡아낼 수 있게 되었다. 이처럼 기존의 정형 데이터뿐만 아닌 비정형 데이터의 수집과 분석, 활용을 통해 최근 야구경기에서 빅 데이터의 중요성은 더욱 커지고 있다.\n",
      "선수의 인기만을 쫓는 것이 아니라 팀별 승률이나 선수의 성적을 나타내는 수치와 야구를 관전한다면 그 재미는 배가된다. '출루율'은 타율로 인정되지 않는 볼넷을 포함하여 타자가 성공적으로 베이스를 밟은 횟수의 비율, '장타율'은 타수마다 밟은 총 베이스를 계산해서 타격력이 얼마나 강한지를 나타내는 비율이다.\n",
      "출루율과 장타율 못지 않게 '타수'는 한두 경기에서 낸 성적이 아닌, 수천 번의 타석에 들어 좋은 성적을 만들어낸 선수를 선별하기 위한 기초 통계자료이다. 이처럼 한 선수의 타율에서 팀의 역대 시리즈 전적까지 모든 것을 숫자로 표현할 수 있다고 해서 야구를 '통계의 스포츠'라고 부르기도 한다. 야구뿐만 아니라 생활 곳곳에서 활용되는 통계는 복잡한 상황과 설명을 간단한 숫자로 바꿔주는 매우 강력한 도구이다.[22]\n",
      "방송에는 19세 소년의 살인 심리를 파헤친 '용인살인사건의 재구성', 강남 3구 초등학교 85곳의 학업성취도평가 성적과 주변 아파트 매매가의 상관관계를 빅데이터(디지털 환경에서 발생한 방대한 규모의 데이터)를 통해 분석한 '강남, 부자일수록 공부를 잘할까'[23]\n",
      "브라질에서 개최된 2014년 FIFA 월드컵에서 독일은 준결승에서 개최국인 브라질을 7:1로 꺾고, 결승에서 아르헨티나와 연장전까지 가는 접전 끝에 1:0으로 승리를 거두었다. 무패행진으로 우승을 차지한 독일 국가대표팀의 우승의 배경에는 '빅데이터'가 있었다.\n",
      "독일 국가대표팀은 SAP와 협업하여 훈련과 실전 경기에 'SAP 매치 인사이트'를 도입했다. SAP 매치 인사이트란 선수들에게 부착된 센서를 통해 운동량, 순간속도, 심박수, 슈팅동작 등 방대한 비정형 데이터를 수집, 분석한 결과를 감독과 코치의 태블릿PC로 전송하여 그들이 데이터를 기반으로 전술을 짜도록 도와주는 솔루션이다. 기존에 감독의 경험이나 주관적 판단으로 결정되는 전략과는 달리, SAP 매치 인사이트를 통해 이루어지는 분석은 선수들에 대한 분석 뿐만 아니라 상대팀 전력, 강점, 약점 등 종합적인 분석을 통해 좀 더 과학적인 전략을 수립할 수 있다. 정보 수집에 쓰이는 센서 1개가 1분에 만들어내는 데이터는 총 12000여개로 독일 국가대표팀은 선수당 4개(골키퍼는 양 손목을 포함해 6개)의 센서를 부착했고, 90분 경기동안 한 선수당 약 432만개, 팀 전체로 약 4968만개의 데이터를 수집했다고 한다.월드컵8강 獨 전차군단 비밀병기는 '빅데이터'\n",
      "데이터 마이닝이란 기존 데이터베이스 관리도구의 데이터 수집, 저장, 관리, 분석의 역량을 넘어서는 대량의 정형 또는 비정형 데이터 집합 및 이러한 데이터로부터 가치를 추출하고 결과를 분석하는 기술로, 수집되는 ‘빅 데이터’를 보완하고 마케팅, 시청률조사, 경영 등으로부터 체계화돼 분류, 예측, 연관분석 등의 데이터 마이닝을 거쳐 통계학적으로 결과를 도출해 내고 있다.[24][25]\n",
      "대한민국에서는 2000년부터 정보통신부의 산하단체로 사단법인 한국BI데이터마이닝학회가 설립되어 데이터 마이닝에 관한 학술과 기술을 발전, 보급, 응용하고 있다. ‎또한 국내ㆍ외 통계분야에서 서서히 빅 데이터 활용에 대한 관심과 필요성이 커지고 있는 가운데 국가통계 업무를 계획하고 방대한 통계자료를 처리하는 국가기관인 통계청이 빅 데이터를 연구하고 활용방안을 모색하기 위한 '빅 데이터 연구회'를 발족하였다.[26] 하지만 업계에 따르면, 미국과 영국, 일본 등 선진국들은 이미 빅 데이터를 다각적으로 분석해 조직의 전략방향을 제시하는 데이터과학자 양성에 사활을 걸고 있다. 그러나 한국은 정부와 일부 기업이 데이터과학자 양성을 위한 프로그램을 진행 중에 있어 아직 걸음마 단계인 것으로 알려져 있다.[27]\n",
      "최근 생물학에서 DNA, RNA, 단백질 서열 및 유전자들의 발현과 조절에 대한 데이터의 양이 급격히 증가했고 이에 따라 이 빅 데이터를 활용한 생명의 이해에 관한 논의가 진행되고 있다.\n",
      "국민건강보험공단은 가입자의 자격·보험료, 진료·투약내용, 건강검진 결과 및 생활습관 정보 등 2조1천억건, 92테라바이트의 빅데이터를 보유하고 있고, 한편, 건강보험심사평가원은 진료내역, 투약내용(의약품 안심서비스), 의약품 유통 등의 2조2천억건, 89테라바이트의 빅데이터를 보유하고 있으며, 경제협력개발기구(OECD)는 한국의 건강보험 빅데이터 순위가 2위라고 발표했었다. 건보공단과 심평원은 빅데이터를 민간에 널리 알리고 더 많이 개방하고 있다. (연합뉴스 2016.6.14 인터넷뉴스 참조)\n",
      "빅 데이터를 활용하면 미국 의료부문은 연간 3,300 억 달러(미 정부 의료 예산의 약 8%에 해당하는 규모)의 직간접적인 비용 절감 효과를 보일 것으로 전망된다.[28] 특히 임상분야에서는 의료기관 별 진료방법, 효능, 비용 데이터를 분석하여 보다 효과적인 진료방법을 파악하고 환자 데이터를 온라인 플랫폼화하여 의료협회 간 데이터 공유로 치료 효과를 제고하며 공중보건 영역에선 전국의 의료 데이터를 연계하여 전염병 발생과 같은 긴박한 순간에 빠른 의사결정을 가능케 할 전망이다.[29]\n",
      "한편, 의료 분야에서 빅 데이터가 효과를 발휘하기 위해서는 대량의 의료정보 수집이 필수적이기 때문에, 개인정보의 보호와 빅 데이터 활용이라는 두 가지 가치가 상충하게 되된다. 따라서, 의료 분야에서 빅 데이터의 활용과 보급을 위해서는 이러한 문제에 대한 가이드라인 마련이 필요한 상태이다.[30]\n",
      "대규모의 다양한 데이터를 활용한 '빅데이터 경영'이 주목받으면서 데이터 품질을 높이고 방대한 데이터의 처리를 돕는 데이터 통합(Data Integration)의 중요성이 부각되고 있다.\n",
      "데이터 통합(DI)은 데이터의 추출, 변환, 적재를 위한 ETL 솔루션이 핵심인데 ETL 솔루션을 활용하면 일일이 수많은 데이터를 기업 데이터 포맷으로 코딩하지 않아도 되고 데이터 품질을 제고할 수 있기 때문에 DI는 빅데이터 환경에 꼭 필요한 데이터 솔루션으로 평가받고 있는 단계까지 진입되었다.\n",
      "한편 비즈니스 인텔리전스(Business Intelligence, BI)보다 진일보한 빅데이터 분석 방법이 비즈니스 애널리틱스(Business analytics, BA)인데 고급분석 범주에 있는 BA는 기본적으로 BI를 포함하면서도 미래 예측 기능과 통계분석, 확률 분석 등을 포함해 최적의 데이터 기반 의사결정을 가능케 하는 것으로 평가받고 있기도 하다.[31]\n",
      "인터넷으로 시작해서 인터넷으로 마감하는 생활, 스마트폰을 이용해 정보를 검색하고 쇼핑도하고 SNS를 이용해서 실시간으로 글을 남기는 등의 다양하게 인터넷을 이용하는 동안 남는 흔적같은 모인 데이터들을 분석하면 개인의 생활 패턴, 소비성향 등을 예측할 수 있고 기업들은 이런 데이터를 통해서 소비자가 원하는 것들을 미리 예측할 수 있다. 빅 데이터가 마케팅 자료로 활용되는 사례이다.[31]\n",
      "한반도 전역의 기상관측정보를 활용해 일기예보와 각종 기상특보 등 국가 기상서비스를 제공하고 있는 기상청은 정밀한 기상예측을 위한 분석 과정에서 발생하는 데이터 폭증에 대응하고자 빅데이터 저장시스템의 도입을 추진하였다.\n",
      "대다수 스토리지 기업들의 솔루션을 검토한 끝에 한국 IBM의 고성능 대용량 파일공유시스템(General Parallel File System, 이하 GPFS)을 적용한 스토리지 시스템을 선택하였다고 밝혔다.\n",
      "한국IBM이 기상청에 제공한 GPFS 기반의 빅데이터 저장시스템은 IBM 시스템 스토리지 제품군, 시스템 x서버 제품군과 고속 네트워킹 랙스위치(RackSwitch) 등이 통합돼 있는 시스템이다.[31]\n",
      "보안관리는 빅데이터 환경을 이용해 성장과 기술 발전을 동시에 이루는 분야로 분리한다. 클라우드 및 모바일 환경으로 접어들면서 물리/가상화 IT 시스템의 복잡성이 더욱 높아지고 있어 유무선 네트워크, 프라이빗/퍼블릭 클라우드, 모바일 애플리케이션과 기기관리 등 IT 시스템 전반에서 대대적인 변화가 예상되고 있어 막대한 양의 보안관리가 중요한 요소로 현실화되고 있다.[32]\n",
      "구글에서 제공하는 자동 번역 서비스인 구글 번역은 빅 데이터를 활용한다. 지난 40년 간 컴퓨터 회사 IBM의 자동 번역 프로그램 개발은 컴퓨터가 명사, 형용사, 동사 등 단어와 어문의 문법적 구조를 인식하여 번역하는 방식으로 이뤄졌다. 이와 달리 2006년 구글은 수억 건의 문장과 번역문을 데이터베이스화하여 번역시 유사한 문장과 어구를 기존에 축적된 데이터를 바탕으로 추론해 나가는 통계적 기법을 개발하였다. 캐나다 의회의 수백만 건의 문서를 활용하여 영어-불어 자동번역 시스템개발을 시도한 IBM의 자동 번역 프로그램은 실패한 반면 구글은 수억 건의 자료를 활용하여 전 세계 58개 언어 간의 자동번역 프로그램 개발에 성공하였다. 이러한 사례로 미루어 볼 때, 데이터 양의 측면에서의 엄청난 차이가 두 기업의 자동 번역 프로그램의 번역의 질과 정확도를 결정했으며, 나아가 프로젝트의 성패를 좌우했다고 볼 수 있다.[31]\n"
     ]
    }
   ],
   "source": [
    "for i in sel_h4:\n",
    "    print i.get_text()\n",
    "for j in sel_h4_p:\n",
    "    print j.get_text()"
   ]
  },
  {
   "cell_type": "markdown",
   "metadata": {},
   "source": [
    "## 문제 2: 전종목 시세 종목갯수, 종목, 현재가, 등락율\n",
    "\n",
    "###  문제\n",
    "\n",
    "* 상장기업의 종목명, 현재가, 등락률의 수집한다.\n",
    "* 전종목은 건설, 금융, 기계, 비금속광물 등을 포함한다.\n",
    "\n",
    "### 해결\n",
    "\n",
    "* url은 http://finance.daum.net/quote/all.daum을 사용해도 된다.\n",
    "* 종목데이터는 2열 테이블로 구성되어 있고, 클래스 gTable이 원하는 데이터를 가지고 있는 테이블이다.\n",
    "\n",
    "순서 | 업종 | css selector\n",
    "-----|-----|-----|\n",
    "3 | 건설 | .gTable 3번째\n",
    "4 | 금융 | .gTable 4번째\n",
    "5 | 기계 | .gTable 5번째\n",
    "...| ... | .gTable ...\n",
    "21 | 기타 | .gTable 21번째\n",
    "\n",
    "* .gTable tr은 502개 행을 가리킨다. 각 행은 종목 2개씩 가지고 있다. 또한 불필요한 행을 제외해야 한다.\n",
    "    * 건설업종의 GS건설, 계룡건설의 예.\n",
    "\n",
    "종목명\t| 현재가 | 등락률 | 종목명 | 현재가 | 등락률\n",
    "-----|-----|-----|-----|-----|-----\n",
    "GS건설 | 27,750 | 0.00% | 계룡건설 | 17,750 |0.00%\n",
    "\n",
    "* 각 종목명마다 현재가, 등락율로 구성된다. 종목jongmok은 878개, price 현재가 등락율은 2개씩 1756\n",
    "\n",
    "표제목 | css selector\n",
    "-----|-----\n",
    "종목명 | .gTable tr .txt\n",
    "현재가 | .gTable tr .num\n",
    "등락률 | .gTable tr .num\n"
   ]
  },
  {
   "cell_type": "code",
   "execution_count": 2,
   "metadata": {
    "collapsed": false
   },
   "outputs": [
    {
     "name": "stdout",
     "output_type": "stream",
     "text": [
      "Writing src/ds3_xx_daumStockQuote.py\n"
     ]
    }
   ],
   "source": [
    "%%writefile src/ds3_xx_daumStockQuote.py\n",
    "#!\n",
    "\n",
    "import requests\n",
    "from bs4 import BeautifulSoup\n",
    "from selenium import webdriver\n",
    "\n",
    "def readDaumExchange():\n",
    "    try:\n",
    "        driver = webdriver.PhantomJS()\n",
    "        driver.get('http://finance.daum.net/quote/all.daum?type=U&stype=P')\n",
    "        soup=BeautifulSoup(driver.page_source, \"lxml\")\n",
    "        jongmok=soup.select(\".gTable tr .txt\")\n",
    "        price=soup.select(\".gTable tr .num\")\n",
    "        numJongmok=len(jongmok)\n",
    "        print \"Total: \", numJongmok\n",
    "        #for i in range(0,numJongmok):\n",
    "        for i in range(0,10):\n",
    "            print jongmok[i].get_text(),price[i*2].get_text(), price[i*2+1].get_text()\n",
    "    except requests.exceptions.HTTPError as e:\n",
    "        print e\n",
    "        sys.exit(1)\n",
    "\n",
    "def main():\n",
    "    readDaumExchange()\n",
    "\n",
    "if __name__==\"__main__\":\n",
    "    main()\n"
   ]
  },
  {
   "cell_type": "code",
   "execution_count": null,
   "metadata": {
    "collapsed": true
   },
   "outputs": [],
   "source": [
    "driver = webdriver.PhantomJS()\n",
    "driver.get('http://finance.daum.net/quote/all.daum?type=U&stype=P')\n",
    "soup=BeautifulSoup(driver.page_source, \"lxml\")\n",
    "jongmok=soup.select(\".gTable tr .txt\")\n",
    "price=soup.select(\".gTable tr .num\")\n",
    "numJongmok=len(jongmok)"
   ]
  },
  {
   "cell_type": "markdown",
   "metadata": {},
   "source": [
    "## 문제 3: 뉴스 댓글 수집\n",
    "\n",
    "###  문제\n",
    "\n",
    "* 뉴스의 댓글을 수집\n",
    "\n",
    "### 해결\n",
    "\n",
    "* 뉴스 url로 이동한다.\n",
    "* 처음은 댓글 3개, '더보기'를 클릭할 때마다 10개가 추가된다.\n",
    "    * a[href='#more']\n",
    "* 댓글마다 작성자, 일자, 댓글내용, like, dislike를 수집할 수 있다.\n",
    "```\n",
    "print e.find(\"a\",{\"class\":\"link_nick clickable\"}).text\n",
    "print e.find(\"span\",{\"class\":\"txt_date\"}).text\n",
    "print e.find(\"p\",{\"class\":\"desc_txt\"}).text\n",
    "print e.find(\"button\",{\"class\":\"#like\"}).text\n",
    "print e.find(\"button\",{\"class\":\"#dislike\"}).text\n",
    "```"
   ]
  },
  {
   "cell_type": "code",
   "execution_count": null,
   "metadata": {
    "collapsed": true
   },
   "outputs": [],
   "source": [
    "# %load src/ds3_x6_daumComments.py\n",
    "import requests\n",
    "from bs4 import BeautifulSoup\n",
    "from selenium import webdriver\n",
    "\n",
    "def readComments():\n",
    "    try:\n",
    "        driver = webdriver.PhantomJS()\n",
    "        url1=\"http://v.media.daum.net/v/20170926225302536\"\n",
    "        url2=\"http://v.media.daum.net/v/20170928140615349?rcmd=rn\"\n",
    "        driver.get(url2)\n",
    "        # click a few times\n",
    "        for i in range(3):\n",
    "            morelink=driver.find_element_by_css_selector(\"a[href='#more']\")\n",
    "            morelink.click()\n",
    "            driver.implicitly_wait(3)\n",
    "        soup=BeautifulSoup(driver.page_source,\"lxml\")\n",
    "        commentInfo=soup.select('.list_comment .cmt_info')\n",
    "        for e in commentInfo:\n",
    "            print \"-----\"\n",
    "            print e.find(\"a\",{\"class\":\"link_nick clickable\"}).text\n",
    "            print e.find(\"span\",{\"class\":\"txt_date\"}).text\n",
    "            print e.find(\"p\",{\"class\":\"desc_txt\"}).text\n",
    "            print e.find(\"button\",{\"class\":\"#like\"}).text\n",
    "            print e.find(\"button\",{\"class\":\"#dislike\"}).text\n",
    "    except requests.exceptions.HTTPError as e:\n",
    "        print e\n",
    "        sys.exit(1)\n",
    "\n",
    "def main():\n",
    "    readComments()\n",
    "\n",
    "if __name__ == \"__main__\":\n",
    "    main()\n",
    "\n",
    "\n",
    "\n"
   ]
  }
 ],
 "metadata": {
  "kernelspec": {
   "display_name": "Python 2",
   "language": "python",
   "name": "python2"
  },
  "language_info": {
   "codemirror_mode": {
    "name": "ipython",
    "version": 2
   },
   "file_extension": ".py",
   "mimetype": "text/x-python",
   "name": "python",
   "nbconvert_exporter": "python",
   "pygments_lexer": "ipython2",
   "version": "2.7.12"
  }
 },
 "nbformat": 4,
 "nbformat_minor": 0
}

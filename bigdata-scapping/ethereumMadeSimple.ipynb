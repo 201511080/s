{
 "cells": [
  {
   "cell_type": "markdown",
   "metadata": {},
   "source": [
    "# Ethereum Made Simple\n",
    "\n",
    "Last Updated 20161211\n",
    "\n",
    "## E.1 학습내용\n",
    "\n",
    "### E.1.1 목표\n",
    "\n",
    "* ethereum 네트워크를 시작할 수 있다.\n",
    "* smart contract을 컴파일해서 배포할 수 있다 (json rpc, nodejs)\n",
    "* smart contract을 사용할 수 있다 (json rpc, nodejs, html pages)\n",
    "* smart contract 이벤트를 사용할 수 있다.\n",
    "* IoT RPi\n",
    "\n",
    "### E.1.2 목차\n",
    "\n",
    "* E.2 Ethereum\n",
    "* E.3 네트워크\n",
    "* E.4 계정\n",
    "* E.5 거래\n",
    "* E.6 Smart Contract 개발-컴파일-거래-배포-사용\n",
    "* E.7 Smart Contract 사용 geth, curl, ethjsonrpc (python), nodejs, web\n",
    "* E.8 이벤트\n",
    "\n",
    "### E.1.2 문제\n",
    "* 필수: e-3, e-12, e-13\n",
    "* 문제 e-1: 처음 Geth 네트워크 구성하고 접속하기\n",
    "* 문제 e-2: Geth 네트워크 구성하기 (ip를 넣어서) \n",
    "* 문제 e-3: Geth 멀티노드 네트워크 구성하기 (ip를 넣어서) \n",
    "* 문제 e-4: 계정을 생성하고 충전하기\n",
    "* 문제 e-5: 다른 계정으로 송금하기\n",
    "* 문제 e-6: solidity를 컴파일하기 (solc)\n",
    "* 문제 e-7: geth console\n",
    "* 문제 e-8: curl json rpc \n",
    "* 문제 e-9: python json rpc \n",
    "* 문제 e-10: 배포된 contract 사용하기 (json rpc)\n",
    "* 문제 e-11: contract 이벤트 사용하기 (geth console)\n",
    "* 문제 e-12: contract 이벤트 사용하기 (nodejs)\n",
    "* 문제 e-13: 웹으로 contract 배포하고 사용하기\n",
    "* 문제 e-14: dapp framework\n",
    "* 문제 e-15: RPi \n",
    "* 문제 e-16: 호텔 문열기\n"
   ]
  },
  {
   "cell_type": "markdown",
   "metadata": {},
   "source": [
    "\n",
    "### E.2.5 설치\n",
    "\n",
    "* ethereum\n",
    "    ```\n",
    "    sudo apt-get install software-properties-common\n",
    "    sudo add-apt-repository ppa:ethereum/ethereum\n",
    "    sudo add-apt-repository ppa:ethereum/ethereum-dev\n",
    "    sudo apt-get update\n",
    "    sudo apt-get install ethereum\n",
    "    ```\n",
    "\n",
    "* go geth\n",
    "    * on ubuntu\n",
    "        * follow frontier (update on program_installer.sh)\n",
    "        * sudo apt-get install solc (for solidity)\n",
    "        * sudo apt-get install cpp-ethereum (whole stack)\n",
    "    * osx\n",
    "        * 설치 디렉토리로 이동해서 설치\n",
    "        * go-ethereum 디렉토리에 build/에 설치됨.\n",
    "        ```\n",
    "        $ git clone https://github.com/ethereum/go-ethereum        \n",
    "        $ cd go-ethereum\n",
    "        $ make geth\n",
    "        $ ./build/bin/geth\n",
    "        $ make all (모두 빌드하려면)\n",
    "        ```\n"
   ]
  },
  {
   "cell_type": "markdown",
   "metadata": {},
   "source": [
    "## 문제 e-1: 처음 Geth 네트워크 구성하고 접속하기\n",
    "\n",
    "#### genesis.json 설정\n",
    "\n",
    "* '최초' geth 네트워크를 구성하려면, genesis 설정으로 초기화 한다.\n",
    "    * 자신만 사용하는 local private network을 구성한다.\n",
    "    * live network은 ether로 실제 거래할 수 있는 네트워크를 말한다."
   ]
  },
  {
   "cell_type": "markdown",
   "metadata": {},
   "source": [
    "* genesis.json을 설정한다.\n",
    "    * private으로 설정하는 경우, Frontier guide의 genesis.json 예제를 사용한다.\n",
    "        https://github.com/ethereum/go-ethereum/wiki/Private-network\n",
    "\n",
    "키 | 설명\n",
    "-------|-------\n",
    "nounce | 4바이트, proof-of-work의 암호 hash를 위해 무작위로 생성된 임의의 수. 난이도보다 보통 낮다\n",
    "alloc | 충전 금액을 적s고 네트워크를 만들면 된다 (내 account address) (지금은 되지 않는 듯하다) <br>\"alloc\": {\"0xaddress\": { \"balance\": \"amount denoted in Wei\" }}\n",
    "\n",
    "        "
   ]
  },
  {
   "cell_type": "code",
   "execution_count": 11,
   "metadata": {
    "collapsed": false
   },
   "outputs": [
    {
     "name": "stdout",
     "output_type": "stream",
     "text": [
      "Overwriting _CustomGenesis.json\n"
     ]
    }
   ],
   "source": [
    "%%writefile _CustomGenesis.json\n",
    "{\n",
    "    \"nonce\": \"0x0000000000000042\",\n",
    "    \"timestamp\": \"0x0\",\n",
    "    \"parentHash\": \"0x0000000000000000000000000000000000000000000000000000000000000000\",\n",
    "    \"extraData\": \"0x0\",\n",
    "    \"gasLimit\": \"0x8000000\",\n",
    "    \"difficulty\": \"0x400\",\n",
    "    \"mixhash\": \"0x0000000000000000000000000000000000000000000000000000000000000000\",\n",
    "    \"coinbase\": \"0x3333333333333333333333333333333333333333\",\n",
    "    \"alloc\": {}\n",
    "}"
   ]
  },
  {
   "cell_type": "markdown",
   "metadata": {},
   "source": [
    "### bash shell을 사용해서 geth 네트워크를 실행한다.\n",
    "\n",
    "* init명령어를 사용해서 방금 작성한 genesis.json 설정으로 실행한다."
   ]
  },
  {
   "cell_type": "code",
   "execution_count": 12,
   "metadata": {
    "collapsed": false
   },
   "outputs": [
    {
     "name": "stdout",
     "output_type": "stream",
     "text": [
      "Overwriting _geth_CustomGensis.sh\n"
     ]
    }
   ],
   "source": [
    "%%writefile _geth_CustomGensis.sh\n",
    "_dir=$HOME/Downloads/eth/1\n",
    "geth --datadir $_dir init _CustomGenesis.json"
   ]
  },
  {
   "cell_type": "markdown",
   "metadata": {
    "collapsed": false
   },
   "source": [
    "!sh _geth_CustomGensis.sh"
   ]
  },
  {
   "cell_type": "markdown",
   "metadata": {},
   "source": [
    "* 새로운 계정을 만들면 충전을 해야 거래를 발생할 수 있다.\n",
    "    * 충전을 하려면 계정을 새로 생성하고, 마이닝을 하면 된다 (아니면 직접 구매를 해야 한다).\n",
    "    * personal.newAccount(\"password\")\n",
    "    * miner.start(1);admin.sleepBlocks(1);miner.stop()\n"
   ]
  },
  {
   "cell_type": "code",
   "execution_count": null,
   "metadata": {
    "collapsed": true
   },
   "outputs": [],
   "source": [
    "!geth --datadir ~/Downloads/eth/1 account new"
   ]
  },
  {
   "cell_type": "markdown",
   "metadata": {},
   "source": [
    "## 문제 e-2: Geth 네트워크 구성하기 (ip를 넣어서)\n",
    "\n",
    "* ip를 사용하여 private network구성하고, 접속하기"
   ]
  },
  {
   "cell_type": "markdown",
   "metadata": {},
   "source": [
    "* Geth 서버"
   ]
  },
  {
   "cell_type": "code",
   "execution_count": null,
   "metadata": {
    "collapsed": false
   },
   "outputs": [],
   "source": [
    "%%writefile _geth3.sh\n",
    "_dir=$HOME/Downloads/eth/2\n",
    "_log=$HOME/Downloads/eth/2.log\n",
    "geth --identity \"myNode\" \\\n",
    "--rpc --rpcaddr \"117.xxx.xxx.xxx\" --rpcport \"8001\" --rpccorsdomain \"*\" \\\n",
    "--datadir $_dir \\\n",
    "--port \"30301\" \\\n",
    "--nodiscover \\\n",
    "--ipcapi \"admin,db,eth,debug,miner,net,shh,txpool,personal,web3\" \\\n",
    "--rpcapi \"db,eth,net,web3\" \\\n",
    "--networkid 33 \\\n",
    "console 2>>$_log"
   ]
  },
  {
   "cell_type": "markdown",
   "metadata": {},
   "source": [
    "* shell에서 실행 (노트북에서는 console이 실행되지 않는다)\n",
    "    ```\n",
    "    $ sh _geth3.sh\n",
    "    ```"
   ]
  },
  {
   "cell_type": "markdown",
   "metadata": {},
   "source": [
    "\n",
    "선택 | 설명 | 기본 값\n",
    "-----------|-----------|-----------\n",
    "--networkid | 네트워크 인식번호, 임의의 양수 | 0=Olympic, 1=Frontier, 2=Morden\n",
    "--identity \"jslNode\" | 자신의 private chain 명칭 |\n",
    "--nodiscover | 다른 노드가 자동으로 찾지 못하게 함. |\n",
    "--maxpeers | 다른 노드의 최대 접속 수. 0으로 하면 다른 노드는 사용 허용하지 않음. |\n",
    "--unlock | 계정의 잔고를 사용할 수 있게 잠금 해제 | \n",
    "--rpc | http-rpc를 사용할 수 있게 함 | enabled\n",
    "--rpcapi | http-rpc에서 사용할 수 있는 api (예: db,eth,net,web3) | web3\n",
    "--rpcaddr | is the interface you want to listen on for conenctions. 0.0.0.0 is all interfaces |\n",
    "--rpcport | is the port it will listen on | 8080 (geth)\n",
    "--rpccorsdomain | rpc 요청을 할 수 있는 도메인 (URL) \"*\"는 어떤 도메인이나 허용 |\n",
    "--datadir | private chain 데이터를 저장하는 디렉토리 |\n",
    "--port \"30303\" | \"network listening port\" |\n",
    "--verbosity | how much of the inner working of Geth are shown | 0=silent, 1=error, 2=warn, 3=info, 4=core, 5=debug, 6=debug detail\n",
    "--mine | 마이닝 |"
   ]
  },
  {
   "cell_type": "markdown",
   "metadata": {},
   "source": [
    "## 문제 e-3: Geth 멀티노드 네트워크 구성하기 (ip를 넣어서)\n",
    "\n",
    "* e-2를 멀티노드로 변경한다.\n",
    "* 멀티노드multinode는 복수의 노드를 생성해서, peer로 추가해야 한다.\n",
    "    * private node를 만들고 (117.xxx.xxx.xxx)\n",
    "    * 원격에서 특정 ip(또는 도메인만 사용허용)\n",
    "\n",
    "* 주의\n",
    "    * network id가 동일해야 한다\n",
    "    * genesis가 동일해야 한다.\n"
   ]
  },
  {
   "cell_type": "markdown",
   "metadata": {
    "collapsed": true
   },
   "source": [
    "* cluster를 구성한다.\n",
    "    * 첫번째 노드는 아래 shell을 실행한다.\n",
    "        ```\n",
    "        sh _geth1.sh\n",
    "        ```\n",
    "    \n",
    "    * 두번째 노드는 아래 shell을 실행한다.\n",
    "        ```\n",
    "        sh _geth2.sh\n",
    "        ```\n",
    "        * 그리고 enode값을 구한다.\n",
    "            ```\n",
    "            > admin.nodeInfo.enode\n",
    "            \"enode://e0...@[::]:30006\"\n",
    "            ```\n",
    "    \n",
    "    * 두번째 노드를 첫번째에 추가한다. ([::]를 ip주소로 바꾸고)\n",
    "    ```\n",
    "    admin.addPeer(\"enode://...@117.xxx.xxx.xxx:30006?discport=0\")\n",
    "    ```\n",
    "    \n",
    "    * configure permannent static nodes\n",
    "        * bootnodes를 정해 놓으면, static-nodes.json 없어도 됨.\n",
    "        ```\n",
    "        <datadir>/static-nodes.json\n",
    "        ```\n"
   ]
  },
  {
   "cell_type": "markdown",
   "metadata": {
    "collapsed": true
   },
   "source": [
    "* 첫번째 노드를 실행한다."
   ]
  },
  {
   "cell_type": "code",
   "execution_count": null,
   "metadata": {
    "collapsed": false
   },
   "outputs": [],
   "source": [
    "# %load _geth1.sh\n",
    "_dir=$HOME/Downloads/eth/1\n",
    "_log=$HOME/Downloads/eth/1.log\n",
    "geth --identity \"myNode\" \\\n",
    "--unlock 0 \\\n",
    "--verbosity 3 \\\n",
    "--rpc --rpcaddr \"117.xxx.xxx.xxx\" --rpcport \"8xxx\" --rpccorsdomain \"*\" \\\n",
    "--datadir $_dir \\\n",
    "--port \"30005\" \\\n",
    "--bootnodes \"enode://e0...@117.xxx.xxx.xxx:30006\" \\\n",
    "--maxpeers 3 \\\n",
    "--rpcapi \"admin,db,eth,debug,miner,net,shh,txpool,personal,web3\" \\\n",
    "--ipcdisable \\\n",
    "--networkid 11 \\\n",
    "console 2>>$_log\n"
   ]
  },
  {
   "cell_type": "code",
   "execution_count": null,
   "metadata": {
    "collapsed": true
   },
   "outputs": [],
   "source": [
    "# %load $HOME/Downloads/eth/1/static-nodes.json\n",
    "[\n",
    "    \"enode://e0...@117.xxx.xxx.xxx:30006\",\n",
    "    \"enode://00...@117.xxx.xxx.xxx:30005\"\n",
    "]\n"
   ]
  },
  {
   "cell_type": "markdown",
   "metadata": {
    "collapsed": true
   },
   "source": [
    "* 두번째 노드를 실행한다."
   ]
  },
  {
   "cell_type": "code",
   "execution_count": null,
   "metadata": {
    "collapsed": true
   },
   "outputs": [],
   "source": [
    "# %load _geth2.sh\n",
    "_dir=$HOME/Downloads/eth/1\n",
    "_log=$HOME/Downloads/eth/1.log\n",
    "geth --identity \"jslNode\" \\\n",
    "--unlock 0 \\\n",
    "--verbosity 3 \\\n",
    "--rpc --rpcaddr \"117.xxx.xxx.xxx\" --rpcport \"8xxx\" --rpccorsdomain \"*\" \\\n",
    "--datadir $_dir \\\n",
    "--port \"30006\" \\\n",
    "--bootnodes \"enode://00...@117.xxx.xxx.xxx:30005\" \\\n",
    "--maxpeers 3 \\\n",
    "--rpcapi \"admin,db,eth,debug,miner,net,shh,txpool,personal,web3\" \\\n",
    "--ipcdisable \\\n",
    "--networkid 11 \\\n",
    "console 2>>$_log\n"
   ]
  },
  {
   "cell_type": "markdown",
   "metadata": {},
   "source": [
    "* 멀티노드를 성공적으로 구성하면, peer접속 정보를 볼 수 있다."
   ]
  },
  {
   "cell_type": "markdown",
   "metadata": {
    "collapsed": false,
    "scrolled": true
   },
   "source": [
    "!geth --exec \"admin.peers;\" attach http://117.xxx.xxx.xxx:8xxx"
   ]
  },
  {
   "cell_type": "markdown",
   "metadata": {
    "collapsed": true
   },
   "source": [
    "## E.6 Smart Contract 개발\n",
    "\n",
    "### E.6.1 Smart Contract이란?\n",
    "\n",
    "* 분산네트워크에서 실행되는 분산데이터와 프로그램\n",
    "* 비트코인의 블럭체인을 확장. 비트코인은 데이터만을 저장하지만, 이더리움은 프로그램도 저장.\n",
    "* 분산프로그램을 Smart Contract이라고 한다.\n",
    "* 사용할 때는 운영체제 evm을 설치해서 smart contract을 사용.\n",
    "\n",
    "### E.6.2 절차\n",
    "\n",
    "* Ethereum Virtual Machine에서 contract을 개발한다.\n",
    "\n",
    "구분 | 설명 | 결과\n",
    "-----|-----|-----\n",
    "개발 | 언어로 contract 구현 | 소스\n",
    "컴파일 | 소스를 evm 바이너리코드가 생성 | abi, bin (code)\n",
    "거래 | 거래를 생성하고 마이닝 대기 | transactionHash\n",
    "배포 (마이닝) | 마이닝하고 bloack chain의 주소 획득 | contractAddress\n",
    "사용 | abi, contractAddress로 contract api 호출 | contract api 결과\n",
    "\n",
    "* 1-1 개발\n",
    "    * 언어를 선택하여 (solidity), 프로그램을 구현한다.\n",
    "    * 온라인 ide [browser-solidity](https://ethereum.github.io/browser-solidity/)\n",
    "        * 'create'\n",
    "            * (인자가 있으면 넣고) 'create'를 누른다.\n",
    "            * 누르고 나면, contract생성\n",
    "        * '함수'\n",
    "            * setter함수에 필요한 args를 타입에 맞게 넣고, '함수 버튼'을 누른다.\n",
    "            * gettter함수로 출력\n",
    "\n",
    "* 1-2 컴파일\n",
    "    * solc로 컴파일 할 수 있다.\n",
    "    * solc 설치되어 있지 않으면 browser-solidity를 사용한다.\n",
    "\n",
    "* 1-3 거래\n",
    "    * 거래가 발생하면, transactionHash가 생성된다.\n",
    "    * 마이닝 전까지 대기 pending\n",
    "\n",
    "* 1-4 배포 (마이닝과 같은 의미)\n",
    "    * contract 배포 요청, 마이닝, blockchain에 주소를 받기 까지의 과정을 말한다.\n",
    "    * blockchain에 배포하고 나면, 수정불가능 (immutable)\n",
    "    * 배포하려면 mining을 해야 한다.\n",
    "    * 마이닝 시작\n",
    "        * geth console\n",
    "        ```\n",
    "        > miner.start(1);admin.sleepBlocks(1);miner.stop\n",
    "        ```\n",
    "\n",
    "    * 마이닝 완료 \n",
    "        * 블록체인에 배포된다.\n",
    "        * blockNumber +1 증가.\n",
    "        * 주소 값이 생성된다. 마이닝 완료 전 null이다.\n",
    "            * geth console\n",
    "            ```\n",
    "            > eth.getTransactionReceipt(\"0x3c58a...50bd5\")\n",
    "            ```         \n",
    "\n",
    "* 1-5 사용\n",
    "    * contract api 서비스를 호출한다.\n",
    "        ```\n",
    "        var greeter = eth.contract(ABI).at(Address);\n",
    "        ```\n"
   ]
  },
  {
   "cell_type": "markdown",
   "metadata": {},
   "source": [
    "## 문제 e-6: solidity를 컴파일하기 (solc)\n",
    "\n",
    "* 개발-컴파일-거래-배포-사용 사이클\n",
    "    * solidity 개발-컴파일"
   ]
  },
  {
   "cell_type": "markdown",
   "metadata": {},
   "source": [
    "### 컴파일러 준비\n",
    "\n",
    "* 컴파일러를 Solidity로 설정한다.\n",
    "* 설정된 Solidity로 컴파일 한다."
   ]
  },
  {
   "cell_type": "markdown",
   "metadata": {},
   "source": [
    "* 사용할 노드에 컴파일러 설정되었는지 확인\n",
    "    ```\n",
    "    > eth.getCompilers()\n",
    "    ```"
   ]
  },
  {
   "cell_type": "markdown",
   "metadata": {},
   "source": [
    "### greeter.sol\n",
    "\n",
    "* 출처 https://www.ethereum.org/greeter\n",
    "* 복수 contract을 컴파일하고, 서로 참조하는 경우"
   ]
  },
  {
   "cell_type": "code",
   "execution_count": 96,
   "metadata": {
    "collapsed": false
   },
   "outputs": [
    {
     "name": "stdout",
     "output_type": "stream",
     "text": [
      "Overwriting src/greeter.sol\n"
     ]
    }
   ],
   "source": [
    "%%writefile src/greeter.sol\n",
    "pragma solidity ^0.4.6;\n",
    "contract mortal {\n",
    "    /* Define variable owner of the type address*/\n",
    "    address owner;\n",
    "\n",
    "    /* this function is executed at initialization and sets the owner of the contract */\n",
    "    function mortal() { owner = msg.sender; }\n",
    "\n",
    "    /* Function to recover the funds on the contract */\n",
    "    function kill() { if (msg.sender == owner) selfdestruct(owner); }\n",
    "}\n",
    "\n",
    "contract greeter is mortal {\n",
    "    /* define variable greeting of the type string */\n",
    "    string greeting;\n",
    "\n",
    "    /* this runs when the contract is executed */\n",
    "    function greeter(string _greeting) public {\n",
    "        greeting = _greeting;\n",
    "    }\n",
    "\n",
    "    /* main function */\n",
    "    function greet() constant returns (string) {\n",
    "        return greeting;\n",
    "    }\n",
    "}"
   ]
  },
  {
   "cell_type": "code",
   "execution_count": 97,
   "metadata": {
    "collapsed": false
   },
   "outputs": [
    {
     "name": "stdout",
     "output_type": "stream",
     "text": [
      "60606040523461000057604051610284380380610284833981016040528051015b5b60008054600160a060020a0319166c01000000000000000000000000338102041790555b8060019080519060200190828054600181600116156101000203166002900490600052602060002090601f016020900481019282601f1061009157805160ff19168380011785556100be565b828001600101855582156100be579182015b828111156100be5782518255916020019190600101906100a3565b5b506100df9291505b808211156100db57600081556001016100c7565b5090565b50505b505b610192806100f26000396000f3606060405260e060020a600035046341c0e1b58114610029578063cfae321714610038575b610000565b34610000576100366100b3565b005b34610000576100456100f5565b60405180806020018281038252838181518152602001915080519060200190808383829060006004602084601f0104600302600f01f150905090810190601f1680156100a55780820380516001836020036101000a031916815260200191505b509250505060405180910390f35b6000543373ffffffffffffffffffffffffffffffffffffffff908116911614156100f25760005473ffffffffffffffffffffffffffffffffffffffff16ff5b5b565b604080516020808201835260008252600180548451600282841615610100026000190190921691909104601f8101849004840282018401909552848152929390918301828280156101875780601f1061015c57610100808354040283529160200191610187565b820191906000526020600020905b81548152906001019060200180831161016a57829003601f168201915b505050505090505b9056\n"
     ]
    }
   ],
   "source": [
    "res=!solc --optimize --bin src/greeter.sol\n",
    "mycompiled=res.fields()[3][0]\n",
    "print mycompiled"
   ]
  },
  {
   "cell_type": "markdown",
   "metadata": {},
   "source": [
    "## E.7 Smart Contract 사용\n",
    "\n",
    "* geth console\n",
    "* json rpc (ethjsonrpc)\n",
    "* nodejs\n",
    "* web pages\n"
   ]
  },
  {
   "cell_type": "markdown",
   "metadata": {
    "collapsed": false
   },
   "source": [
    "## 문제 e-7: geth console\n",
    "\n",
    "* multiply\n",
    "* greeter\n"
   ]
  },
  {
   "cell_type": "markdown",
   "metadata": {},
   "source": [
    "### 단순한 session"
   ]
  },
  {
   "cell_type": "code",
   "execution_count": 24,
   "metadata": {
    "collapsed": false,
    "scrolled": true
   },
   "outputs": [
    {
     "name": "stdout",
     "output_type": "stream",
     "text": [
      "Overwriting src/e_test2.js\n"
     ]
    }
   ],
   "source": [
    "%%writefile src/e_test2.js\n",
    "var primary = web3.eth.accounts[0];\n",
    "var bal=web3.eth.getBalance(primary)\n",
    "var c=web3.net.peerCount;\n",
    "console.log(bal);\n",
    "console.log(c);\n",
    "console.log(eth.blockNumber);\n",
    "console.log(txpool.status.pending);\n",
    "console.log('net.listening: ',net.listening);\n",
    "console.log('net.peerCount: ', net.peerCount);"
   ]
  },
  {
   "cell_type": "code",
   "execution_count": null,
   "metadata": {
    "collapsed": true
   },
   "outputs": [],
   "source": [
    "!geth --exec 'loadScript(\"src/e_test2.js\")' attach http://117.xxx.xxx.xxx:8xxx"
   ]
  },
  {
   "cell_type": "markdown",
   "metadata": {},
   "source": [
    "### multiply\n",
    "\n",
    "* geth console에서의 사용 예.\n",
    "```\n",
    "> myMultiply=eth.contract(compiled.test.info.abiDefinition).at(_object.address)\n",
    "{\n",
    "  abi: [{\n",
    "      constant: false,\n",
    "      inputs: [{...}],\n",
    "      name: \"multiply\",\n",
    "      outputs: [{...}],\n",
    "      payable: false,\n",
    "      type: \"function\"\n",
    "  }],\n",
    "  address: \"0x050c96a751f86a699a541001223b1ba7f5364d8d\",\n",
    "  transactionHash: null,\n",
    "  allEvents: function(),\n",
    "  multiply: function()\n",
    "}\n",
    "> myMultiply.multiply.call(6)\n",
    "'42'\n",
    "```"
   ]
  },
  {
   "cell_type": "code",
   "execution_count": 19,
   "metadata": {
    "collapsed": false
   },
   "outputs": [
    {
     "name": "stdout",
     "output_type": "stream",
     "text": [
      "Overwriting src/e_testGeth.js\n"
     ]
    }
   ],
   "source": [
    "%%writefile src/e_testGeth.js\n",
    "var primary = eth.accounts[0];\n",
    "console.log(\"primary ac: \",primary);\n",
    "console.log(\"balance: \",eth.getBalance(primary));\n",
    "source = \"contract test {\\n\" + \"   /// @notice will multiply `a` by 7.\\n\" + \"   function multiply(uint a) returns(uint d) {\\n\" + \"      return a * 7;\\n\" + \"   }\\n\" + \"} \";\n",
    "    \"contract test {\\n   /// @notice will multiply `a` by 7.\\n   function multiply(uint a) returns(uint d) {\\n      return a * 7;\\n   }\\n} \";\n",
    "compiled = eth.compile.solidity(source);\n",
    "_class=eth.contract(compiled.test.info.abiDefinition);\n",
    "console.log('bin code: ', compiled.test.code)\n",
    "//async way\n",
    "_object=_class.new({from:primary,data:compiled.test.code}, function(err, contract) {\n",
    "  if (!err && contract.address)\n",
    "    console.log(\"contractAddress: \", contract.address);\n",
    "    console.log(\"transactionHash: \", contract.transactionHash);\n",
    "    myMultiply=_class.at(contract.address);\n",
    "    console.log(\"multiply: \",myMultiply.multiply.call(6));\n",
    "});"
   ]
  },
  {
   "cell_type": "code",
   "execution_count": null,
   "metadata": {
    "collapsed": true
   },
   "outputs": [],
   "source": [
    "!geth --exec 'loadScript(\"src/e_testGeth.js\")' attach http://117.xxx.xxx.xxx:8xxx"
   ]
  },
  {
   "cell_type": "code",
   "execution_count": 21,
   "metadata": {
    "collapsed": false
   },
   "outputs": [
    {
     "name": "stdout",
     "output_type": "stream",
     "text": [
      "[{\r\n",
      "    blockHash: \u001b[1mnull\u001b[0m,\r\n",
      "    blockNumber: \u001b[1mnull\u001b[0m,\r\n",
      "    from: \u001b[32m\"0x2e49e21e708b7d83746ec676a4afda47f1a0d693\"\u001b[0m,\r\n",
      "    gas: \u001b[31m90000\u001b[0m,\r\n",
      "    gasPrice: \u001b[31m20000000000\u001b[0m,\r\n",
      "    hash: \u001b[32m\"0x7ccd5dc3a6498394320201fe09f9553cd5ce4aaa957363a6d2baca4be8309bd9\"\u001b[0m,\r\n",
      "    input: \u001b[32m\"0x6060604052346000575b60458060156000396000f3606060405260e060020a6000350463c6888fa18114601c575b6000565b346000576029600435603b565b60408051918252519081900360200190f35b600781025b91905056\"\u001b[0m,\r\n",
      "    nonce: \u001b[31m59\u001b[0m,\r\n",
      "    r: \u001b[32m\"0xb35022f42f760331f2d2e0bb5530d05948da599b3b03510c2007a86eecf147b9\"\u001b[0m,\r\n",
      "    s: \u001b[32m\"0x484e7f295f9999dd20da97c569c99bd34f0023260677ff46a2662c7ef9c8dcce\"\u001b[0m,\r\n",
      "    to: \u001b[1mnull\u001b[0m,\r\n",
      "    transactionIndex: \u001b[1mnull\u001b[0m,\r\n",
      "    v: \u001b[32m\"0x1c\"\u001b[0m,\r\n",
      "    value: \u001b[31m0\u001b[0m\r\n",
      "}]\r\n"
     ]
    }
   ],
   "source": [
    "!geth --exec 'eth.pendingTransactions;' attach http://117.xxx.xxx.xxx:8xxx"
   ]
  },
  {
   "cell_type": "markdown",
   "metadata": {},
   "source": [
    "* 위 transactionHash를 가지고 transactionReceipt()를 실행하여 주소를 사용한다.\n",
    "    * 주소는 마이닝 후 생성된다. 마이닝하지 않으면 주소는 null\n",
    "    * transactionHash\n",
    "    \"0x7ccd5dc3a6498394320201fe09f9553cd5ce4aaa957363a6d2baca4be8309bd9\"\n",
    "    * contractAddress: \"0x13581bb3c23492b722f230e967a0232741ccd247\"\n",
    "    * 주소의 bin code도 확인할 수 있다.\n",
    " "
   ]
  },
  {
   "cell_type": "code",
   "execution_count": 22,
   "metadata": {
    "collapsed": false,
    "scrolled": false
   },
   "outputs": [
    {
     "name": "stdout",
     "output_type": "stream",
     "text": [
      "{\r\n",
      "  blockHash: \u001b[32m\"0x62c6f4ea5b26f1efbbbfa78dac40b29a6f8a9c3c14510b98301e8c16056a060e\"\u001b[0m,\r\n",
      "  blockNumber: \u001b[31m61711\u001b[0m,\r\n",
      "  contractAddress: \u001b[32m\"0x13581bb3c23492b722f230e967a0232741ccd247\"\u001b[0m,\r\n",
      "  cumulativeGasUsed: \u001b[31m40597\u001b[0m,\r\n",
      "  from: \u001b[32m\"0x2e49e21e708b7d83746ec676a4afda47f1a0d693\"\u001b[0m,\r\n",
      "  gasUsed: \u001b[31m40597\u001b[0m,\r\n",
      "  logs: [],\r\n",
      "  logsBloom: \u001b[32m\"0x00000000000000000000000000000000000000000000000000000000000000000000000000000000000000000000000000000000000000000000000000000000000000000000000000000000000000000000000000000000000000000000000000000000000000000000000000000000000000000000000000000000000000000000000000000000000000000000000000000000000000000000000000000000000000000000000000000000000000000000000000000000000000000000000000000000000000000000000000000000000000000000000000000000000000000000000000000000000000000000000000000000000000000000000000000000\"\u001b[0m,\r\n",
      "  root: \u001b[32m\"0xdf63ca69b3ac58bf423229d501dff8897306e2b0c9a821c2fa6b4f19c980c98c\"\u001b[0m,\r\n",
      "  to: \u001b[1mnull\u001b[0m,\r\n",
      "  transactionHash: \u001b[32m\"0x7ccd5dc3a6498394320201fe09f9553cd5ce4aaa957363a6d2baca4be8309bd9\"\u001b[0m,\r\n",
      "  transactionIndex: \u001b[31m0\u001b[0m\r\n",
      "}\r\n"
     ]
    }
   ],
   "source": [
    "!geth --exec 'eth.getTransactionReceipt(\"0x7ccd5dc3a6498394320201fe09f9553cd5ce4aaa957363a6d2baca4be8309bd9\");' attach http://117.xxx.xxx.xxx:8xxx"
   ]
  },
  {
   "cell_type": "markdown",
   "metadata": {},
   "source": [
    "## E.8 이벤트\n",
    "\n",
    "* 이벤트는 EVM 로그 기능을 사용한다.\n",
    "\n",
    "* 함수에 listener를 설정할 수 있다.\n",
    "\n",
    "단계 | 설명\n",
    "-------|-------\n",
    "개발-컴파일 | event넣은 소스를 컴파일해서 abi, bin을 구한다.\n",
    "거래-배포 | 마이닝하고 주소를 배정받기 기다린다.\n",
    "사용 | 이벤트 호출, _instance.MyLog()\n",
    "사용 | 이벤트를 가지고 있는 함수 호출, _instance.MyFunction()\n",
    "\n",
    "* 오류\n",
    "    * \"invalid adress error\" default address가 설정되지 않으면, 누가 이벤트를 호출하는지 알 수 없다.\n",
    "    ```\n",
    "    > web3.eth.defaultAccount=web3.eth.accounts[0];\n",
    "    ```"
   ]
  },
  {
   "cell_type": "markdown",
   "metadata": {},
   "source": [
    "## 문제 e-12: contract 이벤트 사용하기 (nodejs)\n",
    "\n",
    "* nodejs, Web3 라이브러리를 사용한다. \n",
    "* 이벤트가 있는 e_testDeposit.sol (컴파일은 geth)\n",
    "\n",
    "* 오류\n",
    "    * TypeError: contract.abi.filter is not a function\n",
    "        * node에서 JSON.parse를 해줌.\n",
    "    * Error: invalid address\n",
    "        * web3.eth.defaultAccount를 설정."
   ]
  },
  {
   "cell_type": "markdown",
   "metadata": {},
   "source": [
    "### 1-3 e_testDeposit.sol\n",
    "\n",
    "* 출처 인터넷\n",
    "* deposit() 인자없이 호출해도 event 실행됨."
   ]
  },
  {
   "cell_type": "code",
   "execution_count": 38,
   "metadata": {
    "collapsed": false
   },
   "outputs": [
    {
     "name": "stdout",
     "output_type": "stream",
     "text": [
      "Writing src/e_testDeposit.sol\n"
     ]
    }
   ],
   "source": [
    "%%writefile src/e_testDeposit.sol\n",
    "pragma solidity ^0.4.0;\n",
    "\n",
    "contract e_testDeposit {\n",
    "    event Deposit(\n",
    "        address indexed _from,\n",
    "        bytes32 indexed _id,\n",
    "        uint _value\n",
    "    );\n",
    "    function deposit(bytes32 _id) {\n",
    "        Deposit(msg.sender, _id, msg.value);\n",
    "    }\n",
    "}"
   ]
  },
  {
   "cell_type": "code",
   "execution_count": 39,
   "metadata": {
    "collapsed": false
   },
   "outputs": [
    {
     "name": "stdout",
     "output_type": "stream",
     "text": [
      "\r\n",
      "======= e_testDeposit =======\r\n",
      "Contract JSON ABI\r\n",
      "[{\"constant\":false,\"inputs\":[{\"name\":\"_id\",\"type\":\"bytes32\"}],\"name\":\"deposit\",\"outputs\":[],\"payable\":false,\"type\":\"function\"},{\"anonymous\":false,\"inputs\":[{\"indexed\":true,\"name\":\"_from\",\"type\":\"address\"},{\"indexed\":true,\"name\":\"_id\",\"type\":\"bytes32\"},{\"indexed\":false,\"name\":\"_value\",\"type\":\"uint256\"}],\"name\":\"Deposit\",\"type\":\"event\"}]\r\n"
     ]
    }
   ],
   "source": [
    "!solc --abi src/e_testDeposit.sol"
   ]
  },
  {
   "cell_type": "code",
   "execution_count": 40,
   "metadata": {
    "collapsed": false,
    "scrolled": true
   },
   "outputs": [
    {
     "name": "stdout",
     "output_type": "stream",
     "text": [
      "\r\n",
      "======= e_testDeposit =======\r\n",
      "Binary: \r\n",
      "606060405234610000575b60a7806100176000396000f360606040526000357c010000000000000000000000000000000000000000000000000000000090048063b214faa5146036575b6000565b34600057604e60048080359060200190919050506050565b005b80600019163373ffffffffffffffffffffffffffffffffffffffff167f19dacbf83c5de6658e14cbf7bcae5c15eca2eedecf1c66fbca928e4d351bea0f346040518082815260200191505060405180910390a35b5056\r\n"
     ]
    }
   ],
   "source": [
    "!solc --bin src/e_testDeposit.sol"
   ]
  },
  {
   "cell_type": "markdown",
   "metadata": {},
   "source": [
    "* 위 abi, bin을 복사해서 사용\n",
    "* 아래는 eth를 사용해서 transactionHash, contractAddress 가져온다.\n",
    "    * transactionHash:\n",
    "\"0xdd9182988b54e6e5587295a3cf3c82567ac99050804b6353918055d5d22b95fc\"\n",
    "    * contractAddress:\n",
    "\"0xf957f93a7b95c28005af20b5f8f396ba8b6f18d0\"\n"
   ]
  },
  {
   "cell_type": "code",
   "execution_count": 41,
   "metadata": {
    "collapsed": false
   },
   "outputs": [
    {
     "name": "stdout",
     "output_type": "stream",
     "text": [
      "Writing src/e_testDeposit1.js\n"
     ]
    }
   ],
   "source": [
    "%%writefile src/e_testDeposit1.js\n",
    "var _abiStr='[{\"constant\":false,\"inputs\":[{\"name\":\"_id\",\"type\":\"bytes32\"}],\"name\":\"deposit\",\"outputs\":[],\"payable\":false,\"type\":\"function\"},{\"anonymous\":false,\"inputs\":[{\"indexed\":true,\"name\":\"_from\",\"type\":\"address\"},{\"indexed\":true,\"name\":\"_id\",\"type\":\"bytes32\"},{\"indexed\":false,\"name\":\"_value\",\"type\":\"uint256\"}],\"name\":\"Deposit\",\"type\":\"event\"}]'\n",
    "var _abiArray=JSON.parse(_abiStr);\n",
    "var _bin=\"606060405234610000575b60a7806100176000396000f360606040526000357c010000000000000000000000000000000000000000000000000000000090048063b214faa5146036575b6000565b34600057604e60048080359060200190919050506050565b005b80600019163373ffffffffffffffffffffffffffffffffffffffff167f19dacbf83c5de6658e14cbf7bcae5c15eca2eedecf1c66fbca928e4d351bea0f346040518082815260200191505060405180910390a35b5056\";\n",
    "var _contract = eth.contract(_abiArray);\n",
    "var _instance=_contract.new({data:_bin,from:web3.eth.accounts[0],gas:100000}, function(err, contract) {\n",
    "  if (!err && contract.address)\n",
    "    console.log(\"contractAddress: \", contract.address);\n",
    "    console.log(\"transactionHash: \", contract.transactionHash);\n",
    "});\n",
    "console.log(\"after async - transactionHash: \",_instance.transactionHash)\n",
    "console.log(\"after async - contractAddress: \",_instance.address);"
   ]
  },
  {
   "cell_type": "code",
   "execution_count": 42,
   "metadata": {
    "collapsed": false
   },
   "outputs": [
    {
     "name": "stdout",
     "output_type": "stream",
     "text": [
      "transactionHash:  0xdd9182988b54e6e5587295a3cf3c82567ac99050804b6353918055d5d22b95fc\r\n",
      "after async - transactionHash:  0xdd9182988b54e6e5587295a3cf3c82567ac99050804b6353918055d5d22b95fc\r\n",
      "after async - contractAddress:  undefined\r\n",
      "\u001b[1mtrue\u001b[0m\r\n"
     ]
    }
   ],
   "source": [
    "!geth --exec 'loadScript(\"src/e_testDeposit1.js\")' attach http://117.xxx.xxx.xxx:8xxx"
   ]
  },
  {
   "cell_type": "code",
   "execution_count": 43,
   "metadata": {
    "collapsed": false
   },
   "outputs": [
    {
     "name": "stdout",
     "output_type": "stream",
     "text": [
      "{\r\n",
      "  blockHash: \u001b[32m\"0x9cdd5bf9ecacc957e34822169656362460681e3188b50eaf0c411d9c7ee87a7a\"\u001b[0m,\r\n",
      "  blockNumber: \u001b[31m64973\u001b[0m,\r\n",
      "  contractAddress: \u001b[32m\"0xf957f93a7b95c28005af20b5f8f396ba8b6f18d0\"\u001b[0m,\r\n",
      "  cumulativeGasUsed: \u001b[31m64967\u001b[0m,\r\n",
      "  from: \u001b[32m\"0x2e49e21e708b7d83746ec676a4afda47f1a0d693\"\u001b[0m,\r\n",
      "  gasUsed: \u001b[31m64967\u001b[0m,\r\n",
      "  logs: [],\r\n",
      "  logsBloom: \u001b[32m\"0x00000000000000000000000000000000000000000000000000000000000000000000000000000000000000000000000000000000000000000000000000000000000000000000000000000000000000000000000000000000000000000000000000000000000000000000000000000000000000000000000000000000000000000000000000000000000000000000000000000000000000000000000000000000000000000000000000000000000000000000000000000000000000000000000000000000000000000000000000000000000000000000000000000000000000000000000000000000000000000000000000000000000000000000000000000000\"\u001b[0m,\r\n",
      "  root: \u001b[32m\"0x080fdbf33c6060a007ab43c896cdff27ff5f9da25a6518b29c77d4e73316c6e1\"\u001b[0m,\r\n",
      "  to: \u001b[1mnull\u001b[0m,\r\n",
      "  transactionHash: \u001b[32m\"0xdd9182988b54e6e5587295a3cf3c82567ac99050804b6353918055d5d22b95fc\"\u001b[0m,\r\n",
      "  transactionIndex: \u001b[31m0\u001b[0m\r\n",
      "}\r\n"
     ]
    }
   ],
   "source": [
    "!geth --exec 'eth.getTransactionReceipt(\"0xdd9182988b54e6e5587295a3cf3c82567ac99050804b6353918055d5d22b95fc\");' attach http://117.xxx.xxx.xxx:8xxx"
   ]
  },
  {
   "cell_type": "code",
   "execution_count": 45,
   "metadata": {
    "collapsed": false
   },
   "outputs": [
    {
     "name": "stdout",
     "output_type": "stream",
     "text": [
      "Writing src/e_testDeposit2.js\n"
     ]
    }
   ],
   "source": [
    "%%writefile src/e_testDeposit2.js\n",
    "var Web3=require('web3');\n",
    "var web3;\n",
    "if (typeof web3 !== 'undefined') {\n",
    "    web3 = new Web3(web3.currentProvider);\n",
    "} else {\n",
    "    web3 = new Web3(new Web3.providers.HttpProvider(\"http://117.xxx.xxx.xxx:8xxx\"));\n",
    "}\n",
    "console.log(web3.eth.blockNumber);\n",
    "var _abiStr='[{\"constant\":false,\"inputs\":[{\"name\":\"_id\",\"type\":\"bytes32\"}],\"name\":\"deposit\",\"outputs\":[],\"payable\":false,\"type\":\"function\"},{\"anonymous\":false,\"inputs\":[{\"indexed\":true,\"name\":\"_from\",\"type\":\"address\"},{\"indexed\":true,\"name\":\"_id\",\"type\":\"bytes32\"},{\"indexed\":false,\"name\":\"_value\",\"type\":\"uint256\"}],\"name\":\"Deposit\",\"type\":\"event\"}]'\n",
    "var _abiArray=JSON.parse(_abiStr);\n",
    "var _address = '0xf957f93a7b95c28005af20b5f8f396ba8b6f18d0';\n",
    "var _contract=web3.eth.contract(_abiArray);\n",
    "var _instance=_contract.at(_address);\n",
    "web3.eth.defaultAccount=web3.eth.accounts[0];\n",
    "var event = _instance.Deposit(function (error, result) {\n",
    "    if (!error) {\n",
    "        console.log(\"event triggered ===> \",result);\n",
    "        process.exit(1);\n",
    "    }\n",
    "});\n",
    "_instance.deposit();\n"
   ]
  },
  {
   "cell_type": "code",
   "execution_count": 46,
   "metadata": {
    "collapsed": false
   },
   "outputs": [
    {
     "name": "stdout",
     "output_type": "stream",
     "text": [
      "64982\n",
      "event triggered ===>  { address: '0xf957f93a7b95c28005af20b5f8f396ba8b6f18d0',\n",
      "  blockHash: '0xbf9a68c71f2ff475f77d075857cc4592b36a520f966b43bf9bf188bb2fa82381',\n",
      "  blockNumber: 64984,\n",
      "  logIndex: 0,\n",
      "  removed: false,\n",
      "  transactionHash: '0xc053f34a73043e0e2c1ae79b8e2632b8b016d6b85834afd7d1e48497daf3d5f4',\n",
      "  transactionIndex: 0,\n",
      "  event: 'Deposit',\n",
      "  args: \n",
      "   { _from: '0x2e49e21e708b7d83746ec676a4afda47f1a0d693',\n",
      "     _id: '0x0000000000000000000000000000000000000000000000000000000000000000',\n",
      "     _value: { [String: '0'] s: 1, e: 0, c: [Object] } } }\n"
     ]
    }
   ],
   "source": [
    "!node src/e_testDeposit2.js"
   ]
  },
  {
   "cell_type": "markdown",
   "metadata": {},
   "source": [
    "## 문제 e-13: 웹으로 contract 배포하고 사용하기\n",
    "\n",
    "* 웹에서는 상대경로를 주의해야 한다.\n",
    "    * html페이지를 기준으로 상대경로로 라이브러리를 읽는다.\n",
    "    * 예: contract.html에서 web3.js는 '../node_modules/web3/dist/web3.js'\n",
    "    ```\n",
    "    projectDir\n",
    "        |-ethereum.ipynb ---> 지금 사용하는 노트북\n",
    "        |-node_modules/web3/dist/web3.js ---> 사용하는 라이브러리\n",
    "        |-_script/contract.html ---> 여는 웹페이지\n",
    "    ```\n",
    "\n",
    "* 1-1 라이브러리 설치\n",
    "* 1-2 Notebook 셀에서 사용하기\n",
    "* 1-3 html에서 contract 컴파일 배포\n",
    "* 1-4 html에서 계정잔고 변경 모니터링"
   ]
  },
  {
   "cell_type": "markdown",
   "metadata": {},
   "source": [
    "### 1-1 라이브러리 설치 \n",
    "\n",
    "* npm web3 설치\n",
    "    ```\n",
    "    $ cd ~/Code/git/bb/jsl/bitcoin/\n",
    "    $ npm install web3\n",
    "    ```\n",
    "\n"
   ]
  },
  {
   "cell_type": "markdown",
   "metadata": {
    "collapsed": true
   },
   "source": [
    "### 1-3 html에서 컴파일 배포\n",
    "\n",
    "* 단계1: contract.html 작성\n",
    "    * web3.js/example/contract.html을 수정해서 사용\n",
    "\n",
    "항목 | 설명\n",
    "-----|-----\n",
    "web3.js | contract.html을 기준으로 상대경로 적음. src=\"..node_modules/web3/dist/web3.js\"\n",
    "HttpProvider | http://117.xxx.xxx.xxx:8xxx\n",
    "\n",
    "\n",
    "* 단계 2: 브라우저에서 연다. 주의: web3.js 라이브러리는 contract.html 기준으로 상대경로.\n",
    "    ```\n",
    "    file:///projectDir/_scripts/contract.html\n",
    "    ```\n",
    "    * 버튼을 누르면 거래가 생성되고 대기한다. mining을 해서 처리해야 한다.\n",
    "    * multiply 수를 넣는 화면이 뜨고, Enter를 누르면 계산 결과를 볼 수 있다."
   ]
  },
  {
   "cell_type": "code",
   "execution_count": 5,
   "metadata": {
    "collapsed": false,
    "scrolled": false
   },
   "outputs": [
    {
     "name": "stdout",
     "output_type": "stream",
     "text": [
      "Overwriting _scripts/contract.html\n"
     ]
    }
   ],
   "source": [
    "%%writefile _scripts/contract.html\n",
    "<!doctype>\n",
    "<html>\n",
    "\n",
    "<head>\n",
    "<script type=\"text/javascript\" src=\"../node_modules/web3/dist/web3.js\"></script>\n",
    "<script type=\"text/javascript\">\n",
    "    var Web3 = require('web3');\n",
    "    var web3 = new Web3(new Web3.providers.HttpProvider(\"http://117.xxx.xxx.xxx:8xxx\"));\n",
    "\n",
    "    // solidity code code\n",
    "    var source = \"\" +\n",
    "    \"contract test {\\n\" +\n",
    "    \"   function multiply(uint a) constant returns(uint d) {\\n\" +\n",
    "    \"       return a * 7;\\n\" +\n",
    "    \"   }\\n\" +\n",
    "    \"}\\n\";\n",
    "\n",
    "    var compiled = web3.eth.compile.solidity(source);\n",
    "    var code = compiled.test.code;\n",
    "    // contract json abi, this is autogenerated using solc CLI\n",
    "    var abi = compiled.test.info.abiDefinition;\n",
    "\n",
    "    var myContract;\n",
    "\n",
    "    function createExampleContract() {\n",
    "        // hide create button\n",
    "        document.getElementById('create').style.visibility = 'hidden'; \n",
    "        document.getElementById('code').innerText = code;\n",
    "\n",
    "        // let's assume that coinbase is our account\n",
    "        web3.eth.defaultAccount = web3.eth.coinbase;\n",
    "        alert(code);\n",
    "\n",
    "        // create contract\n",
    "        document.getElementById('status').innerText = \"transaction sent, waiting for confirmation\";\n",
    "        web3.eth.contract(abi).new({data: code}, function (err, contract) {\n",
    "            if(err) {\n",
    "                console.error(err);\n",
    "                return;\n",
    "            // callback fires twice, we only want the second call when the contract is deployed\n",
    "            } else if(contract.address){\n",
    "                myContract = contract;\n",
    "                console.log('address: ' + myContract.address);\n",
    "                document.getElementById('status').innerText = 'Mined!';\n",
    "                document.getElementById('call').style.visibility = 'visible';\n",
    "            }\n",
    "        });\n",
    "    }\n",
    "    function callExampleContract() {\n",
    "        // this should be generated by ethereum\n",
    "        var param = parseInt(document.getElementById('value').value);\n",
    "        // call the contract\n",
    "        var res = myContract.multiply(param);\n",
    "        document.getElementById('result').innerText = res.toString(10);\n",
    "    }\n",
    "</script>\n",
    "</head>\n",
    "<body>\n",
    "    <h1>contract</h1>\n",
    "    <div id=\"code\"></div> \n",
    "    <div id=\"status\"></div>\n",
    "    <div id='create'>\n",
    "        <button type=\"button\" onClick=\"createExampleContract();\">!create example contract</button>\n",
    "    </div>\n",
    "    <div id='call' style='visibility: hidden;'>\n",
    "        <input type=\"number\" id=\"value\" onkeyup='callExampleContract()'></input>\n",
    "    </div>\n",
    "    <div id=\"result\"></div>\n",
    "</body>\n",
    "</html>\n",
    "\n"
   ]
  },
  {
   "cell_type": "code",
   "execution_count": 6,
   "metadata": {
    "collapsed": false
   },
   "outputs": [
    {
     "data": {
      "text/plain": [
       "True"
      ]
     },
     "execution_count": 6,
     "metadata": {},
     "output_type": "execute_result"
    }
   ],
   "source": [
    "import webbrowser\n",
    "myurl='_scripts/contract.html'\n",
    "webbrowser.open(myurl,new=2)"
   ]
  },
  {
   "cell_type": "markdown",
   "metadata": {},
   "source": [
    "### 1-4 html에서 계정잔고 변경 모니터링\n",
    "\n",
    "* 단계1: balance.html 작성\n",
    "    * web3.js/example/balance.html을 수정해서 사용\n",
    "    * 계정의 금액에 변동이 있는지 filter\n",
    "\n",
    "항목 | 설명\n",
    "-----|-----\n",
    "web3.js | balance.html을 기준으로 상대경로 적음. src=\"..node_modules/web3/dist/web3.js\"\n",
    "HttpProvider | http://117.xxx.xxx.xxx:8xxx\n",
    "\n",
    "\n",
    "* 단계 2: 브라우저에서 연다. 주의: web3.js 라이브러리는 balance.html 기준으로 상대경로.\n",
    "    ```\n",
    "    file:///projectDir/_scripts/balance.html\n",
    "    ```\n",
    "    * 버튼을 누르고, 잔고변경이 있으면 결과를 볼 수 있다. mining은 필요 없다.\n",
    "        ```\n",
    "        coinbase: 0x2e49e21e708b7d83746ec676a4afda47f1a0d693\n",
    "        original balance: 2.38565e+23 watching...\n",
    "        current: 2.38575e+23\n",
    "        diff: 10000000000001573000\n",
    "        ```"
   ]
  },
  {
   "cell_type": "code",
   "execution_count": 7,
   "metadata": {
    "collapsed": false
   },
   "outputs": [
    {
     "name": "stdout",
     "output_type": "stream",
     "text": [
      "Overwriting _scripts/balance.html\n"
     ]
    }
   ],
   "source": [
    "%%writefile _scripts/balance.html\n",
    "<!doctype>\n",
    "<html>\n",
    "\n",
    "<head>\n",
    "<script type=\"text/javascript\" src=\"../node_modules/bignumber.js/bignumber.min.js\"></script>\n",
    "<script type=\"text/javascript\" src=\"../node_modules/web3/dist/web3.js\"></script>\n",
    "<script type=\"text/javascript\">\n",
    "   \n",
    "    var Web3 = require('web3');\n",
    "    var web3 = new Web3(new Web3.providers.HttpProvider(\"http://117.xxx.xxx.xxx:8xxx\"));\n",
    "\n",
    "    alert(web3.isConnected());\n",
    "\n",
    "    function watchBalance() {\n",
    "        var coinbase = web3.eth.coinbase;\n",
    "        alert(coinbase);\n",
    "        var originalBalance = web3.eth.getBalance(coinbase).toNumber();\n",
    "        alert(originalBalance);\n",
    "        document.getElementById('coinbase').innerText = 'coinbase: ' + coinbase;\n",
    "        document.getElementById('original').innerText = ' original balance: ' + originalBalance + '    watching...';\n",
    "\n",
    "        web3.eth.filter('latest').watch(function() {\n",
    "            var currentBalance = web3.eth.getBalance(coinbase).toNumber();\n",
    "            document.getElementById(\"current\").innerText = 'current: ' + currentBalance;\n",
    "            document.getElementById(\"diff\").innerText = 'diff:    ' + (currentBalance - originalBalance);\n",
    "        });\n",
    "    }\n",
    "\n",
    "</script>\n",
    "</head>\n",
    "<body>\n",
    "    <h1>---coinbase balance</h1>\n",
    "    <button type=\"button\" onClick=\"watchBalance();\">watch balance</button>\n",
    "    <div></div>\n",
    "    <div id=\"coinbase\"></div>\n",
    "    <div id=\"original\"></div>\n",
    "    <div id=\"current\"></div>\n",
    "    <div id=\"diff\"></div>\n",
    "</body>\n",
    "</html>\n",
    "\n"
   ]
  }
 ],
 "metadata": {
  "celltoolbar": "Slideshow",
  "kernelspec": {
   "display_name": "Python 2",
   "language": "python",
   "name": "python2"
  },
  "language_info": {
   "codemirror_mode": {
    "name": "ipython",
    "version": 2
   },
   "file_extension": ".py",
   "mimetype": "text/x-python",
   "name": "python",
   "nbconvert_exporter": "python",
   "pygments_lexer": "ipython2",
   "version": "2.7.12"
  }
 },
 "nbformat": 4,
 "nbformat_minor": 0
}

{
 "cells": [
  {
   "cell_type": "markdown",
   "metadata": {
    "slideshow": {
     "slide_type": "slide"
    }
   },
   "source": [
    "# 시작에 앞서\n",
    "\n",
    "## 누가 읽으면 좋을까?\n",
    "\n",
    "* 웹으로부터 데이터를 수집, 분석하는 과정을 '프로그래밍'으로 하려는 경우\n",
    "* 웹, 프로그래밍, 수학에 대한 기초 지식이 필요하다."
   ]
  },
  {
   "cell_type": "markdown",
   "metadata": {
    "slideshow": {
     "slide_type": "slide"
    }
   },
   "source": [
    "## 누가 읽을 필요가 없을까?\n",
    "\n",
    "* 이미 수집된 데이터를 사용하는 경우\n",
    "* 엑셀에서 데이터를 분석 하는 경우\n",
    "* 이론으로 데이터를 분석하는 경우\n",
    "* 화면이 있는 도구, 마우스를 클릭하거나 간단한 명령어로 작업이 실행하려는 경우\n",
    "* 프로그래밍에 대해 잘 모르는 경우"
   ]
  },
  {
   "cell_type": "markdown",
   "metadata": {
    "slideshow": {
     "slide_type": "slide"
    }
   },
   "source": [
    "## 특징\n",
    "\n",
    "* 프로그래밍 문법보다는 실제 '해보기',\n",
    "* 프로그래밍의 결과를 바로 확인할 수 있는 '재미'\n",
    "* 문제를 주고 풀이하는 과정을 배우도록 하는 '문제 중심'"
   ]
  },
  {
   "cell_type": "markdown",
   "metadata": {
    "slideshow": {
     "slide_type": "slide"
    }
   },
   "source": [
    "## 마치고 나면\n",
    "\n",
    "* 문제를 정의하고, 데이터를 분석할 수 있다.\n",
    "* 사례를 기획해서, 데이터 분석 프로젝트를 할 수 있다."
   ]
  },
  {
   "cell_type": "markdown",
   "metadata": {
    "slideshow": {
     "slide_type": "slide"
    }
   },
   "source": [
    "## 프로그래밍을 임하는 자세\n",
    "\n",
    "* 무엇보다 하려고 하는 의지가 있어야 한다. 일정한 시간을 투자해야 한다.\n",
    "* 실수를 두렵다고 생각하지 말자. 오류가 나와도 좋다. 차츰 좋아지게 된다. 시작부터 오류를 경험하지 않고 배우는 사람은 없다.\n",
    "* 프로그래밍을 어렵다고 생각하지 말자. 자신이 어렵다고 생각하면, 작업을 실제 수행하는 컴퓨터는 더 어렵다. 어렵게 일을 컴퓨터에게 시키는 '나'의 문제."
   ]
  },
  {
   "cell_type": "markdown",
   "metadata": {
    "slideshow": {
     "slide_type": "slide"
    }
   },
   "source": [
    "## 배우는 내용\n",
    "\n",
    "* 웹에서 데이터를 수집, 정리, 저장, 분석, 시각화하는 단계를 프로그래밍으로 배운다.\n",
    "    * 웹에서 데이터를 수집하는 크롤링 및 API\n",
    "    * html, json, xml을 처리\n",
    "    * NoSql\n",
    "    * Spark map-reduce, machine learning"
   ]
  },
  {
   "cell_type": "markdown",
   "metadata": {
    "slideshow": {
     "slide_type": "slide"
    }
   },
   "source": [
    "## 프로그래밍 언어의 선택\n",
    "\n",
    "* 프로그래밍은 '하는 법'을 배우는 것이 우선한다. 언어는 그 다음의 문제이다. 한국어, 영어 상관없이 내 의사를 표현할 수 있으면 된다!\n",
    "* 어느 언어나 프로그래밍 요소를 배우면 다른 언어는 문법의 문제\n",
    "* 대화형 Python으로 시작.\n",
    "* Python 인기도\n",
    "    * [TIOBE지수](http://www.tiobe.com) 2016년 6월 4위\n",
    "    * [PYPL PopularitY of Programming Language](http://pypl.github.io) 2016년 7월 2위"
   ]
  },
  {
   "cell_type": "markdown",
   "metadata": {
    "slideshow": {
     "slide_type": "slide"
    }
   },
   "source": [
    "## 관련 자료\n",
    "\n",
    "* [소스코드](http://github.com/smu405/s)\n",
    "* [슬라이드](https://nbviewer.jupyter.org) smu405/s\n",
    "* [클라우드 북](http://smu405.gitbooks.io/s)\n",
    "* [채팅](https://gitter.im/smu405/s)"
   ]
  }
 ],
 "metadata": {
  "celltoolbar": "Slideshow",
  "kernelspec": {
   "display_name": "Python 2",
   "language": "python",
   "name": "python2"
  },
  "language_info": {
   "codemirror_mode": {
    "name": "ipython",
    "version": 2
   },
   "file_extension": ".py",
   "mimetype": "text/x-python",
   "name": "python",
   "nbconvert_exporter": "python",
   "pygments_lexer": "ipython2",
   "version": "2.7.12"
  }
 },
 "nbformat": 4,
 "nbformat_minor": 0
}

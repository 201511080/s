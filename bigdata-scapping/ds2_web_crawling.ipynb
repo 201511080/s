{
 "cells": [
  {
   "cell_type": "markdown",
   "metadata": {
    "slideshow": {
     "slide_type": "slide"
    }
   },
   "source": [
    "# 웹 데이터 수집\n",
    "\n",
    "* Last Updated: 20170325 20161004\n",
    "\n",
    "## 1.1 학습내용\n",
    "\n",
    "### 1.1.1 목표\n",
    "\n",
    "* 웹 페이지를 크롤링해서 가져올 수 있다.\n",
    "* 웹 페이지에서 원하는 데이터를 추출할 수 있다."
   ]
  },
  {
   "cell_type": "markdown",
   "metadata": {
    "slideshow": {
     "slide_type": "subslide"
    }
   },
   "source": [
    "### 1.1.2 목차\n",
    "\n",
    "* 1.2 인터넷으로 나가기\n",
    "* 1.2.1 인터넷에 많은 정보가 있다. \n",
    "* 1.2.2 웹클라이언트와 서버\n",
    "* 1.2.3 http\n",
    "* 1.3 웹 크롤링\n",
    "* 1.3.1 프로그래밍으로 웹크롤링\n",
    "* 1.3.2 웹페이지 주소\n",
    "* 1.3.3 params\n",
    "* 1.4 url 가져오기\n",
    "* 1.4.1 library\n",
    "* 1.4.2 HTTP errors\n",
    "* 1.5 BeautifulSoup"
   ]
  },
  {
   "cell_type": "markdown",
   "metadata": {
    "slideshow": {
     "slide_type": "subslide"
    }
   },
   "source": [
    "### 1.1.3 문제\n",
    "\n",
    "* 웹데이터-1: python.org 페이지를 크롤링해서 http url를 출력하기\n"
   ]
  },
  {
   "cell_type": "markdown",
   "metadata": {
    "slideshow": {
     "slide_type": "slide"
    }
   },
   "source": [
    "## 1.2 인터넷으로 나가기\n",
    "\n",
    "### 1.2.1  인터넷에 많은 정보가 있다.\n",
    "\n",
    "인터넷은 어디에나 있다.\n",
    "뉴스를 잉크 냄새가 가시지 않은 신문에서 읽다가 인터넷으로 바꿔탄지 이미 오래되었다.\n",
    "영화를 보거나 음악을 듣을 수도 있다.\n",
    "과거와 달리 댓글을 달기도 있다. 이런 '참여'는 인터넷이 가져온 극적인 변화이다.\n",
    "과거와 달리 일반 사용자도 콘텐츠를 생산하여 인터넷에 올리고 있다.\n",
    "블로그, SNS가 그렇다.\n",
    "인터넷은 이제 우리의 감정, 사고, 활동, 회사의 홍보, 복잡한 연구 등을 가지고 있는 정보 저장소가 되었다."
   ]
  },
  {
   "cell_type": "markdown",
   "metadata": {
    "slideshow": {
     "slide_type": "subslide"
    }
   },
   "source": [
    "### 1.2.2 웹클라이언트와 서버\n",
    "\n",
    "인터넷은 클라이언트와 서버로 구성되어 있다.\n",
    "우리가 사용하는 웹브라우저가 클라이언트이다.\n",
    "웹클라이언트는 브라우저보다 생소한 용어이지만 서비스를 요청하고 받는 '고객'이라는 의미로 이해하면 쉽다. \n",
    "구글 크롬, 인터넷 익스플로러, 파이어폭스 등이 브라우저이고 '웹페이지'를 요청하고 받은 정보를 표현할 수 있다.\n",
    "텍스트뿐만 아니라 사진, 동영상, 소리 등 다양한 멀티미디어 정보를 모두 표현, 렌더링하고 있다.\n",
    "\n",
    "> 웹페이지 html을 순서, 크기, 색 등 스타일에 따라 브라우저에 표현하는 것을 랜더링(rendering)이라고 한다. 렌더링하지 않으면 html은 텍스트일 뿐이다. $\\lt$h1$\\gt$는 큰 글씨로 랜더링된다.\n",
    "\n",
    "웹페이지는 웹서버에서 생산되어 클라이언트로 전송된다. 웹서버는 클라이언트에서 요청하는 페이지나 작업을 실행하여 브라우저로 돌려준다. 웹서버는 보통 http 서버를 말한다. 예를 들면, Microsoft's IIS, Apache server가 있다. 웹서버는 보통 원격에 위치하며, http 통신을 하기 위해 설치된 소프트웨어를 말한다."
   ]
  },
  {
   "cell_type": "markdown",
   "metadata": {
    "slideshow": {
     "slide_type": "subslide"
    }
   },
   "source": [
    "### 1.2.3 http\n",
    "\n",
    "http는 HpyerText Transfer Protocol의 줄임말이다.\n",
    "'하이퍼텍스트 전송약속'이라고 풀어쓸 수 있다. '하이퍼텍스트'는 마우스를 가져가면 링크가 활성화되고 바로가기가 실행되는 형식이다. 종이문서를 한 줄씩 순서대로 읽기와 다른 특징이다. '전송약속'은 앞서 설명한 웹클라이언트와 웹서버 간 데이터교환방식이다. 하이퍼텍스트 전송규칙에 사용되는 기술이다.\n",
    "* http는 80번 포트를 사용한다. 포트는 창구라고 생각하면 된다. 창구는 전화통화와 같이 바로 요청, 바로 응답하지는 않는다. 80번 창구에 요청하고, 번호표를 받고, 처리가 완료될 때까지 응답을 기다리는 형태이다.\n",
    "* http는 Request, Response라는 객체를 사용한다.\n",
    "    * Request는 웹클라이언트가 80번 창구를 통해 웹서버에게 하는 요청이다.\n",
    "    * Response는 웹서버가 80번 창구를 통해 전달하는 처리결과이다."
   ]
  },
  {
   "cell_type": "code",
   "execution_count": 2,
   "metadata": {
    "collapsed": true,
    "slideshow": {
     "slide_type": "subslide"
    }
   },
   "outputs": [],
   "source": [
    "import iplantuml"
   ]
  },
  {
   "cell_type": "code",
   "execution_count": 13,
   "metadata": {
    "collapsed": false,
    "scrolled": false,
    "slideshow": {
     "slide_type": "-"
    }
   },
   "outputs": [
    {
     "data": {
      "image/svg+xml": [
       "<svg height=\"154px\" style=\"width:424px;height:154px;\" version=\"1.1\" viewBox=\"0 0 424 154\" width=\"424px\" xmlns=\"http://www.w3.org/2000/svg\" xmlns:xlink=\"http://www.w3.org/1999/xlink\"><defs><filter height=\"300%\" id=\"f1\" width=\"300%\" x=\"-1\" y=\"-1\"><feGaussianBlur result=\"blurOut\" stdDeviation=\"2.0\"/><feColorMatrix in=\"blurOut\" result=\"blurOut2\" type=\"matrix\" values=\"0 0 0 0 0 0 0 0 0 0 0 0 0 0 0 0 0 0 .4 0\"/><feOffset dx=\"4.0\" dy=\"4.0\" in=\"blurOut2\" result=\"blurOut3\"/><feBlend in=\"SourceGraphic\" in2=\"blurOut3\" mode=\"normal\"/></filter></defs><g><line style=\"stroke: #A80036; stroke-width: 1.0; stroke-dasharray: 5.0,5.0;\" x1=\"52\" x2=\"52\" y1=\"38.2969\" y2=\"116.5625\"/><line style=\"stroke: #A80036; stroke-width: 1.0; stroke-dasharray: 5.0,5.0;\" x1=\"372\" x2=\"372\" y1=\"38.2969\" y2=\"116.5625\"/><rect fill=\"#FEFECE\" filter=\"url(#f1)\" height=\"30.2969\" style=\"stroke: #A80036; stroke-width: 1.5;\" width=\"84\" x=\"8\" y=\"3\"/><text fill=\"#000000\" font-family=\"sans-serif\" font-size=\"14\" lengthAdjust=\"spacingAndGlyphs\" textLength=\"70\" x=\"15\" y=\"22.9951\">web client</text><rect fill=\"#FEFECE\" filter=\"url(#f1)\" height=\"30.2969\" style=\"stroke: #A80036; stroke-width: 1.5;\" width=\"84\" x=\"8\" y=\"115.5625\"/><text fill=\"#000000\" font-family=\"sans-serif\" font-size=\"14\" lengthAdjust=\"spacingAndGlyphs\" textLength=\"70\" x=\"15\" y=\"135.5576\">web client</text><rect fill=\"#FEFECE\" filter=\"url(#f1)\" height=\"30.2969\" style=\"stroke: #A80036; stroke-width: 1.5;\" width=\"90\" x=\"325\" y=\"3\"/><text fill=\"#000000\" font-family=\"sans-serif\" font-size=\"14\" lengthAdjust=\"spacingAndGlyphs\" textLength=\"76\" x=\"332\" y=\"22.9951\">web server</text><rect fill=\"#FEFECE\" filter=\"url(#f1)\" height=\"30.2969\" style=\"stroke: #A80036; stroke-width: 1.5;\" width=\"90\" x=\"325\" y=\"115.5625\"/><text fill=\"#000000\" font-family=\"sans-serif\" font-size=\"14\" lengthAdjust=\"spacingAndGlyphs\" textLength=\"76\" x=\"332\" y=\"135.5576\">web server</text><polygon fill=\"#A80036\" points=\"360,65.2969,370,69.2969,360,73.2969,364,69.2969\" style=\"stroke: #A80036; stroke-width: 1.0;\"/><line style=\"stroke: #A80036; stroke-width: 1.0;\" x1=\"52\" x2=\"366\" y1=\"69.2969\" y2=\"69.2969\"/><text fill=\"#000000\" font-family=\"sans-serif\" font-size=\"13\" lengthAdjust=\"spacingAndGlyphs\" textLength=\"279\" x=\"59\" y=\"64.3638\">Request url to 80 port (request a web page)</text><polygon fill=\"#A80036\" points=\"63,94.4297,53,98.4297,63,102.4297,59,98.4297\" style=\"stroke: #A80036; stroke-width: 1.0;\"/><line style=\"stroke: #A80036; stroke-width: 1.0;\" x1=\"57\" x2=\"371\" y1=\"98.4297\" y2=\"98.4297\"/><text fill=\"#000000\" font-family=\"sans-serif\" font-size=\"13\" lengthAdjust=\"spacingAndGlyphs\" textLength=\"296\" x=\"69\" y=\"93.4966\">Response from 80 port (response a web page)</text></g></svg>"
      ],
      "text/plain": [
       "<IPython.core.display.SVG object>"
      ]
     },
     "execution_count": 13,
     "metadata": {},
     "output_type": "execute_result"
    }
   ],
   "source": [
    "%%plantuml\n",
    "\n",
    "@startuml\n",
    "\"web client\" -> \"web server\":Request url to 80 port (request a web page)\n",
    "\"web server\" -> \"web client\":Response from 80 port (response a web page)\n",
    "@enduml"
   ]
  },
  {
   "cell_type": "markdown",
   "metadata": {
    "slideshow": {
     "slide_type": "subslide"
    }
   },
   "source": [
    "### 1.3 웹 크롤링\n",
    "\n",
    "웹크롤링은 인터넷에서 정보를 가져와서, 데이터 분석에 필요한 형식으로 변환하는 작업이다.\n",
    "웹에서 추출하는 출처를 넣어 웹마이닝, 웹스크레이핑이라고도 한다. 인터넷 이전의 마이닝 (mining), 스크레이핑 (scraping), 크롤링 (crawling)과 같은 의미이다.\n",
    "웹에서 추출된 정보는 '웹데이터'라고 한다. 보통 데이터와 구별하고 있고 그 특징도 있다.\n",
    "* 웹데이터는 웹 사이트에서 http통신으로 교환되는 데이터를 말한다. 따라서 모두 문자이다. 정량데이터도 예외가 아니다.\n",
    "따라서 웹에서 읽은 수를 합계, 평균을 계산하려면 문자에서 숫자형식으로 변환하는 것이 필요하다.\n",
    "* 서버가 반환하는 웹데이터는 보통 html, xml, json 형식을 가진다. 데이터를 사용하려면 추출을 미리 해야 한다."
   ]
  },
  {
   "cell_type": "markdown",
   "metadata": {
    "slideshow": {
     "slide_type": "subslide"
    }
   },
   "source": [
    "* 가져오는 방식은 api를 제공하는지에 따라 구분할 수 있다. api를 제공하지 않는 경우로 좁혀서 크롤링이라고 한다.\n",
    "\n",
    "방식 | 설명\n",
    "-----|-----\n",
    "웹크롤링 | api를 제공하지 않는 경우, 프로그램을 작성해서 웹데이터, 대개의 경우 html 페이지를 가져온다.\n",
    "api | api를 사용하여 가져온다. 데이터를 대상으로 하며 xml, json 형식이 많이 사용된다."
   ]
  },
  {
   "cell_type": "markdown",
   "metadata": {
    "slideshow": {
     "slide_type": "subslide"
    }
   },
   "source": [
    "### 1.3.1 프로그래밍으로 웹크롤링\n",
    "\n",
    "#### 사람이 하는 크롤링\n",
    "\n",
    "우리가 크롤링을 하는 경우에는 다음 작업을 반복하게 된다.\n",
    "* 자신의 컴퓨터에서 웹브라우저 (웹클라이언트)를 실행한다.\n",
    "* 웹브라우저의 주소창에 웹주소를 입력하고,\n",
    "* 결과가 웹브라우저에 뜨면, 원하는 데이터를 읽거나, 필요한 부분은 복사해서 저장한다.\n",
    "* 더 필요한 정보가 있으면 이런 절차를 반복한다.\n"
   ]
  },
  {
   "cell_type": "markdown",
   "metadata": {
    "slideshow": {
     "slide_type": "subslide"
    }
   },
   "source": [
    "#### 프로그램으로 하는 크롤링\n",
    "\n",
    "웹페이지에서 필요한 정보를 추출하는 크롤링을 프로그램으로 만들어 보자.\n",
    "프로그램은 컴퓨터가 실행하니까 대량 데이터를 반복으로 실행하는 노력을 덜어줄 것이다. 실제 크롤링을 컴퓨터가 아니라 사람이 한다면 효율이 매우 떨어지게 된다.\n",
    "\n",
    "단계 | 설명\n",
    "-------|-------\n",
    "url | 데이터를 가져올 도메인을 정한다. params까지 정해서 주소창에 연습해 본다.\n",
    "웹서버에 요청 | url의 요청방식 GET, header를 정의한다. http를 통해 서버에 요청(Request)하여 웹페이지를 반환(Response) 받게 된다.\n",
    "웹서버 처리결과 받기 | Response는 version, response code, body 등을 가진다.\n",
    "데이터항목 추출 | Response에서 가져온 결과를 tree로 만들어 추출한다 (parser). 대개 html, xml, json형식을 가진다.\n",
    "저장 | csv, Sql, NoSql을 사용한다.\n",
    "반복하기 | 다음 페이지를 연속해서 가져올 경우, 다음 requests는 어떻게 정의할지 정의한다.\n",
    "\n",
    "위 절차는 데이터 수집을 위해 수행된다. 뒤 따르는 데이터 분석을 위해서는 추가 작업이 필요하다. 데이터를 분석가능한 형식으로 정리해야 한다. 보통 행과 열로 정리한다. 그 후 비로서 통계 또는 머신러닝을 사용하여 분석이 시작된다. 여기서는 데이터수집을 데이터분석은 다음에 배워나갈 것이다.\n"
   ]
  },
  {
   "cell_type": "markdown",
   "metadata": {
    "slideshow": {
     "slide_type": "subslide"
    }
   },
   "source": [
    "## 1.3.2 웹페이지 주소\n",
    "\n",
    "#### URL\n",
    " \n",
    "URL은 웹페이지 주소이다. URL은 자원을 찾을 수 있는 방법을 포함하고 있고 URI 주소 방식에 따라 정해진다.\n",
    "\n",
    "> URI는 Uniform Resource Identifier의 줄임말이고, 어떤 자원에 대한 명칭이다. URI는 URN, URL을 모두 포함한다.\n",
    "> * '사람'의 예를 들어 보면, '이름'은 URN (Uniform Resource Name)이다.\n",
    "그 사람이 거주하는 '주소'는 찾아가는 방법을 포함하고 있으므로 URL (Uniform Resource Locator)이다.\n",
    "> * 파이썬 주소 http://www.python.org/index.html는 URL이다. 맨 앞에 찾아가는 방법, 즉 http를 가지고 있기 때문이다. http를 제외한 www.python.org/index.html은 URN이다.\n"
   ]
  },
  {
   "cell_type": "markdown",
   "metadata": {
    "slideshow": {
     "slide_type": "subslide"
    }
   },
   "source": [
    "#### URL의 형식\n",
    "\n",
    "인터넷주소 url의 형식은 다음과 같이 구성한다.\n",
    "\n",
    "```\n",
    "scheme:[//[user:password@]host[:port]][/]path[?query][#fragment]\n",
    "```\n",
    "\n",
    "구분 | 설명\n",
    "-----|-----\n",
    "scheme | 찾아가는 방법을 의미한다. 인터넷 주소는 http 방식을 사용한다. 예: http://www.smu.ac.kr\n",
    "사용자인증 | 인터넷주소는 개방되어 있기 때문에 보통 안 적는다.\n",
    "도메인 네임 | 영어로 된 도메인네임(www.smu.ac.kr)은 사람이, 컴퓨터는 숫자로 된 ip 주소. DNS에서 도메인네임을 ip주소로 변환한다.\n",
    "param | 도메인에 전송되는 명령어 역할을 하는 params에서 설명"
   ]
  },
  {
   "cell_type": "markdown",
   "metadata": {
    "slideshow": {
     "slide_type": "subslide"
    }
   },
   "source": [
    "#### 자신의 컴퓨터에 있는 파일의 URI\n",
    "\n",
    "자신의 컴퓨터에 있는 파일을 읽어오는 URI를 작성한다. 물론 웹브라우저가 읽을 수 있는 형식만 가능하다. 맨 앞 scheme이 http에서 file로 변경된다.\n",
    "```\n",
    "file://host/path/to/html\n",
    "```\n",
    "\n",
    "웹브라우저를 열고, 주소창에 '로컬파일 주소'를 형식에 맞추어 입력한다.\n",
    "* 'localhost'는 자신의 컴퓨터 명칭 'hostname'이다. 그 IP주소는 127.0.0.1이다.\n",
    "* 로컬파일을 부를 경우 'localhost'는 생략할 수 있다.\n",
    "```\n",
    "file://localhost/home/jsl/Code/src/mypage1.html\n",
    "file:///home/jsl/Code/src/mypage1.html (리눅스에서 사용하는 형식)\n",
    "file:///c:/Code/src/mypage1.html (윈도우에서 사용하는 형식)\n",
    "```\n"
   ]
  },
  {
   "cell_type": "code",
   "execution_count": 18,
   "metadata": {
    "collapsed": false,
    "slideshow": {
     "slide_type": "subslide"
    }
   },
   "outputs": [
    {
     "name": "stdout",
     "output_type": "stream",
     "text": [
      "Overwriting src/mypage1.html\n"
     ]
    }
   ],
   "source": [
    "%%writefile src/mypage1.html\n",
    "<!DOCTYPE html>\n",
    "<html>\n",
    "<head>\n",
    "<title>My Home Page</title>\n",
    "</head>\n",
    "<body>\n",
    "<h1>안녕하십니까</h1>\n",
    "<p>오늘은 프로그래밍 하는 날...</p>\n",
    "<p>Today we do programming...</p>\n",
    "</body>\n",
    "</html>"
   ]
  },
  {
   "cell_type": "markdown",
   "metadata": {
    "slideshow": {
     "slide_type": "subslide"
    }
   },
   "source": [
    "Python webbrowser를 사용해서 파일을 열 수 있다. Python 웹브라우저webbrowser에서 파일을 여는 경우, **시간**이 좀 걸린다 (몇 초 정도).\n",
    "운영체제 라이브러리 os를 사용하면 윈도우, 리눅스 교차 실행의 오류를 막을 수 있다. 교차실행오류는 디렉토리 구분자가 윈도우, 리눅스 간에 서로 다르기 때문에 발생한다.\n",
    "* os.path.join()을 사용하여 디렉토리 구분자로 인한 오류를 막아준다.\n",
    "* os.path.join()은 현재 작업디렉토리 'os.getcwd()' + 'src' + 'mypage1.html'을 합쳐 준다.\n",
    "\n",
    "운영체제 | 디렉토리 구분자\n",
    "-----|-----\n",
    "윈도우 | ```\\```\n",
    "리눅스 | ```/```"
   ]
  },
  {
   "cell_type": "code",
   "execution_count": 1,
   "metadata": {
    "collapsed": false,
    "slideshow": {
     "slide_type": "subslide"
    }
   },
   "outputs": [
    {
     "data": {
      "text/plain": [
       "True"
      ]
     },
     "execution_count": 1,
     "metadata": {},
     "output_type": "execute_result"
    }
   ],
   "source": [
    "import webbrowser\n",
    "import os\n",
    "\n",
    "myuri='file://'+'localhost'+os.path.join(os.getcwd(), 'src','mypage1.html')\n",
    "#print myuri\n",
    "webbrowser.open(myuri)"
   ]
  },
  {
   "cell_type": "markdown",
   "metadata": {
    "slideshow": {
     "slide_type": "subslide"
    }
   },
   "source": [
    "* 인터넷에서는 'UTF-8'을 사용한다. https://www.w3.org/International/questions/qa-choosing-encodings\n",
    "* 한글을 깨지지 않게 하려면, meta charset을 utf-8로 지정한다."
   ]
  },
  {
   "cell_type": "code",
   "execution_count": 2,
   "metadata": {
    "collapsed": false,
    "slideshow": {
     "slide_type": "-"
    }
   },
   "outputs": [
    {
     "name": "stdout",
     "output_type": "stream",
     "text": [
      "Overwriting src/mypage2.html\n"
     ]
    }
   ],
   "source": [
    "%%writefile src/mypage2.html\n",
    "<!DOCTYPE html>\n",
    "<html>\n",
    "<head>\n",
    "<meta charset=\"UTF-8\">\n",
    "<title>My Home Page</title>\n",
    "</head>\n",
    "<body>\n",
    "<h1>안녕하십니까</h1>\n",
    "<p>오늘은 프로그래밍 하는 날...</p>\n",
    "<p>Today we do programming...</p>\n",
    "</body>\n",
    "</html>"
   ]
  },
  {
   "cell_type": "code",
   "execution_count": 4,
   "metadata": {
    "collapsed": false,
    "slideshow": {
     "slide_type": "-"
    }
   },
   "outputs": [
    {
     "data": {
      "text/plain": [
       "True"
      ]
     },
     "execution_count": 4,
     "metadata": {},
     "output_type": "execute_result"
    }
   ],
   "source": [
    "webbrowser.open(myuri)"
   ]
  },
  {
   "cell_type": "markdown",
   "metadata": {
    "slideshow": {
     "slide_type": "subslide"
    }
   },
   "source": [
    "* ipython notebook에서 html을 표현한다.\n",
    "    * 셀에 내용을 입력하고 '%%html' 명령어를 사용한다."
   ]
  },
  {
   "cell_type": "code",
   "execution_count": 3,
   "metadata": {
    "collapsed": false,
    "slideshow": {
     "slide_type": "-"
    }
   },
   "outputs": [
    {
     "data": {
      "text/html": [
       "<!DOCTYPE html>\n",
       "<html>\n",
       "<head>\n",
       "<meta charset=\"UTF-8\">\n",
       "<title>My Home Page</title>\n",
       "</head>\n",
       "<body>\n",
       "<h1>안녕하십니까</h1>\n",
       "<p>오늘은 프로그래밍 하는 날...</p>\n",
       "<p>Today we do programming...</p>\n",
       "</body>\n",
       "</html>"
      ],
      "text/plain": [
       "<IPython.core.display.HTML object>"
      ]
     },
     "metadata": {},
     "output_type": "display_data"
    }
   ],
   "source": [
    "%%HTML\n",
    "<!DOCTYPE html>\n",
    "<html>\n",
    "<head>\n",
    "<meta charset=\"UTF-8\">\n",
    "<title>My Home Page</title>\n",
    "</head>\n",
    "<body>\n",
    "<h1>안녕하십니까</h1>\n",
    "<p>오늘은 프로그래밍 하는 날...</p>\n",
    "<p>Today we do programming...</p>\n",
    "</body>\n",
    "</html>"
   ]
  },
  {
   "cell_type": "markdown",
   "metadata": {
    "slideshow": {
     "slide_type": "subslide"
    }
   },
   "source": [
    "#### 원격 URL\n",
    "\n",
    "원격 구글지도에 접속해 보자. 특정 위치를 지정할 경우 URL에 어떤 변화가 있는지 보자.\n",
    "* 구글지도에 접속해서, 검색창에 'jongro gu hongji dong' 문자열을 입력한다.\n",
    "* 그리고 주소창의 domain과 그 뒤에 붙는 검색어를 보면 '/maps/place/'에 주소가 '+'로 연결되어 있다.\n",
    "\n",
    "이 URL을 Python 프로그램에서 직접 열려면 webbrowser를 사용하면 된다."
   ]
  },
  {
   "cell_type": "code",
   "execution_count": 32,
   "metadata": {
    "collapsed": false,
    "slideshow": {
     "slide_type": "-"
    }
   },
   "outputs": [
    {
     "data": {
      "text/plain": [
       "True"
      ]
     },
     "execution_count": 32,
     "metadata": {},
     "output_type": "execute_result"
    }
   ],
   "source": [
    "#브라우저에서 지도 열기\n",
    "import webbrowser\n",
    "myurl='https://www.google.co.kr/maps/place/Hongji-dong,+Jongno-gu,+Seoul/'\n",
    "webbrowser.open(myurl)"
   ]
  },
  {
   "cell_type": "markdown",
   "metadata": {
    "collapsed": true,
    "slideshow": {
     "slide_type": "subslide"
    }
   },
   "source": [
    "### 1.3.3 params\n",
    "\n",
    "* query string은 다음과 같이 구성한다.\n",
    "```\n",
    "http://example.com/over/there?name=ferret\n",
    "```\n",
    "* web form을 사용할 경우 query string\n",
    "    * field와 값을 한 쌍으로 구성, field=value\n",
    "    * 구분자는 & (또는 세미콜론 ;)\n",
    "```\n",
    "field1=value1&field2=value2&field3=value3...\n",
    "```\n",
    "\n",
    "* 위 지도를 열 경우와 같이, 검색어를 '+'로 붙여 쓰기도 한다."
   ]
  },
  {
   "cell_type": "code",
   "execution_count": 9,
   "metadata": {
    "collapsed": false,
    "slideshow": {
     "slide_type": "subslide"
    }
   },
   "outputs": [
    {
     "name": "stdout",
     "output_type": "stream",
     "text": [
      "a=4&c=2016&b=20&e=30&d=6&f=2016&s=%5EKS11\n"
     ]
    }
   ],
   "source": [
    "import urllib\n",
    "params = urllib.urlencode({\"a\":4,\"b\":20,\"c\":2016,\"d\":6,\"e\":30,\"f\":2016,\"s\":\"^KS11\"})\n",
    "print params"
   ]
  },
  {
   "cell_type": "markdown",
   "metadata": {},
   "source": [
    "r = requests.get(url, params={'s': thing})\n"
   ]
  },
  {
   "cell_type": "markdown",
   "metadata": {},
   "source": [
    "* URL 인코딩\n",
    "    * URL을 전송할 경우, ASCII 모든 문자를 사용할 수 없다.\n",
    "    * 이럴 경우 퍼센트 인코딩로 변환해서 전송한다. '%xx', 즉'%'와 그 뒤 16진수로 문자로 부호화 한다.\n",
    "\n",
    "문자 | URL 인코딩\n",
    "-----|------\n",
    "공백 | %20 (또는 '+')\n",
    "! | %21\n",
    "\" | %22\n",
    "'# | %23\n",
    "% | %25\n",
    "tilde(~) | %7E"
   ]
  },
  {
   "cell_type": "markdown",
   "metadata": {
    "slideshow": {
     "slide_type": "subslide"
    }
   },
   "source": [
    "* 예를 들어 구글검색 params에 특수문자가 포함될 수 있다.\n",
    "    * python을 검색하는 경우\n",
    "```\n",
    "https://www.google.co.kr/#q=python\n",
    "https://www.google.co.kr/search?q=python\n",
    "```\n",
    "\n",
    "    * 'python tutorial'을 검색할 경우\n",
    "```\n",
    "https://www.google.co.kr/#q=python+tutorial\n",
    "```"
   ]
  },
  {
   "cell_type": "markdown",
   "metadata": {
    "slideshow": {
     "slide_type": "subslide"
    }
   },
   "source": [
    "    * urllib이 변환기능을 제공하므로, 사용하면 편리하다. (참조, ds_REST.ipynb)"
   ]
  },
  {
   "cell_type": "code",
   "execution_count": 1,
   "metadata": {
    "collapsed": false,
    "slideshow": {
     "slide_type": "subslide"
    }
   },
   "outputs": [
    {
     "name": "stdout",
     "output_type": "stream",
     "text": [
      "%23q=python+tutorial\n"
     ]
    }
   ],
   "source": [
    "import urllib\n",
    "params = urllib.urlencode({\"#q\": \"python tutorial\"})\n",
    "print params"
   ]
  },
  {
   "cell_type": "code",
   "execution_count": 15,
   "metadata": {
    "collapsed": false,
    "scrolled": true,
    "slideshow": {
     "slide_type": "subslide"
    }
   },
   "outputs": [
    {
     "name": "stdout",
     "output_type": "stream",
     "text": [
      "%7E\n",
      "~\n"
     ]
    }
   ],
   "source": [
    "print urllib.quote('~');\n",
    "print urllib.quote('~', safe='~');"
   ]
  },
  {
   "cell_type": "code",
   "execution_count": 17,
   "metadata": {
    "collapsed": false,
    "slideshow": {
     "slide_type": "subslide"
    }
   },
   "outputs": [
    {
     "name": "stdout",
     "output_type": "stream",
     "text": [
      "%20\n",
      "+\n"
     ]
    }
   ],
   "source": [
    "print urllib.quote(' ')\n",
    "print urllib.quote_plus(' ')"
   ]
  },
  {
   "cell_type": "code",
   "execution_count": 11,
   "metadata": {
    "collapsed": false,
    "slideshow": {
     "slide_type": "subslide"
    }
   },
   "outputs": [
    {
     "name": "stdout",
     "output_type": "stream",
     "text": [
      "http://www.google.com/#q=python+tutorial\n"
     ]
    }
   ],
   "source": [
    "url = 'http://www.google.com/#q='\n",
    "print url + urllib.quote_plus('python tutorial')"
   ]
  },
  {
   "cell_type": "markdown",
   "metadata": {
    "slideshow": {
     "slide_type": "slide"
    }
   },
   "source": [
    "## 1.4 url 가져오기\n",
    "\n",
    "### 1.4.1 library\n",
    "\n",
    "* urllib - handles opening and reading URLs\n",
    "    * Python 3.x에서 urllib를 개정해서 1) urllib.request, 2) urllib.parse, 3) urllib.error로 나눔.\n",
    "    * 제공하는 기능이 서로 차이가 있어, urllib과 urllib2를 같이 사용하기도 한다.\n",
    "\n",
    "구분 | 차이\n",
    "-----|-----\n",
    "urllib | GET query를 생성하기 위한 urlencode()를 사용할 수 있다.\n",
    "urllib2 | 'Request'를 사용할 수 있다.\n",
    "\n",
    "* httplib - handles http requests, urllib내부에서 사용하고 있슴.\n",
    "* requests - web page가져오거나, API를 사용할 때. 아래는 서로 같은 기능을 한다.\n",
    "```\n",
    "urllib2.urlopen(url).read()\n",
    "requests.get(url).text\n",
    "```"
   ]
  },
  {
   "cell_type": "markdown",
   "metadata": {
    "slideshow": {
     "slide_type": "subslide"
    }
   },
   "source": [
    "* urllib2에서 페이지 가져오는 함수 urlopen()\n",
    "* 사용하고 close() 한다."
   ]
  },
  {
   "cell_type": "code",
   "execution_count": 5,
   "metadata": {
    "collapsed": false,
    "slideshow": {
     "slide_type": "-"
    }
   },
   "outputs": [],
   "source": [
    "import urllib2\n",
    "response = urllib2.urlopen(\"https://www.python.org/\")\n",
    "html=response.read()\n",
    "response.close()"
   ]
  },
  {
   "cell_type": "markdown",
   "metadata": {
    "slideshow": {
     "slide_type": "subslide"
    }
   },
   "source": [
    "* urllib2 라이브러리는 Request를 사용할 수 있다.\n",
    "* response의 결과 html을 500자만 읽어서 확인했다."
   ]
  },
  {
   "cell_type": "code",
   "execution_count": 26,
   "metadata": {
    "collapsed": false,
    "slideshow": {
     "slide_type": "subslide"
    }
   },
   "outputs": [
    {
     "name": "stdout",
     "output_type": "stream",
     "text": [
      "<!doctype html>\n",
      "<!--[if lt IE 7]>   <html class=\"no-js ie6 lt-ie7 lt-ie8 lt-ie9\">   <![endif]-->\n",
      "<!--[if IE 7]>      <html class=\"no-js ie7 lt-ie8 lt-ie9\">          <![endif]-->\n",
      "<!--[if IE 8]>      <html class=\"no-js ie8 lt-ie9\">                 <![endif]-->\n",
      "<!--[if gt IE 8]><!--><html class=\"no-js\" lang=\"en\" dir=\"ltr\">  <!--<![endif]-->\n",
      "\n",
      "<head>\n",
      "    <meta charset=\"utf-8\">\n",
      "    <meta http-equiv=\"X-UA-Compatible\" content=\"IE=edge\">\n",
      "\n",
      "    <link rel=\"prefetch\" href=\"//ajax.googleapis.com/ajax/libs/jqu\n"
     ]
    }
   ],
   "source": [
    "import urllib2\n",
    "url = 'http://www.python.org'\n",
    "request = urllib2.Request(url)\n",
    "response = urllib2.urlopen(request)\n",
    "html = response.read()\n",
    "print html[:500]"
   ]
  },
  {
   "cell_type": "markdown",
   "metadata": {
    "collapsed": true,
    "slideshow": {
     "slide_type": "subslide"
    }
   },
   "source": [
    "### 1.4.2 HTTP errors\n",
    "\n",
    "* urllib2.HTTPError 또는 urllib2.URLError\n",
    "* error.code (참조 https://en.wikipedia.org/wiki/List_of_HTTP_status_codes)\n",
    "\n",
    "코드 | 구분 | 예\n",
    "-----|-----|-----\n",
    "1xx | Informational | \n",
    "2xx | Success | 200 OK, 201 Created, 202 Accepted\n",
    "3xx | Redirection | \n",
    "4xx | 클라이언트 오류 | 400 Bad Request, 404 Not Found\n",
    "5xx | 서버 오류 | 500 Internal Server Error\n",
    "\n",
    "* 오류의 처리\n",
    "    * 오류가 발생하였는지 try, except문으로 처리할 수 있다.\n",
    "    * html에 저장된 내용이 없는 경우 'None'으로 확인할 수 있다."
   ]
  },
  {
   "cell_type": "code",
   "execution_count": 27,
   "metadata": {
    "collapsed": false,
    "slideshow": {
     "slide_type": "subslide"
    }
   },
   "outputs": [
    {
     "name": "stdout",
     "output_type": "stream",
     "text": [
      "404 OK\n"
     ]
    }
   ],
   "source": [
    "req = urllib2.Request('http://www.python.org/fish.html')\n",
    "\n",
    "try:\n",
    "    response=urllib2.urlopen(req)\n",
    "except urllib2.HTTPError, e:\n",
    "    print e.code, e.reason"
   ]
  },
  {
   "cell_type": "code",
   "execution_count": 28,
   "metadata": {
    "collapsed": false,
    "slideshow": {
     "slide_type": "subslide"
    }
   },
   "outputs": [
    {
     "name": "stdout",
     "output_type": "stream",
     "text": [
      "html has something!\n"
     ]
    }
   ],
   "source": [
    "if html is None:\n",
    "    print(\"URL is not found\")\n",
    "else:\n",
    "    print \"html has something!\""
   ]
  },
  {
   "cell_type": "markdown",
   "metadata": {
    "slideshow": {
     "slide_type": "slide"
    }
   },
   "source": [
    "## 1.5 BeautifulSoup\n",
    "\n",
    "* 많이 사용되는 Python 라이브러리\n",
    "* html, xml을 파싱할 수 있다.\n",
    "* 이전 버전은 더 이상 지원되지 않으므로, 버전은 4로 한다.\n",
    "\n",
    "* Linux Ubuntu는 apt를 사용하여 설치한다.\n",
    "```\n",
    "apt install python-bs4 (Python 2을 사용하는 경우)\n",
    "apt install python3-bs4 (Python 3을 사용하는 경우)\n",
    "```\n",
    "\n",
    "* 파이썬 패키지 저장소 PyPi에서 설치하는 경우 pip를 사용한다.\n",
    "```\n",
    "pip install beautifulsoup4 (beautifulsoup은 버전3을 설치한다)\n",
    "```\n",
    "\n",
    "* 파서를 넣어주지 않으면 기본 파서를 사용한다.\n",
    "\n",
    "파서 | 설치 | 설정\n",
    "-----|-----\n",
    "html.parser | Python에 내장 | BeautifulSoup(markup, \"html.parser\")\n",
    "lxml parser | C로 만든 파서, 별도 설치가 필요 | BeautifulSoup(markup, \"lxml\")\n",
    "\n",
    "* Linux Ubuntu에서 'lxml' 설치\n",
    "```\n",
    "apt-get install python-lxml\n",
    "```\n",
    "\n",
    "* 파이썬 패키지 저장소에서 'lxml' 설치\n",
    "\n",
    "```\n",
    "pip install lxml\n",
    "```\n"
   ]
  },
  {
   "cell_type": "markdown",
   "metadata": {
    "slideshow": {
     "slide_type": "subslide"
    }
   },
   "source": [
    "* requests로 url의 페이지를 가져와서, 그 페이지를 BeautifulSoup으로 parsing한다.\n",
    "* class 다음에는 _를 넣어 준다. 또는 key-value 형식으로 맞추어 준다."
   ]
  },
  {
   "cell_type": "code",
   "execution_count": 3,
   "metadata": {
    "collapsed": false
   },
   "outputs": [],
   "source": [
    "from bs4 import BeautifulSoup\n",
    "import requests\n",
    "page = requests.get(\"https://www.python.org/\")\n",
    "soup = BeautifulSoup(page.content,\"html.parser\")"
   ]
  },
  {
   "cell_type": "markdown",
   "metadata": {
    "collapsed": true,
    "slideshow": {
     "slide_type": "subslide"
    }
   },
   "source": [
    "* soup 객체는 웹페이지를 가지고 있다."
   ]
  },
  {
   "cell_type": "code",
   "execution_count": 6,
   "metadata": {
    "collapsed": false
   },
   "outputs": [
    {
     "name": "stdout",
     "output_type": "stream",
     "text": [
      "<!DOCTYPE doctype html>\n",
      "<!--[if lt IE 7]>   <html class=\"no-js ie6 lt-ie7 lt-ie8 lt-ie9\">   <![endif]-->\n",
      "<!--[if IE 7]>      <html class=\"no-js ie7 lt-ie8 lt-ie9\">          <![endif]-->\n",
      "<!--[if IE 8]>      <html class=\"no-js ie8 lt-ie9\">                 <![endif]-->\n",
      "<!--[if gt IE 8]><!-->\n",
      "<html class=\"no-js\" dir=\"ltr\" lang=\"en\">\n",
      " <!--<![endif]-->\n",
      " <head>\n",
      "  <meta charset=\"utf-8\">\n",
      "   <meta content=\"IE=edge\" http-equiv=\"X-UA-Compatible\">\n",
      "    <link href=\"//ajax.googleapis.com/ajax/libs/jquery/1.8.2/jquery.min.js\" rel=\"prefetch\">\n",
      "     <meta content=\"Python.org\" name=\"application-name\">\n",
      "      <meta content=\"The official home of the Python Programming Language\" name=\"msapplication-tooltip\">\n",
      "       <meta content=\"Python.org\" name=\"apple-mobile-web-app-title\">\n",
      "        <meta content=\"yes\" name=\"apple-mobile-web-app-capable\">\n",
      "         <meta content=\"black\" name=\"apple-mobile-web-app-status-bar-style\">\n",
      "          <meta content=\"width=device-width, initial-scale=1.0\" name=\"viewport\">\n",
      "           <met\n"
     ]
    }
   ],
   "source": [
    "print soup.prettify()[0:1000]"
   ]
  },
  {
   "cell_type": "code",
   "execution_count": 5,
   "metadata": {
    "collapsed": false,
    "scrolled": true,
    "slideshow": {
     "slide_type": "subslide"
    }
   },
   "outputs": [
    {
     "name": "stdout",
     "output_type": "stream",
     "text": [
      "<title>Welcome to Python.org</title>\n",
      "[<div class=\"top-bar do-not-print\" id=\"top\">\\n<nav class=\"meta-navigation container\" role=\"navigation\">\\n<div class=\"skip-link screen-reader-text\">\\n<a href=\"#content\" title=\"Skip to content\">Skip to content</a>\\n</div>\\n<a aria-hidden=\"true\" class=\"jump-link\" href=\"#python-network\" id=\"close-python-network\">\\n<span aria-hidden=\"true\" class=\"icon-arrow-down\"><span>\\u25bc</span></span> Close\\n                </a>\\n<ul class=\"menu\" role=\"tree\">\\n<li class=\"python-meta current_item selectedcurrent_branch selected\">\\n<a class=\"current_item selectedcurrent_branch selected\" href=\"/\" title=\"The Python Programming Language\">Python</a>\\n</li>\\n<li class=\"psf-meta \">\\n<a href=\"/psf-landing/\" title=\"The Python Software Foundation\">PSF</a>\\n</li>\\n<li class=\"docs-meta \">\\n<a href=\"https://docs.python.org\" title=\"Python Documentation\">Docs</a>\\n</li>\\n<li class=\"pypi-meta \">\\n<a href=\"https://pypi.python.org/\" title=\"Python Package Index\">PyPI</a>\\n</li>\\n<li class=\"jobs-meta \">\\n<a href=\"/jobs/\" title=\"Python Job Board\">Jobs</a>\\n</li>\\n<li class=\"shop-meta \">\\n<a href=\"/community/\" title=\"Python Community\">Community</a>\\n</li>\\n</ul>\\n<a aria-hidden=\"true\" class=\"jump-link\" href=\"#top\" id=\"python-network\">\\n<span aria-hidden=\"true\" class=\"icon-arrow-up\"><span>\\u25b2</span></span> The Python Network\\n                </a>\\n</nav>\\n</div>]\n"
     ]
    }
   ],
   "source": [
    "print soup.title\n",
    "print soup.find_all('div',class_=\"do-not-print\", id=\"top\")"
   ]
  },
  {
   "cell_type": "code",
   "execution_count": 12,
   "metadata": {
    "collapsed": false,
    "slideshow": {
     "slide_type": "subslide"
    }
   },
   "outputs": [
    {
     "name": "stdout",
     "output_type": "stream",
     "text": [
      "[<div class=\"top-bar do-not-print\" id=\"top\">\\n<nav class=\"meta-navigation container\" role=\"navigation\">\\n<div class=\"skip-link screen-reader-text\">\\n<a href=\"#content\" title=\"Skip to content\">Skip to content</a>\\n</div>\\n<a aria-hidden=\"true\" class=\"jump-link\" href=\"#python-network\" id=\"close-python-network\">\\n<span aria-hidden=\"true\" class=\"icon-arrow-down\"><span>\\u25bc</span></span> Close\\n                </a>\\n<ul class=\"menu\" role=\"tree\">\\n<li class=\"python-meta current_item selectedcurrent_branch selected\">\\n<a class=\"current_item selectedcurrent_branch selected\" href=\"/\" title=\"The Python Programming Language\">Python</a>\\n</li>\\n<li class=\"psf-meta \">\\n<a href=\"/psf-landing/\" title=\"The Python Software Foundation\">PSF</a>\\n</li>\\n<li class=\"docs-meta \">\\n<a href=\"https://docs.python.org\" title=\"Python Documentation\">Docs</a>\\n</li>\\n<li class=\"pypi-meta \">\\n<a href=\"https://pypi.python.org/\" title=\"Python Package Index\">PyPI</a>\\n</li>\\n<li class=\"jobs-meta \">\\n<a href=\"/jobs/\" title=\"Python Job Board\">Jobs</a>\\n</li>\\n<li class=\"shop-meta \">\\n<a href=\"/community/\" title=\"Python Community\">Community</a>\\n</li>\\n</ul>\\n<a aria-hidden=\"true\" class=\"jump-link\" href=\"#top\" id=\"python-network\">\\n<span aria-hidden=\"true\" class=\"icon-arrow-up\"><span>\\u25b2</span></span> The Python Network\\n                </a>\\n</nav>\\n</div>]\n"
     ]
    }
   ],
   "source": [
    "print soup.find_all('div',{'class': 'do-not-print','id':'top'})"
   ]
  },
  {
   "cell_type": "markdown",
   "metadata": {
    "slideshow": {
     "slide_type": "subslide"
    }
   },
   "source": [
    "* a link의 href를 구할 수 있다."
   ]
  },
  {
   "cell_type": "code",
   "execution_count": 11,
   "metadata": {
    "collapsed": false,
    "slideshow": {
     "slide_type": "-"
    }
   },
   "outputs": [
    {
     "name": "stdout",
     "output_type": "stream",
     "text": [
      "0 #content\n",
      "1 #python-network\n",
      "2 /\n",
      "3 /psf-landing/\n",
      "4 https://docs.python.org\n",
      "5 https://pypi.python.org/\n",
      "6 /jobs/\n",
      "7 /community/\n",
      "8 #top\n",
      "9 /\n",
      "10 #site-map\n",
      "11 #\n",
      "12 javascript:;\n",
      "13 javascript:;\n",
      "14 javascript:;\n",
      "15 #\n",
      "16 http://plus.google.com/+Python\n",
      "17 http://www.facebook.com/pythonlang?fref=ts\n",
      "18 http://twitter.com/ThePSF\n",
      "19 /community/irc/\n"
     ]
    }
   ],
   "source": [
    "for counter,link in enumerate(soup.find_all('a')):\n",
    "    if(counter<20):\n",
    "        print counter,link.get('href')"
   ]
  },
  {
   "cell_type": "markdown",
   "metadata": {
    "slideshow": {
     "slide_type": "slide"
    }
   },
   "source": [
    "## 웹데이터-1: python.org 페이지가 가지고 있는 http url 출력하기\n",
    "\n",
    "### 문제\n",
    "\n",
    "크롤링하려는 'www.python.org'는 파이썬 언어에서 운영하는 홈페이지이므로 자주 방문한게 된다.\n",
    "여기서 이 페이지가 포함하는 링크를 알아보려고 한다.\n",
    "문제를 풀기 전에 웹브라우저를 열고 'python.org'라고 입력해 보자.\n",
    "마우스를 가져가면 하이퍼링크가 활성화된다. 이런 링크를 가져오는 것이 문제이다.\n",
    "링크는 문서내의 다른 장소로 이동하거나 다른 웹페이지로 이동하는 기능을 제공한다.\n",
    "다른 페이지로 이동하는 링크만 출력한다.\n",
    "* 전체 링크의 갯수\n",
    "* 다른 페이지로 가는 링크 목록\n",
    "\n",
    "웹브라우저 메뉴에서 소스보기를 클릭하면 html 소스를 볼 수 있다. 하나씩 세어도 답을 할 수 있지만 프로그램으로 하면 시간, 노력, 오류를 줄일 수 있다."
   ]
  },
  {
   "cell_type": "markdown",
   "metadata": {
    "slideshow": {
     "slide_type": "subslide"
    }
   },
   "source": [
    "### 풀이\n",
    "\n",
    "\n",
    "주소창에 url을 입력하고 웹페이지를 요청하는 것과 같이 Python.org페이지를 크롤링해 온다.\n",
    "* 다음 방식으로 해 본다.\n",
    "    * BeautifulSoup"
   ]
  },
  {
   "cell_type": "code",
   "execution_count": 9,
   "metadata": {
    "collapsed": false,
    "slideshow": {
     "slide_type": "-"
    }
   },
   "outputs": [
    {
     "name": "stdout",
     "output_type": "stream",
     "text": [
      "48721\n"
     ]
    }
   ],
   "source": [
    "import requests\n",
    "\n",
    "r = requests.get(u'http://python.org/')\n",
    "r.raise_for_status()\n",
    "print len(r.content)"
   ]
  },
  {
   "cell_type": "code",
   "execution_count": 1,
   "metadata": {
    "collapsed": false,
    "slideshow": {
     "slide_type": "-"
    }
   },
   "outputs": [
    {
     "name": "stdout",
     "output_type": "stream",
     "text": [
      "48721\n"
     ]
    }
   ],
   "source": [
    "import requests\n",
    "\n",
    "r = requests.get(u'http://python.org/')\n",
    "uResponse = urllib.urlopen('http://python.org/')\n",
    "_html = uResponse.read()\n",
    "print len(_html)"
   ]
  },
  {
   "cell_type": "markdown",
   "metadata": {
    "slideshow": {
     "slide_type": "slide"
    }
   },
   "source": [
    "### BeautifulSoup\n",
    "\n",
    "* 태그를 파싱하는 라이브러리\n",
    "* 설치를 하지 않았다면:\n",
    "    * 윈도우 아나콘다창 또는 맥/리눅스 Terminal에서 설치를 한다. 'sudo'는 관리자 권한이다.\n",
    "    ```\n",
    "    sudo pip install BeautifulSoup\n",
    "    ```\n",
    "\n",
    "* 위 예제, p 태그의 처음에 있는 strong 태그 가져오기\n",
    "* 파서parser, lxml을 추가한다."
   ]
  },
  {
   "cell_type": "code",
   "execution_count": 2,
   "metadata": {
    "collapsed": false,
    "slideshow": {
     "slide_type": "slide"
    }
   },
   "outputs": [
    {
     "name": "stdout",
     "output_type": "stream",
     "text": [
      "<strong>Notice:</strong>\n",
      "<strong><small>A</small> A</strong>\n",
      "<strong>relaunched community-run job board</strong>\n"
     ]
    }
   ],
   "source": [
    "from bs4 import BeautifulSoup\n",
    "tree=BeautifulSoup(_html, \"lxml\")\n",
    "strongtags=tree('strong')\n",
    "for tag in strongtags:\n",
    "    print tag"
   ]
  },
  {
   "cell_type": "markdown",
   "metadata": {
    "slideshow": {
     "slide_type": "slide"
    }
   },
   "source": [
    "* urllib을 사용해서, html을 가져온다.\n",
    "* 20개만 출력한다. 전체 개수는 맨 마지막 줄에 출력한다."
   ]
  },
  {
   "cell_type": "code",
   "execution_count": 3,
   "metadata": {
    "collapsed": false,
    "scrolled": true,
    "slideshow": {
     "slide_type": "slide"
    }
   },
   "outputs": [
    {
     "name": "stdout",
     "output_type": "stream",
     "text": [
      "0 /wiki/Wikipedia:Protection_policy#semi\n",
      "1 #mw-head\n",
      "2 #p-search\n",
      "3 /wiki/HTM_(disambiguation)\n",
      "4 /wiki/Help:HTML_in_wikitext\n",
      "5 /wiki/File:HTML.svg\n",
      "6 /wiki/Filename_extension\n",
      "7 /wiki/Media_type\n",
      "8 /wiki/Type_code\n",
      "9 /wiki/World_Wide_Web_Consortium\n",
      "10 /wiki/WHATWG\n",
      "11 /wiki/Software_release_life_cycle\n",
      "12 /wiki/HTML5\n",
      "13 /wiki/Document_file_format\n",
      "14 /wiki/Standard_Generalized_Markup_Language\n",
      "15 /wiki/XHTML\n",
      "16 /wiki/International_standard\n",
      "17 http://www.w3.org/TR/html/\n",
      "18 http://whatwg.org/html\n",
      "19 http://www.w3.org/TR/html51/\n",
      "Total:  1610\n"
     ]
    }
   ],
   "source": [
    "from urllib import urlopen\n",
    "from bs4 import BeautifulSoup\n",
    "#_html = urlopen(\"http://en.wikipedia.org/wiki/Kevin_Bacon\")\n",
    "_html = urlopen(\"http://en.wikipedia.org/wiki/HTML\").read()\n",
    "tree = BeautifulSoup(_html, \"lxml\")\n",
    "counter=0\n",
    "for link in tree.findAll(\"a\"):\n",
    "    if 'href' in link.attrs:\n",
    "        if counter<20:\n",
    "            print counter, link.attrs['href']\n",
    "        counter+=1\n",
    "print \"Total: \", counter"
   ]
  },
  {
   "cell_type": "markdown",
   "metadata": {
    "collapsed": true,
    "slideshow": {
     "slide_type": "subslide"
    }
   },
   "source": [
    "### 파일 버전\n",
    "\n",
    "* r.text는 unicode, r.content는 bytes로 Response를 받아온다.\n",
    "* 페이지를 읽을 경우, 발생오류에 대한 예외처리 try-except를 넣었다.\n"
   ]
  },
  {
   "cell_type": "code",
   "execution_count": null,
   "metadata": {
    "collapsed": true
   },
   "outputs": [],
   "source": [
    "# %load src/ds2_1_crawlLink.py\n",
    "#!\n",
    "\n",
    "import requests\n",
    "from bs4 import BeautifulSoup\n",
    "\n",
    "def readPythonOrg():\n",
    "    try:\n",
    "        r = requests.get(u'http://python.org/')\n",
    "        r.raise_for_status()\n",
    "    except requests.exceptions.HTTPError as e:\n",
    "        print e\n",
    "        sys.exit(1)\n",
    "    soup=BeautifulSoup(r.content,\"lxml\")\n",
    "    my=soup.select(\"a\")\n",
    "    ahref=soup.find_all('a', href=True)\n",
    "    print \"total number of links:\",len(my)\n",
    "\n",
    "\n",
    "def main():\n",
    "    readPythonOrg()\n",
    "\n",
    "if __name__==\"__main__\":\n",
    "    main()\n",
    "\n"
   ]
  }
 ],
 "metadata": {
  "celltoolbar": "Slideshow",
  "kernelspec": {
   "display_name": "Python 2",
   "language": "python",
   "name": "python2"
  },
  "language_info": {
   "codemirror_mode": {
    "name": "ipython",
    "version": 2
   },
   "file_extension": ".py",
   "mimetype": "text/x-python",
   "name": "python",
   "nbconvert_exporter": "python",
   "pygments_lexer": "ipython2",
   "version": "2.7.12"
  }
 },
 "nbformat": 4,
 "nbformat_minor": 0
}

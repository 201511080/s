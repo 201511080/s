{
 "cells": [
  {
   "cell_type": "markdown",
   "metadata": {
    "slideshow": {
     "slide_type": "slide"
    }
   },
   "source": [
    "# Twitter\n",
    "\n",
    "* Last updated 20160823\n",
    "\n",
    "## T.1 학습내용\n",
    "\n",
    "### T.1.1 목표\n",
    "\n",
    "* OAuth인증을 사용할 수 있다.\n",
    "* Twitter API를 사용하여 글을 쓰고, 읽고, 검색할 수 있다.\n",
    "    * T-3에 모두 묶어서 하나의 python으로 저장하고 file, mongo로 저장한다.\n",
    "* 트윗을 저장한다."
   ]
  },
  {
   "cell_type": "markdown",
   "metadata": {
    "slideshow": {
     "slide_type": "subslide"
    }
   },
   "source": [
    "### T.1.2 문제\n",
    "\n",
    "* T-1: Twitter에 'Hello World'를 쓴다.\n",
    "    * save json\n",
    "* T-2: Twitter에서 자신의 타임라인 가져오기\n",
    "    * 2개만 (count)\n",
    "    * 특정 시점 (max_id, since_id)\n",
    "    * 모두 가져오기\n",
    "    * mongo save\n",
    "* T-3: Twitter에 'Seoul'을 10개 검색한다.\n",
    "* T-4: Twitter에 'Seoul'을 2015년 12월 한 달 분량을 읽는다.\n",
    "* T-5: Follower를 가져온다.\n",
    "* T-6: Follower의 timeline을 가져온다.\n",
    "* T-7: 트렌드 읽기\n",
    "* T-8: write to a file (or db)\n",
    "* T-9: WordCloud"
   ]
  },
  {
   "cell_type": "markdown",
   "metadata": {
    "slideshow": {
     "slide_type": "subslide"
    }
   },
   "source": [
    "### T.1.3 연습\n",
    "\n",
    "* 읽어와서 단어별로 빈도 그래프"
   ]
  },
  {
   "cell_type": "markdown",
   "metadata": {
    "slideshow": {
     "slide_type": "slide"
    }
   },
   "source": [
    "## S.2 소개\n",
    "\n",
    "### S.2.1 SNS 크롤링\n",
    "\n",
    "* SNS는 Social Network Service로 사람과 사람들이 관계를 가지고, 서로 자신들의 의견이나 활동과 같이 하고 싶은 얘기를 하는 사이트. Twitter, Facebook과 같은 소셜미디어를 예로 들 수 있다.\n",
    "* SNS 데이터를 API로 가져와 의미있는 정보를 분석하는 작업\n",
    "* 사용할 수 있는 라이브러리\n",
    "    * twitter\n",
    "```\n",
    "pip install twitter\n",
    "```\n",
    "\n",
    "    * [python-oauth2](https://github.com/joestump/python-oauth2/wiki/)\n",
    "        * httplib2를 사용하는 방식과 유사\n",
    "```\n",
    "pip install oauth2 \n",
    "```\n",
    "\n",
    "    * urllib2\n",
    "    * requests\n",
    "    * curl - Terminal에서 사용하는 명령어\n"
   ]
  },
  {
   "cell_type": "markdown",
   "metadata": {
    "slideshow": {
     "slide_type": "subslide"
    }
   },
   "source": [
    "### S.2.2 데이터량 제한 Rate limit\n",
    "\n",
    "* Twitter 데이터를 가져오는 방법\n",
    "    * 1 Twitter’s Search API\n",
    "    * 2 Streaming API - at most 1% (not random)\n",
    "```\n",
    "http://stackoverflow.com/questions/17319788/using-python-and-oauth2-with-twitter-streaming-api\n",
    "```\n",
    "\n",
    "    * 3 Firehose - a paid service 유료, 모든 트윗을 가져올 수 있다."
   ]
  },
  {
   "cell_type": "markdown",
   "metadata": {
    "slideshow": {
     "slide_type": "subslide"
    }
   },
   "source": [
    "* Twitter’s rate limits (the number of calls it allows each user to make) fall into two categories:\n",
    "    * 15 calls per 15-minute period, and\n",
    "    * 180 calls per 15-minute period, depending on the type of call.\n",
    "    * API_KEY, API_SECRET - 'Application only Auth' - 450 request/sec (maximum 100 tweets per request), this gives a rate of 45,000 tweets/15-min, which is 2.5 times more than the Access Token Limit."
   ]
  },
  {
   "cell_type": "markdown",
   "metadata": {
    "slideshow": {
     "slide_type": "subslide"
    }
   },
   "source": [
    "### S.2.3 OAuth\n",
    "\n",
    "* Authorization\n",
    "    * http basic\n",
    "        * 사용자계정, 비밀번호로 로그인\n",
    "        * 사용자 비밀번호가 공개되어 보안에 취약하며, 권한 제어가 되지 않아 무제한 사용 가능한 문제\n",
    "        * https를 사용할 수 있다.\n",
    "    ```\n",
    "    http://site.com/api/sync?username=user_name&password=user_pass&args=args\n",
    "    ```\n",
    "    * OAuth OAuth Open Authentication Protocol\n",
    "        * Twitter에 요청해서 App에 access token을 물어보는 방식"
   ]
  },
  {
   "cell_type": "markdown",
   "metadata": {
    "slideshow": {
     "slide_type": "subslide"
    }
   },
   "source": [
    "* signature\n",
    "    * generate an OAuth 1.0a HMAC-SHA1 signature for a HTTP request.\n",
    "    * This signature will be suitable for passing to the Twitter API as part of an authorized request"
   ]
  },
  {
   "cell_type": "markdown",
   "metadata": {
    "slideshow": {
     "slide_type": "subslide"
    }
   },
   "source": [
    "* Authentication 사용자 인증\n",
    "    * consumer key, consumer secret\n",
    "    * access token, access token secret"
   ]
  },
  {
   "cell_type": "markdown",
   "metadata": {
    "slideshow": {
     "slide_type": "subslide"
    }
   },
   "source": [
    "* 3 legged vs 2 legged\n",
    "    * 양자 vs 3자 방식: leg는 개입하는 역할을 의미.\n",
    "    * 3자 방식\n",
    "        * end-user (or resource owner)\n",
    "        * consumer (the third-party application) - 여기에 억세스토큰만 전달됨\n",
    "        * service provider (or authorization server) - e.g., Twitter, Facebook\n",
    "        ```\n",
    "        client = oauth.Client(consumer, token)\n",
    "        ```\n",
    "\n",
    "    * 양자 방식 - end-user 제외\n",
    "        * a simple client-server authenticated request - client의 customer key, customer secret을 사용해서 사인하는 방식\n",
    "        * access token or access token secret을 사용하지 않음.\n",
    "        * oauth2.Token is only needed for three-legged requests\n",
    "\n",
    "        ```\n",
    "        client = oauth.Client(consumer)\n",
    "        ```"
   ]
  },
  {
   "cell_type": "markdown",
   "metadata": {
    "slideshow": {
     "slide_type": "subslide"
    }
   },
   "source": [
    "* endpoint\n",
    "    * 서버의 사용하려는 서비스 url\n",
    "    * 사용자 요청이 끝나는 API url"
   ]
  },
  {
   "cell_type": "markdown",
   "metadata": {
    "slideshow": {
     "slide_type": "subslide"
    }
   },
   "source": [
    "* 프로세스\n",
    "    * 사용자가 트위터앱을 사용함\n",
    "    * 트위터앱은 트위터 (서비스 제공자)에게 로그인을 요청\n",
    "    * 트위터 (서비스 제공자)는 사용자에게 로그인페이지를 돌려줌.\n",
    "    * 트위터 (서비스 제공자)는 트위어앱에 'access token'을 제공함.\n",
    "\n",
    "* end-user는 나중에 마음에 들지 않는 권한을 취소할 수 있다.\n",
    "* 앱의 access token을 revoke할 수 있다."
   ]
  },
  {
   "cell_type": "code",
   "execution_count": 1,
   "metadata": {
    "collapsed": true,
    "slideshow": {
     "slide_type": "subslide"
    }
   },
   "outputs": [],
   "source": [
    "import iplantuml"
   ]
  },
  {
   "cell_type": "code",
   "execution_count": 2,
   "metadata": {
    "collapsed": false,
    "slideshow": {
     "slide_type": "-"
    }
   },
   "outputs": [
    {
     "data": {
      "image/svg+xml": [
       "<svg height=\"255px\" style=\"width:373px;height:255px;\" version=\"1.1\" viewBox=\"0 0 373 255\" width=\"373px\" xmlns=\"http://www.w3.org/2000/svg\" xmlns:xlink=\"http://www.w3.org/1999/xlink\"><defs><filter height=\"300%\" id=\"f1\" width=\"300%\" x=\"-1\" y=\"-1\"><feGaussianBlur result=\"blurOut\" stdDeviation=\"2.0\"/><feColorMatrix in=\"blurOut\" result=\"blurOut2\" type=\"matrix\" values=\"0 0 0 0 0 0 0 0 0 0 0 0 0 0 0 0 0 0 .4 0\"/><feOffset dx=\"4.0\" dy=\"4.0\" in=\"blurOut2\" result=\"blurOut3\"/><feBlend in=\"SourceGraphic\" in2=\"blurOut3\" mode=\"normal\"/></filter></defs><g><line style=\"stroke: #A80036; stroke-width: 1.0; stroke-dasharray: 5.0,5.0;\" x1=\"46\" x2=\"46\" y1=\"38.2969\" y2=\"216.9609\"/><line style=\"stroke: #A80036; stroke-width: 1.0; stroke-dasharray: 5.0,5.0;\" x1=\"221\" x2=\"221\" y1=\"38.2969\" y2=\"216.9609\"/><line style=\"stroke: #A80036; stroke-width: 1.0; stroke-dasharray: 5.0,5.0;\" x1=\"337.5\" x2=\"337.5\" y1=\"38.2969\" y2=\"216.9609\"/><rect fill=\"#FEFECE\" filter=\"url(#f1)\" height=\"30.2969\" style=\"stroke: #A80036; stroke-width: 1.5;\" width=\"73\" x=\"8\" y=\"3\"/><text fill=\"#000000\" font-family=\"sans-serif\" font-size=\"14\" lengthAdjust=\"spacingAndGlyphs\" textLength=\"59\" x=\"15\" y=\"22.9951\">EndUser</text><rect fill=\"#FEFECE\" filter=\"url(#f1)\" height=\"30.2969\" style=\"stroke: #A80036; stroke-width: 1.5;\" width=\"73\" x=\"8\" y=\"215.9609\"/><text fill=\"#000000\" font-family=\"sans-serif\" font-size=\"14\" lengthAdjust=\"spacingAndGlyphs\" textLength=\"59\" x=\"15\" y=\"235.9561\">EndUser</text><rect fill=\"#FEFECE\" filter=\"url(#f1)\" height=\"30.2969\" style=\"stroke: #A80036; stroke-width: 1.5;\" width=\"41\" x=\"199\" y=\"3\"/><text fill=\"#000000\" font-family=\"sans-serif\" font-size=\"14\" lengthAdjust=\"spacingAndGlyphs\" textLength=\"27\" x=\"206\" y=\"22.9951\">App</text><rect fill=\"#FEFECE\" filter=\"url(#f1)\" height=\"30.2969\" style=\"stroke: #A80036; stroke-width: 1.5;\" width=\"41\" x=\"199\" y=\"215.9609\"/><text fill=\"#000000\" font-family=\"sans-serif\" font-size=\"14\" lengthAdjust=\"spacingAndGlyphs\" textLength=\"27\" x=\"206\" y=\"235.9561\">App</text><rect fill=\"#FEFECE\" filter=\"url(#f1)\" height=\"30.2969\" style=\"stroke: #A80036; stroke-width: 1.5;\" width=\"58\" x=\"306.5\" y=\"3\"/><text fill=\"#000000\" font-family=\"sans-serif\" font-size=\"14\" lengthAdjust=\"spacingAndGlyphs\" textLength=\"44\" x=\"313.5\" y=\"22.9951\">Server</text><rect fill=\"#FEFECE\" filter=\"url(#f1)\" height=\"30.2969\" style=\"stroke: #A80036; stroke-width: 1.5;\" width=\"58\" x=\"306.5\" y=\"215.9609\"/><text fill=\"#000000\" font-family=\"sans-serif\" font-size=\"14\" lengthAdjust=\"spacingAndGlyphs\" textLength=\"44\" x=\"313.5\" y=\"235.9561\">Server</text><polygon fill=\"#A80036\" points=\"209.5,65.2969,219.5,69.2969,209.5,73.2969,213.5,69.2969\" style=\"stroke: #A80036; stroke-width: 1.0;\"/><line style=\"stroke: #A80036; stroke-width: 1.0;\" x1=\"46.5\" x2=\"215.5\" y1=\"69.2969\" y2=\"69.2969\"/><text fill=\"#000000\" font-family=\"sans-serif\" font-size=\"13\" lengthAdjust=\"spacingAndGlyphs\" textLength=\"151\" x=\"53.5\" y=\"64.3638\">request log-in to Twitter</text><polygon fill=\"#A80036\" points=\"325.5,94.4297,335.5,98.4297,325.5,102.4297,329.5,98.4297\" style=\"stroke: #A80036; stroke-width: 1.0;\"/><line style=\"stroke: #A80036; stroke-width: 1.0;\" x1=\"221.5\" x2=\"331.5\" y1=\"98.4297\" y2=\"98.4297\"/><text fill=\"#000000\" font-family=\"sans-serif\" font-size=\"13\" lengthAdjust=\"spacingAndGlyphs\" textLength=\"92\" x=\"228.5\" y=\"93.4966\">ask login page</text><polygon fill=\"#A80036\" points=\"57.5,123.5625,47.5,127.5625,57.5,131.5625,53.5,127.5625\" style=\"stroke: #A80036; stroke-width: 1.0;\"/><line style=\"stroke: #A80036; stroke-width: 1.0;\" x1=\"51.5\" x2=\"336.5\" y1=\"127.5625\" y2=\"127.5625\"/><text fill=\"#000000\" font-family=\"sans-serif\" font-size=\"13\" lengthAdjust=\"spacingAndGlyphs\" textLength=\"66\" x=\"63.5\" y=\"122.6294\">login page</text><line style=\"stroke: #A80036; stroke-width: 1.0;\" x1=\"46.5\" x2=\"88.5\" y1=\"156.8281\" y2=\"156.8281\"/><line style=\"stroke: #A80036; stroke-width: 1.0;\" x1=\"88.5\" x2=\"88.5\" y1=\"156.8281\" y2=\"169.8281\"/><line style=\"stroke: #A80036; stroke-width: 1.0;\" x1=\"47.5\" x2=\"88.5\" y1=\"169.8281\" y2=\"169.8281\"/><polygon fill=\"#A80036\" points=\"57.5,165.8281,47.5,169.8281,57.5,173.8281,53.5,169.8281\" style=\"stroke: #A80036; stroke-width: 1.0;\"/><text fill=\"#000000\" font-family=\"sans-serif\" font-size=\"13\" lengthAdjust=\"spacingAndGlyphs\" textLength=\"113\" x=\"53.5\" y=\"151.7622\">enter id,password</text><polygon fill=\"#A80036\" points=\"232.5,194.8281,222.5,198.8281,232.5,202.8281,228.5,198.8281\" style=\"stroke: #A80036; stroke-width: 1.0;\"/><line style=\"stroke: #A80036; stroke-width: 1.0;\" x1=\"226.5\" x2=\"336.5\" y1=\"198.8281\" y2=\"198.8281\"/><text fill=\"#000000\" font-family=\"sans-serif\" font-size=\"13\" lengthAdjust=\"spacingAndGlyphs\" textLength=\"84\" x=\"238.5\" y=\"193.895\">access token</text></g></svg>"
      ],
      "text/plain": [
       "<IPython.core.display.SVG object>"
      ]
     },
     "execution_count": 2,
     "metadata": {},
     "output_type": "execute_result"
    }
   ],
   "source": [
    "%%plantuml\n",
    "@startuml\n",
    "EndUser -> App: request log-in to Twitter\n",
    "App -> Server: ask login page\n",
    "Server -> EndUser : login page\n",
    "EndUser -> EndUser : enter id,password\n",
    "Server -> App: access token\n",
    "@enduml"
   ]
  },
  {
   "cell_type": "markdown",
   "metadata": {
    "slideshow": {
     "slide_type": "subslide"
    }
   },
   "source": [
    "## 트위터 키 설정하기\n",
    "\n",
    "* [트위터](https://twitter.com) 회원가입을 하고, 자신의 계정을 만든다.\n",
    "* apps.twitter.com로 가서\n",
    "* \"Create New App\" 앱을 생성한다.\n",
    "* 앱의 이름, 설명을 입력\n",
    "* 앱의 웹사이트를 입력 - 앱이 실행될 호스트. 없으면 임시로 넣는다. 또는 https://twitter.com\n",
    "\n",
    "* \"Keys and Access Tokens\"를 누른다.\n",
    "* \"Create my access token\"\n",
    "\n",
    "* 2개의 키가 필요 - consumer, token"
   ]
  },
  {
   "cell_type": "markdown",
   "metadata": {
    "slideshow": {
     "slide_type": "subslide"
    }
   },
   "source": [
    "* 파일에 저장된 key를 사용한다.\n",
    "    * java twitter4j에서 사용하는 twitter4j.properties 파일을 사용한다.\n",
    "    * 첫 줄은 의미가 없으므로 버리고,\n",
    "    * 나머지 줄은 '.' 뒤를 대문자로 바꾸어서 사용한다. line을 읽을 때 '\\n'을 제거한다."
   ]
  },
  {
   "cell_type": "code",
   "execution_count": 1,
   "metadata": {
    "collapsed": false,
    "slideshow": {
     "slide_type": "subslide"
    }
   },
   "outputs": [],
   "source": [
    "def getApiKey(keyPath):\n",
    "    d=dict()\n",
    "    f=open(keyPath,'r')\n",
    "    for line in f.readlines():\n",
    "        row=line.split('=')\n",
    "        if(row[0]!='debug'):\n",
    "            row0=row[0].split('.')\n",
    "            d[row0[1].upper()]=row[1].strip()\n",
    "    return d"
   ]
  },
  {
   "cell_type": "code",
   "execution_count": 3,
   "metadata": {
    "collapsed": false,
    "slideshow": {
     "slide_type": "-"
    }
   },
   "outputs": [],
   "source": [
    "import os\n",
    "\n",
    "keyPath=os.path.join(os.path.expanduser(\"~\"),'Code/git/bb/sd','twitter4j.properties')\n",
    "key=getApiKey(keyPath)\n",
    "#print key"
   ]
  },
  {
   "cell_type": "markdown",
   "metadata": {
    "slideshow": {
     "slide_type": "slide"
    }
   },
   "source": [
    "## T-1: Twitter에 'Hello World'를 쓴다.\n",
    "\n",
    "* 트위터 API문서 참조\n",
    "    * statuses.update\n",
    "    * https://dev.twitter.com/rest/reference/post/statuses/update\n",
    "    * Parameters\n",
    "        * 반드시 입력해야 하는 항목 ('required') -> status\n",
    "    * 결과는 JSON\n",
    "    * 주의: OAuth Signature가 있어야 함."
   ]
  },
  {
   "cell_type": "markdown",
   "metadata": {
    "slideshow": {
     "slide_type": "subslide"
    }
   },
   "source": [
    "### Twitter 라이브러리 "
   ]
  },
  {
   "cell_type": "code",
   "execution_count": 4,
   "metadata": {
    "collapsed": false,
    "slideshow": {
     "slide_type": "-"
    }
   },
   "outputs": [
    {
     "name": "stdout",
     "output_type": "stream",
     "text": [
      "<twitter.api.Twitter object at 0x7fd3b4168d90>\n"
     ]
    }
   ],
   "source": [
    "import twitter\n",
    "#auth = twitter.oauth.OAuth(ACCESS_TOKEN,ACCESS_TOKEN_SECRET,CONSUMER_KEY, CONSUMER_SECRET)\n",
    "auth = twitter.oauth.OAuth(key['ACCESSTOKEN'],key['ACCESSTOKENSECRET'],\n",
    "                            key['CONSUMERKEY'], key['CONSUMERSECRET'])\n",
    "_client = twitter.Twitter(auth=auth)\n",
    "print _client"
   ]
  },
  {
   "cell_type": "code",
   "execution_count": 43,
   "metadata": {
    "collapsed": false,
    "scrolled": true,
    "slideshow": {
     "slide_type": "subslide"
    }
   },
   "outputs": [
    {
     "data": {
      "text/plain": [
       "{u'contributors': None,\n",
       " u'coordinates': None,\n",
       " u'created_at': u'Sat Sep 24 08:59:47 +0000 2016',\n",
       " u'entities': {u'hashtags': [],\n",
       "  u'symbols': [],\n",
       "  u'urls': [],\n",
       "  u'user_mentions': []},\n",
       " u'favorite_count': 0,\n",
       " u'favorited': False,\n",
       " u'geo': None,\n",
       " u'id': 779606243950211072,\n",
       " u'id_str': u'779606243950211072',\n",
       " u'in_reply_to_screen_name': None,\n",
       " u'in_reply_to_status_id': None,\n",
       " u'in_reply_to_status_id_str': None,\n",
       " u'in_reply_to_user_id': None,\n",
       " u'in_reply_to_user_id_str': None,\n",
       " u'is_quote_status': False,\n",
       " u'lang': u'no',\n",
       " u'place': None,\n",
       " u'retweet_count': 0,\n",
       " u'retweeted': False,\n",
       " u'source': u'<a href=\"http://jsl.com/\" rel=\"nofollow\">JSL</a>',\n",
       " u'text': u'Hello Twitter 2016-09-24 18:01',\n",
       " u'truncated': False,\n",
       " u'user': {u'contributors_enabled': False,\n",
       "  u'created_at': u'Sun Sep 19 00:44:43 +0000 2010',\n",
       "  u'default_profile': True,\n",
       "  u'default_profile_image': False,\n",
       "  u'description': u'\\uc0c1\\uba85\\ub300',\n",
       "  u'entities': {u'description': {u'urls': []}},\n",
       "  u'favourites_count': 1,\n",
       "  u'follow_request_sent': False,\n",
       "  u'followers_count': 11,\n",
       "  u'following': False,\n",
       "  u'friends_count': 2,\n",
       "  u'geo_enabled': False,\n",
       "  u'has_extended_profile': False,\n",
       "  u'id': 192388653,\n",
       "  u'id_str': u'192388653',\n",
       "  u'is_translation_enabled': False,\n",
       "  u'is_translator': False,\n",
       "  u'lang': u'en',\n",
       "  u'listed_count': 0,\n",
       "  u'location': u'',\n",
       "  u'name': u'Joasang Lim',\n",
       "  u'notifications': False,\n",
       "  u'profile_background_color': u'C0DEED',\n",
       "  u'profile_background_image_url': u'http://abs.twimg.com/images/themes/theme1/bg.png',\n",
       "  u'profile_background_image_url_https': u'https://abs.twimg.com/images/themes/theme1/bg.png',\n",
       "  u'profile_background_tile': False,\n",
       "  u'profile_image_url': u'http://pbs.twimg.com/profile_images/1218730885/___normal.jpg',\n",
       "  u'profile_image_url_https': u'https://pbs.twimg.com/profile_images/1218730885/___normal.jpg',\n",
       "  u'profile_link_color': u'0084B4',\n",
       "  u'profile_sidebar_border_color': u'C0DEED',\n",
       "  u'profile_sidebar_fill_color': u'DDEEF6',\n",
       "  u'profile_text_color': u'333333',\n",
       "  u'profile_use_background_image': True,\n",
       "  u'protected': False,\n",
       "  u'screen_name': u'jslimit',\n",
       "  u'statuses_count': 27,\n",
       "  u'time_zone': None,\n",
       "  u'url': None,\n",
       "  u'utc_offset': None,\n",
       "  u'verified': False}}"
      ]
     },
     "execution_count": 43,
     "metadata": {},
     "output_type": "execute_result"
    }
   ],
   "source": [
    "_client.statuses.update(status=\"Hello Twitter 1 160924\")"
   ]
  },
  {
   "cell_type": "markdown",
   "metadata": {
    "slideshow": {
     "slide_type": "subslide"
    }
   },
   "source": [
    "### OAuth2\n"
   ]
  },
  {
   "cell_type": "code",
   "execution_count": 3,
   "metadata": {
    "collapsed": false,
    "slideshow": {
     "slide_type": "subslide"
    }
   },
   "outputs": [],
   "source": [
    "import oauth2 as oauth\n",
    "import json\n",
    "\n",
    "#consumer = oauth.Consumer(key=CONSUMER_KEY, secret=CONSUMER_SECRET)\n",
    "#token=oauth.Token(key=ACCESS_TOKEN, secret=ACCESS_TOKEN_SECRET)\n",
    "consumer = oauth.Consumer(key=key['CONSUMERKEY'], secret=key['CONSUMERSECRET'])\n",
    "token=oauth.Token(key=key['ACCESSTOKEN'], secret=key['ACCESSTOKENSECRET'])"
   ]
  },
  {
   "cell_type": "code",
   "execution_count": 4,
   "metadata": {
    "collapsed": true,
    "slideshow": {
     "slide_type": "subslide"
    }
   },
   "outputs": [],
   "source": [
    "client = oauth.Client(consumer, token)"
   ]
  },
  {
   "cell_type": "code",
   "execution_count": 7,
   "metadata": {
    "collapsed": false,
    "slideshow": {
     "slide_type": "subslide"
    }
   },
   "outputs": [
    {
     "name": "stdout",
     "output_type": "stream",
     "text": [
      "Help on method request in module oauth2:\n",
      "\n",
      "request(self, uri, method='GET', body='', headers=None, redirections=5, connection_type=None) method of oauth2.Client instance\n",
      "\n"
     ]
    }
   ],
   "source": [
    "help(client.request)"
   ]
  },
  {
   "cell_type": "markdown",
   "metadata": {
    "slideshow": {
     "slide_type": "subslide"
    }
   },
   "source": [
    "* POST\n",
    "    * body param은 post에만 사용할 수 있다??\n",
    "    * GET방식의 param은 url에 ?다음 붙여서 사용"
   ]
  },
  {
   "cell_type": "code",
   "execution_count": 7,
   "metadata": {
    "collapsed": false,
    "slideshow": {
     "slide_type": "subslide"
    }
   },
   "outputs": [],
   "source": [
    "import urllib\n",
    "url = \"https://api.twitter.com/1.1/statuses/update.json\"\n",
    "mybody=urllib.urlencode({'status': 'Hello 21 160924'})\n",
    "response,content=client.request(url,method='POST',body=mybody)"
   ]
  },
  {
   "cell_type": "code",
   "execution_count": 74,
   "metadata": {
    "collapsed": false,
    "slideshow": {
     "slide_type": "subslide"
    }
   },
   "outputs": [
    {
     "name": "stdout",
     "output_type": "stream",
     "text": [
      "{'content-length': '1898', 'x-tsa-request-body-time': '0', 'x-xss-protection': '1; mode=block', 'x-content-type-options': 'nosniff', 'x-connection-hash': '2560f69bc98ebbb7a2454876de33b2ac', 'x-twitter-response-tags': 'BouncerCompliant', 'cache-control': 'no-cache, no-store, must-revalidate, pre-check=0, post-check=0', 'status': '200', 'content-disposition': 'attachment; filename=json.json', 'set-cookie': 'lang=en; Path=/, guest_id=v1%3A147470828205284327; Domain=.twitter.com; Path=/; Expires=Mon, 24-Sep-2018 09:11:22 UTC', 'expires': 'Tue, 31 Mar 1981 05:00:00 GMT', 'x-access-level': 'read-write', 'last-modified': 'Sat, 24 Sep 2016 09:11:22 GMT', '-content-encoding': 'gzip', 'pragma': 'no-cache', 'date': 'Sat, 24 Sep 2016 09:11:22 GMT', 'x-response-time': '186', 'x-transaction': '000f4a8300e57866', 'strict-transport-security': 'max-age=631138519', 'server': 'tsa_a', 'x-frame-options': 'SAMEORIGIN', 'content-type': 'application/json;charset=utf-8'}\n"
     ]
    }
   ],
   "source": [
    "print response"
   ]
  },
  {
   "cell_type": "code",
   "execution_count": 75,
   "metadata": {
    "collapsed": false,
    "scrolled": true,
    "slideshow": {
     "slide_type": "subslide"
    }
   },
   "outputs": [
    {
     "name": "stdout",
     "output_type": "stream",
     "text": [
      "{\"created_at\":\"Sat Sep 24 09:11:22 +0000 2016\",\"id\":779609156734947329,\"id_str\":\"779609156734947329\",\"text\":\"Hello 21 160924\",\"truncated\":false,\"entities\":{\"hashtags\":[],\"symbols\":[],\"user_mentions\":[],\"urls\":[]},\"source\":\"\\u003ca href=\\\"http:\\/\\/jsl.com\\/\\\" rel=\\\"nofollow\\\"\\u003eJSL\\u003c\\/a\\u003e\",\"in_reply_to_status_id\":null,\"in_reply_to_status_id_str\":null,\"in_reply_to_user_id\":null,\"in_reply_to_user_id_str\":null,\"in_reply_to_screen_name\":null,\"user\":{\"id\":192388653,\"id_str\":\"192388653\",\"name\":\"Joasang Lim\",\"screen_name\":\"jslimit\",\"location\":\"\",\"description\":\"\\uc0c1\\uba85\\ub300\",\"url\":null,\"entities\":{\"description\":{\"urls\":[]}},\"protected\":false,\"followers_count\":11,\"friends_count\":2,\"listed_count\":0,\"created_at\":\"Sun Sep 19 00:44:43 +0000 2010\",\"favourites_count\":1,\"utc_offset\":null,\"time_zone\":null,\"geo_enabled\":false,\"verified\":false,\"statuses_count\":30,\"lang\":\"en\",\"contributors_enabled\":false,\"is_translator\":false,\"is_translation_enabled\":false,\"profile_background_color\":\"C0DEED\",\"profile_background_image_url\":\"http:\\/\\/abs.twimg.com\\/images\\/themes\\/theme1\\/bg.png\",\"profile_background_image_url_https\":\"https:\\/\\/abs.twimg.com\\/images\\/themes\\/theme1\\/bg.png\",\"profile_background_tile\":false,\"profile_image_url\":\"http:\\/\\/pbs.twimg.com\\/profile_images\\/1218730885\\/___normal.jpg\",\"profile_image_url_https\":\"https:\\/\\/pbs.twimg.com\\/profile_images\\/1218730885\\/___normal.jpg\",\"profile_link_color\":\"0084B4\",\"profile_sidebar_border_color\":\"C0DEED\",\"profile_sidebar_fill_color\":\"DDEEF6\",\"profile_text_color\":\"333333\",\"profile_use_background_image\":true,\"has_extended_profile\":false,\"default_profile\":true,\"default_profile_image\":false,\"following\":false,\"follow_request_sent\":false,\"notifications\":false},\"geo\":null,\"coordinates\":null,\"place\":null,\"contributors\":null,\"is_quote_status\":false,\"retweet_count\":0,\"favorite_count\":0,\"favorited\":false,\"retweeted\":false,\"lang\":\"en\"}\n"
     ]
    }
   ],
   "source": [
    "print content"
   ]
  },
  {
   "cell_type": "markdown",
   "metadata": {
    "slideshow": {
     "slide_type": "subslide"
    }
   },
   "source": [
    "* save\n",
    "    * csv\n",
    "    * json\n",
    "* io모듈\n",
    "    * Python 3을 대상으로 만들어진 모듈, python 2.에서는 file 대신"
   ]
  },
  {
   "cell_type": "markdown",
   "metadata": {
    "slideshow": {
     "slide_type": "subslide"
    }
   },
   "source": [
    "* twitter를 파일에 쓸 경우\n",
    "    *  그냥 쓰면 quote 없이 - unicode문제???"
   ]
  },
  {
   "cell_type": "code",
   "execution_count": 11,
   "metadata": {
    "collapsed": false,
    "slideshow": {
     "slide_type": "subslide"
    }
   },
   "outputs": [],
   "source": [
    "f=open('src/ds_twitter_1_noquote.json','w')\n",
    "f.write(content)\n",
    "f.close()"
   ]
  },
  {
   "cell_type": "code",
   "execution_count": 16,
   "metadata": {
    "collapsed": false,
    "slideshow": {
     "slide_type": "subslide"
    }
   },
   "outputs": [],
   "source": [
    "import io\n",
    "with io.open('src/ds_twitter_1.json', 'w', encoding='utf8') as json_file:\n",
    "    data=json.dumps(content, json_file, ensure_ascii=False, encoding='utf8')\n",
    "    json_file.write(data)"
   ]
  },
  {
   "cell_type": "markdown",
   "metadata": {
    "slideshow": {
     "slide_type": "slide"
    }
   },
   "source": [
    "## T-2: 자신의 타임라인 가져오기\n",
    "\n",
    "* 2개만 (count)\n",
    "* 특정 시점 (max_id, since_id)\n",
    "* 모두 가져오기"
   ]
  },
  {
   "cell_type": "markdown",
   "metadata": {
    "slideshow": {
     "slide_type": "subslide"
    }
   },
   "source": [
    "\n",
    "* GET statuses/home_timeline\n",
    "    * 사용자와 그 친구들이 올리는 트윗과 리트윗을 가져옴\n",
    "    * 800개 제한\n",
    "    * 입력변수는 선택적\n",
    "    * 출력은 JSON\n",
    "\n",
    "```\n",
    "user_timeline = client.statuses.user_timeline(screen_name='jslimit')\n",
    "```"
   ]
  },
  {
   "cell_type": "markdown",
   "metadata": {
    "slideshow": {
     "slide_type": "subslide"
    }
   },
   "source": [
    "### Twitter  라이브러리"
   ]
  },
  {
   "cell_type": "code",
   "execution_count": 7,
   "metadata": {
    "collapsed": false,
    "slideshow": {
     "slide_type": "subslide"
    }
   },
   "outputs": [],
   "source": [
    "timeline = _client.statuses.home_timeline()"
   ]
  },
  {
   "cell_type": "code",
   "execution_count": 8,
   "metadata": {
    "collapsed": false,
    "slideshow": {
     "slide_type": "subslide"
    }
   },
   "outputs": [
    {
     "name": "stdout",
     "output_type": "stream",
     "text": [
      "<class 'twitter.api.TwitterListResponse'>\n",
      "20\n"
     ]
    }
   ],
   "source": [
    "print type(timeline)\n",
    "print len(timeline)"
   ]
  },
  {
   "cell_type": "markdown",
   "metadata": {
    "slideshow": {
     "slide_type": "subslide"
    }
   },
   "source": [
    "* tweet은 키를 많이 가지고 있지만, 그 가운데 'id'에 대해 key, value를 출력한다."
   ]
  },
  {
   "cell_type": "code",
   "execution_count": 13,
   "metadata": {
    "collapsed": false,
    "slideshow": {
     "slide_type": "subslide"
    }
   },
   "outputs": [
    {
     "name": "stdout",
     "output_type": "stream",
     "text": [
      "key:id ->\tvalue:797591133073223680\n",
      "key:id ->\tvalue:796255870912864256\n",
      "key:id ->\tvalue:779609156734947329\n",
      "key:id ->\tvalue:779607889086337024\n",
      "key:id ->\tvalue:779606243950211072\n",
      "key:id ->\tvalue:779604922371223552\n",
      "key:id ->\tvalue:768674417551347712\n",
      "key:id ->\tvalue:767873469119803392\n",
      "key:id ->\tvalue:767872599439343616\n",
      "key:id ->\tvalue:546932714822066176\n",
      "key:id ->\tvalue:534949539757555713\n",
      "key:id ->\tvalue:534945044000559104\n",
      "key:id ->\tvalue:534928555591745536\n",
      "key:id ->\tvalue:534924431919828992\n",
      "key:id ->\tvalue:534231478217867264\n",
      "key:id ->\tvalue:532410157867610112\n",
      "key:id ->\tvalue:532408731074437120\n",
      "key:id ->\tvalue:532408509577445377\n",
      "key:id ->\tvalue:532386310086881280\n",
      "key:id ->\tvalue:532331903043375104\n"
     ]
    }
   ],
   "source": [
    "for t in timeline:\n",
    "    for key,val in t.items():\n",
    "        if(key=='id'):\n",
    "            print \"key:%s ->\\tvalue:%s\" % (key,val)"
   ]
  },
  {
   "cell_type": "code",
   "execution_count": 24,
   "metadata": {
    "collapsed": false,
    "slideshow": {
     "slide_type": "subslide"
    }
   },
   "outputs": [
    {
     "name": "stdout",
     "output_type": "stream",
     "text": [
      "<type 'dict'>\n",
      "contributors None\n",
      "truncated False\n",
      "text Hello from oauth 2016-07-23 14:40\n",
      "is_quote_status False\n",
      "in_reply_to_status_id None\n",
      "id 754188567824338944\n",
      "favorite_count 0\n",
      "source <a href=\"http://jsl.com/\" rel=\"nofollow\">JSL</a>\n",
      "retweeted False\n",
      "coordinates None\n",
      "entities {u'symbols': [], u'user_mentions': [], u'hashtags': [], u'urls': []}\n",
      "in_reply_to_screen_name None\n",
      "in_reply_to_user_id None\n",
      "retweet_count 0\n",
      "id_str 754188567824338944\n",
      "favorited False\n",
      "user {u'follow_request_sent': False, u'has_extended_profile': False, u'profile_use_background_image': True, u'default_profile_image': False, u'id': 192388653, u'profile_background_image_url_https': u'https://abs.twimg.com/images/themes/theme1/bg.png', u'verified': False, u'profile_text_color': u'333333', u'profile_image_url_https': u'https://pbs.twimg.com/profile_images/1218730885/___normal.jpg', u'profile_sidebar_fill_color': u'DDEEF6', u'entities': {u'description': {u'urls': []}}, u'followers_count': 11, u'profile_sidebar_border_color': u'C0DEED', u'id_str': u'192388653', u'profile_background_color': u'C0DEED', u'listed_count': 0, u'is_translation_enabled': False, u'utc_offset': None, u'statuses_count': 26, u'description': u'\\uc0c1\\uba85\\ub300', u'friends_count': 2, u'location': u'', u'profile_link_color': u'0084B4', u'profile_image_url': u'http://pbs.twimg.com/profile_images/1218730885/___normal.jpg', u'following': False, u'geo_enabled': False, u'profile_background_image_url': u'http://abs.twimg.com/images/themes/theme1/bg.png', u'screen_name': u'jslimit', u'lang': u'en', u'profile_background_tile': False, u'favourites_count': 1, u'name': u'Joasang Lim', u'notifications': False, u'url': None, u'created_at': u'Sun Sep 19 00:44:43 +0000 2010', u'contributors_enabled': False, u'time_zone': None, u'protected': False, u'default_profile': True, u'is_translator': False}\n",
      "geo None\n",
      "in_reply_to_user_id_str None\n",
      "lang en\n",
      "created_at Sat Jul 16 05:39:01 +0000 2016\n",
      "in_reply_to_status_id_str None\n",
      "place None\n"
     ]
    }
   ],
   "source": [
    "print type(timeline[0])\n",
    "for key in timeline[0].keys():\n",
    "    print key,timeline[0][key]"
   ]
  },
  {
   "cell_type": "markdown",
   "metadata": {
    "slideshow": {
     "slide_type": "subslide"
    }
   },
   "source": [
    "### OAuth\n",
    "\n",
    "* 2개만 가져오기\n",
    "* 특정 시점\n",
    "* 모두 가져오기\n",
    "    * max_id, since_id"
   ]
  },
  {
   "cell_type": "markdown",
   "metadata": {
    "slideshow": {
     "slide_type": "subslide"
    }
   },
   "source": [
    "* mongo에 쓰기\n",
    "    * _mclient를 생성해서\n",
    "    * for문에 넣음"
   ]
  },
  {
   "cell_type": "code",
   "execution_count": null,
   "metadata": {
    "collapsed": true
   },
   "outputs": [],
   "source": [
    "from pymongo import MongoClient\n",
    "_mclient = MongoClient()\n",
    "_db=_mclient.ds_twitter\n"
   ]
  },
  {
   "cell_type": "code",
   "execution_count": 27,
   "metadata": {
    "collapsed": false,
    "slideshow": {
     "slide_type": "subslide"
    }
   },
   "outputs": [],
   "source": [
    "from pymongo import MongoClient\n",
    "_mclient = MongoClient()\n",
    "_db=_mclient.ds_twitter\n",
    "_table=_db.home_timeline"
   ]
  },
  {
   "cell_type": "code",
   "execution_count": 28,
   "metadata": {
    "collapsed": false,
    "scrolled": false,
    "slideshow": {
     "slide_type": "subslide"
    }
   },
   "outputs": [
    {
     "name": "stdout",
     "output_type": "stream",
     "text": [
      "779609156734947329 Hello 21 160924\n",
      "779607889086337024 Hello 2 160924\n",
      "779606243950211072 Hello Twitter 2016-09-24 18:01\n",
      "779604922371223552 Hello Twitter 2016-09-24 18:00\n",
      "768674417551347712 Hello from oauth 2016-08-24 14:00\n",
      "767873469119803392 Hello from oauth 2016-07-16 18:00\n",
      "767872599439343616 Hello Twitter 2016-07-16 18:00\n",
      "546932714822066176 parkmincheol\n",
      "534949539757555713 hello 3:00 pm\n",
      "534945044000559104 Hello from swing 2:40pm\n",
      "534928555591745536 hello 1:40pm\n",
      "534924431919828992 hello 13:21\n",
      "534231478217867264 14:50pm\n",
      "532410157867610112 14:50pm\n",
      "532408731074437120 14:40pm\n",
      "532408509577445377 14:30pm\n",
      "532386310086881280 1:00pm\n",
      "532331903043375104 Hello World jsl 2 939\n",
      "532330981613502466 Hello World jsl 2\n",
      "531712281260740609 hello from java2\n"
     ]
    }
   ],
   "source": [
    "url = \"https://api.twitter.com/1.1/statuses/home_timeline.json\"\n",
    "response, content = client.request(url)\n",
    "\n",
    "home_timeline = json.loads(content)\n",
    "for tweet in home_timeline:\n",
    "    _table.insert_one(tweet)\n",
    "    print tweet['id'],tweet['text']"
   ]
  },
  {
   "cell_type": "markdown",
   "metadata": {
    "slideshow": {
     "slide_type": "subslide"
    }
   },
   "source": [
    "* mongo에서 읽기\n",
    "\n",
    "```from ds14_spark_ml.ipynb\n",
    "_table=_db.seoul\n",
    "cursor=_table.find()\n",
    "for i,e in enumerate(cursor):\n",
    "    if(i%100==0):\n",
    "        print i,e['text']\n",
    "        #parsedData = e['text'].map(lambda line: array([float(x) for x in line.split(' ')]))\n",
    "```"
   ]
  },
  {
   "cell_type": "code",
   "execution_count": 36,
   "metadata": {
    "collapsed": false,
    "slideshow": {
     "slide_type": "subslide"
    }
   },
   "outputs": [
    {
     "name": "stdout",
     "output_type": "stream",
     "text": [
      "{u'contributors': None, u'truncated': False, u'text': u'Hello 21 160924', u'is_quote_status': False, u'in_reply_to_status_id': None, u'id': 779609156734947329L, u'favorite_count': 0, u'source': u'<a href=\"http://jsl.com/\" rel=\"nofollow\">JSL</a>', u'retweeted': False, u'coordinates': None, u'entities': {u'symbols': [], u'user_mentions': [], u'hashtags': [], u'urls': []}, u'in_reply_to_screen_name': None, u'id_str': u'779609156734947329', u'retweet_count': 0, u'in_reply_to_user_id': None, u'favorited': False, u'user': {u'follow_request_sent': False, u'has_extended_profile': False, u'profile_use_background_image': True, u'time_zone': None, u'id': 192388653, u'default_profile': True, u'verified': False, u'profile_text_color': u'333333', u'profile_image_url_https': u'https://pbs.twimg.com/profile_images/1218730885/___normal.jpg', u'profile_sidebar_fill_color': u'DDEEF6', u'is_translator': False, u'geo_enabled': False, u'entities': {u'description': {u'urls': []}}, u'followers_count': 11, u'protected': False, u'id_str': u'192388653', u'default_profile_image': False, u'listed_count': 0, u'lang': u'en', u'utc_offset': None, u'statuses_count': 30, u'description': u'\\uc0c1\\uba85\\ub300', u'friends_count': 2, u'profile_link_color': u'0084B4', u'profile_image_url': u'http://pbs.twimg.com/profile_images/1218730885/___normal.jpg', u'notifications': False, u'profile_background_image_url_https': u'https://abs.twimg.com/images/themes/theme1/bg.png', u'profile_background_color': u'C0DEED', u'profile_background_image_url': u'http://abs.twimg.com/images/themes/theme1/bg.png', u'name': u'Joasang Lim', u'is_translation_enabled': False, u'profile_background_tile': False, u'favourites_count': 1, u'screen_name': u'jslimit', u'url': None, u'created_at': u'Sun Sep 19 00:44:43 +0000 2010', u'contributors_enabled': False, u'location': u'', u'profile_sidebar_border_color': u'C0DEED', u'translator_type': u'none', u'following': False}, u'geo': None, u'in_reply_to_user_id_str': None, u'lang': u'en', u'created_at': u'Sat Sep 24 09:11:22 +0000 2016', u'in_reply_to_status_id_str': None, u'place': None, u'_id': ObjectId('581a6429f5e6e93d5e440552')}\n",
      "{u'contributors': None, u'truncated': False, u'text': u'Hello 2 160924', u'is_quote_status': False, u'in_reply_to_status_id': None, u'id': 779607889086337024L, u'favorite_count': 0, u'source': u'<a href=\"http://jsl.com/\" rel=\"nofollow\">JSL</a>', u'retweeted': False, u'coordinates': None, u'entities': {u'symbols': [], u'user_mentions': [], u'hashtags': [], u'urls': []}, u'in_reply_to_screen_name': None, u'id_str': u'779607889086337024', u'retweet_count': 0, u'in_reply_to_user_id': None, u'favorited': False, u'user': {u'follow_request_sent': False, u'has_extended_profile': False, u'profile_use_background_image': True, u'time_zone': None, u'id': 192388653, u'default_profile': True, u'verified': False, u'profile_text_color': u'333333', u'profile_image_url_https': u'https://pbs.twimg.com/profile_images/1218730885/___normal.jpg', u'profile_sidebar_fill_color': u'DDEEF6', u'is_translator': False, u'geo_enabled': False, u'entities': {u'description': {u'urls': []}}, u'followers_count': 11, u'protected': False, u'id_str': u'192388653', u'default_profile_image': False, u'listed_count': 0, u'lang': u'en', u'utc_offset': None, u'statuses_count': 30, u'description': u'\\uc0c1\\uba85\\ub300', u'friends_count': 2, u'profile_link_color': u'0084B4', u'profile_image_url': u'http://pbs.twimg.com/profile_images/1218730885/___normal.jpg', u'notifications': False, u'profile_background_image_url_https': u'https://abs.twimg.com/images/themes/theme1/bg.png', u'profile_background_color': u'C0DEED', u'profile_background_image_url': u'http://abs.twimg.com/images/themes/theme1/bg.png', u'name': u'Joasang Lim', u'is_translation_enabled': False, u'profile_background_tile': False, u'favourites_count': 1, u'screen_name': u'jslimit', u'url': None, u'created_at': u'Sun Sep 19 00:44:43 +0000 2010', u'contributors_enabled': False, u'location': u'', u'profile_sidebar_border_color': u'C0DEED', u'translator_type': u'none', u'following': False}, u'geo': None, u'in_reply_to_user_id_str': None, u'lang': u'en', u'created_at': u'Sat Sep 24 09:06:19 +0000 2016', u'in_reply_to_status_id_str': None, u'place': None, u'_id': ObjectId('581a6429f5e6e93d5e440553')}\n",
      "{u'contributors': None, u'truncated': False, u'text': u'Hello Twitter 2016-09-24 18:01', u'is_quote_status': False, u'in_reply_to_status_id': None, u'id': 779606243950211072L, u'favorite_count': 0, u'source': u'<a href=\"http://jsl.com/\" rel=\"nofollow\">JSL</a>', u'retweeted': False, u'coordinates': None, u'entities': {u'symbols': [], u'user_mentions': [], u'hashtags': [], u'urls': []}, u'in_reply_to_screen_name': None, u'id_str': u'779606243950211072', u'retweet_count': 0, u'in_reply_to_user_id': None, u'favorited': False, u'user': {u'follow_request_sent': False, u'has_extended_profile': False, u'profile_use_background_image': True, u'time_zone': None, u'id': 192388653, u'default_profile': True, u'verified': False, u'profile_text_color': u'333333', u'profile_image_url_https': u'https://pbs.twimg.com/profile_images/1218730885/___normal.jpg', u'profile_sidebar_fill_color': u'DDEEF6', u'is_translator': False, u'geo_enabled': False, u'entities': {u'description': {u'urls': []}}, u'followers_count': 11, u'protected': False, u'id_str': u'192388653', u'default_profile_image': False, u'listed_count': 0, u'lang': u'en', u'utc_offset': None, u'statuses_count': 30, u'description': u'\\uc0c1\\uba85\\ub300', u'friends_count': 2, u'profile_link_color': u'0084B4', u'profile_image_url': u'http://pbs.twimg.com/profile_images/1218730885/___normal.jpg', u'notifications': False, u'profile_background_image_url_https': u'https://abs.twimg.com/images/themes/theme1/bg.png', u'profile_background_color': u'C0DEED', u'profile_background_image_url': u'http://abs.twimg.com/images/themes/theme1/bg.png', u'name': u'Joasang Lim', u'is_translation_enabled': False, u'profile_background_tile': False, u'favourites_count': 1, u'screen_name': u'jslimit', u'url': None, u'created_at': u'Sun Sep 19 00:44:43 +0000 2010', u'contributors_enabled': False, u'location': u'', u'profile_sidebar_border_color': u'C0DEED', u'translator_type': u'none', u'following': False}, u'geo': None, u'in_reply_to_user_id_str': None, u'lang': u'no', u'created_at': u'Sat Sep 24 08:59:47 +0000 2016', u'in_reply_to_status_id_str': None, u'place': None, u'_id': ObjectId('581a6429f5e6e93d5e440554')}\n",
      "{u'contributors': None, u'truncated': False, u'text': u'Hello Twitter 2016-09-24 18:00', u'is_quote_status': False, u'in_reply_to_status_id': None, u'id': 779604922371223552L, u'favorite_count': 0, u'source': u'<a href=\"http://jsl.com/\" rel=\"nofollow\">JSL</a>', u'retweeted': False, u'coordinates': None, u'entities': {u'symbols': [], u'user_mentions': [], u'hashtags': [], u'urls': []}, u'in_reply_to_screen_name': None, u'id_str': u'779604922371223552', u'retweet_count': 0, u'in_reply_to_user_id': None, u'favorited': False, u'user': {u'follow_request_sent': False, u'has_extended_profile': False, u'profile_use_background_image': True, u'time_zone': None, u'id': 192388653, u'default_profile': True, u'verified': False, u'profile_text_color': u'333333', u'profile_image_url_https': u'https://pbs.twimg.com/profile_images/1218730885/___normal.jpg', u'profile_sidebar_fill_color': u'DDEEF6', u'is_translator': False, u'geo_enabled': False, u'entities': {u'description': {u'urls': []}}, u'followers_count': 11, u'protected': False, u'id_str': u'192388653', u'default_profile_image': False, u'listed_count': 0, u'lang': u'en', u'utc_offset': None, u'statuses_count': 30, u'description': u'\\uc0c1\\uba85\\ub300', u'friends_count': 2, u'profile_link_color': u'0084B4', u'profile_image_url': u'http://pbs.twimg.com/profile_images/1218730885/___normal.jpg', u'notifications': False, u'profile_background_image_url_https': u'https://abs.twimg.com/images/themes/theme1/bg.png', u'profile_background_color': u'C0DEED', u'profile_background_image_url': u'http://abs.twimg.com/images/themes/theme1/bg.png', u'name': u'Joasang Lim', u'is_translation_enabled': False, u'profile_background_tile': False, u'favourites_count': 1, u'screen_name': u'jslimit', u'url': None, u'created_at': u'Sun Sep 19 00:44:43 +0000 2010', u'contributors_enabled': False, u'location': u'', u'profile_sidebar_border_color': u'C0DEED', u'translator_type': u'none', u'following': False}, u'geo': None, u'in_reply_to_user_id_str': None, u'lang': u'no', u'created_at': u'Sat Sep 24 08:54:32 +0000 2016', u'in_reply_to_status_id_str': None, u'place': None, u'_id': ObjectId('581a6429f5e6e93d5e440555')}\n",
      "{u'contributors': None, u'truncated': False, u'text': u'Hello from oauth 2016-08-24 14:00', u'is_quote_status': False, u'in_reply_to_status_id': None, u'id': 768674417551347712L, u'favorite_count': 0, u'source': u'<a href=\"http://jsl.com/\" rel=\"nofollow\">JSL</a>', u'retweeted': False, u'coordinates': None, u'entities': {u'symbols': [], u'user_mentions': [], u'hashtags': [], u'urls': []}, u'in_reply_to_screen_name': None, u'id_str': u'768674417551347712', u'retweet_count': 0, u'in_reply_to_user_id': None, u'favorited': False, u'user': {u'follow_request_sent': False, u'has_extended_profile': False, u'profile_use_background_image': True, u'time_zone': None, u'id': 192388653, u'default_profile': True, u'verified': False, u'profile_text_color': u'333333', u'profile_image_url_https': u'https://pbs.twimg.com/profile_images/1218730885/___normal.jpg', u'profile_sidebar_fill_color': u'DDEEF6', u'is_translator': False, u'geo_enabled': False, u'entities': {u'description': {u'urls': []}}, u'followers_count': 11, u'protected': False, u'id_str': u'192388653', u'default_profile_image': False, u'listed_count': 0, u'lang': u'en', u'utc_offset': None, u'statuses_count': 30, u'description': u'\\uc0c1\\uba85\\ub300', u'friends_count': 2, u'profile_link_color': u'0084B4', u'profile_image_url': u'http://pbs.twimg.com/profile_images/1218730885/___normal.jpg', u'notifications': False, u'profile_background_image_url_https': u'https://abs.twimg.com/images/themes/theme1/bg.png', u'profile_background_color': u'C0DEED', u'profile_background_image_url': u'http://abs.twimg.com/images/themes/theme1/bg.png', u'name': u'Joasang Lim', u'is_translation_enabled': False, u'profile_background_tile': False, u'favourites_count': 1, u'screen_name': u'jslimit', u'url': None, u'created_at': u'Sun Sep 19 00:44:43 +0000 2010', u'contributors_enabled': False, u'location': u'', u'profile_sidebar_border_color': u'C0DEED', u'translator_type': u'none', u'following': False}, u'geo': None, u'in_reply_to_user_id_str': None, u'lang': u'en', u'created_at': u'Thu Aug 25 05:00:37 +0000 2016', u'in_reply_to_status_id_str': None, u'place': None, u'_id': ObjectId('581a642af5e6e93d5e440556')}\n",
      "{u'contributors': None, u'truncated': False, u'text': u'Hello from oauth 2016-07-16 18:00', u'is_quote_status': False, u'in_reply_to_status_id': None, u'id': 767873469119803392L, u'favorite_count': 0, u'source': u'<a href=\"http://jsl.com/\" rel=\"nofollow\">JSL</a>', u'retweeted': False, u'coordinates': None, u'entities': {u'symbols': [], u'user_mentions': [], u'hashtags': [], u'urls': []}, u'in_reply_to_screen_name': None, u'id_str': u'767873469119803392', u'retweet_count': 0, u'in_reply_to_user_id': None, u'favorited': False, u'user': {u'follow_request_sent': False, u'has_extended_profile': False, u'profile_use_background_image': True, u'time_zone': None, u'id': 192388653, u'default_profile': True, u'verified': False, u'profile_text_color': u'333333', u'profile_image_url_https': u'https://pbs.twimg.com/profile_images/1218730885/___normal.jpg', u'profile_sidebar_fill_color': u'DDEEF6', u'is_translator': False, u'geo_enabled': False, u'entities': {u'description': {u'urls': []}}, u'followers_count': 11, u'protected': False, u'id_str': u'192388653', u'default_profile_image': False, u'listed_count': 0, u'lang': u'en', u'utc_offset': None, u'statuses_count': 30, u'description': u'\\uc0c1\\uba85\\ub300', u'friends_count': 2, u'profile_link_color': u'0084B4', u'profile_image_url': u'http://pbs.twimg.com/profile_images/1218730885/___normal.jpg', u'notifications': False, u'profile_background_image_url_https': u'https://abs.twimg.com/images/themes/theme1/bg.png', u'profile_background_color': u'C0DEED', u'profile_background_image_url': u'http://abs.twimg.com/images/themes/theme1/bg.png', u'name': u'Joasang Lim', u'is_translation_enabled': False, u'profile_background_tile': False, u'favourites_count': 1, u'screen_name': u'jslimit', u'url': None, u'created_at': u'Sun Sep 19 00:44:43 +0000 2010', u'contributors_enabled': False, u'location': u'', u'profile_sidebar_border_color': u'C0DEED', u'translator_type': u'none', u'following': False}, u'geo': None, u'in_reply_to_user_id_str': None, u'lang': u'en', u'created_at': u'Mon Aug 22 23:57:56 +0000 2016', u'in_reply_to_status_id_str': None, u'place': None, u'_id': ObjectId('581a642af5e6e93d5e440557')}\n",
      "{u'contributors': None, u'truncated': False, u'text': u'Hello Twitter 2016-07-16 18:00', u'is_quote_status': False, u'in_reply_to_status_id': None, u'id': 767872599439343616L, u'favorite_count': 0, u'source': u'<a href=\"http://jsl.com/\" rel=\"nofollow\">JSL</a>', u'retweeted': False, u'coordinates': None, u'entities': {u'symbols': [], u'user_mentions': [], u'hashtags': [], u'urls': []}, u'in_reply_to_screen_name': None, u'id_str': u'767872599439343616', u'retweet_count': 0, u'in_reply_to_user_id': None, u'favorited': False, u'user': {u'follow_request_sent': False, u'has_extended_profile': False, u'profile_use_background_image': True, u'time_zone': None, u'id': 192388653, u'default_profile': True, u'verified': False, u'profile_text_color': u'333333', u'profile_image_url_https': u'https://pbs.twimg.com/profile_images/1218730885/___normal.jpg', u'profile_sidebar_fill_color': u'DDEEF6', u'is_translator': False, u'geo_enabled': False, u'entities': {u'description': {u'urls': []}}, u'followers_count': 11, u'protected': False, u'id_str': u'192388653', u'default_profile_image': False, u'listed_count': 0, u'lang': u'en', u'utc_offset': None, u'statuses_count': 30, u'description': u'\\uc0c1\\uba85\\ub300', u'friends_count': 2, u'profile_link_color': u'0084B4', u'profile_image_url': u'http://pbs.twimg.com/profile_images/1218730885/___normal.jpg', u'notifications': False, u'profile_background_image_url_https': u'https://abs.twimg.com/images/themes/theme1/bg.png', u'profile_background_color': u'C0DEED', u'profile_background_image_url': u'http://abs.twimg.com/images/themes/theme1/bg.png', u'name': u'Joasang Lim', u'is_translation_enabled': False, u'profile_background_tile': False, u'favourites_count': 1, u'screen_name': u'jslimit', u'url': None, u'created_at': u'Sun Sep 19 00:44:43 +0000 2010', u'contributors_enabled': False, u'location': u'', u'profile_sidebar_border_color': u'C0DEED', u'translator_type': u'none', u'following': False}, u'geo': None, u'in_reply_to_user_id_str': None, u'lang': u'no', u'created_at': u'Mon Aug 22 23:54:28 +0000 2016', u'in_reply_to_status_id_str': None, u'place': None, u'_id': ObjectId('581a642af5e6e93d5e440558')}\n",
      "{u'contributors': None, u'truncated': False, u'text': u'parkmincheol', u'is_quote_status': False, u'in_reply_to_status_id': None, u'id': 546932714822066176L, u'favorite_count': 0, u'source': u'<a href=\"http://jsl.com/\" rel=\"nofollow\">JSL</a>', u'retweeted': False, u'coordinates': None, u'entities': {u'symbols': [], u'user_mentions': [], u'hashtags': [], u'urls': []}, u'in_reply_to_screen_name': None, u'id_str': u'546932714822066176', u'retweet_count': 0, u'in_reply_to_user_id': None, u'favorited': False, u'user': {u'follow_request_sent': False, u'has_extended_profile': False, u'profile_use_background_image': True, u'time_zone': None, u'id': 192388653, u'default_profile': True, u'verified': False, u'profile_text_color': u'333333', u'profile_image_url_https': u'https://pbs.twimg.com/profile_images/1218730885/___normal.jpg', u'profile_sidebar_fill_color': u'DDEEF6', u'is_translator': False, u'geo_enabled': False, u'entities': {u'description': {u'urls': []}}, u'followers_count': 11, u'protected': False, u'id_str': u'192388653', u'default_profile_image': False, u'listed_count': 0, u'lang': u'en', u'utc_offset': None, u'statuses_count': 30, u'description': u'\\uc0c1\\uba85\\ub300', u'friends_count': 2, u'profile_link_color': u'0084B4', u'profile_image_url': u'http://pbs.twimg.com/profile_images/1218730885/___normal.jpg', u'notifications': False, u'profile_background_image_url_https': u'https://abs.twimg.com/images/themes/theme1/bg.png', u'profile_background_color': u'C0DEED', u'profile_background_image_url': u'http://abs.twimg.com/images/themes/theme1/bg.png', u'name': u'Joasang Lim', u'is_translation_enabled': False, u'profile_background_tile': False, u'favourites_count': 1, u'screen_name': u'jslimit', u'url': None, u'created_at': u'Sun Sep 19 00:44:43 +0000 2010', u'contributors_enabled': False, u'location': u'', u'profile_sidebar_border_color': u'C0DEED', u'translator_type': u'none', u'following': False}, u'geo': None, u'in_reply_to_user_id_str': None, u'lang': u'ht', u'created_at': u'Mon Dec 22 07:38:15 +0000 2014', u'in_reply_to_status_id_str': None, u'place': None, u'_id': ObjectId('581a642af5e6e93d5e440559')}\n",
      "{u'contributors': None, u'truncated': False, u'text': u'hello 3:00 pm', u'is_quote_status': False, u'in_reply_to_status_id': None, u'id': 534949539757555713L, u'favorite_count': 0, u'source': u'<a href=\"http://jsl.com/\" rel=\"nofollow\">JSL</a>', u'retweeted': False, u'coordinates': None, u'entities': {u'symbols': [], u'user_mentions': [], u'hashtags': [], u'urls': []}, u'in_reply_to_screen_name': None, u'id_str': u'534949539757555713', u'retweet_count': 0, u'in_reply_to_user_id': None, u'favorited': False, u'user': {u'follow_request_sent': False, u'has_extended_profile': False, u'profile_use_background_image': True, u'time_zone': None, u'id': 192388653, u'default_profile': True, u'verified': False, u'profile_text_color': u'333333', u'profile_image_url_https': u'https://pbs.twimg.com/profile_images/1218730885/___normal.jpg', u'profile_sidebar_fill_color': u'DDEEF6', u'is_translator': False, u'geo_enabled': False, u'entities': {u'description': {u'urls': []}}, u'followers_count': 11, u'protected': False, u'id_str': u'192388653', u'default_profile_image': False, u'listed_count': 0, u'lang': u'en', u'utc_offset': None, u'statuses_count': 30, u'description': u'\\uc0c1\\uba85\\ub300', u'friends_count': 2, u'profile_link_color': u'0084B4', u'profile_image_url': u'http://pbs.twimg.com/profile_images/1218730885/___normal.jpg', u'notifications': False, u'profile_background_image_url_https': u'https://abs.twimg.com/images/themes/theme1/bg.png', u'profile_background_color': u'C0DEED', u'profile_background_image_url': u'http://abs.twimg.com/images/themes/theme1/bg.png', u'name': u'Joasang Lim', u'is_translation_enabled': False, u'profile_background_tile': False, u'favourites_count': 1, u'screen_name': u'jslimit', u'url': None, u'created_at': u'Sun Sep 19 00:44:43 +0000 2010', u'contributors_enabled': False, u'location': u'', u'profile_sidebar_border_color': u'C0DEED', u'translator_type': u'none', u'following': False}, u'geo': None, u'in_reply_to_user_id_str': None, u'lang': u'en', u'created_at': u'Wed Nov 19 06:01:23 +0000 2014', u'in_reply_to_status_id_str': None, u'place': None, u'_id': ObjectId('581a642af5e6e93d5e44055a')}\n",
      "{u'contributors': None, u'truncated': False, u'text': u'Hello from swing 2:40pm', u'is_quote_status': False, u'in_reply_to_status_id': None, u'id': 534945044000559104L, u'favorite_count': 0, u'source': u'<a href=\"http://jsl.com/\" rel=\"nofollow\">JSL</a>', u'retweeted': False, u'coordinates': None, u'entities': {u'symbols': [], u'user_mentions': [], u'hashtags': [], u'urls': []}, u'in_reply_to_screen_name': None, u'id_str': u'534945044000559104', u'retweet_count': 0, u'in_reply_to_user_id': None, u'favorited': False, u'user': {u'follow_request_sent': False, u'has_extended_profile': False, u'profile_use_background_image': True, u'time_zone': None, u'id': 192388653, u'default_profile': True, u'verified': False, u'profile_text_color': u'333333', u'profile_image_url_https': u'https://pbs.twimg.com/profile_images/1218730885/___normal.jpg', u'profile_sidebar_fill_color': u'DDEEF6', u'is_translator': False, u'geo_enabled': False, u'entities': {u'description': {u'urls': []}}, u'followers_count': 11, u'protected': False, u'id_str': u'192388653', u'default_profile_image': False, u'listed_count': 0, u'lang': u'en', u'utc_offset': None, u'statuses_count': 30, u'description': u'\\uc0c1\\uba85\\ub300', u'friends_count': 2, u'profile_link_color': u'0084B4', u'profile_image_url': u'http://pbs.twimg.com/profile_images/1218730885/___normal.jpg', u'notifications': False, u'profile_background_image_url_https': u'https://abs.twimg.com/images/themes/theme1/bg.png', u'profile_background_color': u'C0DEED', u'profile_background_image_url': u'http://abs.twimg.com/images/themes/theme1/bg.png', u'name': u'Joasang Lim', u'is_translation_enabled': False, u'profile_background_tile': False, u'favourites_count': 1, u'screen_name': u'jslimit', u'url': None, u'created_at': u'Sun Sep 19 00:44:43 +0000 2010', u'contributors_enabled': False, u'location': u'', u'profile_sidebar_border_color': u'C0DEED', u'translator_type': u'none', u'following': False}, u'geo': None, u'in_reply_to_user_id_str': None, u'lang': u'en', u'created_at': u'Wed Nov 19 05:43:31 +0000 2014', u'in_reply_to_status_id_str': None, u'place': None, u'_id': ObjectId('581a642af5e6e93d5e44055b')}\n",
      "{u'contributors': None, u'truncated': False, u'text': u'hello 1:40pm', u'is_quote_status': False, u'in_reply_to_status_id': None, u'id': 534928555591745536L, u'favorite_count': 0, u'source': u'<a href=\"http://jsl.com/\" rel=\"nofollow\">JSL</a>', u'retweeted': False, u'coordinates': None, u'entities': {u'symbols': [], u'user_mentions': [], u'hashtags': [], u'urls': []}, u'in_reply_to_screen_name': None, u'id_str': u'534928555591745536', u'retweet_count': 0, u'in_reply_to_user_id': None, u'favorited': False, u'user': {u'follow_request_sent': False, u'has_extended_profile': False, u'profile_use_background_image': True, u'time_zone': None, u'id': 192388653, u'default_profile': True, u'verified': False, u'profile_text_color': u'333333', u'profile_image_url_https': u'https://pbs.twimg.com/profile_images/1218730885/___normal.jpg', u'profile_sidebar_fill_color': u'DDEEF6', u'is_translator': False, u'geo_enabled': False, u'entities': {u'description': {u'urls': []}}, u'followers_count': 11, u'protected': False, u'id_str': u'192388653', u'default_profile_image': False, u'listed_count': 0, u'lang': u'en', u'utc_offset': None, u'statuses_count': 30, u'description': u'\\uc0c1\\uba85\\ub300', u'friends_count': 2, u'profile_link_color': u'0084B4', u'profile_image_url': u'http://pbs.twimg.com/profile_images/1218730885/___normal.jpg', u'notifications': False, u'profile_background_image_url_https': u'https://abs.twimg.com/images/themes/theme1/bg.png', u'profile_background_color': u'C0DEED', u'profile_background_image_url': u'http://abs.twimg.com/images/themes/theme1/bg.png', u'name': u'Joasang Lim', u'is_translation_enabled': False, u'profile_background_tile': False, u'favourites_count': 1, u'screen_name': u'jslimit', u'url': None, u'created_at': u'Sun Sep 19 00:44:43 +0000 2010', u'contributors_enabled': False, u'location': u'', u'profile_sidebar_border_color': u'C0DEED', u'translator_type': u'none', u'following': False}, u'geo': None, u'in_reply_to_user_id_str': None, u'lang': u'en', u'created_at': u'Wed Nov 19 04:38:00 +0000 2014', u'in_reply_to_status_id_str': None, u'place': None, u'_id': ObjectId('581a642af5e6e93d5e44055c')}\n",
      "{u'contributors': None, u'truncated': False, u'text': u'hello 13:21', u'is_quote_status': False, u'in_reply_to_status_id': None, u'id': 534924431919828992L, u'favorite_count': 0, u'source': u'<a href=\"http://jsl.com/\" rel=\"nofollow\">JSL</a>', u'retweeted': False, u'coordinates': None, u'entities': {u'symbols': [], u'user_mentions': [], u'hashtags': [], u'urls': []}, u'in_reply_to_screen_name': None, u'id_str': u'534924431919828992', u'retweet_count': 0, u'in_reply_to_user_id': None, u'favorited': False, u'user': {u'follow_request_sent': False, u'has_extended_profile': False, u'profile_use_background_image': True, u'time_zone': None, u'id': 192388653, u'default_profile': True, u'verified': False, u'profile_text_color': u'333333', u'profile_image_url_https': u'https://pbs.twimg.com/profile_images/1218730885/___normal.jpg', u'profile_sidebar_fill_color': u'DDEEF6', u'is_translator': False, u'geo_enabled': False, u'entities': {u'description': {u'urls': []}}, u'followers_count': 11, u'protected': False, u'id_str': u'192388653', u'default_profile_image': False, u'listed_count': 0, u'lang': u'en', u'utc_offset': None, u'statuses_count': 30, u'description': u'\\uc0c1\\uba85\\ub300', u'friends_count': 2, u'profile_link_color': u'0084B4', u'profile_image_url': u'http://pbs.twimg.com/profile_images/1218730885/___normal.jpg', u'notifications': False, u'profile_background_image_url_https': u'https://abs.twimg.com/images/themes/theme1/bg.png', u'profile_background_color': u'C0DEED', u'profile_background_image_url': u'http://abs.twimg.com/images/themes/theme1/bg.png', u'name': u'Joasang Lim', u'is_translation_enabled': False, u'profile_background_tile': False, u'favourites_count': 1, u'screen_name': u'jslimit', u'url': None, u'created_at': u'Sun Sep 19 00:44:43 +0000 2010', u'contributors_enabled': False, u'location': u'', u'profile_sidebar_border_color': u'C0DEED', u'translator_type': u'none', u'following': False}, u'geo': None, u'in_reply_to_user_id_str': None, u'lang': u'en', u'created_at': u'Wed Nov 19 04:21:37 +0000 2014', u'in_reply_to_status_id_str': None, u'place': None, u'_id': ObjectId('581a642af5e6e93d5e44055d')}\n",
      "{u'contributors': None, u'truncated': False, u'text': u'14:50pm', u'is_quote_status': False, u'in_reply_to_status_id': None, u'id': 534231478217867264L, u'favorite_count': 0, u'source': u'<a href=\"http://jsl.com/\" rel=\"nofollow\">JSL</a>', u'retweeted': False, u'coordinates': None, u'entities': {u'symbols': [], u'user_mentions': [], u'hashtags': [], u'urls': []}, u'in_reply_to_screen_name': None, u'id_str': u'534231478217867264', u'retweet_count': 0, u'in_reply_to_user_id': None, u'favorited': False, u'user': {u'follow_request_sent': False, u'has_extended_profile': False, u'profile_use_background_image': True, u'time_zone': None, u'id': 192388653, u'default_profile': True, u'verified': False, u'profile_text_color': u'333333', u'profile_image_url_https': u'https://pbs.twimg.com/profile_images/1218730885/___normal.jpg', u'profile_sidebar_fill_color': u'DDEEF6', u'is_translator': False, u'geo_enabled': False, u'entities': {u'description': {u'urls': []}}, u'followers_count': 11, u'protected': False, u'id_str': u'192388653', u'default_profile_image': False, u'listed_count': 0, u'lang': u'en', u'utc_offset': None, u'statuses_count': 30, u'description': u'\\uc0c1\\uba85\\ub300', u'friends_count': 2, u'profile_link_color': u'0084B4', u'profile_image_url': u'http://pbs.twimg.com/profile_images/1218730885/___normal.jpg', u'notifications': False, u'profile_background_image_url_https': u'https://abs.twimg.com/images/themes/theme1/bg.png', u'profile_background_color': u'C0DEED', u'profile_background_image_url': u'http://abs.twimg.com/images/themes/theme1/bg.png', u'name': u'Joasang Lim', u'is_translation_enabled': False, u'profile_background_tile': False, u'favourites_count': 1, u'screen_name': u'jslimit', u'url': None, u'created_at': u'Sun Sep 19 00:44:43 +0000 2010', u'contributors_enabled': False, u'location': u'', u'profile_sidebar_border_color': u'C0DEED', u'translator_type': u'none', u'following': False}, u'geo': None, u'in_reply_to_user_id_str': None, u'lang': u'und', u'created_at': u'Mon Nov 17 06:28:04 +0000 2014', u'in_reply_to_status_id_str': None, u'place': None, u'_id': ObjectId('581a642af5e6e93d5e44055e')}\n",
      "{u'contributors': None, u'truncated': False, u'text': u'14:50pm', u'is_quote_status': False, u'in_reply_to_status_id': None, u'id': 532410157867610112L, u'favorite_count': 0, u'source': u'<a href=\"http://jsl.com/\" rel=\"nofollow\">JSL</a>', u'retweeted': False, u'coordinates': None, u'entities': {u'symbols': [], u'user_mentions': [], u'hashtags': [], u'urls': []}, u'in_reply_to_screen_name': None, u'id_str': u'532410157867610112', u'retweet_count': 0, u'in_reply_to_user_id': None, u'favorited': False, u'user': {u'follow_request_sent': False, u'has_extended_profile': False, u'profile_use_background_image': True, u'time_zone': None, u'id': 192388653, u'default_profile': True, u'verified': False, u'profile_text_color': u'333333', u'profile_image_url_https': u'https://pbs.twimg.com/profile_images/1218730885/___normal.jpg', u'profile_sidebar_fill_color': u'DDEEF6', u'is_translator': False, u'geo_enabled': False, u'entities': {u'description': {u'urls': []}}, u'followers_count': 11, u'protected': False, u'id_str': u'192388653', u'default_profile_image': False, u'listed_count': 0, u'lang': u'en', u'utc_offset': None, u'statuses_count': 30, u'description': u'\\uc0c1\\uba85\\ub300', u'friends_count': 2, u'profile_link_color': u'0084B4', u'profile_image_url': u'http://pbs.twimg.com/profile_images/1218730885/___normal.jpg', u'notifications': False, u'profile_background_image_url_https': u'https://abs.twimg.com/images/themes/theme1/bg.png', u'profile_background_color': u'C0DEED', u'profile_background_image_url': u'http://abs.twimg.com/images/themes/theme1/bg.png', u'name': u'Joasang Lim', u'is_translation_enabled': False, u'profile_background_tile': False, u'favourites_count': 1, u'screen_name': u'jslimit', u'url': None, u'created_at': u'Sun Sep 19 00:44:43 +0000 2010', u'contributors_enabled': False, u'location': u'', u'profile_sidebar_border_color': u'C0DEED', u'translator_type': u'none', u'following': False}, u'geo': None, u'in_reply_to_user_id_str': None, u'lang': u'und', u'created_at': u'Wed Nov 12 05:50:48 +0000 2014', u'in_reply_to_status_id_str': None, u'place': None, u'_id': ObjectId('581a642af5e6e93d5e44055f')}\n",
      "{u'contributors': None, u'truncated': False, u'text': u'14:40pm', u'is_quote_status': False, u'in_reply_to_status_id': None, u'id': 532408731074437120L, u'favorite_count': 0, u'source': u'<a href=\"http://jsl.com/\" rel=\"nofollow\">JSL</a>', u'retweeted': False, u'coordinates': None, u'entities': {u'symbols': [], u'user_mentions': [], u'hashtags': [], u'urls': []}, u'in_reply_to_screen_name': None, u'id_str': u'532408731074437120', u'retweet_count': 0, u'in_reply_to_user_id': None, u'favorited': False, u'user': {u'follow_request_sent': False, u'has_extended_profile': False, u'profile_use_background_image': True, u'time_zone': None, u'id': 192388653, u'default_profile': True, u'verified': False, u'profile_text_color': u'333333', u'profile_image_url_https': u'https://pbs.twimg.com/profile_images/1218730885/___normal.jpg', u'profile_sidebar_fill_color': u'DDEEF6', u'is_translator': False, u'geo_enabled': False, u'entities': {u'description': {u'urls': []}}, u'followers_count': 11, u'protected': False, u'id_str': u'192388653', u'default_profile_image': False, u'listed_count': 0, u'lang': u'en', u'utc_offset': None, u'statuses_count': 30, u'description': u'\\uc0c1\\uba85\\ub300', u'friends_count': 2, u'profile_link_color': u'0084B4', u'profile_image_url': u'http://pbs.twimg.com/profile_images/1218730885/___normal.jpg', u'notifications': False, u'profile_background_image_url_https': u'https://abs.twimg.com/images/themes/theme1/bg.png', u'profile_background_color': u'C0DEED', u'profile_background_image_url': u'http://abs.twimg.com/images/themes/theme1/bg.png', u'name': u'Joasang Lim', u'is_translation_enabled': False, u'profile_background_tile': False, u'favourites_count': 1, u'screen_name': u'jslimit', u'url': None, u'created_at': u'Sun Sep 19 00:44:43 +0000 2010', u'contributors_enabled': False, u'location': u'', u'profile_sidebar_border_color': u'C0DEED', u'translator_type': u'none', u'following': False}, u'geo': None, u'in_reply_to_user_id_str': None, u'lang': u'und', u'created_at': u'Wed Nov 12 05:45:07 +0000 2014', u'in_reply_to_status_id_str': None, u'place': None, u'_id': ObjectId('581a642af5e6e93d5e440560')}\n",
      "{u'contributors': None, u'truncated': False, u'text': u'14:30pm', u'is_quote_status': False, u'in_reply_to_status_id': None, u'id': 532408509577445377L, u'favorite_count': 0, u'source': u'<a href=\"http://jsl.com/\" rel=\"nofollow\">JSL</a>', u'retweeted': False, u'coordinates': None, u'entities': {u'symbols': [], u'user_mentions': [], u'hashtags': [], u'urls': []}, u'in_reply_to_screen_name': None, u'id_str': u'532408509577445377', u'retweet_count': 0, u'in_reply_to_user_id': None, u'favorited': False, u'user': {u'follow_request_sent': False, u'has_extended_profile': False, u'profile_use_background_image': True, u'time_zone': None, u'id': 192388653, u'default_profile': True, u'verified': False, u'profile_text_color': u'333333', u'profile_image_url_https': u'https://pbs.twimg.com/profile_images/1218730885/___normal.jpg', u'profile_sidebar_fill_color': u'DDEEF6', u'is_translator': False, u'geo_enabled': False, u'entities': {u'description': {u'urls': []}}, u'followers_count': 11, u'protected': False, u'id_str': u'192388653', u'default_profile_image': False, u'listed_count': 0, u'lang': u'en', u'utc_offset': None, u'statuses_count': 30, u'description': u'\\uc0c1\\uba85\\ub300', u'friends_count': 2, u'profile_link_color': u'0084B4', u'profile_image_url': u'http://pbs.twimg.com/profile_images/1218730885/___normal.jpg', u'notifications': False, u'profile_background_image_url_https': u'https://abs.twimg.com/images/themes/theme1/bg.png', u'profile_background_color': u'C0DEED', u'profile_background_image_url': u'http://abs.twimg.com/images/themes/theme1/bg.png', u'name': u'Joasang Lim', u'is_translation_enabled': False, u'profile_background_tile': False, u'favourites_count': 1, u'screen_name': u'jslimit', u'url': None, u'created_at': u'Sun Sep 19 00:44:43 +0000 2010', u'contributors_enabled': False, u'location': u'', u'profile_sidebar_border_color': u'C0DEED', u'translator_type': u'none', u'following': False}, u'geo': None, u'in_reply_to_user_id_str': None, u'lang': u'und', u'created_at': u'Wed Nov 12 05:44:15 +0000 2014', u'in_reply_to_status_id_str': None, u'place': None, u'_id': ObjectId('581a642af5e6e93d5e440561')}\n",
      "{u'contributors': None, u'truncated': False, u'text': u'1:00pm', u'is_quote_status': False, u'in_reply_to_status_id': None, u'id': 532386310086881280L, u'favorite_count': 0, u'source': u'<a href=\"http://jsl.com/\" rel=\"nofollow\">JSL</a>', u'retweeted': False, u'coordinates': None, u'entities': {u'symbols': [], u'user_mentions': [], u'hashtags': [], u'urls': []}, u'in_reply_to_screen_name': None, u'id_str': u'532386310086881280', u'retweet_count': 0, u'in_reply_to_user_id': None, u'favorited': False, u'user': {u'follow_request_sent': False, u'has_extended_profile': False, u'profile_use_background_image': True, u'time_zone': None, u'id': 192388653, u'default_profile': True, u'verified': False, u'profile_text_color': u'333333', u'profile_image_url_https': u'https://pbs.twimg.com/profile_images/1218730885/___normal.jpg', u'profile_sidebar_fill_color': u'DDEEF6', u'is_translator': False, u'geo_enabled': False, u'entities': {u'description': {u'urls': []}}, u'followers_count': 11, u'protected': False, u'id_str': u'192388653', u'default_profile_image': False, u'listed_count': 0, u'lang': u'en', u'utc_offset': None, u'statuses_count': 30, u'description': u'\\uc0c1\\uba85\\ub300', u'friends_count': 2, u'profile_link_color': u'0084B4', u'profile_image_url': u'http://pbs.twimg.com/profile_images/1218730885/___normal.jpg', u'notifications': False, u'profile_background_image_url_https': u'https://abs.twimg.com/images/themes/theme1/bg.png', u'profile_background_color': u'C0DEED', u'profile_background_image_url': u'http://abs.twimg.com/images/themes/theme1/bg.png', u'name': u'Joasang Lim', u'is_translation_enabled': False, u'profile_background_tile': False, u'favourites_count': 1, u'screen_name': u'jslimit', u'url': None, u'created_at': u'Sun Sep 19 00:44:43 +0000 2010', u'contributors_enabled': False, u'location': u'', u'profile_sidebar_border_color': u'C0DEED', u'translator_type': u'none', u'following': False}, u'geo': None, u'in_reply_to_user_id_str': None, u'lang': u'und', u'created_at': u'Wed Nov 12 04:16:02 +0000 2014', u'in_reply_to_status_id_str': None, u'place': None, u'_id': ObjectId('581a642af5e6e93d5e440562')}\n",
      "{u'contributors': None, u'truncated': False, u'text': u'Hello World jsl 2 939', u'is_quote_status': False, u'in_reply_to_status_id': None, u'id': 532331903043375104L, u'favorite_count': 0, u'source': u'<a href=\"http://jsl.com/\" rel=\"nofollow\">JSL</a>', u'retweeted': False, u'coordinates': None, u'entities': {u'symbols': [], u'user_mentions': [], u'hashtags': [], u'urls': []}, u'in_reply_to_screen_name': None, u'id_str': u'532331903043375104', u'retweet_count': 0, u'in_reply_to_user_id': None, u'favorited': False, u'user': {u'follow_request_sent': False, u'has_extended_profile': False, u'profile_use_background_image': True, u'time_zone': None, u'id': 192388653, u'default_profile': True, u'verified': False, u'profile_text_color': u'333333', u'profile_image_url_https': u'https://pbs.twimg.com/profile_images/1218730885/___normal.jpg', u'profile_sidebar_fill_color': u'DDEEF6', u'is_translator': False, u'geo_enabled': False, u'entities': {u'description': {u'urls': []}}, u'followers_count': 11, u'protected': False, u'id_str': u'192388653', u'default_profile_image': False, u'listed_count': 0, u'lang': u'en', u'utc_offset': None, u'statuses_count': 30, u'description': u'\\uc0c1\\uba85\\ub300', u'friends_count': 2, u'profile_link_color': u'0084B4', u'profile_image_url': u'http://pbs.twimg.com/profile_images/1218730885/___normal.jpg', u'notifications': False, u'profile_background_image_url_https': u'https://abs.twimg.com/images/themes/theme1/bg.png', u'profile_background_color': u'C0DEED', u'profile_background_image_url': u'http://abs.twimg.com/images/themes/theme1/bg.png', u'name': u'Joasang Lim', u'is_translation_enabled': False, u'profile_background_tile': False, u'favourites_count': 1, u'screen_name': u'jslimit', u'url': None, u'created_at': u'Sun Sep 19 00:44:43 +0000 2010', u'contributors_enabled': False, u'location': u'', u'profile_sidebar_border_color': u'C0DEED', u'translator_type': u'none', u'following': False}, u'geo': None, u'in_reply_to_user_id_str': None, u'lang': u'en', u'created_at': u'Wed Nov 12 00:39:50 +0000 2014', u'in_reply_to_status_id_str': None, u'place': None, u'_id': ObjectId('581a642af5e6e93d5e440563')}\n",
      "{u'contributors': None, u'truncated': False, u'text': u'Hello World jsl 2', u'is_quote_status': False, u'in_reply_to_status_id': None, u'id': 532330981613502466L, u'favorite_count': 0, u'source': u'<a href=\"http://jsl.com/\" rel=\"nofollow\">JSL</a>', u'retweeted': False, u'coordinates': None, u'entities': {u'symbols': [], u'user_mentions': [], u'hashtags': [], u'urls': []}, u'in_reply_to_screen_name': None, u'id_str': u'532330981613502466', u'retweet_count': 0, u'in_reply_to_user_id': None, u'favorited': False, u'user': {u'follow_request_sent': False, u'has_extended_profile': False, u'profile_use_background_image': True, u'time_zone': None, u'id': 192388653, u'default_profile': True, u'verified': False, u'profile_text_color': u'333333', u'profile_image_url_https': u'https://pbs.twimg.com/profile_images/1218730885/___normal.jpg', u'profile_sidebar_fill_color': u'DDEEF6', u'is_translator': False, u'geo_enabled': False, u'entities': {u'description': {u'urls': []}}, u'followers_count': 11, u'protected': False, u'id_str': u'192388653', u'default_profile_image': False, u'listed_count': 0, u'lang': u'en', u'utc_offset': None, u'statuses_count': 30, u'description': u'\\uc0c1\\uba85\\ub300', u'friends_count': 2, u'profile_link_color': u'0084B4', u'profile_image_url': u'http://pbs.twimg.com/profile_images/1218730885/___normal.jpg', u'notifications': False, u'profile_background_image_url_https': u'https://abs.twimg.com/images/themes/theme1/bg.png', u'profile_background_color': u'C0DEED', u'profile_background_image_url': u'http://abs.twimg.com/images/themes/theme1/bg.png', u'name': u'Joasang Lim', u'is_translation_enabled': False, u'profile_background_tile': False, u'favourites_count': 1, u'screen_name': u'jslimit', u'url': None, u'created_at': u'Sun Sep 19 00:44:43 +0000 2010', u'contributors_enabled': False, u'location': u'', u'profile_sidebar_border_color': u'C0DEED', u'translator_type': u'none', u'following': False}, u'geo': None, u'in_reply_to_user_id_str': None, u'lang': u'en', u'created_at': u'Wed Nov 12 00:36:10 +0000 2014', u'in_reply_to_status_id_str': None, u'place': None, u'_id': ObjectId('581a642af5e6e93d5e440564')}\n",
      "{u'contributors': None, u'truncated': False, u'text': u'hello from java2', u'is_quote_status': False, u'in_reply_to_status_id': None, u'id': 531712281260740609L, u'favorite_count': 0, u'source': u'<a href=\"http://jsl.com/\" rel=\"nofollow\">JSL</a>', u'retweeted': False, u'coordinates': None, u'entities': {u'symbols': [], u'user_mentions': [], u'hashtags': [], u'urls': []}, u'in_reply_to_screen_name': None, u'id_str': u'531712281260740609', u'retweet_count': 0, u'in_reply_to_user_id': None, u'favorited': False, u'user': {u'follow_request_sent': False, u'has_extended_profile': False, u'profile_use_background_image': True, u'time_zone': None, u'id': 192388653, u'default_profile': True, u'verified': False, u'profile_text_color': u'333333', u'profile_image_url_https': u'https://pbs.twimg.com/profile_images/1218730885/___normal.jpg', u'profile_sidebar_fill_color': u'DDEEF6', u'is_translator': False, u'geo_enabled': False, u'entities': {u'description': {u'urls': []}}, u'followers_count': 11, u'protected': False, u'id_str': u'192388653', u'default_profile_image': False, u'listed_count': 0, u'lang': u'en', u'utc_offset': None, u'statuses_count': 30, u'description': u'\\uc0c1\\uba85\\ub300', u'friends_count': 2, u'profile_link_color': u'0084B4', u'profile_image_url': u'http://pbs.twimg.com/profile_images/1218730885/___normal.jpg', u'notifications': False, u'profile_background_image_url_https': u'https://abs.twimg.com/images/themes/theme1/bg.png', u'profile_background_color': u'C0DEED', u'profile_background_image_url': u'http://abs.twimg.com/images/themes/theme1/bg.png', u'name': u'Joasang Lim', u'is_translation_enabled': False, u'profile_background_tile': False, u'favourites_count': 1, u'screen_name': u'jslimit', u'url': None, u'created_at': u'Sun Sep 19 00:44:43 +0000 2010', u'contributors_enabled': False, u'location': u'', u'profile_sidebar_border_color': u'C0DEED', u'translator_type': u'none', u'following': False}, u'geo': None, u'in_reply_to_user_id_str': None, u'lang': u'en', u'created_at': u'Mon Nov 10 07:37:41 +0000 2014', u'in_reply_to_status_id_str': None, u'place': None, u'_id': ObjectId('581a642af5e6e93d5e440565')}\n"
     ]
    }
   ],
   "source": [
    "for i in _db.home_timeline.find():\n",
    "    print i"
   ]
  },
  {
   "cell_type": "raw",
   "metadata": {
    "slideshow": {
     "slide_type": "subslide"
    }
   },
   "source": [
    "* 2개만 가져오기"
   ]
  },
  {
   "cell_type": "code",
   "execution_count": 58,
   "metadata": {
    "collapsed": false,
    "scrolled": true,
    "slideshow": {
     "slide_type": "-"
    }
   },
   "outputs": [
    {
     "name": "stdout",
     "output_type": "stream",
     "text": [
      "768674417551347712 Hello from oauth 2016-08-24 14:00\n",
      "767873469119803392 Hello from oauth 2016-07-16 18:00\n"
     ]
    }
   ],
   "source": [
    "url = \"https://api.twitter.com/1.1/statuses/home_timeline.json?count=2\"\n",
    "response, content = client.request(url)\n",
    "\n",
    "home_timeline = json.loads(content)\n",
    "for tweet in home_timeline:\n",
    "    print tweet['id'],tweet['text']"
   ]
  },
  {
   "cell_type": "code",
   "execution_count": 22,
   "metadata": {
    "collapsed": false,
    "slideshow": {
     "slide_type": "subslide"
    }
   },
   "outputs": [
    {
     "name": "stdout",
     "output_type": "stream",
     "text": [
      "Sat Jul 16 09:00:57 +0000 2016\n",
      "754239388641406977\n"
     ]
    }
   ],
   "source": [
    "print home_timeline[0]['created_at']\n",
    "print home_timeline[0]['id']"
   ]
  },
  {
   "cell_type": "markdown",
   "metadata": {
    "slideshow": {
     "slide_type": "subslide"
    }
   },
   "source": [
    "* pagination - 검색하거나, 타임라인을 읽어 오는 경우, 여러 번으로 나누어 가져온다.\n",
    "    * 사용하는 변수\n",
    "        * max_id = top of tweets id list\n",
    "        * since_id = bottom of tweets id list\n",
    "    * 언제 사용하나?\n",
    "        * 사용사례1: 조회한 시점 이후 새로운 트윗이 추가되었을 경우\n",
    "            * since_id는 조회한 시점\n",
    "            * max_id는 새로 추가된 트윗까지\n",
    "        * 사용사례2: 조회한 후, 그 다음 페이지를 읽어오는 경우 (오래된 것)\n",
    "            * max_id만 사용\n",
    "            * since_id는 불필요하므로 비워놓음\n",
    "    * max_id부터 오래된 것을 읽어오기 -> 마지막 id는 어떻게 찾는가?\n",
    "    * max 3200 (200개씩 16번 호출)"
   ]
  },
  {
   "cell_type": "markdown",
   "metadata": {
    "slideshow": {
     "slide_type": "subslide"
    }
   },
   "source": [
    "* 사용사례2"
   ]
  },
  {
   "cell_type": "code",
   "execution_count": 59,
   "metadata": {
    "collapsed": false,
    "scrolled": false,
    "slideshow": {
     "slide_type": "-"
    }
   },
   "outputs": [
    {
     "name": "stdout",
     "output_type": "stream",
     "text": [
      "532386310086881280 1:00pm\n",
      "532331903043375104 Hello World jsl 2 939\n",
      "532330981613502466 Hello World jsl 2\n",
      "531712281260740609 hello from java2\n",
      "531549525509296129 Hello World jsl 2\n",
      "531272491931410432 1130\n",
      "531268424635146240 hello\n",
      "531250812547125248 1003\n",
      "530995513986793472 날이 흐린 날\n",
      "212391733038817280 트윗 테슽\n",
      "28702715408285697 This a simple test from twitter-async at 01-22-2011 03:41:48\n",
      "28686704881704960 status update by POST from API console\n",
      "28653235166257153 This a simple test from twitter-async at 01-22-2011 12:25:12\n",
      "28652911965773824 This a simple test from twitter-async at 01-22-2011 12:23:55\n",
      "28652284741156864 This a simple test from twitter-async at 01-22-2011 12:21:25\n",
      "28454996737 RT @DirectorYoo: 이외수선생님 알티부탁드려요..@oisoo  b형백혈구헌혈이필요합니다 11살남자아이가 서울대병원 중환자실에 있습니다  b형성인남자는55키로이상여자는45키로이상 최근예방접종안하신분가능합니다010 9907 3780 연락 ...\n",
      "18831928302 What a wonderful world !!!\n"
     ]
    }
   ],
   "source": [
    "import urllib\n",
    "url = \"https://api.twitter.com/1.1/statuses/home_timeline.json\"\n",
    "myparam={'max_id':'532386310086881280'}\n",
    "mybody=urllib.urlencode(myparam)\n",
    "\n",
    "response, content = client.request(url+\"?\"+mybody, method=\"GET\")\n",
    "home_timeline = json.loads(content)\n",
    "for tweet in home_timeline:\n",
    "    print tweet['id'],tweet['text']"
   ]
  },
  {
   "cell_type": "code",
   "execution_count": 60,
   "metadata": {
    "collapsed": false,
    "scrolled": true,
    "slideshow": {
     "slide_type": "subslide"
    }
   },
   "outputs": [
    {
     "name": "stdout",
     "output_type": "stream",
     "text": [
      "534949539757555713 hello 3:00 pm\n",
      "534945044000559104 Hello from swing 2:40pm\n",
      "534928555591745536 hello 1:40pm\n",
      "534924431919828992 hello 13:21\n",
      "534231478217867264 14:50pm\n",
      "532410157867610112 14:50pm\n",
      "532408731074437120 14:40pm\n",
      "532408509577445377 14:30pm\n"
     ]
    }
   ],
   "source": [
    "import urllib\n",
    "myparam={'max_id':'534949539757555713','since_id':'532386310086881280'}\n",
    "\n",
    "mybody=urllib.urlencode(myparam)\n",
    "\n",
    "response, content = client.request(url+\"?\"+mybody, method=\"GET\")\n",
    "home_timeline = json.loads(content)\n",
    "for tweet in home_timeline:\n",
    "    print tweet['id'],tweet['text']"
   ]
  },
  {
   "cell_type": "code",
   "execution_count": 15,
   "metadata": {
    "collapsed": false,
    "slideshow": {
     "slide_type": "subslide"
    }
   },
   "outputs": [
    {
     "name": "stdout",
     "output_type": "stream",
     "text": [
      "[{u'contributors': None, u'truncated': False, u'text': u'1:00pm', u'is_quote_status': False, u'in_reply_to_status_id': None, u'id': 532386310086881280, u'favorite_count': 0, u'source': u'<a href=\"http://jsl.com/\" rel=\"nofollow\">JSL</a>', u'retweeted': False, u'coordinates': None, u'entities': {u'symbols': [], u'user_mentions': [], u'hashtags': [], u'urls': []}, u'in_reply_to_screen_name': None, u'in_reply_to_user_id': None, u'retweet_count': 0, u'id_str': u'532386310086881280', u'favorited': False, u'user': {u'follow_request_sent': False, u'has_extended_profile': False, u'profile_use_background_image': True, u'default_profile_image': False, u'id': 192388653, u'profile_background_image_url_https': u'https://abs.twimg.com/images/themes/theme1/bg.png', u'verified': False, u'profile_text_color': u'333333', u'profile_image_url_https': u'https://pbs.twimg.com/profile_images/1218730885/___normal.jpg', u'profile_sidebar_fill_color': u'DDEEF6', u'entities': {u'description': {u'urls': []}}, u'followers_count': 11, u'profile_sidebar_border_color': u'C0DEED', u'id_str': u'192388653', u'profile_background_color': u'C0DEED', u'listed_count': 0, u'is_translation_enabled': False, u'utc_offset': None, u'statuses_count': 23, u'description': u'\\uc0c1\\uba85\\ub300', u'friends_count': 2, u'location': u'', u'profile_link_color': u'0084B4', u'profile_image_url': u'http://pbs.twimg.com/profile_images/1218730885/___normal.jpg', u'following': False, u'geo_enabled': False, u'profile_background_image_url': u'http://abs.twimg.com/images/themes/theme1/bg.png', u'screen_name': u'jslimit', u'lang': u'en', u'profile_background_tile': False, u'favourites_count': 1, u'name': u'Joasang Lim', u'notifications': False, u'url': None, u'created_at': u'Sun Sep 19 00:44:43 +0000 2010', u'contributors_enabled': False, u'time_zone': None, u'protected': False, u'default_profile': True, u'is_translator': False}, u'geo': None, u'in_reply_to_user_id_str': None, u'lang': u'und', u'created_at': u'Wed Nov 12 04:16:02 +0000 2014', u'in_reply_to_status_id_str': None, u'place': None}, {u'contributors': None, u'truncated': False, u'text': u'Hello World jsl 2 939', u'is_quote_status': False, u'in_reply_to_status_id': None, u'id': 532331903043375104, u'favorite_count': 0, u'source': u'<a href=\"http://jsl.com/\" rel=\"nofollow\">JSL</a>', u'retweeted': False, u'coordinates': None, u'entities': {u'symbols': [], u'user_mentions': [], u'hashtags': [], u'urls': []}, u'in_reply_to_screen_name': None, u'in_reply_to_user_id': None, u'retweet_count': 0, u'id_str': u'532331903043375104', u'favorited': False, u'user': {u'follow_request_sent': False, u'has_extended_profile': False, u'profile_use_background_image': True, u'default_profile_image': False, u'id': 192388653, u'profile_background_image_url_https': u'https://abs.twimg.com/images/themes/theme1/bg.png', u'verified': False, u'profile_text_color': u'333333', u'profile_image_url_https': u'https://pbs.twimg.com/profile_images/1218730885/___normal.jpg', u'profile_sidebar_fill_color': u'DDEEF6', u'entities': {u'description': {u'urls': []}}, u'followers_count': 11, u'profile_sidebar_border_color': u'C0DEED', u'id_str': u'192388653', u'profile_background_color': u'C0DEED', u'listed_count': 0, u'is_translation_enabled': False, u'utc_offset': None, u'statuses_count': 23, u'description': u'\\uc0c1\\uba85\\ub300', u'friends_count': 2, u'location': u'', u'profile_link_color': u'0084B4', u'profile_image_url': u'http://pbs.twimg.com/profile_images/1218730885/___normal.jpg', u'following': False, u'geo_enabled': False, u'profile_background_image_url': u'http://abs.twimg.com/images/themes/theme1/bg.png', u'screen_name': u'jslimit', u'lang': u'en', u'profile_background_tile': False, u'favourites_count': 1, u'name': u'Joasang Lim', u'notifications': False, u'url': None, u'created_at': u'Sun Sep 19 00:44:43 +0000 2010', u'contributors_enabled': False, u'time_zone': None, u'protected': False, u'default_profile': True, u'is_translator': False}, u'geo': None, u'in_reply_to_user_id_str': None, u'lang': u'en', u'created_at': u'Wed Nov 12 00:39:50 +0000 2014', u'in_reply_to_status_id_str': None, u'place': None}, {u'contributors': None, u'truncated': False, u'text': u'Hello World jsl 2', u'is_quote_status': False, u'in_reply_to_status_id': None, u'id': 532330981613502466, u'favorite_count': 0, u'source': u'<a href=\"http://jsl.com/\" rel=\"nofollow\">JSL</a>', u'retweeted': False, u'coordinates': None, u'entities': {u'symbols': [], u'user_mentions': [], u'hashtags': [], u'urls': []}, u'in_reply_to_screen_name': None, u'in_reply_to_user_id': None, u'retweet_count': 0, u'id_str': u'532330981613502466', u'favorited': False, u'user': {u'follow_request_sent': False, u'has_extended_profile': False, u'profile_use_background_image': True, u'default_profile_image': False, u'id': 192388653, u'profile_background_image_url_https': u'https://abs.twimg.com/images/themes/theme1/bg.png', u'verified': False, u'profile_text_color': u'333333', u'profile_image_url_https': u'https://pbs.twimg.com/profile_images/1218730885/___normal.jpg', u'profile_sidebar_fill_color': u'DDEEF6', u'entities': {u'description': {u'urls': []}}, u'followers_count': 11, u'profile_sidebar_border_color': u'C0DEED', u'id_str': u'192388653', u'profile_background_color': u'C0DEED', u'listed_count': 0, u'is_translation_enabled': False, u'utc_offset': None, u'statuses_count': 23, u'description': u'\\uc0c1\\uba85\\ub300', u'friends_count': 2, u'location': u'', u'profile_link_color': u'0084B4', u'profile_image_url': u'http://pbs.twimg.com/profile_images/1218730885/___normal.jpg', u'following': False, u'geo_enabled': False, u'profile_background_image_url': u'http://abs.twimg.com/images/themes/theme1/bg.png', u'screen_name': u'jslimit', u'lang': u'en', u'profile_background_tile': False, u'favourites_count': 1, u'name': u'Joasang Lim', u'notifications': False, u'url': None, u'created_at': u'Sun Sep 19 00:44:43 +0000 2010', u'contributors_enabled': False, u'time_zone': None, u'protected': False, u'default_profile': True, u'is_translator': False}, u'geo': None, u'in_reply_to_user_id_str': None, u'lang': u'en', u'created_at': u'Wed Nov 12 00:36:10 +0000 2014', u'in_reply_to_status_id_str': None, u'place': None}, {u'contributors': None, u'truncated': False, u'text': u'hello from java2', u'is_quote_status': False, u'in_reply_to_status_id': None, u'id': 531712281260740609, u'favorite_count': 0, u'source': u'<a href=\"http://jsl.com/\" rel=\"nofollow\">JSL</a>', u'retweeted': False, u'coordinates': None, u'entities': {u'symbols': [], u'user_mentions': [], u'hashtags': [], u'urls': []}, u'in_reply_to_screen_name': None, u'in_reply_to_user_id': None, u'retweet_count': 0, u'id_str': u'531712281260740609', u'favorited': False, u'user': {u'follow_request_sent': False, u'has_extended_profile': False, u'profile_use_background_image': True, u'default_profile_image': False, u'id': 192388653, u'profile_background_image_url_https': u'https://abs.twimg.com/images/themes/theme1/bg.png', u'verified': False, u'profile_text_color': u'333333', u'profile_image_url_https': u'https://pbs.twimg.com/profile_images/1218730885/___normal.jpg', u'profile_sidebar_fill_color': u'DDEEF6', u'entities': {u'description': {u'urls': []}}, u'followers_count': 11, u'profile_sidebar_border_color': u'C0DEED', u'id_str': u'192388653', u'profile_background_color': u'C0DEED', u'listed_count': 0, u'is_translation_enabled': False, u'utc_offset': None, u'statuses_count': 23, u'description': u'\\uc0c1\\uba85\\ub300', u'friends_count': 2, u'location': u'', u'profile_link_color': u'0084B4', u'profile_image_url': u'http://pbs.twimg.com/profile_images/1218730885/___normal.jpg', u'following': False, u'geo_enabled': False, u'profile_background_image_url': u'http://abs.twimg.com/images/themes/theme1/bg.png', u'screen_name': u'jslimit', u'lang': u'en', u'profile_background_tile': False, u'favourites_count': 1, u'name': u'Joasang Lim', u'notifications': False, u'url': None, u'created_at': u'Sun Sep 19 00:44:43 +0000 2010', u'contributors_enabled': False, u'time_zone': None, u'protected': False, u'default_profile': True, u'is_translator': False}, u'geo': None, u'in_reply_to_user_id_str': None, u'lang': u'en', u'created_at': u'Mon Nov 10 07:37:41 +0000 2014', u'in_reply_to_status_id_str': None, u'place': None}, {u'contributors': None, u'truncated': False, u'text': u'Hello World jsl 2', u'is_quote_status': False, u'in_reply_to_status_id': None, u'id': 531549525509296129, u'favorite_count': 0, u'source': u'<a href=\"http://jsl.com/\" rel=\"nofollow\">JSL</a>', u'retweeted': False, u'coordinates': None, u'entities': {u'symbols': [], u'user_mentions': [], u'hashtags': [], u'urls': []}, u'in_reply_to_screen_name': None, u'in_reply_to_user_id': None, u'retweet_count': 0, u'id_str': u'531549525509296129', u'favorited': False, u'user': {u'follow_request_sent': False, u'has_extended_profile': False, u'profile_use_background_image': True, u'default_profile_image': False, u'id': 192388653, u'profile_background_image_url_https': u'https://abs.twimg.com/images/themes/theme1/bg.png', u'verified': False, u'profile_text_color': u'333333', u'profile_image_url_https': u'https://pbs.twimg.com/profile_images/1218730885/___normal.jpg', u'profile_sidebar_fill_color': u'DDEEF6', u'entities': {u'description': {u'urls': []}}, u'followers_count': 11, u'profile_sidebar_border_color': u'C0DEED', u'id_str': u'192388653', u'profile_background_color': u'C0DEED', u'listed_count': 0, u'is_translation_enabled': False, u'utc_offset': None, u'statuses_count': 23, u'description': u'\\uc0c1\\uba85\\ub300', u'friends_count': 2, u'location': u'', u'profile_link_color': u'0084B4', u'profile_image_url': u'http://pbs.twimg.com/profile_images/1218730885/___normal.jpg', u'following': False, u'geo_enabled': False, u'profile_background_image_url': u'http://abs.twimg.com/images/themes/theme1/bg.png', u'screen_name': u'jslimit', u'lang': u'en', u'profile_background_tile': False, u'favourites_count': 1, u'name': u'Joasang Lim', u'notifications': False, u'url': None, u'created_at': u'Sun Sep 19 00:44:43 +0000 2010', u'contributors_enabled': False, u'time_zone': None, u'protected': False, u'default_profile': True, u'is_translator': False}, u'geo': None, u'in_reply_to_user_id_str': None, u'lang': u'en', u'created_at': u'Sun Nov 09 20:50:57 +0000 2014', u'in_reply_to_status_id_str': None, u'place': None}, {u'contributors': None, u'truncated': False, u'text': u'1130', u'is_quote_status': False, u'in_reply_to_status_id': None, u'id': 531272491931410432, u'favorite_count': 0, u'source': u'<a href=\"http://jsl.com/\" rel=\"nofollow\">JSL</a>', u'retweeted': False, u'coordinates': None, u'entities': {u'symbols': [], u'user_mentions': [], u'hashtags': [], u'urls': []}, u'in_reply_to_screen_name': None, u'in_reply_to_user_id': None, u'retweet_count': 0, u'id_str': u'531272491931410432', u'favorited': False, u'user': {u'follow_request_sent': False, u'has_extended_profile': False, u'profile_use_background_image': True, u'default_profile_image': False, u'id': 192388653, u'profile_background_image_url_https': u'https://abs.twimg.com/images/themes/theme1/bg.png', u'verified': False, u'profile_text_color': u'333333', u'profile_image_url_https': u'https://pbs.twimg.com/profile_images/1218730885/___normal.jpg', u'profile_sidebar_fill_color': u'DDEEF6', u'entities': {u'description': {u'urls': []}}, u'followers_count': 11, u'profile_sidebar_border_color': u'C0DEED', u'id_str': u'192388653', u'profile_background_color': u'C0DEED', u'listed_count': 0, u'is_translation_enabled': False, u'utc_offset': None, u'statuses_count': 23, u'description': u'\\uc0c1\\uba85\\ub300', u'friends_count': 2, u'location': u'', u'profile_link_color': u'0084B4', u'profile_image_url': u'http://pbs.twimg.com/profile_images/1218730885/___normal.jpg', u'following': False, u'geo_enabled': False, u'profile_background_image_url': u'http://abs.twimg.com/images/themes/theme1/bg.png', u'screen_name': u'jslimit', u'lang': u'en', u'profile_background_tile': False, u'favourites_count': 1, u'name': u'Joasang Lim', u'notifications': False, u'url': None, u'created_at': u'Sun Sep 19 00:44:43 +0000 2010', u'contributors_enabled': False, u'time_zone': None, u'protected': False, u'default_profile': True, u'is_translator': False}, u'geo': None, u'in_reply_to_user_id_str': None, u'lang': u'und', u'created_at': u'Sun Nov 09 02:30:07 +0000 2014', u'in_reply_to_status_id_str': None, u'place': None}, {u'contributors': None, u'truncated': False, u'text': u'hello', u'is_quote_status': False, u'in_reply_to_status_id': None, u'id': 531268424635146240, u'favorite_count': 0, u'source': u'<a href=\"http://jsl.com/\" rel=\"nofollow\">JSL</a>', u'retweeted': False, u'coordinates': None, u'entities': {u'symbols': [], u'user_mentions': [], u'hashtags': [], u'urls': []}, u'in_reply_to_screen_name': None, u'in_reply_to_user_id': None, u'retweet_count': 0, u'id_str': u'531268424635146240', u'favorited': False, u'user': {u'follow_request_sent': False, u'has_extended_profile': False, u'profile_use_background_image': True, u'default_profile_image': False, u'id': 192388653, u'profile_background_image_url_https': u'https://abs.twimg.com/images/themes/theme1/bg.png', u'verified': False, u'profile_text_color': u'333333', u'profile_image_url_https': u'https://pbs.twimg.com/profile_images/1218730885/___normal.jpg', u'profile_sidebar_fill_color': u'DDEEF6', u'entities': {u'description': {u'urls': []}}, u'followers_count': 11, u'profile_sidebar_border_color': u'C0DEED', u'id_str': u'192388653', u'profile_background_color': u'C0DEED', u'listed_count': 0, u'is_translation_enabled': False, u'utc_offset': None, u'statuses_count': 23, u'description': u'\\uc0c1\\uba85\\ub300', u'friends_count': 2, u'location': u'', u'profile_link_color': u'0084B4', u'profile_image_url': u'http://pbs.twimg.com/profile_images/1218730885/___normal.jpg', u'following': False, u'geo_enabled': False, u'profile_background_image_url': u'http://abs.twimg.com/images/themes/theme1/bg.png', u'screen_name': u'jslimit', u'lang': u'en', u'profile_background_tile': False, u'favourites_count': 1, u'name': u'Joasang Lim', u'notifications': False, u'url': None, u'created_at': u'Sun Sep 19 00:44:43 +0000 2010', u'contributors_enabled': False, u'time_zone': None, u'protected': False, u'default_profile': True, u'is_translator': False}, u'geo': None, u'in_reply_to_user_id_str': None, u'lang': u'en', u'created_at': u'Sun Nov 09 02:13:57 +0000 2014', u'in_reply_to_status_id_str': None, u'place': None}, {u'contributors': None, u'truncated': False, u'text': u'1003', u'is_quote_status': False, u'in_reply_to_status_id': None, u'id': 531250812547125248, u'favorite_count': 0, u'source': u'<a href=\"http://jsl.com/\" rel=\"nofollow\">JSL</a>', u'retweeted': False, u'coordinates': None, u'entities': {u'symbols': [], u'user_mentions': [], u'hashtags': [], u'urls': []}, u'in_reply_to_screen_name': None, u'in_reply_to_user_id': None, u'retweet_count': 0, u'id_str': u'531250812547125248', u'favorited': False, u'user': {u'follow_request_sent': False, u'has_extended_profile': False, u'profile_use_background_image': True, u'default_profile_image': False, u'id': 192388653, u'profile_background_image_url_https': u'https://abs.twimg.com/images/themes/theme1/bg.png', u'verified': False, u'profile_text_color': u'333333', u'profile_image_url_https': u'https://pbs.twimg.com/profile_images/1218730885/___normal.jpg', u'profile_sidebar_fill_color': u'DDEEF6', u'entities': {u'description': {u'urls': []}}, u'followers_count': 11, u'profile_sidebar_border_color': u'C0DEED', u'id_str': u'192388653', u'profile_background_color': u'C0DEED', u'listed_count': 0, u'is_translation_enabled': False, u'utc_offset': None, u'statuses_count': 23, u'description': u'\\uc0c1\\uba85\\ub300', u'friends_count': 2, u'location': u'', u'profile_link_color': u'0084B4', u'profile_image_url': u'http://pbs.twimg.com/profile_images/1218730885/___normal.jpg', u'following': False, u'geo_enabled': False, u'profile_background_image_url': u'http://abs.twimg.com/images/themes/theme1/bg.png', u'screen_name': u'jslimit', u'lang': u'en', u'profile_background_tile': False, u'favourites_count': 1, u'name': u'Joasang Lim', u'notifications': False, u'url': None, u'created_at': u'Sun Sep 19 00:44:43 +0000 2010', u'contributors_enabled': False, u'time_zone': None, u'protected': False, u'default_profile': True, u'is_translator': False}, u'geo': None, u'in_reply_to_user_id_str': None, u'lang': u'und', u'created_at': u'Sun Nov 09 01:03:58 +0000 2014', u'in_reply_to_status_id_str': None, u'place': None}, {u'contributors': None, u'truncated': False, u'text': u'\\ub0a0\\uc774 \\ud750\\ub9b0 \\ub0a0', u'is_quote_status': False, u'in_reply_to_status_id': None, u'id': 530995513986793472, u'favorite_count': 0, u'source': u'<a href=\"http://jsl.com/\" rel=\"nofollow\">JSL</a>', u'retweeted': False, u'coordinates': None, u'entities': {u'symbols': [], u'user_mentions': [], u'hashtags': [], u'urls': []}, u'in_reply_to_screen_name': None, u'in_reply_to_user_id': None, u'retweet_count': 0, u'id_str': u'530995513986793472', u'favorited': False, u'user': {u'follow_request_sent': False, u'has_extended_profile': False, u'profile_use_background_image': True, u'default_profile_image': False, u'id': 192388653, u'profile_background_image_url_https': u'https://abs.twimg.com/images/themes/theme1/bg.png', u'verified': False, u'profile_text_color': u'333333', u'profile_image_url_https': u'https://pbs.twimg.com/profile_images/1218730885/___normal.jpg', u'profile_sidebar_fill_color': u'DDEEF6', u'entities': {u'description': {u'urls': []}}, u'followers_count': 11, u'profile_sidebar_border_color': u'C0DEED', u'id_str': u'192388653', u'profile_background_color': u'C0DEED', u'listed_count': 0, u'is_translation_enabled': False, u'utc_offset': None, u'statuses_count': 23, u'description': u'\\uc0c1\\uba85\\ub300', u'friends_count': 2, u'location': u'', u'profile_link_color': u'0084B4', u'profile_image_url': u'http://pbs.twimg.com/profile_images/1218730885/___normal.jpg', u'following': False, u'geo_enabled': False, u'profile_background_image_url': u'http://abs.twimg.com/images/themes/theme1/bg.png', u'screen_name': u'jslimit', u'lang': u'en', u'profile_background_tile': False, u'favourites_count': 1, u'name': u'Joasang Lim', u'notifications': False, u'url': None, u'created_at': u'Sun Sep 19 00:44:43 +0000 2010', u'contributors_enabled': False, u'time_zone': None, u'protected': False, u'default_profile': True, u'is_translator': False}, u'geo': None, u'in_reply_to_user_id_str': None, u'lang': u'ko', u'created_at': u'Sat Nov 08 08:09:30 +0000 2014', u'in_reply_to_status_id_str': None, u'place': None}, {u'contributors': None, u'truncated': False, u'text': u'\\ud2b8\\uc717 \\ud14c\\uc2bd', u'is_quote_status': False, u'in_reply_to_status_id': None, u'id': 212391733038817280, u'favorite_count': 0, u'source': u'<a href=\"https://dev.twitter.com/docs/tfw\" rel=\"nofollow\">Twitter for Websites</a>', u'retweeted': False, u'coordinates': None, u'entities': {u'symbols': [], u'user_mentions': [], u'hashtags': [], u'urls': []}, u'in_reply_to_screen_name': None, u'in_reply_to_user_id': None, u'retweet_count': 0, u'id_str': u'212391733038817280', u'favorited': False, u'user': {u'follow_request_sent': False, u'has_extended_profile': False, u'profile_use_background_image': True, u'default_profile_image': False, u'id': 168089220, u'profile_background_image_url_https': u'https://abs.twimg.com/images/themes/theme1/bg.png', u'verified': False, u'profile_text_color': u'333333', u'profile_image_url_https': u'https://pbs.twimg.com/profile_images/2300759329/vHa3BTzi_normal', u'profile_sidebar_fill_color': u'DDEEF6', u'entities': {u'description': {u'urls': []}}, u'followers_count': 9, u'profile_sidebar_border_color': u'C0DEED', u'id_str': u'168089220', u'profile_background_color': u'C0DEED', u'listed_count': 0, u'is_translation_enabled': False, u'utc_offset': -36000, u'statuses_count': 5, u'description': u'', u'friends_count': 6, u'location': u'', u'profile_link_color': u'0084B4', u'profile_image_url': u'http://pbs.twimg.com/profile_images/2300759329/vHa3BTzi_normal', u'following': True, u'geo_enabled': False, u'profile_background_image_url': u'http://abs.twimg.com/images/themes/theme1/bg.png', u'screen_name': u'hchae00', u'lang': u'en', u'profile_background_tile': False, u'favourites_count': 1, u'name': u'Hoon Chae', u'notifications': False, u'url': None, u'created_at': u'Sun Jul 18 10:25:27 +0000 2010', u'contributors_enabled': False, u'time_zone': u'Hawaii', u'protected': False, u'default_profile': True, u'is_translator': False}, u'geo': None, u'in_reply_to_user_id_str': None, u'lang': u'ko', u'created_at': u'Tue Jun 12 03:51:49 +0000 2012', u'in_reply_to_status_id_str': None, u'place': None}, {u'contributors': None, u'truncated': False, u'text': u'This a simple test from twitter-async at 01-22-2011 03:41:48', u'is_quote_status': False, u'in_reply_to_status_id': None, u'id': 28702715408285697, u'favorite_count': 0, u'source': u'<a href=\"http://jsl.com/\" rel=\"nofollow\">JSL</a>', u'retweeted': False, u'coordinates': None, u'entities': {u'symbols': [], u'user_mentions': [], u'hashtags': [], u'urls': []}, u'in_reply_to_screen_name': None, u'in_reply_to_user_id': None, u'retweet_count': 0, u'id_str': u'28702715408285697', u'favorited': False, u'user': {u'follow_request_sent': False, u'has_extended_profile': False, u'profile_use_background_image': True, u'default_profile_image': False, u'id': 192388653, u'profile_background_image_url_https': u'https://abs.twimg.com/images/themes/theme1/bg.png', u'verified': False, u'profile_text_color': u'333333', u'profile_image_url_https': u'https://pbs.twimg.com/profile_images/1218730885/___normal.jpg', u'profile_sidebar_fill_color': u'DDEEF6', u'entities': {u'description': {u'urls': []}}, u'followers_count': 11, u'profile_sidebar_border_color': u'C0DEED', u'id_str': u'192388653', u'profile_background_color': u'C0DEED', u'listed_count': 0, u'is_translation_enabled': False, u'utc_offset': None, u'statuses_count': 23, u'description': u'\\uc0c1\\uba85\\ub300', u'friends_count': 2, u'location': u'', u'profile_link_color': u'0084B4', u'profile_image_url': u'http://pbs.twimg.com/profile_images/1218730885/___normal.jpg', u'following': False, u'geo_enabled': False, u'profile_background_image_url': u'http://abs.twimg.com/images/themes/theme1/bg.png', u'screen_name': u'jslimit', u'lang': u'en', u'profile_background_tile': False, u'favourites_count': 1, u'name': u'Joasang Lim', u'notifications': False, u'url': None, u'created_at': u'Sun Sep 19 00:44:43 +0000 2010', u'contributors_enabled': False, u'time_zone': None, u'protected': False, u'default_profile': True, u'is_translator': False}, u'geo': None, u'in_reply_to_user_id_str': None, u'lang': u'en', u'created_at': u'Sat Jan 22 06:37:15 +0000 2011', u'in_reply_to_status_id_str': None, u'place': None}, {u'contributors': None, u'truncated': False, u'text': u'status update by POST from API console', u'is_quote_status': False, u'in_reply_to_status_id': None, u'id': 28686704881704960, u'favorite_count': 0, u'source': u'<a href=\"http://jsl.com/\" rel=\"nofollow\">JSL</a>', u'retweeted': False, u'coordinates': None, u'entities': {u'symbols': [], u'user_mentions': [], u'hashtags': [], u'urls': []}, u'in_reply_to_screen_name': None, u'in_reply_to_user_id': None, u'retweet_count': 0, u'id_str': u'28686704881704960', u'favorited': False, u'user': {u'follow_request_sent': False, u'has_extended_profile': False, u'profile_use_background_image': True, u'default_profile_image': False, u'id': 192388653, u'profile_background_image_url_https': u'https://abs.twimg.com/images/themes/theme1/bg.png', u'verified': False, u'profile_text_color': u'333333', u'profile_image_url_https': u'https://pbs.twimg.com/profile_images/1218730885/___normal.jpg', u'profile_sidebar_fill_color': u'DDEEF6', u'entities': {u'description': {u'urls': []}}, u'followers_count': 11, u'profile_sidebar_border_color': u'C0DEED', u'id_str': u'192388653', u'profile_background_color': u'C0DEED', u'listed_count': 0, u'is_translation_enabled': False, u'utc_offset': None, u'statuses_count': 23, u'description': u'\\uc0c1\\uba85\\ub300', u'friends_count': 2, u'location': u'', u'profile_link_color': u'0084B4', u'profile_image_url': u'http://pbs.twimg.com/profile_images/1218730885/___normal.jpg', u'following': False, u'geo_enabled': False, u'profile_background_image_url': u'http://abs.twimg.com/images/themes/theme1/bg.png', u'screen_name': u'jslimit', u'lang': u'en', u'profile_background_tile': False, u'favourites_count': 1, u'name': u'Joasang Lim', u'notifications': False, u'url': None, u'created_at': u'Sun Sep 19 00:44:43 +0000 2010', u'contributors_enabled': False, u'time_zone': None, u'protected': False, u'default_profile': True, u'is_translator': False}, u'geo': None, u'in_reply_to_user_id_str': None, u'lang': u'en', u'created_at': u'Sat Jan 22 05:33:38 +0000 2011', u'in_reply_to_status_id_str': None, u'place': None}, {u'contributors': None, u'truncated': False, u'text': u'This a simple test from twitter-async at 01-22-2011 12:25:12', u'is_quote_status': False, u'in_reply_to_status_id': None, u'id': 28653235166257153, u'favorite_count': 0, u'source': u'<a href=\"http://jsl.com/\" rel=\"nofollow\">JSL</a>', u'retweeted': False, u'coordinates': None, u'entities': {u'symbols': [], u'user_mentions': [], u'hashtags': [], u'urls': []}, u'in_reply_to_screen_name': None, u'in_reply_to_user_id': None, u'retweet_count': 0, u'id_str': u'28653235166257153', u'favorited': False, u'user': {u'follow_request_sent': False, u'has_extended_profile': False, u'profile_use_background_image': True, u'default_profile_image': False, u'id': 192388653, u'profile_background_image_url_https': u'https://abs.twimg.com/images/themes/theme1/bg.png', u'verified': False, u'profile_text_color': u'333333', u'profile_image_url_https': u'https://pbs.twimg.com/profile_images/1218730885/___normal.jpg', u'profile_sidebar_fill_color': u'DDEEF6', u'entities': {u'description': {u'urls': []}}, u'followers_count': 11, u'profile_sidebar_border_color': u'C0DEED', u'id_str': u'192388653', u'profile_background_color': u'C0DEED', u'listed_count': 0, u'is_translation_enabled': False, u'utc_offset': None, u'statuses_count': 23, u'description': u'\\uc0c1\\uba85\\ub300', u'friends_count': 2, u'location': u'', u'profile_link_color': u'0084B4', u'profile_image_url': u'http://pbs.twimg.com/profile_images/1218730885/___normal.jpg', u'following': False, u'geo_enabled': False, u'profile_background_image_url': u'http://abs.twimg.com/images/themes/theme1/bg.png', u'screen_name': u'jslimit', u'lang': u'en', u'profile_background_tile': False, u'favourites_count': 1, u'name': u'Joasang Lim', u'notifications': False, u'url': None, u'created_at': u'Sun Sep 19 00:44:43 +0000 2010', u'contributors_enabled': False, u'time_zone': None, u'protected': False, u'default_profile': True, u'is_translator': False}, u'geo': None, u'in_reply_to_user_id_str': None, u'lang': u'en', u'created_at': u'Sat Jan 22 03:20:38 +0000 2011', u'in_reply_to_status_id_str': None, u'place': None}, {u'contributors': None, u'truncated': False, u'text': u'This a simple test from twitter-async at 01-22-2011 12:23:55', u'is_quote_status': False, u'in_reply_to_status_id': None, u'id': 28652911965773824, u'favorite_count': 0, u'source': u'<a href=\"http://jsl.com/\" rel=\"nofollow\">JSL</a>', u'retweeted': False, u'coordinates': None, u'entities': {u'symbols': [], u'user_mentions': [], u'hashtags': [], u'urls': []}, u'in_reply_to_screen_name': None, u'in_reply_to_user_id': None, u'retweet_count': 0, u'id_str': u'28652911965773824', u'favorited': False, u'user': {u'follow_request_sent': False, u'has_extended_profile': False, u'profile_use_background_image': True, u'default_profile_image': False, u'id': 192388653, u'profile_background_image_url_https': u'https://abs.twimg.com/images/themes/theme1/bg.png', u'verified': False, u'profile_text_color': u'333333', u'profile_image_url_https': u'https://pbs.twimg.com/profile_images/1218730885/___normal.jpg', u'profile_sidebar_fill_color': u'DDEEF6', u'entities': {u'description': {u'urls': []}}, u'followers_count': 11, u'profile_sidebar_border_color': u'C0DEED', u'id_str': u'192388653', u'profile_background_color': u'C0DEED', u'listed_count': 0, u'is_translation_enabled': False, u'utc_offset': None, u'statuses_count': 23, u'description': u'\\uc0c1\\uba85\\ub300', u'friends_count': 2, u'location': u'', u'profile_link_color': u'0084B4', u'profile_image_url': u'http://pbs.twimg.com/profile_images/1218730885/___normal.jpg', u'following': False, u'geo_enabled': False, u'profile_background_image_url': u'http://abs.twimg.com/images/themes/theme1/bg.png', u'screen_name': u'jslimit', u'lang': u'en', u'profile_background_tile': False, u'favourites_count': 1, u'name': u'Joasang Lim', u'notifications': False, u'url': None, u'created_at': u'Sun Sep 19 00:44:43 +0000 2010', u'contributors_enabled': False, u'time_zone': None, u'protected': False, u'default_profile': True, u'is_translator': False}, u'geo': None, u'in_reply_to_user_id_str': None, u'lang': u'en', u'created_at': u'Sat Jan 22 03:19:21 +0000 2011', u'in_reply_to_status_id_str': None, u'place': None}, {u'contributors': None, u'truncated': False, u'text': u'This a simple test from twitter-async at 01-22-2011 12:21:25', u'is_quote_status': False, u'in_reply_to_status_id': None, u'id': 28652284741156864, u'favorite_count': 0, u'source': u'<a href=\"http://jsl.com/\" rel=\"nofollow\">JSL</a>', u'retweeted': False, u'coordinates': None, u'entities': {u'symbols': [], u'user_mentions': [], u'hashtags': [], u'urls': []}, u'in_reply_to_screen_name': None, u'in_reply_to_user_id': None, u'retweet_count': 0, u'id_str': u'28652284741156864', u'favorited': False, u'user': {u'follow_request_sent': False, u'has_extended_profile': False, u'profile_use_background_image': True, u'default_profile_image': False, u'id': 192388653, u'profile_background_image_url_https': u'https://abs.twimg.com/images/themes/theme1/bg.png', u'verified': False, u'profile_text_color': u'333333', u'profile_image_url_https': u'https://pbs.twimg.com/profile_images/1218730885/___normal.jpg', u'profile_sidebar_fill_color': u'DDEEF6', u'entities': {u'description': {u'urls': []}}, u'followers_count': 11, u'profile_sidebar_border_color': u'C0DEED', u'id_str': u'192388653', u'profile_background_color': u'C0DEED', u'listed_count': 0, u'is_translation_enabled': False, u'utc_offset': None, u'statuses_count': 23, u'description': u'\\uc0c1\\uba85\\ub300', u'friends_count': 2, u'location': u'', u'profile_link_color': u'0084B4', u'profile_image_url': u'http://pbs.twimg.com/profile_images/1218730885/___normal.jpg', u'following': False, u'geo_enabled': False, u'profile_background_image_url': u'http://abs.twimg.com/images/themes/theme1/bg.png', u'screen_name': u'jslimit', u'lang': u'en', u'profile_background_tile': False, u'favourites_count': 1, u'name': u'Joasang Lim', u'notifications': False, u'url': None, u'created_at': u'Sun Sep 19 00:44:43 +0000 2010', u'contributors_enabled': False, u'time_zone': None, u'protected': False, u'default_profile': True, u'is_translator': False}, u'geo': None, u'in_reply_to_user_id_str': None, u'lang': u'en', u'created_at': u'Sat Jan 22 03:16:51 +0000 2011', u'in_reply_to_status_id_str': None, u'place': None}, {u'contributors': None, u'truncated': False, u'text': u'RT @DirectorYoo: \\uc774\\uc678\\uc218\\uc120\\uc0dd\\ub2d8 \\uc54c\\ud2f0\\ubd80\\ud0c1\\ub4dc\\ub824\\uc694..@oisoo  b\\ud615\\ubc31\\ud608\\uad6c\\ud5cc\\ud608\\uc774\\ud544\\uc694\\ud569\\ub2c8\\ub2e4 11\\uc0b4\\ub0a8\\uc790\\uc544\\uc774\\uac00 \\uc11c\\uc6b8\\ub300\\ubcd1\\uc6d0 \\uc911\\ud658\\uc790\\uc2e4\\uc5d0 \\uc788\\uc2b5\\ub2c8\\ub2e4  b\\ud615\\uc131\\uc778\\ub0a8\\uc790\\ub29455\\ud0a4\\ub85c\\uc774\\uc0c1\\uc5ec\\uc790\\ub29445\\ud0a4\\ub85c\\uc774\\uc0c1 \\ucd5c\\uadfc\\uc608\\ubc29\\uc811\\uc885\\uc548\\ud558\\uc2e0\\ubd84\\uac00\\ub2a5\\ud569\\ub2c8\\ub2e4010 9907 3780 \\uc5f0\\ub77d ...', u'is_quote_status': False, u'in_reply_to_status_id': None, u'id': 28454996737, u'favorite_count': 0, u'source': u'<a href=\"http://mobile.twitter.com\" rel=\"nofollow\">Mobile Web</a>', u'retweeted': False, u'coordinates': None, u'entities': {u'symbols': [], u'user_mentions': [{u'id': 288618530, u'indices': [3, 15], u'id_str': u'288618530', u'screen_name': u'directoryoo', u'name': u'Ji-Hyuk Yoo_\\uc720\\uc9c0\\ud601 \\uac10\\ub3c5'}, {u'id': 48661131, u'indices': [33, 39], u'id_str': u'48661131', u'screen_name': u'oisoo', u'name': u'\\uc774\\uc678\\uc218'}], u'hashtags': [], u'urls': []}, u'in_reply_to_screen_name': None, u'in_reply_to_user_id': None, u'retweet_count': 754, u'id_str': u'28454996737', u'favorited': False, u'retweeted_status': {u'contributors': None, u'truncated': False, u'text': u'\\uc774\\uc678\\uc218\\uc120\\uc0dd\\ub2d8 \\uc54c\\ud2f0\\ubd80\\ud0c1\\ub4dc\\ub824\\uc694..@oisoo  b\\ud615\\ubc31\\ud608\\uad6c\\ud5cc\\ud608\\uc774\\ud544\\uc694\\ud569\\ub2c8\\ub2e4 11\\uc0b4\\ub0a8\\uc790\\uc544\\uc774\\uac00 \\uc11c\\uc6b8\\ub300\\ubcd1\\uc6d0 \\uc911\\ud658\\uc790\\uc2e4\\uc5d0 \\uc788\\uc2b5\\ub2c8\\ub2e4  b\\ud615\\uc131\\uc778\\ub0a8\\uc790\\ub29455\\ud0a4\\ub85c\\uc774\\uc0c1\\uc5ec\\uc790\\ub29445\\ud0a4\\ub85c\\uc774\\uc0c1 \\ucd5c\\uadfc\\uc608\\ubc29\\uc811\\uc885\\uc548\\ud558\\uc2e0\\ubd84\\uac00\\ub2a5\\ud569\\ub2c8\\ub2e4010 9907 3780 \\uc5f0\\ub77d\\uc8fc\\uc138\\uc694 \\ubc31\\ud608\\uad6c \\ud5cc\\ud608\\ub9cc\\uc774 \\ud76c\\ub9dd\\uc785\\ub2c8\\ub2e4', u'is_quote_status': False, u'in_reply_to_status_id': None, u'id': 27899508668, u'favorite_count': 32, u'source': u'<a href=\"http://www.nibirutech.com\" rel=\"nofollow\">TwitBird</a>', u'retweeted': False, u'coordinates': None, u'entities': {u'symbols': [], u'user_mentions': [{u'id': 48661131, u'indices': [16, 22], u'id_str': u'48661131', u'screen_name': u'oisoo', u'name': u'\\uc774\\uc678\\uc218'}], u'hashtags': [], u'urls': []}, u'in_reply_to_screen_name': None, u'in_reply_to_user_id': None, u'retweet_count': 754, u'id_str': u'27899508668', u'favorited': False, u'user': {u'follow_request_sent': False, u'has_extended_profile': False, u'profile_use_background_image': True, u'default_profile_image': False, u'id': 137983507, u'profile_background_image_url_https': u'https://abs.twimg.com/images/themes/theme3/bg.gif', u'verified': False, u'profile_text_color': u'634047', u'profile_image_url_https': u'https://pbs.twimg.com/profile_images/676071373546983424/q2X1VH72_normal.jpg', u'profile_sidebar_fill_color': u'E3E2DE', u'entities': {u'description': {u'urls': []}}, u'followers_count': 461, u'profile_sidebar_border_color': u'D3D2CF', u'id_str': u'137983507', u'profile_background_color': u'EDECE9', u'listed_count': 11, u'is_translation_enabled': False, u'utc_offset': 32400, u'statuses_count': 3190, u'description': u'TV Program Director, living in Seoul. Brit pop, house music, festival goer', u'friends_count': 261, u'location': u'Seoul', u'profile_link_color': u'088253', u'profile_image_url': u'http://pbs.twimg.com/profile_images/676071373546983424/q2X1VH72_normal.jpg', u'following': False, u'geo_enabled': True, u'profile_background_image_url': u'http://abs.twimg.com/images/themes/theme3/bg.gif', u'screen_name': u'dingdiriding85', u'lang': u'en', u'profile_background_tile': False, u'favourites_count': 218, u'name': u'\\ub529\\ub514\\ub9ac\\ub529', u'notifications': False, u'url': None, u'created_at': u'Wed Apr 28 09:08:54 +0000 2010', u'contributors_enabled': False, u'time_zone': u'Seoul', u'protected': False, u'default_profile': False, u'is_translator': False}, u'geo': None, u'in_reply_to_user_id_str': None, u'lang': u'ko', u'created_at': u'Wed Oct 20 03:56:28 +0000 2010', u'in_reply_to_status_id_str': None, u'place': None}, u'user': {u'follow_request_sent': False, u'has_extended_profile': False, u'profile_use_background_image': True, u'default_profile_image': False, u'id': 168089220, u'profile_background_image_url_https': u'https://abs.twimg.com/images/themes/theme1/bg.png', u'verified': False, u'profile_text_color': u'333333', u'profile_image_url_https': u'https://pbs.twimg.com/profile_images/2300759329/vHa3BTzi_normal', u'profile_sidebar_fill_color': u'DDEEF6', u'entities': {u'description': {u'urls': []}}, u'followers_count': 9, u'profile_sidebar_border_color': u'C0DEED', u'id_str': u'168089220', u'profile_background_color': u'C0DEED', u'listed_count': 0, u'is_translation_enabled': False, u'utc_offset': -36000, u'statuses_count': 5, u'description': u'', u'friends_count': 6, u'location': u'', u'profile_link_color': u'0084B4', u'profile_image_url': u'http://pbs.twimg.com/profile_images/2300759329/vHa3BTzi_normal', u'following': True, u'geo_enabled': False, u'profile_background_image_url': u'http://abs.twimg.com/images/themes/theme1/bg.png', u'screen_name': u'hchae00', u'lang': u'en', u'profile_background_tile': False, u'favourites_count': 1, u'name': u'Hoon Chae', u'notifications': False, u'url': None, u'created_at': u'Sun Jul 18 10:25:27 +0000 2010', u'contributors_enabled': False, u'time_zone': u'Hawaii', u'protected': False, u'default_profile': True, u'is_translator': False}, u'geo': None, u'in_reply_to_user_id_str': None, u'lang': u'ko', u'created_at': u'Sat Oct 23 00:41:49 +0000 2010', u'in_reply_to_status_id_str': None, u'place': None}, {u'contributors': None, u'truncated': False, u'text': u'What a wonderful world !!!', u'is_quote_status': False, u'in_reply_to_status_id': None, u'id': 18831928302, u'favorite_count': 0, u'source': u'<a href=\"http://twitter.com\" rel=\"nofollow\">Twitter Web Client</a>', u'retweeted': False, u'coordinates': None, u'entities': {u'symbols': [], u'user_mentions': [], u'hashtags': [], u'urls': []}, u'in_reply_to_screen_name': None, u'in_reply_to_user_id': None, u'retweet_count': 0, u'id_str': u'18831928302', u'favorited': False, u'user': {u'follow_request_sent': False, u'has_extended_profile': False, u'profile_use_background_image': True, u'default_profile_image': False, u'id': 168089220, u'profile_background_image_url_https': u'https://abs.twimg.com/images/themes/theme1/bg.png', u'verified': False, u'profile_text_color': u'333333', u'profile_image_url_https': u'https://pbs.twimg.com/profile_images/2300759329/vHa3BTzi_normal', u'profile_sidebar_fill_color': u'DDEEF6', u'entities': {u'description': {u'urls': []}}, u'followers_count': 9, u'profile_sidebar_border_color': u'C0DEED', u'id_str': u'168089220', u'profile_background_color': u'C0DEED', u'listed_count': 0, u'is_translation_enabled': False, u'utc_offset': -36000, u'statuses_count': 5, u'description': u'', u'friends_count': 6, u'location': u'', u'profile_link_color': u'0084B4', u'profile_image_url': u'http://pbs.twimg.com/profile_images/2300759329/vHa3BTzi_normal', u'following': True, u'geo_enabled': False, u'profile_background_image_url': u'http://abs.twimg.com/images/themes/theme1/bg.png', u'screen_name': u'hchae00', u'lang': u'en', u'profile_background_tile': False, u'favourites_count': 1, u'name': u'Hoon Chae', u'notifications': False, u'url': None, u'created_at': u'Sun Jul 18 10:25:27 +0000 2010', u'contributors_enabled': False, u'time_zone': u'Hawaii', u'protected': False, u'default_profile': True, u'is_translator': False}, u'geo': None, u'in_reply_to_user_id_str': None, u'lang': u'en', u'created_at': u'Sun Jul 18 10:33:11 +0000 2010', u'in_reply_to_status_id_str': None, u'place': None}]\n"
     ]
    }
   ],
   "source": [
    "print home_timeline"
   ]
  },
  {
   "cell_type": "markdown",
   "metadata": {
    "slideshow": {
     "slide_type": "subslide"
    }
   },
   "source": [
    "* 함수로 만들기"
   ]
  },
  {
   "cell_type": "code",
   "execution_count": 4,
   "metadata": {
    "collapsed": false,
    "scrolled": true,
    "slideshow": {
     "slide_type": "subslide"
    }
   },
   "outputs": [
    {
     "name": "stdout",
     "output_type": "stream",
     "text": [
      "parkmincheol\n",
      "hello 3:00 pm\n",
      "Hello from swing 2:40pm\n",
      "hello 1:40pm\n",
      "hello 13:21\n",
      "14:50pm\n",
      "14:50pm\n",
      "14:40pm\n",
      "14:30pm\n",
      "1:00pm\n",
      "Hello World jsl 2 939\n",
      "Hello World jsl 2\n",
      "hello from java2\n",
      "Hello World jsl 2\n",
      "1130\n",
      "hello\n",
      "1003\n",
      "날이 흐린 날\n",
      "트윗 테슽\n",
      "This a simple test from twitter-async at 01-22-2011 03:41:48\n"
     ]
    }
   ],
   "source": [
    "def oauth_req(url, http_method=\"GET\", post_body='', http_headers=None):\n",
    "    consumer = oauth.Consumer(key=CONSUMER_KEY, secret=CONSUMER_SECRET)\n",
    "    token=oauth.Token(key=ACCESS_TOKEN, secret=ACCESS_TOKEN_SECRET)\n",
    "    client = oauth.Client(consumer, token)\n",
    "    response, content = client.request( url, method=http_method, body=post_body, headers=http_headers )\n",
    "    return content\n",
    " \n",
    "home_timeline = oauth_req('https://api.twitter.com/1.1/statuses/home_timeline.json')\n",
    "home_timeline_json = json.loads(home_timeline)\n",
    "for tweet in home_timeline_json:\n",
    "    print tweet['text']"
   ]
  },
  {
   "cell_type": "markdown",
   "metadata": {
    "slideshow": {
     "slide_type": "slide"
    }
   },
   "source": [
    "## T-3: Twitter에 'Seoul'을 10개 검색한다."
   ]
  },
  {
   "cell_type": "markdown",
   "metadata": {
    "slideshow": {
     "slide_type": "subslide"
    }
   },
   "source": [
    "### Twitter\n",
    "\n",
    "\n",
    "* 검색"
   ]
  },
  {
   "cell_type": "code",
   "execution_count": 14,
   "metadata": {
    "collapsed": false,
    "slideshow": {
     "slide_type": "subslide"
    }
   },
   "outputs": [],
   "source": [
    "q = '#류현진'\n",
    "count = 100\n",
    "# See https://dev.twitter.com/docs/api/1.1/get/search/tweets \n",
    "search_results = _client.search.tweets(q=q, count=count)\n",
    "statuses = search_results['statuses']"
   ]
  },
  {
   "cell_type": "code",
   "execution_count": 66,
   "metadata": {
    "collapsed": false,
    "scrolled": true,
    "slideshow": {
     "slide_type": "subslide"
    }
   },
   "outputs": [
    {
     "name": "stdout",
     "output_type": "stream",
     "text": [
      "100\n",
      "<type 'list'>\n"
     ]
    }
   ],
   "source": [
    "print len(statuses)\n",
    "print type(statuses)"
   ]
  },
  {
   "cell_type": "code",
   "execution_count": 15,
   "metadata": {
    "collapsed": false,
    "slideshow": {
     "slide_type": "subslide"
    }
   },
   "outputs": [
    {
     "name": "stdout",
     "output_type": "stream",
     "text": [
      "[u'contributors', u'truncated', u'text', u'is_quote_status', u'in_reply_to_status_id', u'id', u'favorite_count', u'entities', u'retweeted', u'coordinates', u'source', u'in_reply_to_screen_name', u'in_reply_to_user_id', u'retweet_count', u'id_str', u'favorited', u'user', u'geo', u'in_reply_to_user_id_str', u'possibly_sensitive', u'lang', u'created_at', u'in_reply_to_status_id_str', u'place', u'metadata']\n"
     ]
    }
   ],
   "source": [
    "print statuses[0].keys()"
   ]
  },
  {
   "cell_type": "code",
   "execution_count": 16,
   "metadata": {
    "collapsed": false,
    "scrolled": true,
    "slideshow": {
     "slide_type": "subslide"
    }
   },
   "outputs": [
    {
     "name": "stdout",
     "output_type": "stream",
     "text": [
      "800967991642853376 #당일만남어플 #급벙개 비밀미팅 ▶ https://t.co/rJeQvLpgpX ◀\n",
      ".\n",
      "#송파금발 #군포여친구함 #성인사이트가입 #무료파일공유사이트 #홍대클럽여자 #야동스트리밍사이트 #밍키동영상 #류현진… https://t.co/8KhdCBEk4b\n",
      "800930770017583105 #첫충20%, 매충5% #다리 #사설 #카톡 NBA070 #고총 #BJ #http://www.acc77.kr #트위터 #리니지 #파워볼 #피파 #사다리 #백아연 #살랑살랑 #지마켓 #토토 #위젯 #코드 toto #크레이지아케이드 #로하이 #류현진\n",
      "800925674479304704 #만남앱 #목포벙개 쭉쭉빵빵 처녀만남 ▶ https://t.co/NngaxIm6Ne ◀\n",
      ".\n",
      "#제주남친구함 #류현진 #온라인채팅사이트 #키지마 #헌팅방법 #포커노하우 #부비부비 #스코어게임사다리사이트… https://t.co/Cyhf80xcTa\n",
      "800892117677551616 #손예진 #MP3 #토토 #마우스 #CL #에일리 #추천게임 #야구픽 #편의점 #류현진 #스포츠 #좋은집구하기 #아이콘 #프로야구 #소셜커머스 #무사만루 #가희 #송재림 #탈렌트 #열린약국찾기 #거미 #신하균 #세이클럽 #가을야구 #플레임 #EBS\n",
      "800847746424926208 #파워볼 #mnet #2군리그 #acc77.kr #러블리즈 #토토 #류현진 #이현우 #첫충20%, 매충5% #네임드 #가을야구 #고총 #사설 #게임키보드 #알람 #카톡 NBA070 #로하이 #다리 #코드 toto #패전투수 #사다리 #라이프스타일\n"
     ]
    }
   ],
   "source": [
    "for status in statuses[0:5]:\n",
    "    print status['id'],status['text']"
   ]
  },
  {
   "cell_type": "markdown",
   "metadata": {
    "slideshow": {
     "slide_type": "subslide"
    }
   },
   "source": [
    "### OAuth\n",
    "\n",
    "* 'seoul'단어를 20개씩 검색"
   ]
  },
  {
   "cell_type": "code",
   "execution_count": 8,
   "metadata": {
    "collapsed": false,
    "slideshow": {
     "slide_type": "subslide"
    }
   },
   "outputs": [],
   "source": [
    "import urllib\n",
    "url1 = \"https://api.twitter.com/1.1/search/tweets.json\"\n",
    "myparam={'q':'seoul','count':20}\n",
    "mybody=urllib.urlencode(myparam)\n",
    "\n",
    "resp, tsearch = client.request(url1+\"?\"+mybody, method=\"GET\")\n",
    "tsearch_json = json.loads(tsearch)"
   ]
  },
  {
   "cell_type": "code",
   "execution_count": 9,
   "metadata": {
    "collapsed": false,
    "scrolled": true,
    "slideshow": {
     "slide_type": "subslide"
    }
   },
   "outputs": [
    {
     "name": "stdout",
     "output_type": "stream",
     "text": [
      "<type 'dict'>\n",
      "[u'search_metadata', u'statuses']\n",
      "20\n"
     ]
    }
   ],
   "source": [
    "print type(tsearch_json)\n",
    "print tsearch_json.keys()\n",
    "print len(tsearch_json['statuses'])"
   ]
  },
  {
   "cell_type": "code",
   "execution_count": 10,
   "metadata": {
    "collapsed": false,
    "slideshow": {
     "slide_type": "subslide"
    }
   },
   "outputs": [
    {
     "data": {
      "text/plain": [
       "26"
      ]
     },
     "execution_count": 10,
     "metadata": {},
     "output_type": "execute_result"
    }
   ],
   "source": [
    "len(tsearch_json['statuses'][0])"
   ]
  },
  {
   "cell_type": "code",
   "execution_count": 12,
   "metadata": {
    "collapsed": false,
    "scrolled": true,
    "slideshow": {
     "slide_type": "subslide"
    }
   },
   "outputs": [
    {
     "name": "stdout",
     "output_type": "stream",
     "text": [
      "1\n",
      "2\n",
      "3\n",
      "4\n"
     ]
    }
   ],
   "source": [
    "for i in range(1,5):\n",
    "    print i"
   ]
  },
  {
   "cell_type": "code",
   "execution_count": 14,
   "metadata": {
    "collapsed": false,
    "slideshow": {
     "slide_type": "subslide"
    }
   },
   "outputs": [
    {
     "data": {
      "text/plain": [
       "{u'contributors': None,\n",
       " u'coordinates': None,\n",
       " u'created_at': u'Mon Nov 14 03:41:09 +0000 2016',\n",
       " u'entities': {u'hashtags': [{u'indices': [84, 93], u'text': u'YoungJae'},\n",
       "   {u'indices': [94, 101], u'text': u'GOT7\\uc601\\uc7ac'},\n",
       "   {u'indices': [102, 105], u'text': u'\\uc601\\uc7ac'},\n",
       "   {u'indices': [106, 110], u'text': u'\\ucd5c\\uc601\\uc7ac'},\n",
       "   {u'indices': [111, 115], u'text': u'\\ud264\\uc218\\ub2ec'},\n",
       "   {u'indices': [116, 121], u'text': u'GOT7'},\n",
       "   {u'indices': [122, 126], u'text': u'\\uac13\\uc138\\ube10'},\n",
       "   {u'indices': [127, 137], u'text': u'ArirangTV'}],\n",
       "  u'symbols': [],\n",
       "  u'urls': [],\n",
       "  u'user_mentions': [{u'id': 66625290,\n",
       "    u'id_str': u'66625290',\n",
       "    u'indices': [3, 16],\n",
       "    u'name': u'Arirang World',\n",
       "    u'screen_name': u'arirangworld'},\n",
       "   {u'id': 573299587,\n",
       "    u'id_str': u'573299587',\n",
       "    u'indices': [40, 53],\n",
       "    u'name': u'GOT7',\n",
       "    u'screen_name': u'GOT7Official'}]},\n",
       " u'favorite_count': 0,\n",
       " u'favorited': False,\n",
       " u'geo': None,\n",
       " u'id': 798007837053980672,\n",
       " u'id_str': u'798007837053980672',\n",
       " u'in_reply_to_screen_name': None,\n",
       " u'in_reply_to_status_id': None,\n",
       " u'in_reply_to_status_id_str': None,\n",
       " u'in_reply_to_user_id': None,\n",
       " u'in_reply_to_user_id_str': None,\n",
       " u'is_quote_status': False,\n",
       " u'lang': u'en',\n",
       " u'metadata': {u'iso_language_code': u'en', u'result_type': u'recent'},\n",
       " u'place': None,\n",
       " u'possibly_sensitive': False,\n",
       " u'retweet_count': 430,\n",
       " u'retweeted': False,\n",
       " u'retweeted_status': {u'contributors': None,\n",
       "  u'coordinates': None,\n",
       "  u'created_at': u'Thu Nov 10 05:00:31 +0000 2016',\n",
       "  u'entities': {u'hashtags': [{u'indices': [66, 75], u'text': u'YoungJae'},\n",
       "    {u'indices': [76, 83], u'text': u'GOT7\\uc601\\uc7ac'},\n",
       "    {u'indices': [84, 87], u'text': u'\\uc601\\uc7ac'},\n",
       "    {u'indices': [88, 92], u'text': u'\\ucd5c\\uc601\\uc7ac'},\n",
       "    {u'indices': [93, 97], u'text': u'\\ud264\\uc218\\ub2ec'},\n",
       "    {u'indices': [98, 103], u'text': u'GOT7'},\n",
       "    {u'indices': [104, 108], u'text': u'\\uac13\\uc138\\ube10'},\n",
       "    {u'indices': [109, 119], u'text': u'ArirangTV'}],\n",
       "   u'symbols': [],\n",
       "   u'urls': [{u'display_url': u'youtu.be/DaWza-wtI68',\n",
       "     u'expanded_url': u'https://youtu.be/DaWza-wtI68',\n",
       "     u'indices': [120, 143],\n",
       "     u'url': u'https://t.co/cKNcktRvZY'}],\n",
       "   u'user_mentions': [{u'id': 573299587,\n",
       "     u'id_str': u'573299587',\n",
       "     u'indices': [22, 35],\n",
       "     u'name': u'GOT7',\n",
       "     u'screen_name': u'GOT7Official'}]},\n",
       "  u'favorite_count': 312,\n",
       "  u'favorited': False,\n",
       "  u'geo': None,\n",
       "  u'id': 796578258745696257,\n",
       "  u'id_str': u'796578258745696257',\n",
       "  u'in_reply_to_screen_name': None,\n",
       "  u'in_reply_to_status_id': None,\n",
       "  u'in_reply_to_status_id_str': None,\n",
       "  u'in_reply_to_user_id': None,\n",
       "  u'in_reply_to_user_id_str': None,\n",
       "  u'is_quote_status': False,\n",
       "  u'lang': u'en',\n",
       "  u'metadata': {u'iso_language_code': u'en', u'result_type': u'recent'},\n",
       "  u'place': None,\n",
       "  u'possibly_sensitive': False,\n",
       "  u'retweet_count': 430,\n",
       "  u'retweeted': False,\n",
       "  u'source': u'<a href=\"http://twitter.com\" rel=\"nofollow\">Twitter Web Client</a>',\n",
       "  u'text': u\"&lt;Pops in Seoul&gt; @GOT7Official's Main Vocal &amp; Baby Otter #YoungJae #GOT7\\uc601\\uc7ac #\\uc601\\uc7ac #\\ucd5c\\uc601\\uc7ac #\\ud264\\uc218\\ub2ec #GOT7 #\\uac13\\uc138\\ube10 #ArirangTV https://t.co/cKNcktRvZY\",\n",
       "  u'truncated': False,\n",
       "  u'user': {u'contributors_enabled': False,\n",
       "   u'created_at': u'Tue Aug 18 07:40:53 +0000 2009',\n",
       "   u'default_profile': False,\n",
       "   u'default_profile_image': False,\n",
       "   u'description': u'Arirang TV & Radio',\n",
       "   u'entities': {u'description': {u'urls': []},\n",
       "    u'url': {u'urls': [{u'display_url': u'arirang.com',\n",
       "       u'expanded_url': u'http://www.arirang.com',\n",
       "       u'indices': [0, 22],\n",
       "       u'url': u'http://t.co/gblRPaMiAa'}]}},\n",
       "   u'favourites_count': 1071,\n",
       "   u'follow_request_sent': False,\n",
       "   u'followers_count': 145265,\n",
       "   u'following': False,\n",
       "   u'friends_count': 166,\n",
       "   u'geo_enabled': False,\n",
       "   u'has_extended_profile': True,\n",
       "   u'id': 66625290,\n",
       "   u'id_str': u'66625290',\n",
       "   u'is_translation_enabled': False,\n",
       "   u'is_translator': False,\n",
       "   u'lang': u'ko',\n",
       "   u'listed_count': 1257,\n",
       "   u'location': u'South Korea',\n",
       "   u'name': u'Arirang World',\n",
       "   u'notifications': False,\n",
       "   u'profile_background_color': u'E6E6E6',\n",
       "   u'profile_background_image_url': u'http://pbs.twimg.com/profile_background_images/621928725177765889/o43KSa65.png',\n",
       "   u'profile_background_image_url_https': u'https://pbs.twimg.com/profile_background_images/621928725177765889/o43KSa65.png',\n",
       "   u'profile_background_tile': False,\n",
       "   u'profile_banner_url': u'https://pbs.twimg.com/profile_banners/66625290/1460701912',\n",
       "   u'profile_image_url': u'http://pbs.twimg.com/profile_images/783903720983568384/XXguJwMG_normal.jpg',\n",
       "   u'profile_image_url_https': u'https://pbs.twimg.com/profile_images/783903720983568384/XXguJwMG_normal.jpg',\n",
       "   u'profile_link_color': u'ED1846',\n",
       "   u'profile_sidebar_border_color': u'000000',\n",
       "   u'profile_sidebar_fill_color': u'FFB2D7',\n",
       "   u'profile_text_color': u'0A0A0A',\n",
       "   u'profile_use_background_image': True,\n",
       "   u'protected': False,\n",
       "   u'screen_name': u'arirangworld',\n",
       "   u'statuses_count': 20073,\n",
       "   u'time_zone': u'Seoul',\n",
       "   u'translator_type': u'none',\n",
       "   u'url': u'http://t.co/gblRPaMiAa',\n",
       "   u'utc_offset': 32400,\n",
       "   u'verified': False}},\n",
       " u'source': u'<a href=\"http://twitter.com\" rel=\"nofollow\">Twitter Web Client</a>',\n",
       " u'text': u\"RT @arirangworld: &lt;Pops in Seoul&gt; @GOT7Official's Main Vocal &amp; Baby Otter #YoungJae #GOT7\\uc601\\uc7ac #\\uc601\\uc7ac #\\ucd5c\\uc601\\uc7ac #\\ud264\\uc218\\ub2ec #GOT7 #\\uac13\\uc138\\ube10 #ArirangTV https://t.c\\u2026\",\n",
       " u'truncated': False,\n",
       " u'user': {u'contributors_enabled': False,\n",
       "  u'created_at': u'Mon Jul 09 12:15:52 +0000 2012',\n",
       "  u'default_profile': True,\n",
       "  u'default_profile_image': False,\n",
       "  u'description': u'',\n",
       "  u'entities': {u'description': {u'urls': []},\n",
       "   u'url': {u'urls': [{u'display_url': u'page.is/thiha',\n",
       "      u'expanded_url': u'http://page.is/thiha',\n",
       "      u'indices': [0, 23],\n",
       "      u'url': u'https://t.co/WUJj7HukVd'}]}},\n",
       "  u'favourites_count': 112380,\n",
       "  u'follow_request_sent': False,\n",
       "  u'followers_count': 74,\n",
       "  u'following': False,\n",
       "  u'friends_count': 199,\n",
       "  u'geo_enabled': False,\n",
       "  u'has_extended_profile': False,\n",
       "  u'id': 631046611,\n",
       "  u'id_str': u'631046611',\n",
       "  u'is_translation_enabled': False,\n",
       "  u'is_translator': False,\n",
       "  u'lang': u'en',\n",
       "  u'listed_count': 26,\n",
       "  u'location': u\"I'M LISTENING, YOUR VOICE\",\n",
       "  u'name': u'Thiha',\n",
       "  u'notifications': False,\n",
       "  u'profile_background_color': u'C0DEED',\n",
       "  u'profile_background_image_url': u'http://abs.twimg.com/images/themes/theme1/bg.png',\n",
       "  u'profile_background_image_url_https': u'https://abs.twimg.com/images/themes/theme1/bg.png',\n",
       "  u'profile_background_tile': False,\n",
       "  u'profile_banner_url': u'https://pbs.twimg.com/profile_banners/631046611/1479020724',\n",
       "  u'profile_image_url': u'http://pbs.twimg.com/profile_images/797658997163556864/ULXGeeTJ_normal.jpg',\n",
       "  u'profile_image_url_https': u'https://pbs.twimg.com/profile_images/797658997163556864/ULXGeeTJ_normal.jpg',\n",
       "  u'profile_link_color': u'1DA1F2',\n",
       "  u'profile_sidebar_border_color': u'C0DEED',\n",
       "  u'profile_sidebar_fill_color': u'DDEEF6',\n",
       "  u'profile_text_color': u'333333',\n",
       "  u'profile_use_background_image': True,\n",
       "  u'protected': False,\n",
       "  u'screen_name': u'thiha_2704',\n",
       "  u'statuses_count': 69046,\n",
       "  u'time_zone': None,\n",
       "  u'translator_type': u'none',\n",
       "  u'url': u'https://t.co/WUJj7HukVd',\n",
       "  u'utc_offset': None,\n",
       "  u'verified': False}}"
      ]
     },
     "execution_count": 14,
     "metadata": {},
     "output_type": "execute_result"
    }
   ],
   "source": [
    "tsearch_json['statuses'][0]"
   ]
  },
  {
   "cell_type": "code",
   "execution_count": 11,
   "metadata": {
    "collapsed": false,
    "scrolled": true,
    "slideshow": {
     "slide_type": "subslide"
    }
   },
   "outputs": [
    {
     "name": "stdout",
     "output_type": "stream",
     "text": [
      "[0]\t798007837053980672\tThiha:RT @arirangworld: &lt;Pops in Seoul&gt; @GOT7Official's Main Vocal &amp; Baby Otter #YoungJae #GOT7영재 #영재 #최영재 #퉤수달 #GOT7 #갓세븐 #ArirangTV https://t.c…\n",
      "[1]\t798007827256123392\t어한이:RT @cuckicoco: Bye bye! Seoul! See u next time 👋🏻💕❤️ https://t.co/xnh0htfFtu\n",
      "[2]\t798007802291568640\t🙏🏻💛:RT @yoosuparadise: 2016 XIA Ballad＆Musical Concert with Orchestra vol.5 - Dec 9 to 11th at Seoul Jamsil https://t.co/lIL2ZSpJAO ถ่ายบัตรหน้…\n",
      "[3]\t798007800886460417\tDreamimg KimSooHyun:❤❤❤161114 KimSooHyun  attend the Cuckoo Electronics Healthy Winter campaign event held at Lotte Hotel in Jung-gu, S… https://t.co/wXzaEfMA23\n",
      "[4]\t798007778531045376\t#StayStrongTOPStans:News: Choi passed the test, will be on duty prob in Jan, might be seen in public around Seoul.\n",
      "Me: *packs bag and buy tix to SK*\n",
      "[5]\t798007752907837440\t~  졸귀 ~ 🐝:RT @bright_hong: 홍어 종북 처리하기 딱 좋은 날. \n",
      "@gelotin3 On Nov. 12 riot in Seoul, that peoples gathered abt 200.000 is all who admire DPRK ...외신은 \"광…\n",
      "[6]\t798007741197402112\t•с н а м р а ɢ ɴ е•:RT @smhwngus628: Singer SeoHyun attends the Michael Kors Young Korea Party in Seoul on November 12, 2016 in Seoul, South Korea. https://t.c…\n",
      "[7]\t798007730170515456\t❤아렉산드라이 탭❤:RT @sanae_sisi: Yonghwa 2015 1st Concert One Fine Day in Seoul \n",
      "      -like a child\n",
      "\n",
      "( cr: logo ) https://t.co/PwH3vwjs2C\n",
      "[8]\t798007729830825984\tNeverthesame:RT @tabiyong: TOP passed the test and he's gonna be in the police musical band for his enrolment term which means he's gonna be stationed i…\n",
      "[9]\t798007702056157186\tอยากกินโอเซฮุน:RT @puppystore_1992: FAITH♡\n",
      "\n",
      "Teaser #2 \n",
      "\n",
      "2017.01 in Seoul https://t.co/uSHUmXOf76\n",
      "[10]\t798007696117022720\t망고:@tokyo_seoul_mom 푸하하 절대미각 하루답네요.\n",
      "[11]\t798007686403162112\tShihoo.:\"I'm just a normal baseball player.\"\n",
      "— \n",
      "+ Seoul, Korea \n",
      "+ 7 PM KST \n",
      "+ Reservation Plot \n",
      "\n",
      "---- \n",
      "\n",
      "Termakan sudah jingga dalam belenggu --\n",
      "[12]\t798007685627002880\tSanggil Kim:RT @manovich: According to the count of subway passengers by Seoul officials, 1+ million people participated in demonstration in the city o…\n",
      "[13]\t798007664253014016\t❤Lee❤:RT @tttop__: i also will not surprise reading news about gdragon spotted so many times wandering around seoul next year....\n",
      "[14]\t798007659177930752\tM.A.D!:I'm at N Seoul Tower in 서울특별시, Seoul https://t.co/bLquzdyeEk\n",
      "[15]\t798007652643008512\tCHESHIREPINK 👉:RT @puppystore_1992: FAITH♡\n",
      "\n",
      "2017.01 in Seoul. https://t.co/1VwgBOyjcU\n",
      "[16]\t798007650520678400\tdinodragon:RT @tabiyong: TOP passed the test and he's gonna be in the police musical band for his enrolment term which means he's gonna be stationed i…\n",
      "[17]\t798007622792282112\t♪Nεssa Sεlεnε:RT @RICEjuseyo: [VOTE] Remember to vote for #BAP for MCoutdown!\n",
      "In each day:\n",
      "• For 1 ID, you have 1 vote.\n",
      "• For 1 IP address, you can use 1…\n",
      "[18]\t798007601539620864\t♪Nεssa Sεlεnε:RT @Kawaii_Dae: Guys guys that's pretty imp lets try it to  increase Views https://t.co/3SSdPOrVio\n",
      "[19]\t798007595881504768\tsuaviter:RT @puppystore_1992: FAITH♡\n",
      "\n",
      "2017.01 in Seoul. https://t.co/1VwgBOyjcU\n"
     ]
    }
   ],
   "source": [
    "for i,tweet in enumerate(tsearch_json['statuses']):\n",
    "    #print tweet[u'user'][u'name']\n",
    "    print \"[%d]\\t%d\\t%s:%s\" % (i,tweet['id'],tweet['user']['name'],tweet['text'])"
   ]
  },
  {
   "cell_type": "markdown",
   "metadata": {
    "slideshow": {
     "slide_type": "slide"
    }
   },
   "source": [
    "##  T-3: Twitter에 'Seoul'을 2015년 12월 한 달 분량을 읽는다."
   ]
  },
  {
   "cell_type": "markdown",
   "metadata": {
    "slideshow": {
     "slide_type": "subslide"
    }
   },
   "source": [
    "* 트윗을 pagination하려면:\n",
    "    * max_id (맨 위), since_id (맨 뒤)를 사용한다.\n",
    "    * 트윗의 id는 정확하지 않거나, 존재하지 않아도 된다.\n",
    "* 특정한 시간대의 트윗 검색하기\n",
    "    * 트위터에서 tweet id를 알아내기\n",
    "        * 단계1: 트위터에 로그인해서 타임라인을 조회\n",
    "        * 단계2: 시간을 누른다.\n",
    "        * 단계3: 브라우저 주소창 끝에 id가 붙어 있다.\n",
    "    * 찾고자 하는 시간대에 해당하는 트윗을 찾아서 tweet id를 찾는다.\n",
    "        * July 1 2016 아침 6시쯤 id는 748862169026928640\n",
    "        * jslmit계정의 메시지 'hello 3:00 pm' -> 10:01 PM - 18 Nov 2014 -> 534949539757555713  -> 'max_id' 이것으로 검색하면 결과가 없슴 (empty list)\n",
    "        * jslmit계정의 메시지 '1:00 pm' -> 8:16 PM - 11 Nov 2014 532386310086881280  -> 'since_id'\n",
    "\n",
    "* 한글만 읽어오려면 'lang'을 한국어로 검색조건에 넣어준다.\n"
   ]
  },
  {
   "cell_type": "markdown",
   "metadata": {
    "slideshow": {
     "slide_type": "subslide"
    }
   },
   "source": [
    "### interactive session\n",
    "\n",
    "* 묶어서 저장하면 일괄 실행 할 수 있다 (아래 all-in-one).\n",
    "* [nok max_id 20161124]\n",
    "    * max_id를 특정id로 정하면 작동되지 않음. _max_id를 최근 것으로 하면 ok\n",
    "    * since_id는 ok\n"
   ]
  },
  {
   "cell_type": "code",
   "execution_count": 20,
   "metadata": {
    "collapsed": false,
    "slideshow": {
     "slide_type": "subslide"
    }
   },
   "outputs": [],
   "source": [
    "import urllib\n",
    "url = \"https://api.twitter.com/1.1/search/tweets.json\"\n",
    "myparam={'q':'seoul','count':200,'since_id':'534949539757555713'}\n",
    "#myparam={'q':'seoul','count':200,'max_id':'534949539757555713'}\n",
    "mybody=urllib.urlencode(myparam)\n",
    "response, content = client.request(url+\"?\"+mybody, method=\"GET\")\n",
    "tsearch_json = json.loads(content)"
   ]
  },
  {
   "cell_type": "code",
   "execution_count": 21,
   "metadata": {
    "collapsed": false,
    "slideshow": {
     "slide_type": "subslide"
    }
   },
   "outputs": [
    {
     "name": "stdout",
     "output_type": "stream",
     "text": [
      "2\n",
      "100\n"
     ]
    }
   ],
   "source": [
    "print len(tsearch_json)\n",
    "print len(tsearch_json['statuses'])"
   ]
  },
  {
   "cell_type": "code",
   "execution_count": 19,
   "metadata": {
    "collapsed": false,
    "slideshow": {
     "slide_type": "subslide"
    }
   },
   "outputs": [
    {
     "name": "stdout",
     "output_type": "stream",
     "text": [
      "801644923774595072\n"
     ]
    }
   ],
   "source": [
    "print tsearch_json['statuses'][-1]['id']"
   ]
  },
  {
   "cell_type": "code",
   "execution_count": 24,
   "metadata": {
    "collapsed": false,
    "slideshow": {
     "slide_type": "subslide"
    }
   },
   "outputs": [],
   "source": [
    "f=open('data/ds_tweet_3a.txt','w')\n",
    "for i,tweet in enumerate(tsearch_json['statuses']):\n",
    "    #print str(i),tweet['id'],tweet['user']['name'],tweet['text']\n",
    "    #f.write(json.dumps([str(i),tweet['id'],tweet['user']['name'],tweet['text']]))\n",
    "    f.write(json.dumps([str(i),tweet['id'],tweet['user']['name']]))\n",
    "    f.write(\"\\n\")\n",
    "    #print _t\n",
    "    #f.write(_t)\n",
    "f.close()"
   ]
  },
  {
   "cell_type": "markdown",
   "metadata": {
    "slideshow": {
     "slide_type": "subslide"
    }
   },
   "source": [
    "* Rate limit까지 읽음\n",
    "    * prev_id는 전 id를 저장\n",
    "    * \n",
    "* todo\n",
    "    * rate limit handling?? 알고리즘?\n",
    "    * statuses = [] 읽어온 데이터가 없는 경우\n"
   ]
  },
  {
   "cell_type": "code",
   "execution_count": null,
   "metadata": {
    "collapsed": true,
    "slideshow": {
     "slide_type": "subslide"
    }
   },
   "outputs": [],
   "source": [
    "import urllib\n",
    "url = \"https://api.twitter.com/1.1/search/tweets.json\""
   ]
  },
  {
   "cell_type": "code",
   "execution_count": 25,
   "metadata": {
    "collapsed": false,
    "scrolled": true,
    "slideshow": {
     "slide_type": "subslide"
    }
   },
   "outputs": [
    {
     "name": "stdout",
     "output_type": "stream",
     "text": [
      "10\n",
      "801647434514382847\n",
      "10\n",
      "801647288011472895\n"
     ]
    }
   ],
   "source": [
    "prev_id=None\n",
    "f=open('data/ds_tweet_3b.txt','a')\n",
    "for i in range(0,2):\n",
    "    myparam={'q':'seoul','count':10,'max_id':prev_id}\n",
    "    mybody=urllib.urlencode(myparam)\n",
    "    response, content = client.request(url+\"?\"+mybody, method=\"GET\")\n",
    "    tsearch_json = json.loads(content)\n",
    "    print len(tsearch_json['statuses'])\n",
    "    for i,tweet in enumerate(tsearch_json['statuses']):\n",
    "        #print str(i),tweet['id'],tweet['user']['name'],tweet['text']\n",
    "        f.write(json.dumps([str(i),tweet['id'],tweet['user']['name']]))\n",
    "        f.write(\"\\n\")\n",
    "    #if data[\"statuses\"] == []:\n",
    "    #    print \"end of data\"\n",
    "    #    break\n",
    "    #else:\n",
    "    prev_id=int(tsearch_json['statuses'][-1]['id'])-1\n",
    "    print prev_id\n",
    "f.close()"
   ]
  },
  {
   "cell_type": "markdown",
   "metadata": {
    "slideshow": {
     "slide_type": "subslide"
    }
   },
   "source": [
    "### all-in-one python\n",
    "\n",
    "* 재사용\n",
    "    * getApiKey()함수.\n",
    "    * oauth client.\n",
    "    * mongo 저장.\n",
    "    * 위에 작성한 프로그램.\n",
    "\n",
    "* 쓰기\n",
    "\n",
    "구분 | 파일명\n",
    "-----|-----\n",
    "json (append) | src/ds_twitter_seoul_3.json\n",
    "text file (append) | src/ds_twitter_seoul_3.txt\n",
    "mongo (같은 레코드 중복함) | ds_twitter.seoul"
   ]
  },
  {
   "cell_type": "code",
   "execution_count": 7,
   "metadata": {
    "collapsed": false,
    "slideshow": {
     "slide_type": "subslide"
    }
   },
   "outputs": [
    {
     "name": "stdout",
     "output_type": "stream",
     "text": [
      "Overwriting src/ds_twitter_3.py\n"
     ]
    }
   ],
   "source": [
    "%%writefile src/ds_twitter_3.py\n",
    "import urllib\n",
    "import os\n",
    "import oauth2 as oauth\n",
    "import json\n",
    "\n",
    "def getApiKey(keyPath):\n",
    "    d=dict()\n",
    "    f=open(keyPath,'r')\n",
    "    for line in f.readlines():\n",
    "        row=line.split('=')\n",
    "        if(row[0]!='debug'):\n",
    "            row0=row[0].split('.')\n",
    "            d[row0[1].upper()]=row[1].strip()\n",
    "    return d\n",
    "\n",
    "# 1. key\n",
    "keyPath=os.path.join(os.path.expanduser(\"~\"),'Code/git/sd','twitter4j.properties')\n",
    "key=getApiKey(keyPath)\n",
    "# 2. oauth client\n",
    "consumer = oauth.Consumer(key=key['CONSUMERKEY'], secret=key['CONSUMERSECRET'])\n",
    "token=oauth.Token(key=key['ACCESSTOKEN'], secret=key['ACCESSTOKENSECRET'])\n",
    "client = oauth.Client(consumer, token)\n",
    "\n",
    "# 3. pymongo\n",
    "from pymongo import MongoClient\n",
    "Client = MongoClient('localhost:27017')\n",
    "_db=Client.ds_twitter\n",
    "_collection=_db.seoul\n",
    "def saveDB(_data):\n",
    "    _collection.insert(_data)\n",
    "\n",
    "def readDB():\n",
    "    for tweet in _collection.find():\n",
    "        print tweet['id'],tweet['text']\n",
    "\n",
    "# 4. file: NOTE to cast into string\n",
    "_fname='src/ds_twitter_seoul_3.txt'\n",
    "def saveFile(_fname,_data):\n",
    "    fp=open(_fname,'a')\n",
    "    fp.write(str(_data))\n",
    "    #fp.write(_data+\"\\n\")\n",
    "\n",
    "# 5. json\n",
    "_jfname='src/ds_twitter_seoul_3.json'\n",
    "def saveJson(_fname,_data):\n",
    "    import io\n",
    "    with io.open(_fname, 'a', encoding='utf8') as json_file:\n",
    "        _j=json.dumps(_data, json_file, ensure_ascii=False, encoding='utf8')\n",
    "        json_file.write(_j+\"\\n\")\n",
    "def readJson(_fname):\n",
    "    for line in open(_fname, 'r').readlines():\n",
    "        _j=json.loads(line)\n",
    "        #print _j['id'],_j['text']\n",
    "        print _j['id']\n",
    "\n",
    "# 6. twitter search\n",
    "url = \"https://api.twitter.com/1.1/search/tweets.json\"\n",
    "_ids=list()\n",
    "_max_id=None\n",
    "#_since_id=None\n",
    "_count=200\n",
    "_maxIter=20\n",
    "_iter=0\n",
    "while _iter<_maxIter:\n",
    "    myparam={'q':'seoul','count':_count,'max_id':_max_id}\n",
    "    #myparam={'q':'seoul','count':_count,'since_id':_since_id}\n",
    "    mybody=urllib.urlencode(myparam)\n",
    "    response, content = client.request(url+\"?\"+mybody, method=\"GET\")\n",
    "    tsearch_json = json.loads(content)\n",
    "    print len(tsearch_json)\n",
    "    for i,tweet in enumerate(tsearch_json['statuses']):\n",
    "            #print tweet['id'],tweet['text']\n",
    "            if(i%10==0):\n",
    "                print i,tweet['id']\n",
    "            saveJson(_jfname,tweet) # with quotes, this does not work!!\n",
    "            saveFile(_fname,tweet)\n",
    "            saveDB(tweet)\n",
    "    _max_id=tweet['id']\n",
    "    #_since_id=tweet['id']\n",
    "    _ids.append(tweet['id'])\n",
    "    _iter+=1\n",
    "\n",
    "#print \"-----reading back\"\n",
    "#readJson(_jfname)\n",
    "#readDB()\n",
    "print _ids"
   ]
  },
  {
   "cell_type": "code",
   "execution_count": 9,
   "metadata": {
    "collapsed": false,
    "slideshow": {
     "slide_type": "subslide"
    }
   },
   "outputs": [
    {
     "name": "stdout",
     "output_type": "stream",
     "text": [
      "2\n",
      "0 801955891956236288\n",
      "10 801955750666899456\n",
      "20 801955663400341505\n",
      "30 801955555627573248\n",
      "40 801955413780361216\n",
      "50 801955207877894144\n",
      "60 801955090516963328\n",
      "70 801954991598665732\n",
      "80 801954800430551041\n",
      "90 801954594511142912\n",
      "2\n",
      "0 801954514265702400\n",
      "10 801954390798020608\n",
      "20 801954222598197248\n",
      "30 801954098924769280\n",
      "40 801953896318910464\n",
      "50 801953736495079424\n",
      "60 801953609734758401\n",
      "70 801953513672540160\n",
      "80 801953406390857728\n",
      "90 801953312496959489\n",
      "2\n",
      "0 801953207262003202\n",
      "10 801953033651298304\n",
      "20 801952930085490688\n",
      "30 801952828285562880\n",
      "40 801952761436925952\n",
      "50 801952678112686080\n",
      "60 801952597301084161\n",
      "70 801952469966127104\n",
      "80 801952372515741696\n",
      "90 801952255314313220\n",
      "2\n",
      "0 801952181213655040\n",
      "10 801952083746451457\n",
      "20 801951858432606208\n",
      "30 801951741100949504\n",
      "40 801951674126340096\n",
      "50 801951528990883840\n",
      "60 801951371427741696\n",
      "70 801951303878356992\n",
      "80 801951161188118528\n",
      "90 801951015662587904\n",
      "2\n",
      "0 801950903603380224\n",
      "10 801950818911952896\n",
      "20 801950718420623360\n",
      "30 801950641358663680\n",
      "40 801950576569249792\n",
      "50 801950473125101568\n",
      "60 801950384768057344\n",
      "70 801950304208113664\n",
      "80 801950197035085824\n",
      "90 801950124020637696\n",
      "2\n",
      "0 801950044303654913\n",
      "10 801949976641179648\n",
      "20 801949855253991424\n",
      "30 801949759699202048\n",
      "40 801949680980504577\n",
      "50 801949575162380288\n",
      "60 801949486452879360\n",
      "70 801949392173314048\n",
      "80 801949242512142336\n",
      "90 801949129198866432\n",
      "2\n",
      "0 801949074903760896\n",
      "10 801948968997392384\n",
      "20 801948850252460034\n",
      "30 801948755671023616\n",
      "40 801948687698006016\n",
      "50 801948572610535425\n",
      "60 801948522673147904\n",
      "70 801948390040838144\n",
      "80 801948284998864901\n",
      "90 801948151561101312\n",
      "2\n",
      "0 801948087832846338\n",
      "10 801947962003759104\n",
      "20 801947878365106177\n",
      "30 801947778620325888\n",
      "40 801947619857547264\n",
      "50 801947538563551232\n",
      "60 801947477670842368\n",
      "70 801947403565699072\n",
      "80 801947295315066880\n",
      "90 801947223047032832\n",
      "2\n",
      "0 801947128666980352\n",
      "10 801947043178508288\n",
      "20 801946966175322112\n",
      "30 801946892204589056\n",
      "40 801946836554510337\n",
      "50 801946766941753344\n",
      "60 801946648653926400\n",
      "70 801946577732415488\n",
      "80 801946490918686720\n",
      "90 801946424610914304\n",
      "2\n",
      "0 801946366729588736\n",
      "10 801946309439668224\n",
      "20 801946243840745474\n",
      "30 801946105462325250\n",
      "40 801946030908403713\n",
      "50 801945899756756992\n",
      "60 801945742474498049\n",
      "70 801945646680842241\n",
      "80 801945434428059650\n",
      "90 801945244354756608\n",
      "2\n",
      "0 801945105238265856\n",
      "10 801944910739828736\n",
      "20 801944811724935168\n",
      "30 801944718875598848\n",
      "40 801944586322997248\n",
      "50 801944482925006848\n",
      "60 801944369712353280\n",
      "70 801944204519899136\n",
      "80 801944091634364416\n",
      "90 801943995270057984\n",
      "2\n",
      "0 801943911077842944\n",
      "10 801943806325067776\n",
      "20 801943655787405313\n",
      "30 801943555245805568\n",
      "40 801943376652275715\n",
      "50 801943205507923968\n",
      "60 801943085152223234\n",
      "70 801942936346824704\n",
      "80 801942774010548224\n",
      "90 801942602429800448\n",
      "2\n",
      "0 801942411999989760\n",
      "10 801942305531985920\n",
      "20 801942146928427008\n",
      "30 801941996994785280\n",
      "40 801941782766428165\n",
      "50 801941599576014852\n",
      "60 801941349679374336\n",
      "70 801941225255399425\n",
      "80 801941098339782656\n",
      "90 801940993524301825\n",
      "2\n",
      "0 801940817048846336\n",
      "10 801940721884270593\n",
      "20 801940605555380226\n",
      "30 801940554267250688\n",
      "40 801940503151329280\n",
      "50 801940322888523776\n",
      "60 801940176515698688\n",
      "70 801940121264099328\n",
      "80 801940037185073152\n",
      "90 801939928917671937\n",
      "2\n",
      "0 801939731189669890\n",
      "10 801939521478787077\n",
      "20 801939398237429760\n",
      "30 801939302313697280\n",
      "40 801939190141231104\n",
      "50 801939057739603968\n",
      "60 801938917914198016\n",
      "70 801938650300760064\n",
      "80 801938511054061568\n",
      "90 801938383958200320\n",
      "2\n",
      "0 801938153582063616\n",
      "10 801937935629242368\n",
      "20 801937794318774272\n",
      "30 801937723342909440\n",
      "40 801937610956558337\n",
      "50 801937484749750272\n",
      "60 801937287734886400\n",
      "70 801937112643895296\n",
      "80 801936835291140096\n",
      "90 801936729363988482\n",
      "2\n",
      "0 801936654311178240\n",
      "10 801936565484167168\n",
      "20 801936446126845952\n",
      "30 801936184758800385\n",
      "40 801936100998549505\n",
      "50 801935931439652864\n",
      "60 801935763780894722\n",
      "70 801935597602357248\n",
      "80 801935491318677504\n",
      "90 801935380572274688\n",
      "2\n",
      "0 801935133313896448\n",
      "10 801934939633557504\n",
      "20 801934869752201216\n",
      "30 801934709009825792\n",
      "40 801934540197330944\n",
      "50 801934357845786624\n",
      "60 801934229122600961\n",
      "70 801934116937760768\n",
      "80 801933995583770624\n",
      "90 801933878248079360\n",
      "2\n",
      "0 801933808110964737\n",
      "10 801933680897687552\n",
      "20 801933543739789314\n",
      "30 801933431361990657\n",
      "40 801933317809446912\n",
      "50 801933229007638528\n",
      "60 801933099051335680\n",
      "70 801932969862516736\n",
      "80 801932858742874112\n",
      "90 801932718720356352\n",
      "2\n",
      "0 801932610532323328\n",
      "10 801932420916224000\n",
      "20 801932253848858624\n",
      "30 801932087515234304\n",
      "40 801931973996314624\n",
      "50 801931803418165248\n",
      "60 801931678411149312\n",
      "70 801931528452247552\n",
      "80 801931285929205760\n",
      "90 801931008454967296\n",
      "[801954514265702400, 801953207262003202, 801952181213655040, 801950903603380224, 801950044303654913, 801949074903760896, 801948087832846338, 801947128666980352, 801946366729588736, 801945105238265856, 801943911077842944, 801942411999989760, 801940817048846336, 801939731189669890, 801938153582063616, 801936654311178240, 801935133313896448, 801933808110964737, 801932610532323328, 801930876875481088]\n"
     ]
    }
   ],
   "source": [
    "!python src/ds_twitter_3.py"
   ]
  },
  {
   "cell_type": "markdown",
   "metadata": {
    "slideshow": {
     "slide_type": "slide"
    }
   },
   "source": [
    "## T-5: Follower를 가져온다."
   ]
  },
  {
   "cell_type": "code",
   "execution_count": 17,
   "metadata": {
    "collapsed": true,
    "slideshow": {
     "slide_type": "subslide"
    }
   },
   "outputs": [],
   "source": [
    "import urllib\n",
    "url = \"https://api.twitter.com/1.1/followers/list.json\"\n",
    "#myparam={'q':'seoul','count':20,'max_id':'754295227351871489'}\n",
    "#mybody=urllib.urlencode(myparam)\n",
    "response, content = client.request(url, method=\"GET\")\n",
    "tfollower_json = json.loads(content)"
   ]
  },
  {
   "cell_type": "code",
   "execution_count": 18,
   "metadata": {
    "collapsed": false,
    "slideshow": {
     "slide_type": "subslide"
    }
   },
   "outputs": [
    {
     "name": "stdout",
     "output_type": "stream",
     "text": [
      "5\n",
      "<type 'dict'>\n"
     ]
    }
   ],
   "source": [
    "print len(tfollower_json)\n",
    "print type(tfollower_json)\n"
   ]
  },
  {
   "cell_type": "code",
   "execution_count": 143,
   "metadata": {
    "collapsed": false,
    "slideshow": {
     "slide_type": "subslide"
    }
   },
   "outputs": [
    {
     "name": "stdout",
     "output_type": "stream",
     "text": [
      "previous_cursor\n",
      "previous_cursor_str\n",
      "next_cursor\n",
      "users\n",
      "next_cursor_str\n"
     ]
    }
   ],
   "source": [
    "for k,v in tfollower_json.iteritems():\n",
    "    print k"
   ]
  },
  {
   "cell_type": "code",
   "execution_count": 150,
   "metadata": {
    "collapsed": false,
    "slideshow": {
     "slide_type": "subslide"
    }
   },
   "outputs": [
    {
     "name": "stdout",
     "output_type": "stream",
     "text": [
      "follow_request_sent\n",
      "has_extended_profile\n",
      "profile_use_background_image\n",
      "default_profile_image\n",
      "id\n",
      "profile_background_image_url_https\n",
      "verified\n",
      "blocked_by\n",
      "profile_text_color\n",
      "muting\n",
      "profile_image_url_https\n",
      "profile_sidebar_fill_color\n",
      "entities\n",
      "followers_count\n",
      "profile_sidebar_border_color\n",
      "id_str\n",
      "profile_background_color\n",
      "listed_count\n",
      "status\n",
      "is_translation_enabled\n",
      "utc_offset\n",
      "statuses_count\n",
      "description\n",
      "friends_count\n",
      "location\n",
      "profile_link_color\n",
      "profile_image_url\n",
      "following\n",
      "geo_enabled\n",
      "blocking\n",
      "profile_background_image_url\n",
      "screen_name\n",
      "lang\n",
      "profile_background_tile\n",
      "favourites_count\n",
      "name\n",
      "notifications\n",
      "url\n",
      "created_at\n",
      "contributors_enabled\n",
      "time_zone\n",
      "protected\n",
      "default_profile\n",
      "is_translator\n"
     ]
    }
   ],
   "source": [
    "for k,v in tfollower_json['users'][0].iteritems():\n",
    "        print k"
   ]
  },
  {
   "cell_type": "code",
   "execution_count": 19,
   "metadata": {
    "collapsed": false,
    "scrolled": true,
    "slideshow": {
     "slide_type": "subslide"
    }
   },
   "outputs": [
    {
     "name": "stdout",
     "output_type": "stream",
     "text": [
      "151797293 mycarten\n",
      "3011800740 amyhuh65\n",
      "157562595 Luxemburx\n",
      "343218787 75375652\n",
      "1645118360 jjhcp\n",
      "986237041 DracoSwida\n",
      "168089220 hchae00\n",
      "118962348 htmzzz\n",
      "71177815 sbjin1229\n",
      "88356600 serenoheka\n",
      "192388167 iKKaia8p8\n"
     ]
    }
   ],
   "source": [
    "for i in tfollower_json['users']:\n",
    "    print i['id'],i['screen_name']"
   ]
  },
  {
   "cell_type": "markdown",
   "metadata": {
    "slideshow": {
     "slide_type": "slide"
    }
   },
   "source": [
    "## T-6: Follower의 timeline을 가져온다."
   ]
  },
  {
   "cell_type": "markdown",
   "metadata": {
    "slideshow": {
     "slide_type": "subslide"
    }
   },
   "source": [
    "### Twitter 라이브러리"
   ]
  },
  {
   "cell_type": "code",
   "execution_count": null,
   "metadata": {
    "collapsed": true,
    "slideshow": {
     "slide_type": "subslide"
    }
   },
   "outputs": [],
   "source": [
    "print _client.follwers()"
   ]
  },
  {
   "cell_type": "markdown",
   "metadata": {
    "slideshow": {
     "slide_type": "subslide"
    }
   },
   "source": [
    "### OAuth"
   ]
  },
  {
   "cell_type": "markdown",
   "metadata": {
    "slideshow": {
     "slide_type": "subslide"
    }
   },
   "source": [
    "* 위에서 수동으로 첫번쨰 followerd의 user_timeline"
   ]
  },
  {
   "cell_type": "code",
   "execution_count": 152,
   "metadata": {
    "collapsed": true,
    "slideshow": {
     "slide_type": "subslide"
    }
   },
   "outputs": [],
   "source": [
    "import urllib\n",
    "url = \"https://api.twitter.com/1.1/statuses/user_timeline.json\"\n",
    "#myparam={'q':'seoul','count':20,'max_id':'754295227351871489'}\n",
    "#mybody=urllib.urlencode(myparam)\n",
    "response, content = client.request(url+\"?\"+'user_id=151797293', method=\"GET\")\n",
    "tuser_timeline_json = json.loads(content)"
   ]
  },
  {
   "cell_type": "code",
   "execution_count": 153,
   "metadata": {
    "collapsed": false,
    "slideshow": {
     "slide_type": "subslide"
    }
   },
   "outputs": [
    {
     "name": "stdout",
     "output_type": "stream",
     "text": [
      "20\n",
      "<type 'list'>\n"
     ]
    }
   ],
   "source": [
    "print len(tuser_timeline_json)\n",
    "print type(tuser_timeline_json)\n"
   ]
  },
  {
   "cell_type": "code",
   "execution_count": 160,
   "metadata": {
    "collapsed": false,
    "slideshow": {
     "slide_type": "subslide"
    }
   },
   "outputs": [
    {
     "name": "stdout",
     "output_type": "stream",
     "text": [
      " 753507089868214272 전문가기고 ( 전자신문 7월4일 칼럼) 친환경차로 가는 길목의 대안은 가스차    https://t.co/PNsids1Xkx\n",
      "753506984398204929 자동차10년타기운동본부가 추천하는 부천, 인천, 대구 착한정비센터를 소개합니다. 오래된 승용차는 너무 좋습니다. https://t.co/c8XmCDLQj5\n",
      "753506761026342913 자동차10년타기운동본부가 추천하는 서울 , 경기 착한정비센터   https://t.co/EMfPHfAtWM\n",
      "753506668822958080 자동차10년타기운동본부가 추천하는 부천, 인천, 대구 착한정비센터를 소개합니다   https://t.co/c8XmCDLQj5\n",
      "753506592390119425 자동차10년타기운동본부가 추천하는 대구 , 부산 착한정비센터를 소개합니다   https://t.co/3YHQvwoe9Z\n",
      "753506505635139586 자동차10년타기운동본부가 추천하는 부산 , 호남, 충청, 대전 착한정비센터를 소개합니다   https://t.co/dI5k6CGSIm\n",
      "752628644716027904 자동차10년타기운동본부가 추천하는 서울 , 경기 착한정비센터   https://t.co/EMfPHfAtWM\n",
      "752628519880957956 자동차10년타기운동본부가 추천하는 부천, 인천, 대구 착한정비센터를 소개합니다   https://t.co/c8XmCDLQj5\n",
      "752628350368124929 자동차10년타기운동본부가 추천하는 대구 , 부산 착한정비센터를 소개합니다   https://t.co/3YHQvwoe9Z\n",
      "752628036772605952 자동차10년타기운동본부가 추천하는 부산 , 호남, 충청, 대전 착한정비센터를 소개합니다   https://t.co/dI5k6CGSIm\n",
      "752616479284142081 동영상을 @YouTube 재생목록 https://t.co/UoOSHI3gsm 아이언 샷을 할 때 리듬이 급해지고 볼을 향해 덤벼드는\n",
      "752616257921376258 @YouTube의 박주욱 재생목록(https://t.co/PGQdb3Z6t8)을\n",
      "750165085050376192 (연합뉴스 TV) 폭우가 갑자기 내리면…안전운전 요령은?   https://t.co/arSXTR4rYC\n",
      "750164208499646464 [한수진의 SBS 전망대] 비에 약한 자동차…장마철  빗길 운전 주의법   https://t.co/Oolh0c10Ao\n",
      "750162076794916864 전문가기고 ( 전자신문 7월4일 칼럼) 친환경차로 가는 길목의 대안은 가스차    https://t.co/PNsids1Xkx\n",
      "750161284511854592 졸음운전 예방법, 졸리면 무조건  쉼터로   https://t.co/CsFoRdgWiJ\n",
      "750161209941303297 자동차10년타기운동본부가 추천하는 서울 , 경기 착한정비센터   https://t.co/EMfPHfAtWM\n",
      "750161122427170818 자동차10년타기운동본부가 추천하는 부천, 인천, 대구 착한정비센터를 소개합니다   https://t.co/c8XmCDLQj5\n",
      "750161060427026433 자동차10년타기운동본부가 추천하는 대구 , 부산 착한정비센터를 소개합니다   https://t.co/3YHQvwoe9Z\n",
      "750160947969454084 자동차10년타기운동본부가 추천하는 부산 , 호남, 충청, 대전 착한정비센터를 소개합니다   https://t.co/dI5k6CphQO\n"
     ]
    }
   ],
   "source": [
    "for i in tuser_timeline_json:\n",
    "    print i['id'],i['text']"
   ]
  },
  {
   "cell_type": "markdown",
   "metadata": {
    "slideshow": {
     "slide_type": "subslide"
    }
   },
   "source": [
    "## T- : Twitter 트렌드 읽기\n"
   ]
  },
  {
   "cell_type": "code",
   "execution_count": null,
   "metadata": {
    "collapsed": true,
    "slideshow": {
     "slide_type": "subslide"
    }
   },
   "outputs": [],
   "source": [
    "### Twitter"
   ]
  },
  {
   "cell_type": "code",
   "execution_count": 38,
   "metadata": {
    "collapsed": true,
    "slideshow": {
     "slide_type": "subslide"
    }
   },
   "outputs": [],
   "source": [
    "WORLD_WOE_ID = 1\n",
    "US_WOE_ID = 23424977\n",
    "# Prefix ID with the underscore for query string parameterization.\n",
    "# Without the underscore, the twitter package appends the ID value\n",
    "# to the URL itself as a special case keyword argument.\n",
    "world_trends = _client.trends.place(_id=WORLD_WOE_ID)\n",
    "us_trends = _client.trends.place(_id=US_WOE_ID)"
   ]
  },
  {
   "cell_type": "code",
   "execution_count": 39,
   "metadata": {
    "collapsed": false,
    "scrolled": true,
    "slideshow": {
     "slide_type": "subslide"
    }
   },
   "outputs": [
    {
     "name": "stdout",
     "output_type": "stream",
     "text": [
      "<built-in method count of TwitterListResponse object at 0x7f0791706890>\n",
      "{u'created_at': u'2016-07-16T05:53:00Z', u'trends': [{u'url': u'http://twitter.com/search?q=%232016in3words', u'query': u'%232016in3words', u'tweet_volume': 70031, u'name': u'#2016in3words', u'promoted_content': None}, {u'url': u'http://twitter.com/search?q=%23ThingsTrumpWillNeverHave', u'query': u'%23ThingsTrumpWillNeverHave', u'tweet_volume': 45514, u'name': u'#ThingsTrumpWillNeverHave', u'promoted_content': None}, {u'url': u'http://twitter.com/search?q=%23HappyBirthdayLuke', u'query': u'%23HappyBirthdayLuke', u'tweet_volume': 123118, u'name': u'#HappyBirthdayLuke', u'promoted_content': None}, {u'url': u'http://twitter.com/search?q=%23InsteadOfSleepLets', u'query': u'%23InsteadOfSleepLets', u'tweet_volume': None, u'name': u'#InsteadOfSleepLets', u'promoted_content': None}, {u'url': u'http://twitter.com/search?q=%23WeMissZouis', u'query': u'%23WeMissZouis', u'tweet_volume': 51431, u'name': u'#WeMissZouis', u'promoted_content': None}, {u'url': u'http://twitter.com/search?q=%22Chris+Taylor%22', u'query': u'%22Chris+Taylor%22', u'tweet_volume': None, u'name': u'Chris Taylor', u'promoted_content': None}, {u'url': u'http://twitter.com/search?q=%22Lizzie+McGuire%22', u'query': u'%22Lizzie+McGuire%22', u'tweet_volume': None, u'name': u'Lizzie McGuire', u'promoted_content': None}, {u'url': u'http://twitter.com/search?q=Bumgarner', u'query': u'Bumgarner', u'tweet_volume': None, u'name': u'Bumgarner', u'promoted_content': None}, {u'url': u'http://twitter.com/search?q=Solarte', u'query': u'Solarte', u'tweet_volume': None, u'name': u'Solarte', u'promoted_content': None}, {u'url': u'http://twitter.com/search?q=Belt', u'query': u'Belt', u'tweet_volume': 23572, u'name': u'Belt', u'promoted_content': None}, {u'url': u'http://twitter.com/search?q=%22Anthony+Brown%22', u'query': u'%22Anthony+Brown%22', u'tweet_volume': None, u'name': u'Anthony Brown', u'promoted_content': None}, {u'url': u'http://twitter.com/search?q=%22Ivica+Zubac%22', u'query': u'%22Ivica+Zubac%22', u'tweet_volume': None, u'name': u'Ivica Zubac', u'promoted_content': None}, {u'url': u'http://twitter.com/search?q=Rosenthal', u'query': u'Rosenthal', u'tweet_volume': None, u'name': u'Rosenthal', u'promoted_content': None}, {u'url': u'http://twitter.com/search?q=Cashner', u'query': u'Cashner', u'tweet_volume': None, u'name': u'Cashner', u'promoted_content': None}, {u'url': u'http://twitter.com/search?q=%22President+Erdogan%22', u'query': u'%22President+Erdogan%22', u'tweet_volume': 86483, u'name': u'President Erdogan', u'promoted_content': None}, {u'url': u'http://twitter.com/search?q=Mariska', u'query': u'Mariska', u'tweet_volume': None, u'name': u'Mariska', u'promoted_content': None}, {u'url': u'http://twitter.com/search?q=%22Mark+Wegner%22', u'query': u'%22Mark+Wegner%22', u'tweet_volume': None, u'name': u'Mark Wegner', u'promoted_content': None}, {u'url': u'http://twitter.com/search?q=%22Dirty+Dancing%22', u'query': u'%22Dirty+Dancing%22', u'tweet_volume': None, u'name': u'Dirty Dancing', u'promoted_content': None}, {u'url': u'http://twitter.com/search?q=MadBum', u'query': u'MadBum', u'tweet_volume': None, u'name': u'MadBum', u'promoted_content': None}, {u'url': u'http://twitter.com/search?q=%23StrangerThings', u'query': u'%23StrangerThings', u'tweet_volume': 15216, u'name': u'#StrangerThings', u'promoted_content': None}, {u'url': u'http://twitter.com/search?q=%23ProtectCamila', u'query': u'%23ProtectCamila', u'tweet_volume': 117168, u'name': u'#ProtectCamila', u'promoted_content': None}, {u'url': u'http://twitter.com/search?q=%23TrekkieSongs', u'query': u'%23TrekkieSongs', u'tweet_volume': 12284, u'name': u'#TrekkieSongs', u'promoted_content': None}, {u'url': u'http://twitter.com/search?q=%23SuperheroDayJobs', u'query': u'%23SuperheroDayJobs', u'tweet_volume': None, u'name': u'#SuperheroDayJobs', u'promoted_content': None}, {u'url': u'http://twitter.com/search?q=%23LAvHOU', u'query': u'%23LAvHOU', u'tweet_volume': None, u'name': u'#LAvHOU', u'promoted_content': None}, {u'url': u'http://twitter.com/search?q=%23ALDUB1stAnniversary', u'query': u'%23ALDUB1stAnniversary', u'tweet_volume': 4139097, u'name': u'#ALDUB1stAnniversary', u'promoted_content': None}, {u'url': u'http://twitter.com/search?q=%23RipTalonRose', u'query': u'%23RipTalonRose', u'tweet_volume': None, u'name': u'#RipTalonRose', u'promoted_content': None}, {u'url': u'http://twitter.com/search?q=%23MyGameShowWouldBe', u'query': u'%23MyGameShowWouldBe', u'tweet_volume': None, u'name': u'#MyGameShowWouldBe', u'promoted_content': None}, {u'url': u'http://twitter.com/search?q=%23lastseason', u'query': u'%23lastseason', u'tweet_volume': None, u'name': u'#lastseason', u'promoted_content': None}, {u'url': u'http://twitter.com/search?q=%23ISoldMyVirginity', u'query': u'%23ISoldMyVirginity', u'tweet_volume': None, u'name': u'#ISoldMyVirginity', u'promoted_content': None}, {u'url': u'http://twitter.com/search?q=%23shotsoutthegrammy', u'query': u'%23shotsoutthegrammy', u'tweet_volume': None, u'name': u'#shotsoutthegrammy', u'promoted_content': None}, {u'url': u'http://twitter.com/search?q=%23TrustMe', u'query': u'%23TrustMe', u'tweet_volume': None, u'name': u'#TrustMe', u'promoted_content': None}, {u'url': u'http://twitter.com/search?q=%23BMovieManiacs', u'query': u'%23BMovieManiacs', u'tweet_volume': None, u'name': u'#BMovieManiacs', u'promoted_content': None}, {u'url': u'http://twitter.com/search?q=%23ApplyNRALogicToAnything', u'query': u'%23ApplyNRALogicToAnything', u'tweet_volume': 11641, u'name': u'#ApplyNRALogicToAnything', u'promoted_content': None}, {u'url': u'http://twitter.com/search?q=%23ThankYouLJ', u'query': u'%23ThankYouLJ', u'tweet_volume': None, u'name': u'#ThankYouLJ', u'promoted_content': None}, {u'url': u'http://twitter.com/search?q=%23TheHeiress', u'query': u'%23TheHeiress', u'tweet_volume': None, u'name': u'#TheHeiress', u'promoted_content': None}, {u'url': u'http://twitter.com/search?q=%23JordanOnRadioDisney', u'query': u'%23JordanOnRadioDisney', u'tweet_volume': None, u'name': u'#JordanOnRadioDisney', u'promoted_content': None}, {u'url': u'http://twitter.com/search?q=%23ThisIsHarry', u'query': u'%23ThisIsHarry', u'tweet_volume': 85325, u'name': u'#ThisIsHarry', u'promoted_content': None}, {u'url': u'http://twitter.com/search?q=%234OUQA', u'query': u'%234OUQA', u'tweet_volume': 11808, u'name': u'#4OUQA', u'promoted_content': None}, {u'url': u'http://twitter.com/search?q=%23ResignObama', u'query': u'%23ResignObama', u'tweet_volume': 50829, u'name': u'#ResignObama', u'promoted_content': None}, {u'url': u'http://twitter.com/search?q=%23FridayNightHorror', u'query': u'%23FridayNightHorror', u'tweet_volume': None, u'name': u'#FridayNightHorror', u'promoted_content': None}, {u'url': u'http://twitter.com/search?q=%23MyEverything', u'query': u'%23MyEverything', u'tweet_volume': None, u'name': u'#MyEverything', u'promoted_content': None}, {u'url': u'http://twitter.com/search?q=%23wjumc', u'query': u'%23wjumc', u'tweet_volume': None, u'name': u'#wjumc', u'promoted_content': None}, {u'url': u'http://twitter.com/search?q=%23MarriageBootCamp', u'query': u'%23MarriageBootCamp', u'tweet_volume': None, u'name': u'#MarriageBootCamp', u'promoted_content': None}, {u'url': u'http://twitter.com/search?q=%23RealTime', u'query': u'%23RealTime', u'tweet_volume': None, u'name': u'#RealTime', u'promoted_content': None}, {u'url': u'http://twitter.com/search?q=%23DameDOLLA', u'query': u'%23DameDOLLA', u'tweet_volume': None, u'name': u'#DameDOLLA', u'promoted_content': None}, {u'url': u'http://twitter.com/search?q=%23LTBU', u'query': u'%23LTBU', u'tweet_volume': None, u'name': u'#LTBU', u'promoted_content': None}, {u'url': u'http://twitter.com/search?q=%23SabadoDeGanarSeguidores', u'query': u'%23SabadoDeGanarSeguidores', u'tweet_volume': None, u'name': u'#SabadoDeGanarSeguidores', u'promoted_content': None}, {u'url': u'http://twitter.com/search?q=%23ShawnWorldTourBocaRaton', u'query': u'%23ShawnWorldTourBocaRaton', u'tweet_volume': 26934, u'name': u'#ShawnWorldTourBocaRaton', u'promoted_content': None}, {u'url': u'http://twitter.com/search?q=%23RFA40', u'query': u'%23RFA40', u'tweet_volume': None, u'name': u'#RFA40', u'promoted_content': None}, {u'url': u'http://twitter.com/search?q=%23DianaRoss', u'query': u'%23DianaRoss', u'tweet_volume': None, u'name': u'#DianaRoss', u'promoted_content': None}], u'as_of': u'2016-07-16T06:01:01Z', u'locations': [{u'woeid': 23424977, u'name': u'United States'}]}\n"
     ]
    }
   ],
   "source": [
    "print world_trends.count\n",
    "print us_trends.pop()"
   ]
  },
  {
   "cell_type": "markdown",
   "metadata": {
    "slideshow": {
     "slide_type": "subslide"
    }
   },
   "source": [
    "## Request token"
   ]
  },
  {
   "cell_type": "code",
   "execution_count": 13,
   "metadata": {
    "collapsed": false,
    "scrolled": true,
    "slideshow": {
     "slide_type": "subslide"
    }
   },
   "outputs": [
    {
     "name": "stdout",
     "output_type": "stream",
     "text": [
      "{\n",
      "    \"content-length\": \"121\", \n",
      "    \"x-xss-protection\": \"1; mode=block\", \n",
      "    \"x-content-type-options\": \"nosniff\", \n",
      "    \"x-connection-hash\": \"52b2074b1714b596fffe3d7d3b852fa1\", \n",
      "    \"x-twitter-response-tags\": \"BouncerCompliant\", \n",
      "    \"x-ua-compatible\": \"IE=edge,chrome=1\", \n",
      "    \"cache-control\": \"no-cache, no-store, must-revalidate, pre-check=0, post-check=0\", \n",
      "    \"status\": \"200\", \n",
      "    \"set-cookie\": \"guest_id=v1%3A145343501151492798; Domain=.twitter.com; Path=/; Expires=Sun, 21-Jan-2018 03:56:51 UTC\", \n",
      "    \"expires\": \"Tue, 31 Mar 1981 05:00:00 GMT\", \n",
      "    \"last-modified\": \"Fri, 22 Jan 2016 03:56:51 GMT\", \n",
      "    \"-content-encoding\": \"gzip\", \n",
      "    \"pragma\": \"no-cache\", \n",
      "    \"date\": \"Fri, 22 Jan 2016 03:56:51 GMT\", \n",
      "    \"content-location\": \"https://api.twitter.com/oauth/request_token?oauth_body_hash=2jmj7l5rSw0yVb%2FvlWAYkK%2FYBwk%3D&oauth_nonce=37280500&oauth_timestamp=1453435010&oauth_consumer_key=YU0ELwoiXP90d1I8VZikiA&oauth_signature_method=HMAC-SHA1&oauth_version=1.0&oauth_signature=qL5EBNpkC6A%2BHoy5HRHmCBT%2B2Gw%3D\", \n",
      "    \"x-response-time\": \"163\", \n",
      "    \"content-security-policy\": \"default-src 'none'; connect-src 'self'; font-src https://abs.twimg.com https://abs-0.twimg.com data:; frame-src 'self' twitter:; img-src https://abs.twimg.com https://*.twimg.com https://pbs.twimg.com data:; media-src 'none'; object-src 'none'; script-src https://abs.twimg.com https://abs-0.twimg.com https://twitter.com https://mobile.twitter.com; style-src https://abs.twimg.com https://abs-0.twimg.com; report-uri https://twitter.com/i/csp_report?a=NVQWGYLXFVWG6Z3JNY%3D%3D%3D%3D%3D%3D&ro=false;\", \n",
      "    \"x-transaction\": \"ce6c13fdb4c951b3\", \n",
      "    \"ml\": \"A\", \n",
      "    \"strict-transport-security\": \"max-age=631138519\", \n",
      "    \"server\": \"tsa_b\", \n",
      "    \"x-frame-options\": \"SAMEORIGIN\", \n",
      "    \"content-type\": \"text/html;charset=utf-8\"\n",
      "}\n",
      "\"oauth_token=EySfUgAAAAAACalxAAABUmd6QcM&oauth_token_secret=Ahd2VtPD9xtEAIhFARiKmy6GKudSSUok&oauth_callback_confirmed=true\"\n"
     ]
    }
   ],
   "source": [
    "import json\n",
    "# Request token URL for Twitter.\n",
    "request_token_url = \"https://api.twitter.com/oauth/request_token\"\n",
    "\n",
    "# Create our client.\n",
    "client = oauth.Client(consumer)\n",
    "\n",
    "# The OAuth Client request works just like httplib2 for the most part.\n",
    "resp, content = client.request(request_token_url, \"GET\")\n",
    "print json.dumps(resp, indent=4)\n",
    "print json.dumps(content, indent=4)"
   ]
  },
  {
   "cell_type": "markdown",
   "metadata": {
    "slideshow": {
     "slide_type": "subslide"
    }
   },
   "source": [
    "### Signing a Request\n",
    "\n",
    "* 요청을 사인\n",
    "Twitter currently encrypts using a 160-bit (SHA-1) hash-based message authentication\n",
    "code (HMAC), which we specify in the signature method. The print headers statement\n",
    "will print the authorization header to the console."
   ]
  },
  {
   "cell_type": "code",
   "execution_count": 161,
   "metadata": {
    "collapsed": false,
    "slideshow": {
     "slide_type": "subslide"
    }
   },
   "outputs": [
    {
     "name": "stdout",
     "output_type": "stream",
     "text": [
      "{'Authorization': u'OAuth realm=\"\", oauth_body_hash=\"2jmj7l5rSw0yVb%2FvlWAYkK%2FYBwk%3D\", oauth_nonce=\"50817605\", oauth_timestamp=\"1468681667\", oauth_consumer_key=\"YU0ELwoiXP90d1I8VZikiA\", oauth_signature_method=\"HMAC-SHA1\", oauth_version=\"1.0\", oauth_token=\"192388653-TDVYxBdEVqxjHIP90g11W3PoxZWPpvwgyEKnTMRu\", oauth_signature=\"FYl7qWM2pQYjkBQ5%2FJgf0RBx%2FZA%3D\"'}\n",
      "https://api.twitter.com/1.1/search/tweets.json?oauth_body_hash=2jmj7l5rSw0yVb%2FvlWAYkK%2FYBwk%3D&oauth_nonce=50817605&oauth_timestamp=1468681667&oauth_consumer_key=YU0ELwoiXP90d1I8VZikiA&oauth_signature_method=HMAC-SHA1&oauth_version=1.0&oauth_token=192388653-TDVYxBdEVqxjHIP90g11W3PoxZWPpvwgyEKnTMRu&oauth_signature=FYl7qWM2pQYjkBQ5%2FJgf0RBx%2FZA%3D\n"
     ]
    }
   ],
   "source": [
    "# Set the base oauth_* parameters along with any other parameters required\n",
    "# for the API call.\n",
    "import time\n",
    "params = {\n",
    "    \"oauth_version\": \"1.0\",\n",
    "    \"oauth_nonce\": oauth.generate_nonce(),\n",
    "    \"oauth_timestamp\": int(time.time())\n",
    "}\n",
    "\n",
    "# Set our token/key parameters\n",
    "params['oauth_token'] = token.key\n",
    "params['oauth_consumer_key'] = consumer.key\n",
    "# set the API endpoint\n",
    "url1 = \"https://api.twitter.com/1.1/search/tweets.json\"\n",
    "\n",
    "url = url1\n",
    "req = oauth.Request(method=\"GET\", url=url, parameters=params)\n",
    "signature_method = oauth.SignatureMethod_HMAC_SHA1()\n",
    "req.sign_request(signature_method, consumer, token)\n",
    "headers = req.to_header()\n",
    "url = req.to_url()\n",
    "print headers\n",
    "print url"
   ]
  },
  {
   "cell_type": "markdown",
   "metadata": {
    "slideshow": {
     "slide_type": "subslide"
    }
   },
   "source": [
    "## search twitter\n",
    "\n",
    "* https://dev.twitter.com/rest/reference/get/search/tweets\n",
    "* GET search/tweets\n",
    "* Resource URL https://api.twitter.com/1.1/search/tweets.json\n"
   ]
  },
  {
   "cell_type": "code",
   "execution_count": 162,
   "metadata": {
    "collapsed": false,
    "scrolled": true,
    "slideshow": {
     "slide_type": "subslide"
    }
   },
   "outputs": [
    {
     "name": "stdout",
     "output_type": "stream",
     "text": [
      "@liizziiiiieeee btw i'm suddenly watching nct life in seoul haha huhu\n",
      "754331720015417349\n",
      "/0/ @liizziiiiieeee btw i'm suddenly watching nct life in seoul haha huhu\n",
      "/1/ RT @Charlie1601: รีวิวขนม Skinfood cafe ที่คาโรซูกิล และอื่นๆอีกมากมาย ฝากด้วยงับ\n",
      "https://t.co/FCQv7Dka04 @seoulstorys @Seoul_Cafe https://…\n",
      "/2/ RT @_HelloJaehyun: คือตอน nct life in seoul เห็นแทยงสดใสแบบนั้นใครจะคิดล่ะว่าหลังกล้องแทยงจะร้องไห้อ่ะ 😭 *จับกอด* https://t.co/kKxKIVCwwS\n",
      "/3/ @nocturnal_seoul @Reyshiyel @pinksiren18 Showing pa ba pagpunta namin? If yes, taraaa! 😆\n",
      "/4/ RT @NCT_TH: 160716 Fanboard #NCTU #NCT \n",
      "แฟน : TEN! TEN! U R THE LUV!♡ TEN THE LUV♡\n",
      "เตนล์ : thank you for the support !!!  (ต่อ) https://t.c…\n",
      "/5/ RT @_HelloJaehyun: คือตอน nct life in seoul เห็นแทยงสดใสแบบนั้นใครจะคิดล่ะว่าหลังกล้องแทยงจะร้องไห้อ่ะ 😭 *จับกอด* https://t.co/kKxKIVCwwS\n",
      "/6/ RT @Charlie1601: รีวิวขนม Skinfood cafe ที่คาโรซูกิล และอื่นๆอีกมากมาย ฝากด้วยงับ\n",
      "https://t.co/FCQv7Dka04 @seoulstorys @Seoul_Cafe https://…\n",
      "/7/ RT @parkult: it's so sad to think that behind the scenes of nct life in seoul taeyong was upset when we thought he was happy https://t.co/x…\n",
      "/8/ RT @ELatte_Sarang: [instiz] ไอดอล ที่ได้รางวัลตั๋วฟรีเข้างาน Seoul dessert Festival (เทศกาลขนมหวานของโซล) ㅋㅋㅋㅋ\n",
      "\n",
      "- บังทัน https://t.co/xDPNG…\n",
      "/9/ @mixxmix_seoul  믹엔믹 귀여워...\n",
      "/10/ RT @hideyo_neko: ถ้าใครยังอยากด่า อยากว่าร้าย อยากใจร้ายกับแทยงมึงก็ทำไปเหอะ กูจะรักเขาให้มากกว่าที่มึงทำร้ายเขาร้อยเท่าพันเท่า\n",
      "/11/ RT @ELatte_Sarang: [instiz] ไอดอล ที่ได้รางวัลตั๋วฟรีเข้างาน Seoul dessert Festival (เทศกาลขนมหวานของโซล) ㅋㅋㅋㅋ\n",
      "\n",
      "- บังทัน https://t.co/xDPNG…\n",
      "/12/ RT @ELatte_Sarang: [instiz] ไอดอล ที่ได้รางวัลตั๋วฟรีเข้างาน Seoul dessert Festival (เทศกาลขนมหวานของโซล) ㅋㅋㅋㅋ\n",
      "\n",
      "- บังทัน https://t.co/xDPNG…\n",
      "/13/ RT @Charlie1601: รีวิวขนม Skinfood cafe ที่คาโรซูกิล และอื่นๆอีกมากมาย ฝากด้วยงับ\n",
      "https://t.co/FCQv7Dka04 @seoulstorys @Seoul_Cafe https://…\n",
      "/14/ RT @BTS_twt: ny to seoul #김데일리 https://t.co/4tgu2wQOIR\n",
      "/15/ RT @ClubVanilla: Don't cry my boy TT___TT https://t.co/C7vMSVD2ku\n",
      "/16/ RT @2SOONHOON_TH: สุขสันต์วันเกิดนะนอนู แข็งแรงขึ้นไวๆนะคนเก่ง คิดถึงแล้ว เก้าหกไลน์และทุกคนรออยู่นะ\n",
      "#HappyWonwooDay\n",
      "#전원우_복덩어리_생일축하해 https:…\n",
      "/17/ RT @_HelloJaehyun: คือตอน nct life in seoul เห็นแทยงสดใสแบบนั้นใครจะคิดล่ะว่าหลังกล้องแทยงจะร้องไห้อ่ะ 😭 *จับกอด* https://t.co/kKxKIVCwwS\n",
      "/18/ @seoul_watch ㅓ헉... 많이 드시시 ㅈ말구,,,, ,,,,,ㅠㅠㅠㅠ\n",
      "/19/ RT @bibiilol: เจอญี่ปุ่นแนบรูปเยซองกอดคอเตนล์ บอกให้เตนล์จังหนี อย่าไปอยู่กับลุงแปลกนี่ จอห์นนี่ ฮันซลไม่อยู่ หนีไปอยู่กับแทอิล 55555555555…\n"
     ]
    }
   ],
   "source": [
    "import urllib2\n",
    "url = url1\n",
    "params[\"q\"] = \"seoul\"\n",
    "params[\"count\"] = 20\n",
    "req = oauth.Request(method=\"GET\", url=url, parameters=params)\n",
    "signature_method = oauth.SignatureMethod_HMAC_SHA1()\n",
    "req.sign_request(signature_method, consumer, token)\n",
    "headers = req.to_header()\n",
    "url = req.to_url()\n",
    "response = urllib2.Request(url)\n",
    "data = json.load(urllib2.urlopen(response))\n",
    "#print data['statuses']\n",
    "#print type(data)\n",
    "\n",
    "print data['statuses'][0]['text']\n",
    "print data['statuses'][0]['id']\n",
    "\n",
    "for i,item in enumerate(data['statuses']):\n",
    "    print \"/%d/ %s\" % (i, item['text'])"
   ]
  },
  {
   "cell_type": "markdown",
   "metadata": {
    "slideshow": {
     "slide_type": "slide"
    }
   },
   "source": [
    "## T-9: WordCloud\n",
    "\n",
    "* font path\n",
    "/etc/fonts/fonts.conf\n",
    "vim /etc/fonts/conf.d/README\n",
    "* 파일에서 읽어올 수 있다.\n",
    "\n",
    "https://github.com/amueller/word_cloud\n",
    "\n",
    "sudo pip install wordcloud\n",
    "\n",
    "conda install -c https://conda.anaconda.org/amueller wordcloud"
   ]
  },
  {
   "cell_type": "code",
   "execution_count": 19,
   "metadata": {
    "collapsed": false,
    "slideshow": {
     "slide_type": "subslide"
    }
   },
   "outputs": [],
   "source": [
    "from os import path\n",
    "from wordcloud import WordCloud\n",
    "\n",
    "#d = path.dirname(__file__)\n",
    "\n",
    "# Read the whole text.\n",
    "#text = open(path.join(d, 'constitution.txt')).read()\n",
    "\n",
    "text=\"Hello this is a sample\"\n",
    "#text=u\"안녕하세요 this 샘플\"\n",
    "# Generate a word cloud image\n",
    "wordcloud = WordCloud().generate(text)"
   ]
  },
  {
   "cell_type": "code",
   "execution_count": 20,
   "metadata": {
    "collapsed": false,
    "slideshow": {
     "slide_type": "subslide"
    }
   },
   "outputs": [
    {
     "data": {
      "image/png": "[encoded data removed]",
      "text/plain": [
       "<matplotlib.figure.Figure at 0x7fb51da1ec50>"
      ]
     },
     "metadata": {},
     "output_type": "display_data"
    }
   ],
   "source": [
    "# Display the generated image:\n",
    "# the matplotlib way:\n",
    "import matplotlib.pyplot as plt\n",
    "plt.imshow(wordcloud)\n",
    "plt.axis(\"off\")\n",
    "plt.show()"
   ]
  },
  {
   "cell_type": "code",
   "execution_count": 21,
   "metadata": {
    "collapsed": false,
    "slideshow": {
     "slide_type": "subslide"
    }
   },
   "outputs": [
    {
     "data": {
      "image/png": "[encoded data removed]",
      "text/plain": [
       "<matplotlib.figure.Figure at 0x7fb51dc21290>"
      ]
     },
     "metadata": {},
     "output_type": "display_data"
    }
   ],
   "source": [
    "# take relative word frequencies into account, lower max_font_size\n",
    "wordcloud = WordCloud(max_font_size=40, relative_scaling=.5).generate(text)\n",
    "plt.figure()\n",
    "plt.imshow(wordcloud)\n",
    "plt.axis(\"off\")\n",
    "plt.show()"
   ]
  },
  {
   "cell_type": "markdown",
   "metadata": {},
   "source": [
    "## 더해보기\n",
    "\n",
    "### Facebook\n",
    "\n",
    "* Graph API\n",
    "    * Access Token을 받아서, api를 테스트할 수 있는 사이트\n",
    "    * https://developers.facebook.com/tools/explorer/ \n"
   ]
  },
  {
   "cell_type": "code",
   "execution_count": 1,
   "metadata": {
    "collapsed": true,
    "slideshow": {
     "slide_type": "subslide"
    }
   },
   "outputs": [],
   "source": [
    "ACCESS_TOKEN=\"145728022146900|9QR40z4vC0rWcrEr2Pye8N8F-cQ\""
   ]
  },
  {
   "cell_type": "code",
   "execution_count": 2,
   "metadata": {
    "collapsed": false,
    "scrolled": true,
    "slideshow": {
     "slide_type": "subslide"
    }
   },
   "outputs": [
    {
     "name": "stdout",
     "output_type": "stream",
     "text": [
      "{u'error': {u'message': u'An active access token must be used to query information about the current user.', u'code': 2500, u'type': u'OAuthException', u'fbtrace_id': u'HT2IV4CYP9j'}}\n"
     ]
    }
   ],
   "source": [
    "import requests\n",
    "import json\n",
    "\n",
    "base_url = 'https://graph.facebook.com/me'\n",
    "\n",
    "# Get 10 likes for 10 friends\n",
    "fields = 'id,name,friends.limit(10).fields(likes.limit(10))'\n",
    "\n",
    "url = '%s?fields=%s&access_token=%s' % \\\n",
    "    (base_url, fields, ACCESS_TOKEN,)\n",
    "\n",
    "content = requests.get(url).json()\n",
    "print content"
   ]
  },
  {
   "cell_type": "markdown",
   "metadata": {
    "slideshow": {
     "slide_type": "subslide"
    }
   },
   "source": [
    "* Post\n",
    "    * http://nodotcom.org/python-facebook-tutorial.html"
   ]
  },
  {
   "cell_type": "markdown",
   "metadata": {
    "slideshow": {
     "slide_type": "subslide"
    }
   },
   "source": [
    "## Meetup\n"
   ]
  },
  {
   "cell_type": "code",
   "execution_count": 4,
   "metadata": {
    "collapsed": false,
    "slideshow": {
     "slide_type": "subslide"
    }
   },
   "outputs": [
    {
     "name": "stdout",
     "output_type": "stream",
     "text": [
      "{\"results\":[{\"utc_offset\":-36000000,\"venue\":{\"country\":\"US\",\"localized_country_name\":\"USA\",\"city\":\"Honolulu\",\"address_1\":\"1138 Fort Street Mall\",\"name\":\"Rain Restaurant \",\"lon\":-157.86047,\"id\":25127447,\"lat\":21.31039,\"repinned\":false},\"rsvp_limit\":5,\"headcount\":0,\"visibility\":\"public\",\"waitlist_count\":0,\"created\":1490287987000,\"maybe_rsvp_count\":0,\"description\":\"<p>This will be my 1st time trying it, but great reviews on it<\\/p> <p>Rain is downtown’s new destination for style and sustenance. Boasting an inspired shared-plate menu and nationally recognized drink program, the restaurant features classic American fare, refined by global flavors and served small-plate style. Rain delivers a meticulously curated boutique bistro menu.<\\/p> <p>Rain’s robust drink program offers signature martinis, hand-crafted from house-made cellos. Unique cocktails are highlighted with custom-made ice, and copper mugs with ginger beer are created with premium specialty liquors.<\\/p> <p>A dynamic dining expe\n"
     ]
    }
   ],
   "source": [
    "# %load _meetup.py\n",
    "# ref: https://rosettacode.org/wiki/Using_the_Meetup.com_API\n",
    "import requests\n",
    "import json\n",
    "\n",
    "params={'city':'seoul','key':'383b2f3a196157f3d40195b5e2a6b73','topic':'photo'}\n",
    "url_path='https://api.meetup.com'+'/2/open_events'\n",
    "r=requests.get(url_path,params=params)\n",
    "print r.text[:1000]\n",
    "\n"
   ]
  }
 ],
 "metadata": {
  "celltoolbar": "Slideshow",
  "kernelspec": {
   "display_name": "Python 2",
   "language": "python",
   "name": "python2"
  },
  "language_info": {
   "codemirror_mode": {
    "name": "ipython",
    "version": 2
   },
   "file_extension": ".py",
   "mimetype": "text/x-python",
   "name": "python",
   "nbconvert_exporter": "python",
   "pygments_lexer": "ipython2",
   "version": "2.7.12"
  }
 },
 "nbformat": 4,
 "nbformat_minor": 0
}

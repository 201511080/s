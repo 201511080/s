{
 "cells": [
  {
   "cell_type": "markdown",
   "id": "d376f066",
   "metadata": {},
   "source": [
    "# 주의\n",
    "시험일시:\n",
    "\n",
    "- 2021년 10월 23일 토요일 19:00~22:00\n",
    "\n",
    "- 문제는 당일 19:00에 eCampus에 탑재.\n",
    "\n",
    "- 답안은 당일 22:00까지 eCapmus에 탑재.\n",
    "\n",
    "시험비율: 30% (상황에 따라 변동 가능)\n",
    "\n",
    "시험범위: 7주차까지 범위\n",
    "\n",
    "시험방법: 과제 대체\n",
    "\n",
    "- 주피터노트북으로 답안 작성하고 ipynb 파일 1본을 (코드+결과 반드시 포함) eCampus에 탑재 (zip하지 않음)\n",
    "\n",
    "- 당일 19:00 문제를 수령하고 거의 즉시 (5분 내) gitter에 '201711111 문제 수령 및 시험 시작' 메시지를 남김.\n",
    "\n",
    "(남지지 않으면 결석 처리)\n",
    "\n",
    "- 시험 시작 처음 30분 동안 gitter로 질문할 수 있음 (집중시험을 위해 그 후 질문 받지 않음, 꼭 필요한 질문 예외)\n",
    "\n",
    "- 자유롭게 시험을 치루고, 마감 시한까지 eCampus에 답안 탑재. gitter에 메시지 남길 필요 없습니다.\n",
    "\n",
    "시험답안:\n",
    "\n",
    "- 주피터노트북 첫 칸에 학번, 이름 기재.\n",
    "\n",
    "- 답을 적을 때는 '문제1-1의 답' 이라고 헤딩을 적음 (못 풀었으면 '풀지 못함' 이라고 적음)\n",
    "\n",
    "- 소스코드 + 실행 결과가 출력되어야 함. 간혹 코드만 있거나 실행결과만 있는 경우 채점이 불가능함.\n",
    "\n",
    "- 인터넷 자료, 타인의 코드 또는 도움을 받지 않음 (위반시 학교규칙에 따라 처리)\n",
    "\n",
    "끝"
   ]
  },
  {
   "cell_type": "markdown",
   "id": "8f4d8dd8",
   "metadata": {},
   "source": [
    "# 201511080 강주영"
   ]
  },
  {
   "cell_type": "markdown",
   "id": "865b79af",
   "metadata": {},
   "source": [
    "# 문제 1: 열린데이터 수집\n",
    "\n",
    "서울시 열린데이터에서 검색을 하면 '서울시 우리마을가게 상권분석서비스(상권-아파트)'가 있다.\n",
    "\n",
    "(https://data.seoul.go.kr/dataList/OA-15566/S/1/datasetView.do?tab=A)\n",
    "\n",
    "OpenAPI를 통해서 2021년 최근 100개 데이터를 JSON 형식으로 수집하자.\n",
    "\n",
    "1) 프로그램으로 url을 만들어 출력. 그 url을 클릭하면 데이터가 출력 되어야 한다.\n",
    "\n",
    "2) 전체 데이터 중 1건만 출력.\n",
    "\n",
    "3) 다음 항목을 100개 정렬해서 출력.\n",
    "\n",
    "\tTRDAR_SE_CD_NM\t상권_구분_코드_명\n",
    "\n",
    "\tAPT_HSMP_CO\t아파트_단지_수\n",
    "\n",
    "\tPC_6_HDMIL_ABOVE_HSHLD_CO\t아파트_가격_6_억_이상_세대_수\n",
    "\n",
    "\tAVRG_MKTC\t아파트_평균_시가\n",
    "\n",
    "\tTRDAR_CD_NM\t상권_코드_명\n",
    "\n",
    "정렬한 출력예시:\n",
    "\n",
    "```\n",
    "\n",
    "골목상권\t5.0\t0.0\t150247619.0\t동남로82길\n",
    "\n",
    "발달상권\t3.0\t0.0\t161157476.0\t당산역_2\n",
    "\n",
    "발달상권\t1.0\t0.0\t81750000.0\t서울 성북구 안암역\n",
    "\n",
    "```"
   ]
  },
  {
   "cell_type": "markdown",
   "id": "586e3d06",
   "metadata": {},
   "source": [
    "## 문제 1-1의 답"
   ]
  },
  {
   "cell_type": "code",
   "execution_count": 1,
   "id": "45a4629f",
   "metadata": {},
   "outputs": [
    {
     "name": "stdout",
     "output_type": "stream",
     "text": [
      "http://openapi.seoul.go.kr:8088/7667514664616a7838317142507a51/json/InfoTrdarAptQq/1/100/2017\n"
     ]
    }
   ],
   "source": [
    "import urllib.parse\n",
    "import os\n",
    "\n",
    "API_URL = \"http://openapi.seoul.go.kr:8088/\"\n",
    "API_KEY = \"7667514664616a7838317142507a51\"\n",
    "\n",
    "KEY=\"7667514664616a7838317142507a51\"\n",
    "TYPE='json'\n",
    "SERVICE='InfoTrdarAptQq'\n",
    "START_INDEX=str(1)\n",
    "END_INDEX=str(100)\n",
    "STDR_YM_CD=str(2017)\n",
    "params=os.path.join(KEY,TYPE,SERVICE,START_INDEX,END_INDEX,STDR_YM_CD)\n",
    "\n",
    "request_url = urllib.parse.urljoin(API_URL,params)\n",
    "print(request_url)"
   ]
  },
  {
   "cell_type": "markdown",
   "id": "8c611b9c",
   "metadata": {},
   "source": [
    "## 문제 1-2의 답"
   ]
  },
  {
   "cell_type": "code",
   "execution_count": 2,
   "id": "0b0e2a91",
   "metadata": {
    "scrolled": true
   },
   "outputs": [],
   "source": [
    "import requests\n",
    "\n",
    "response = requests.get(request_url)\n",
    "\n",
    "resultDataJSON=response.json()\n",
    "shopList = resultDataJSON['InfoTrdarAptQq']['row']"
   ]
  },
  {
   "cell_type": "code",
   "execution_count": 3,
   "id": "aa36dc4a",
   "metadata": {},
   "outputs": [
    {
     "data": {
      "text/plain": [
       "[{'STDR_YY_CD': '2017',\n",
       "  'TRDAR_SE_CD': 'A',\n",
       "  'TRDAR_SE_CD_NM': '골목상권',\n",
       "  'APT_HSMP_CO': 27.0,\n",
       "  'AE_66_SQMT_BELO_HSHLD_CO': 115.0,\n",
       "  'AE_66_SQMT_HSHLD_CO': 28.0,\n",
       "  'AE_99_SQMT_HSHLD_CO': 15.0,\n",
       "  'AE_132_SQMT_HSHLD_CO': 7.0,\n",
       "  'AE_165_SQMT_HSHLD_CO': 15.0,\n",
       "  'PC_1_HDMIL_BELO_HSHLD_CO': 35.0,\n",
       "  'PC_1_HDMIL_HSHLD_CO': 86.0,\n",
       "  'PC_2_HDMIL_HSHLD_CO': 21.0,\n",
       "  'PC_3_HDMIL_HSHLD_CO': 10.0,\n",
       "  'PC_4_HDMIL_HSHLD_CO': 6.0,\n",
       "  'PC_5_HDMIL_HSHLD_CO': 7.0,\n",
       "  'PC_6_HDMIL_ABOVE_HSHLD_CO': 15.0,\n",
       "  'AVRG_AE': 69.0,\n",
       "  'AVRG_MKTC': 213084605.0,\n",
       "  'STDR_QU_CD': '1',\n",
       "  'TRDAR_CD': '1000001',\n",
       "  'TRDAR_CD_NM': '계동길'}]"
      ]
     },
     "execution_count": 3,
     "metadata": {},
     "output_type": "execute_result"
    }
   ],
   "source": [
    "import pyspark;\n",
    "\n",
    "sparkConfig = pyspark.SparkConf()\n",
    "spark = pyspark.sql.SparkSession\\\n",
    "    .builder\\\n",
    "    .master(\"local\")\\\n",
    "    .appName(\"myApp\")\\\n",
    "    .config(conf=sparkConfig)\\\n",
    "    .getOrCreate()\n",
    "\n",
    "shopRdd=spark.sparkContext.parallelize(shopList)\n",
    "\n",
    "shopRdd.take(1)"
   ]
  },
  {
   "cell_type": "markdown",
   "id": "7954d6dd",
   "metadata": {},
   "source": [
    "## 문제 1-3의 답"
   ]
  },
  {
   "cell_type": "code",
   "execution_count": 4,
   "id": "972f84d9",
   "metadata": {},
   "outputs": [
    {
     "name": "stdout",
     "output_type": "stream",
     "text": [
      "골목상권 148.0 0.0 111780753.0 동호로11길\n",
      "골목상권 124.0 0.0 187656495.0 청파로71길\n",
      "골목상권 119.0 4.0 255117553.0 후암로28길\n",
      "골목상권 112.0 4.0 155983878.0 신흥로20길\n",
      "골목상권 99.0 0.0 150307125.0 옥인길\n",
      "골목상권 91.0 11.0 216778411.0 백범로79길\n",
      "골목상권 87.0 0.0 107158730.0 창신길\n",
      "골목상권 84.0 0.0 112274547.0 종로65길\n",
      "골목상권 82.0 0.0 197220312.0 효창원로39길\n",
      "골목상권 81.0 0.0 188610780.0 청파로47나길\n",
      "골목상권 72.0 4.0 367774515.0 서빙고로71길\n",
      "골목상권 69.0 0.0 161041418.0 금호산길\n",
      "골목상권 61.0 0.0 160087851.0 고산자로6길\n",
      "골목상권 58.0 0.0 203433145.0 청파로73길\n",
      "골목상권 50.0 0.0 91525333.0 통일로12길\n",
      "골목상권 49.0 2.0 276979389.0 이촌로22길\n",
      "골목상권 48.0 21.0 362932679.0 우사단로10길\n",
      "골목상권 42.0 0.0 179327855.0 소월로20길\n",
      "골목상권 41.0 6.0 185866589.0 동호로15길\n",
      "골목상권 40.0 0.0 92740830.0 명륜길\n",
      "골목상권 40.0 0.0 194920635.0 백석동길\n",
      "골목상권 40.0 43.0 268502757.0 동호로20길\n",
      "골목상권 38.0 0.0 268455531.0 두텁바위로1길\n",
      "골목상권 36.0 0.0 150639395.0 금호산2길\n",
      "골목상권 35.0 4.0 316030238.0 대사관로34길\n",
      "골목상권 33.0 0.0 315682453.0 장문로45길\n",
      "골목상권 32.0 0.0 187181615.0 청구로17길\n",
      "골목상권 30.0 21.0 357900379.0 이태원로54길\n",
      "골목상권 27.0 15.0 213084605.0 계동길\n",
      "골목상권 27.0 0.0 132853926.0 다산로33길\n",
      "골목상권 26.0 0.0 138329360.0 마조로1길\n",
      "골목상권 25.0 238.0 295342416.0 한강대로104길\n",
      "골목상권 24.0 0.0 163388710.0 동호로10길\n",
      "골목상권 24.0 0.0 151448988.0 퇴계로90길\n",
      "골목상권 23.0 0.0 333770812.0 둘레9길\n",
      "골목상권 22.0 1.0 166303180.0 장충단로8길\n",
      "골목상권 22.0 1.0 279605177.0 녹사평대로46길\n",
      "골목상권 22.0 0.0 268497980.0 우사단로4길\n",
      "골목상권 22.0 0.0 222450506.0 원효로19길\n",
      "골목상권 22.0 40.0 313629068.0 회나무로13길\n",
      "골목상권 20.0 0.0 203016883.0 마조로16길\n",
      "골목상권 19.0 0.0 132541388.0 이화장길\n",
      "골목상권 19.0 31.0 287739228.0 평창길\n",
      "골목상권 19.0 0.0 93375047.0 사근동길\n",
      "골목상권 18.0 0.0 137712630.0 동호로8길\n",
      "골목상권 18.0 0.0 181414834.0 무수막길\n",
      "골목상권 17.0 0.0 124901074.0 숭인동길\n",
      "골목상권 17.0 0.0 96497386.0 창신2길\n",
      "골목상권 16.0 0.0 248255952.0 원효로41길\n",
      "골목상권 15.0 14.0 387533129.0 우사단로14길\n",
      "골목상권 15.0 0.0 214371785.0 원효로53길\n",
      "골목상권 14.0 0.0 198986143.0 필운대로1길\n",
      "골목상권 13.0 20.0 291896474.0 난계로11길\n",
      "골목상권 13.0 0.0 190723812.0 퇴계로8길\n",
      "골목상권 13.0 89.0 263590690.0 뚝섬로5길\n",
      "골목상권 12.0 0.0 172155456.0 지봉로8길\n",
      "골목상권 12.0 0.0 355886024.0 서울숲2길\n",
      "골목상권 11.0 0.0 124603581.0 성균관로5길\n",
      "골목상권 11.0 18.0 447487607.0 이태원로27길\n",
      "골목상권 11.0 0.0 147798341.0 청파로47길\n",
      "골목상권 11.0 0.0 273779365.0 한강대로52길\n",
      "골목상권 10.0 0.0 214033630.0 다산로38길\n",
      "골목상권 10.0 0.0 134970541.0 청구로1길\n",
      "골목상권 10.0 0.0 359515007.0 녹사평대로26길\n",
      "골목상권 10.0 0.0 128734458.0 마장로27길\n",
      "골목상권 9.0 0.0 222684656.0 자하문로7길\n",
      "골목상권 9.0 0.0 141952411.0 다산로36길\n",
      "골목상권 9.0 118.0 427188184.0 백범로90길\n",
      "골목상권 9.0 0.0 189948192.0 원효로89길\n",
      "골목상권 8.0 0.0 124900715.0 창경궁로35길\n",
      "골목상권 8.0 0.0 90983333.0 창신5길\n",
      "골목상권 8.0 0.0 356054266.0 녹사평대로32길\n",
      "골목상권 7.0 0.0 143884496.0 퇴계로12길\n",
      "골목상권 7.0 0.0 105979692.0 퇴계로46길\n",
      "골목상권 7.0 12.0 434193750.0 녹사평대로40나길\n",
      "골목상권 7.0 0.0 252652381.0 한강대로15길\n",
      "골목상권 7.0 0.0 329829167.0 한강대로62길\n",
      "골목상권 7.0 58.0 263909840.0 한남대로20길\n",
      "골목상권 7.0 0.0 138689493.0 무학로6길\n",
      "골목상권 7.0 0.0 238834211.0 무학봉길\n",
      "골목상권 6.0 0.0 135036111.0 퇴계로56길\n",
      "골목상권 6.0 0.0 328920918.0 한강대로7길\n",
      "골목상권 6.0 0.0 250570601.0 마장로39길\n",
      "골목상권 6.0 0.0 317205481.0 매봉길\n",
      "골목상권 6.0 0.0 203916399.0 상원12길\n",
      "골목상권 6.0 0.0 171932239.0 상원길\n",
      "골목상권 5.0 0.0 89651569.0 난계로27길\n",
      "골목상권 5.0 0.0 136967555.0 돈화문로11가길\n",
      "골목상권 5.0 6.0 370478571.0 북촌로5나길\n",
      "골목상권 5.0 0.0 125353333.0 난계로21길\n",
      "골목상권 4.0 0.0 154104167.0 퇴계로18길\n",
      "골목상권 4.0 0.0 196766667.0 녹사평대로11길\n",
      "골목상권 4.0 47.0 460190029.0 한강대로43길\n",
      "골목상권 4.0 0.0 123445971.0 무학봉28길\n",
      "골목상권 3.0 0.0 182436508.0 북촌로11길\n",
      "골목상권 3.0 0.0 78480454.0 종로58가길\n",
      "골목상권 2.0 0.0 385607143.0 북촌로5길\n",
      "골목상권 2.0 0.0 158930556.0 다산로39길\n",
      "골목상권 1.0 0.0 500000000.0 삼청로5길\n",
      "골목상권 1.0 0.0 120588235.0 율곡로16길\n"
     ]
    }
   ],
   "source": [
    "from pyspark.sql.types import StructType, StructField\n",
    "from pyspark.sql.types import StringType, DoubleType\n",
    "from pyspark.sql import functions as F\n",
    "\n",
    "schema=StructType([\n",
    "    StructField(\"상권_구분_코드_명\", StringType(), True),\n",
    "    StructField(\"아파트_단지_수\", DoubleType(), True),\n",
    "    StructField(\"아파트_가격_6_억_이상_세대_수\", DoubleType(), True),\n",
    "    StructField(\"아파트_평균_시가\", DoubleType(), True),\n",
    "    StructField(\"상권_코드_명\", StringType(), True),\n",
    "])\n",
    "\n",
    "filtredShopRdd = shopRdd\\\n",
    "    .map(lambda x: (x['TRDAR_SE_CD_NM'], x['APT_HSMP_CO'], x['PC_6_HDMIL_ABOVE_HSHLD_CO'], x['AVRG_MKTC'], x['TRDAR_CD_NM']))\\\n",
    "\n",
    "shopDF=spark.createDataFrame(filtredShopRdd, schema=schema)\n",
    "\n",
    "results = shopDF.sort(F.desc(\"아파트_단지_수\")).collect()\n",
    "\n",
    "for r in results:\n",
    "    print(f\"{r['상권_구분_코드_명']} {r['아파트_단지_수']} {r['아파트_가격_6_억_이상_세대_수']} {r['아파트_평균_시가']} {r['상권_코드_명']}\")"
   ]
  },
  {
   "cell_type": "markdown",
   "id": "6544b46a",
   "metadata": {},
   "source": [
    "# 문제 2: RDD를 사용해서 단어빈도 계산\n",
    "\n",
    "다음은 일부 수정된 노래가사이다.\n",
    "\n",
    "yesterday=[\n",
    "\n",
    "    [\"Yesterday 어제는\"],\n",
    "\n",
    "    [\"All my troubles seemed to far away 내 모든 문제들이 참 멀리 있는 것 같았는데\"],\n",
    "\n",
    "    [\"Now it looks as though they're here to stay 이제는 그 모든 문제들이 여기에 있는 것처럼 보여\"],\n",
    "\n",
    "    [\"Oh, I believe in yesterday 오, 어제가 좋았는데\"],\n",
    "\n",
    "    [\"Suddenly 갑자기 그-림-자-가 2021 그-림-자-가 2021\"],\n",
    "\n",
    "    [\"I'm not half the man I used to be 난 예전 내 모습의 반도 못한 사람이 되어버렸어\"],\n",
    "\n",
    "    [\"There's a shadow hanging over me 내 위에 그림자가 드리워져 있네\"],\n",
    "\n",
    "    [\"Oh!, yesterday came suddenly 오!, 이제는 너무 갑자기 와버렸어..\"],\n",
    "\n",
    "]\n",
    "1) 단어빈도를 계산해서 출력\n",
    "\n",
    "출력 예시: [('Yesterday', 1),('어제는', 1),('All', 1),('my', 1),...]\n",
    "\n",
    "2) 빈도순으로 출력, 빈도 1이하는 제외.\n",
    "\n",
    "3) 소문자, 하이픈, 느낌표, 숫자를 제외하고 단어빈도 계산해서 출력 (빈도 1이하는 제외)\n",
    "\n",
    "* 소문자: 'Yesterday', 'yesterday'를 동일한 단어로 계산\n",
    "\n",
    "* 하이픈: '그림자가', '그-림-자-가'를 동일한 단어로 계산\n",
    "\n",
    "* 느낌표: 'oh', 'oh!'를 동일한 단어로 계산\n",
    "\n",
    "* 숫자: '2021'는 제외하고 계산\n",
    "\n",
    "4) 1글자 단어 (예를 들어 'i', '내') 제외하고 단어빈도 계산 (빈도 1이하는 제외)\n"
   ]
  },
  {
   "cell_type": "markdown",
   "id": "1e13b53d",
   "metadata": {},
   "source": [
    "## 문제 2-1의 답"
   ]
  },
  {
   "cell_type": "code",
   "execution_count": 5,
   "id": "0cf1d0e4",
   "metadata": {},
   "outputs": [],
   "source": [
    "yesterday=[\n",
    "    [\"Yesterday 어제는\"],\n",
    "    [\"All my troubles seemed to far away 내 모든 문제들이 참 멀리 있는 것 같았는데\"],\n",
    "    [\"Now it looks as though they're here to stay 이제는 그 모든 문제들이 여기에 있는 것처럼 보여\"],\n",
    "    [\"Oh, I believe in yesterday 오, 어제가 좋았는데\"],\n",
    "    [\"Suddenly 갑자기 그-림-자-가 2021 그-림-자-가 2021\"],\n",
    "    [\"I'm not half the man I used to be 난 예전 내 모습의 반도 못한 사람이 되어버렸어\"],\n",
    "    [\"There's a shadow hanging over me 내 위에 그림자가 드리워져 있네\"],\n",
    "    [\"Oh!, yesterday came suddenly 오!, 이제는 너무 갑자기 와버렸어..\"],\n",
    "]\n",
    "\n",
    "yesterdayRdd = spark.sparkContext.parallelize(yesterday)"
   ]
  },
  {
   "cell_type": "code",
   "execution_count": 6,
   "id": "f59346a7",
   "metadata": {},
   "outputs": [
    {
     "data": {
      "text/plain": [
       "[('참', 1),\n",
       " ('좋았는데', 1),\n",
       " ('있는', 2),\n",
       " ('있네', 1),\n",
       " ('이제는', 2),\n",
       " ('위에', 1),\n",
       " ('와버렸어..', 1),\n",
       " ('오,', 1),\n",
       " ('오!,', 1),\n",
       " ('예전', 1),\n",
       " ('여기에', 1),\n",
       " ('어제는', 1),\n",
       " ('어제가', 1),\n",
       " ('사람이', 1),\n",
       " ('보여', 1),\n",
       " ('반도', 1),\n",
       " ('문제들이', 2),\n",
       " ('못한', 1),\n",
       " ('모습의', 1),\n",
       " ('모든', 2),\n",
       " ('멀리', 1),\n",
       " ('드리워져', 1),\n",
       " ('되어버렸어', 1),\n",
       " ('너무', 1),\n",
       " ('내', 3),\n",
       " ('난', 1),\n",
       " ('그림자가', 1),\n",
       " ('그-림-자-가', 2),\n",
       " ('그', 1),\n",
       " ('것처럼', 1),\n",
       " ('것', 1),\n",
       " ('같았는데', 1),\n",
       " ('갑자기', 2),\n",
       " ('yesterday', 2),\n",
       " ('used', 1),\n",
       " ('troubles', 1),\n",
       " ('to', 3),\n",
       " ('though', 1),\n",
       " (\"they're\", 1),\n",
       " ('the', 1),\n",
       " ('suddenly', 1),\n",
       " ('stay', 1),\n",
       " ('shadow', 1),\n",
       " ('seemed', 1),\n",
       " ('over', 1),\n",
       " ('not', 1),\n",
       " ('my', 1),\n",
       " ('me', 1),\n",
       " ('man', 1),\n",
       " ('looks', 1),\n",
       " ('it', 1),\n",
       " ('in', 1),\n",
       " ('here', 1),\n",
       " ('hanging', 1),\n",
       " ('half', 1),\n",
       " ('far', 1),\n",
       " ('came', 1),\n",
       " ('believe', 1),\n",
       " ('be', 1),\n",
       " ('away', 1),\n",
       " ('as', 1),\n",
       " ('a', 1),\n",
       " ('Yesterday', 1),\n",
       " (\"There's\", 1),\n",
       " ('Suddenly', 1),\n",
       " ('Oh,', 1),\n",
       " ('Oh!,', 1),\n",
       " ('Now', 1),\n",
       " (\"I'm\", 1),\n",
       " ('I', 2),\n",
       " ('All', 1),\n",
       " ('2021', 2)]"
      ]
     },
     "execution_count": 6,
     "metadata": {},
     "output_type": "execute_result"
    }
   ],
   "source": [
    "wordCount = yesterdayRdd.flatMap(lambda x: x)\\\n",
    "    .flatMap(lambda x: x.split(\" \"))\\\n",
    "    .map(lambda x: (x, 1))\\\n",
    "    .reduceByKey(lambda x, y: x+y)\\\n",
    "    .map(lambda x:(x[0],x[1]))\\\n",
    "    .sortByKey(False)\\\n",
    "\n",
    "wordCount.collect()"
   ]
  },
  {
   "cell_type": "markdown",
   "id": "cb1fe5f6",
   "metadata": {},
   "source": [
    "## 문제 2-2의 답"
   ]
  },
  {
   "cell_type": "code",
   "execution_count": 7,
   "id": "c046d465",
   "metadata": {},
   "outputs": [
    {
     "data": {
      "text/plain": [
       "[(3, '내'),\n",
       " (3, 'to'),\n",
       " (2, '있는'),\n",
       " (2, '이제는'),\n",
       " (2, '문제들이'),\n",
       " (2, '모든'),\n",
       " (2, '그-림-자-가'),\n",
       " (2, '갑자기'),\n",
       " (2, 'yesterday'),\n",
       " (2, 'I'),\n",
       " (2, '2021')]"
      ]
     },
     "execution_count": 7,
     "metadata": {},
     "output_type": "execute_result"
    }
   ],
   "source": [
    "sortedWordCount = wordCount\\\n",
    "    .filter(lambda x: x[1] > 1)\\\n",
    "    .map(lambda x: (x[1], x[0]))\\\n",
    "    .sortByKey(False)\n",
    "sortedWordCount.collect()"
   ]
  },
  {
   "cell_type": "markdown",
   "id": "a1ecef2f",
   "metadata": {},
   "source": [
    "## 문제 2-3의 답\n",
    "3) 소문자, 하이픈, 느낌표, 숫자를 제외하고 단어빈도 계산해서 출력 (빈도 1이하는 제외)\n",
    "\n",
    "소문자: 'Yesterday', 'yesterday'를 동일한 단어로 계산\n",
    "\n",
    "하이픈: '그림자가', '그-림-자-가'를 동일한 단어로 계산\n",
    "\n",
    "느낌표: 'oh', 'oh!'를 동일한 단어로 계산\n",
    "\n",
    "숫자: '2021'는 제외하고 계산"
   ]
  },
  {
   "cell_type": "code",
   "execution_count": 8,
   "id": "8f5c1359",
   "metadata": {},
   "outputs": [
    {
     "data": {
      "text/plain": [
       "[(3, 'yesterday'),\n",
       " (3, 'to'),\n",
       " (3, '내'),\n",
       " (3, '그림자가'),\n",
       " (2, '모든'),\n",
       " (2, '문제들이'),\n",
       " (2, '있는'),\n",
       " (2, '이제는'),\n",
       " (2, 'oh,'),\n",
       " (2, 'i'),\n",
       " (2, '오,'),\n",
       " (2, 'suddenly'),\n",
       " (2, '갑자기')]"
      ]
     },
     "execution_count": 8,
     "metadata": {},
     "output_type": "execute_result"
    }
   ],
   "source": [
    "filtred_sorted_word_count = yesterdayRdd.flatMap(lambda x: x)\\\n",
    "    .flatMap(lambda x: x.split(\" \"))\\\n",
    "    .map(lambda x: x.lower())\\\n",
    "    .map(lambda x: x.replace('-', ''))\\\n",
    "    .map(lambda x: x.replace('!', ''))\\\n",
    "    .filter(lambda x: x != '2021')\\\n",
    "    .map(lambda x: (x, 1))\\\n",
    "    .reduceByKey(lambda x, y: x+y)\\\n",
    "    .map(lambda x:(x[0],x[1]))\\\n",
    "    .filter(lambda x: x[1] > 1)\\\n",
    "    .map(lambda x: (x[1], x[0]))\\\n",
    "    .sortByKey(False)\n",
    "\n",
    "filtred_sorted_word_count.collect()"
   ]
  },
  {
   "cell_type": "markdown",
   "id": "e25e66ef",
   "metadata": {},
   "source": [
    "## 문제 2-4의 답\n",
    "4) 1글자 단어 (예를 들어 'i', '내') 제외하고 단어빈도 계산 (빈도 1이하는 제외)"
   ]
  },
  {
   "cell_type": "code",
   "execution_count": 9,
   "id": "d2829f5b",
   "metadata": {},
   "outputs": [
    {
     "data": {
      "text/plain": [
       "[(3, 'to'),\n",
       " (2, '모든'),\n",
       " (2, '문제들이'),\n",
       " (2, '있는'),\n",
       " (2, '이제는'),\n",
       " (2, 'yesterday'),\n",
       " (2, '갑자기'),\n",
       " (2, '그-림-자-가'),\n",
       " (2, '2021')]"
      ]
     },
     "execution_count": 9,
     "metadata": {},
     "output_type": "execute_result"
    }
   ],
   "source": [
    "excepted_one_word_count = yesterdayRdd.flatMap(lambda x: x)\\\n",
    "    .flatMap(lambda x: x.split(\" \"))\\\n",
    "    .filter(lambda x: len(x) > 1)\\\n",
    "    .map(lambda x: (x, 1))\\\n",
    "    .reduceByKey(lambda x, y: x+y)\\\n",
    "    .map(lambda x:(x[0],x[1]))\\\n",
    "    .filter(lambda x: x[1] > 1)\\\n",
    "    .map(lambda x: (x[1], x[0]))\\\n",
    "    .sortByKey(False)\n",
    "\n",
    "excepted_one_word_count.collect()"
   ]
  },
  {
   "cell_type": "markdown",
   "id": "d26ceb7e",
   "metadata": {},
   "source": [
    "## 문제 3: DataFrame을 사용해서 코로나 발생동향 분석\n",
    "\n",
    "서울시 열린데이터에서 검색을 하면 '서울특별시 코로나19 자치구별 확진자 발생동향'이 있다.\n",
    "\n",
    "https://data.seoul.go.kr/dataList/OA-20470/S/1/datasetView.do\n",
    "\n",
    "데이터를 '내려받기'해서 '서울특별시\\ 코로나19\\ 자치구별\\ 확진자\\ 발생동향.json' 파일을 분석하세요.\n",
    "\n",
    "\n",
    "\n",
    "1) 전체 건수 출력. null 값을 제외한 null 건수 출력 (null이 남아있는지 확인하기 위해)\n",
    "\n",
    "2) (null제거하고) 종로, 마포, 용산, 합계 (종로, 마포, 용산) 10건 출력.\n",
    "\n",
    "+------+----+-------+------+\n",
    "\n",
    "|jongno|mapo|yongsan|   tot|\n",
    "\n",
    "+------+----+-------+------+\n",
    "\n",
    "|  1968|4127|   3031|9126.0|\n",
    "\n",
    "\n",
    "\n",
    "3) (null제거하고) 종로구의 2020년 3월 데이터 출력.\n",
    "\n",
    "+-------------+------+\n",
    "\n",
    "|       jcg_dt|jongno|\n",
    "\n",
    "+-------------+------+\n",
    "\n",
    "|2020.03.31.10|    13|\n",
    "\n",
    "...\n",
    "\n",
    "\n",
    "\n",
    "4) (null제거하고) 년 x 월별 합계 10건 출력.\n",
    "\n",
    "+-----+-------+-------+\n",
    "\n",
    "|month|   2020|   2021|\n",
    "\n",
    "+-----+-------+-------+\n",
    "\n",
    "|   07| 1273.0|62849.0|"
   ]
  },
  {
   "cell_type": "markdown",
   "id": "78b324f1",
   "metadata": {},
   "source": [
    "## 데이터 읽어오기 데이터를 '내려받기'해서 '서울특별시\\ 코로나19\\ 자치구별\\ 확진자\\ 발생동향.json' 파일을 분석하세요."
   ]
  },
  {
   "cell_type": "code",
   "execution_count": 10,
   "id": "181e9802",
   "metadata": {},
   "outputs": [
    {
     "name": "stdout",
     "output_type": "stream",
     "text": [
      "http://openapi.seoul.go.kr:8088/7667514664616a7838317142507a51/json/TbCorona19CountStatusJCG/1/1000\n"
     ]
    }
   ],
   "source": [
    "import urllib.parse\n",
    "\n",
    "API_URL = \"http://openapi.seoul.go.kr:8088/\"\n",
    "API_KEY = \"7667514664616a7838317142507a51\"\n",
    "\n",
    "KEY=\"7667514664616a7838317142507a51\"\n",
    "TYPE='json'\n",
    "SERVICE='TbCorona19CountStatusJCG'\n",
    "START_INDEX=str(1)\n",
    "END_INDEX=str(1000)\n",
    "# JCG_DT=str('2021.08.01.00')\n",
    "params=os.path.join(KEY,TYPE,SERVICE,START_INDEX,END_INDEX)\n",
    "\n",
    "request_url = urllib.parse.urljoin(API_URL,params)\n",
    "print(request_url)"
   ]
  },
  {
   "cell_type": "code",
   "execution_count": 11,
   "id": "1b525ebe",
   "metadata": {},
   "outputs": [],
   "source": [
    "import requests\n",
    "\n",
    "response = requests.get(request_url)\n",
    "\n",
    "resultDataJSON=response.json()\n",
    "area = resultDataJSON['TbCorona19CountStatusJCG']['row']\n",
    "\n",
    "areaDF = spark.createDataFrame(area)\n",
    "areaDF = areaDF.filter(areaDF.JCG_DT != \"20\")"
   ]
  },
  {
   "cell_type": "markdown",
   "id": "26a25c50",
   "metadata": {},
   "source": [
    "## 문제 3-1의 답\n",
    "\n",
    "1) 전체 건수 출력. null 값을 제외한 null 건수 출력 (null이 남아있는지 확인하기 위해)"
   ]
  },
  {
   "cell_type": "code",
   "execution_count": 12,
   "id": "0fdcb5ac",
   "metadata": {},
   "outputs": [
    {
     "data": {
      "text/plain": [
       "605"
      ]
     },
     "execution_count": 12,
     "metadata": {},
     "output_type": "execute_result"
    }
   ],
   "source": [
    "# 전체건수\n",
    "areaDF.count()"
   ]
  },
  {
   "cell_type": "code",
   "execution_count": 13,
   "id": "cb1d6fd1",
   "metadata": {},
   "outputs": [
    {
     "name": "stdout",
     "output_type": "stream",
     "text": [
      "+----------+-------------+-------------+----------------+--------------+-----------------+---------+------------+----------+-------------+--------------+-----------------+---------------+------------------+--------------+-----------------+--------------+-----------------+----------------+-------------------+-----------+--------------+-------------+----------------+---------------+------------------+-------------+-------------+----------------+-------------+----------------+---------------+------------------+-----------+--------------+------------+---------------+----------+-------------+-------------+----------------+---------------+------------------+----------------+-------------------+-------------+----------------+----------------+----------------+-------------------+----------+-------------+--------------+-----------------+\n",
      "|count(DDM)|count(DDMADD)|count(DOBONG)|count(DOBONGADD)|count(DONGJAK)|count(DONGJAKADD)|count(EP)|count(EPADD)|count(ETC)|count(ETCADD)|count(GANGBUK)|count(GANGBUKADD)|count(GANGDONG)|count(GANGDONGADD)|count(GANGNAM)|count(GANGNAMADD)|count(GANGSEO)|count(GANGSEOADD)|count(GEUMCHEON)|count(GEUMCHEONADD)|count(GURO)|count(GUROADD)|count(GWANAK)|count(GWANAKADD)|count(GWANGJIN)|count(GWANGJINADD)|count(JCG_DT)|count(JONGNO)|count(JONGNOADD)|count(JUNGGU)|count(JUNGGUADD)|count(JUNGNANG)|count(JUNGNANGADD)|count(MAPO)|count(MAPOADD)|count(NOWON)|count(NOWONADD)|count(SDM)|count(SDMADD)|count(SEOCHO)|count(SEOCHOADD)|count(SEONGBUK)|count(SEONGBUKADD)|count(SEONGDONG)|count(SEONGDONGADD)|count(SONGPA)|count(SONGPAADD)|count(WORK_DTTM)|count(YANGCHEON)|count(YANGCHEONADD)|count(YDP)|count(YDPADD)|count(YONGSAN)|count(YONGSANADD)|\n",
      "+----------+-------------+-------------+----------------+--------------+-----------------+---------+------------+----------+-------------+--------------+-----------------+---------------+------------------+--------------+-----------------+--------------+-----------------+----------------+-------------------+-----------+--------------+-------------+----------------+---------------+------------------+-------------+-------------+----------------+-------------+----------------+---------------+------------------+-----------+--------------+------------+---------------+----------+-------------+-------------+----------------+---------------+------------------+----------------+-------------------+-------------+----------------+----------------+----------------+-------------------+----------+-------------+--------------+-----------------+\n",
      "|       605|          605|          605|             605|           605|              605|      605|         605|       605|          605|           605|              605|            605|               605|           605|              605|           605|              605|             605|                605|        605|           605|          605|             605|            605|               605|          605|          605|             605|          605|             605|            605|               605|        605|           605|         605|            605|       605|          605|          605|             605|            605|               605|             605|                605|          605|             605|             605|             605|                605|       605|          605|           605|              605|\n",
      "+----------+-------------+-------------+----------------+--------------+-----------------+---------+------------+----------+-------------+--------------+-----------------+---------------+------------------+--------------+-----------------+--------------+-----------------+----------------+-------------------+-----------+--------------+-------------+----------------+---------------+------------------+-------------+-------------+----------------+-------------+----------------+---------------+------------------+-----------+--------------+------------+---------------+----------+-------------+-------------+----------------+---------------+------------------+----------------+-------------------+-------------+----------------+----------------+----------------+-------------------+----------+-------------+--------------+-----------------+\n",
      "\n"
     ]
    }
   ],
   "source": [
    "from pyspark.sql.functions import isnan, when, count, col\n",
    "# 전체건수\n",
    "areaDF.select([count(c) for c in areaDF.columns]).show()"
   ]
  },
  {
   "cell_type": "code",
   "execution_count": 14,
   "id": "12ee5811",
   "metadata": {},
   "outputs": [
    {
     "data": {
      "text/plain": [
       "605"
      ]
     },
     "execution_count": 14,
     "metadata": {},
     "output_type": "execute_result"
    }
   ],
   "source": [
    "# null 값을 제외한 null 건수 출력\n",
    "areaDF.na.drop().count()"
   ]
  },
  {
   "cell_type": "code",
   "execution_count": 15,
   "id": "65dec3e3",
   "metadata": {
    "scrolled": true
   },
   "outputs": [
    {
     "name": "stdout",
     "output_type": "stream",
     "text": [
      "+---+------+------+---------+-------+----------+---+-----+---+------+-------+----------+--------+-----------+-------+----------+-------+----------+---------+------------+----+-------+------+---------+--------+-----------+------+------+---------+------+---------+--------+-----------+----+-------+-----+--------+---+------+------+---------+--------+-----------+---------+------------+------+---------+---------+---------+------------+---+------+-------+----------+\n",
      "|DDM|DDMADD|DOBONG|DOBONGADD|DONGJAK|DONGJAKADD| EP|EPADD|ETC|ETCADD|GANGBUK|GANGBUKADD|GANGDONG|GANGDONGADD|GANGNAM|GANGNAMADD|GANGSEO|GANGSEOADD|GEUMCHEON|GEUMCHEONADD|GURO|GUROADD|GWANAK|GWANAKADD|GWANGJIN|GWANGJINADD|JCG_DT|JONGNO|JONGNOADD|JUNGGU|JUNGGUADD|JUNGNANG|JUNGNANGADD|MAPO|MAPOADD|NOWON|NOWONADD|SDM|SDMADD|SEOCHO|SEOCHOADD|SEONGBUK|SEONGBUKADD|SEONGDONG|SEONGDONGADD|SONGPA|SONGPAADD|WORK_DTTM|YANGCHEON|YANGCHEONADD|YDP|YDPADD|YONGSAN|YONGSANADD|\n",
      "+---+------+------+---------+-------+----------+---+-----+---+------+-------+----------+--------+-----------+-------+----------+-------+----------+---------+------------+----+-------+------+---------+--------+-----------+------+------+---------+------+---------+--------+-----------+----+-------+-----+--------+---+------+------+---------+--------+-----------+---------+------------+------+---------+---------+---------+------------+---+------+-------+----------+\n",
      "|  0|     0|     0|        0|      0|         0|  0|    0|  0|     0|      0|         0|       0|          0|      0|         0|      0|         0|        0|           0|   0|      0|     0|        0|       0|          0|     0|     0|        0|     0|        0|       0|          0|   0|      0|    0|       0|  0|     0|     0|        0|       0|          0|        0|           0|     0|        0|        0|        0|           0|  0|     0|      0|         0|\n",
      "+---+------+------+---------+-------+----------+---+-----+---+------+-------+----------+--------+-----------+-------+----------+-------+----------+---------+------------+----+-------+------+---------+--------+-----------+------+------+---------+------+---------+--------+-----------+----+-------+-----+--------+---+------+------+---------+--------+-----------+---------+------------+------+---------+---------+---------+------------+---+------+-------+----------+\n",
      "\n"
     ]
    }
   ],
   "source": [
    "# null 값을 제외한 null 건수 출력\n",
    "nulldf = areaDF.select([count(when(col(c).isNull(), c)).alias(c) for c in areaDF.columns]).show()"
   ]
  },
  {
   "cell_type": "markdown",
   "id": "59cbeff6",
   "metadata": {},
   "source": [
    "## 문제 3-2의 답\n",
    "2) (null제거하고) 종로, 마포, 용산, 합계 (종로, 마포, 용산) 10건 출력.\n",
    "\n",
    "\n",
    "+------+----+-------+------+\n",
    "\n",
    "|jongno|mapo|yongsan|   tot|\n",
    "\n",
    "+------+----+-------+------+\n",
    "\n",
    "|  1968|4127|   3031|9126.0|\n"
   ]
  },
  {
   "cell_type": "code",
   "execution_count": 16,
   "id": "1dc7b7fa",
   "metadata": {},
   "outputs": [
    {
     "name": "stdout",
     "output_type": "stream",
     "text": [
      "+------+----+-------+------+\n",
      "|JONGNO|MAPO|YONGSAN|   tot|\n",
      "+------+----+-------+------+\n",
      "|  2036|4191|   3076|9303.0|\n",
      "|  2023|4176|   3064|9263.0|\n",
      "|  2008|4164|   3055|9227.0|\n",
      "|  1989|4157|   3049|9195.0|\n",
      "|  1977|4134|   3041|9152.0|\n",
      "|  1968|4127|   3031|9126.0|\n",
      "|  1958|4121|   3023|9102.0|\n",
      "|  1949|4112|   3006|9067.0|\n",
      "|  1925|4102|   2995|9022.0|\n",
      "|  1900|4082|   2976|8958.0|\n",
      "+------+----+-------+------+\n",
      "\n"
     ]
    }
   ],
   "source": [
    "columns = areaDF.columns\n",
    "\n",
    "areaDF.na.drop().select(areaDF.JONGNO, areaDF.MAPO, areaDF.YONGSAN, (areaDF.JONGNO + areaDF.MAPO + areaDF.YONGSAN).alias('tot')).limit(10).show()\n"
   ]
  },
  {
   "cell_type": "markdown",
   "id": "f165f087",
   "metadata": {},
   "source": [
    "## 문제 3-3의 답\n",
    "\n",
    "\n",
    "3) (null제거하고) 종로구의 2020년 3월 데이터 출력.\n",
    "\n",
    "+-------------+------+\n",
    "\n",
    "|       jcg_dt|jongno|\n",
    "\n",
    "+-------------+------+\n",
    "\n",
    "|2020.03.31.10|    13|\n",
    "\n",
    "...\n"
   ]
  },
  {
   "cell_type": "code",
   "execution_count": 17,
   "id": "26e0fd99",
   "metadata": {},
   "outputs": [
    {
     "name": "stdout",
     "output_type": "stream",
     "text": [
      "+-------------+------+\n",
      "|       JCG_DT|JONGNO|\n",
      "+-------------+------+\n",
      "|2020.03.31.10|    13|\n",
      "|2020.03.30.10|    13|\n",
      "|2020.03.29.10|    13|\n",
      "|2020.03.28.10|    13|\n",
      "|2020.03.27.00|    13|\n",
      "|2020.03.26.00|    13|\n",
      "|2020.03.25.00|    13|\n",
      "|2020.03.24.00|    12|\n",
      "|2020.03.23.00|    11|\n",
      "|2020.03.22.00|    11|\n",
      "|2020.03.21.00|    11|\n",
      "|2020.03.20.00|    11|\n",
      "|2020.03.19.00|    11|\n",
      "|2020.03.18.00|    11|\n",
      "|2020.03.17.10|    11|\n",
      "|2020.03.16.10|    11|\n",
      "|2020.03.15.10|    11|\n",
      "|2020.03.14.10|    11|\n",
      "|2020.03.13.10|    11|\n",
      "|2020.03.12.10|    11|\n",
      "+-------------+------+\n",
      "only showing top 20 rows\n",
      "\n"
     ]
    }
   ],
   "source": [
    "from pyspark.sql.types import DateType\n",
    "\n",
    "areaDF.na.drop().select(areaDF.JCG_DT, areaDF.JONGNO).where(areaDF['JCG_DT'].startswith(\"2020.03\")).show()"
   ]
  },
  {
   "cell_type": "markdown",
   "id": "85e600b9",
   "metadata": {},
   "source": [
    "## 문제 3-4의 답\n",
    "\n",
    "\n",
    "\n",
    "4) (null제거하고) 년 x 월별 합계 10건 출력.\n",
    "\n",
    "+-----+-------+-------+\n",
    "\n",
    "|month|   2020|   2021|\n",
    "\n",
    "+-----+-------+-------+\n",
    "\n",
    "|   07| 1273.0|62849.0|"
   ]
  },
  {
   "cell_type": "code",
   "execution_count": 18,
   "id": "87dca9ad",
   "metadata": {},
   "outputs": [
    {
     "name": "stdout",
     "output_type": "stream",
     "text": [
      "+-----+----+----+\n",
      "|month|2020|2021|\n",
      "+-----+----+----+\n",
      "|   07|  31|  31|\n",
      "|   11|  30|   0|\n",
      "|   01|   0|  31|\n",
      "|   09|  30|  30|\n",
      "|   05|  31|  32|\n",
      "|   08|  31|  31|\n",
      "|   03|  31|  31|\n",
      "|   02|   2|  28|\n",
      "|   06|  30|  30|\n",
      "|   10|  31|  23|\n",
      "|   12|  31|   0|\n",
      "|   04|  30|  30|\n",
      "+-----+----+----+\n",
      "\n"
     ]
    }
   ],
   "source": [
    "from pyspark.sql.types import DateType\n",
    "\n",
    "areaDFCasted = areaDF.withColumn(\"year\", areaDF.JCG_DT.substr(0,4))\n",
    "areaDFCasted = areaDFCasted.withColumn(\"month\", areaDF.JCG_DT.substr(6, 2))\n",
    "areaDFCasted.groupBy('month').pivot('year').count().na.fill(0).show()"
   ]
  }
 ],
 "metadata": {
  "kernelspec": {
   "display_name": "Python 3",
   "language": "python",
   "name": "python3"
  },
  "language_info": {
   "codemirror_mode": {
    "name": "ipython",
    "version": 3
   },
   "file_extension": ".py",
   "mimetype": "text/x-python",
   "name": "python",
   "nbconvert_exporter": "python",
   "pygments_lexer": "ipython3",
   "version": "3.9.5"
  }
 },
 "nbformat": 4,
 "nbformat_minor": 5
}

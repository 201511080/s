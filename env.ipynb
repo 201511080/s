{
 "cells": [
  {
   "cell_type": "markdown",
   "id": "3b7ab91c",
   "metadata": {},
   "source": [
    "```\n",
    "pip3 install requests\n",
    "pip3 install lxml\n",
    "pip3 install cssselect\n",
    "```"
   ]
  }
 ],
 "metadata": {
  "kernelspec": {
   "display_name": "Python 3",
   "language": "python",
   "name": "python3"
  },
  "language_info": {
   "codemirror_mode": {
    "name": "ipython",
    "version": 3
   },
   "file_extension": ".py",
   "mimetype": "text/x-python",
   "name": "python",
   "nbconvert_exporter": "python",
   "pygments_lexer": "ipython3",
   "version": "3.9.6"
  }
 },
 "nbformat": 4,
 "nbformat_minor": 5
}

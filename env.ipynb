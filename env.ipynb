{
 "cells": [
  {
   "cell_type": "markdown",
   "id": "3b7ab91c",
   "metadata": {},
   "source": [
    "```\n",
    "pip3 install requests\n",
    "pip3 install lxml\n",
    "pip3 install cssselect\n",
    "pip3 install pymongo\n",
    "pip3 install iplantuml\n",
    "\n",
    "// 스탠드 얼론용\n",
    "pip3 install pyspark\n",
    "\n",
    "// 위 명령어 실행하면 자동 설치됨.\n",
    "pip3 install py4j\n",
    "```"
   ]
  },
  {
   "cell_type": "code",
   "execution_count": 1,
   "id": "b50a3410",
   "metadata": {},
   "outputs": [
    {
     "data": {
      "text/plain": [
       "['Collecting sympy',\n",
       " '  Downloading sympy-1.9-py3-none-any.whl (6.2 MB)',\n",
       " 'Collecting mpmath>=0.19',\n",
       " '  Downloading mpmath-1.2.1-py3-none-any.whl (532 kB)',\n",
       " 'Installing collected packages: mpmath, sympy',\n",
       " 'Successfully installed mpmath-1.2.1 sympy-1.9',\n",
       " 'WARNING: You are using pip version 21.1.1; however, version 21.3.1 is available.',\n",
       " \"You should consider upgrading via the '/usr/local/opt/python@3.9/bin/python3.9 -m pip install --upgrade pip' command.\"]"
      ]
     },
     "execution_count": 1,
     "metadata": {},
     "output_type": "execute_result"
    }
   ],
   "source": [
    "!! pip3 install sympy"
   ]
  }
 ],
 "metadata": {
  "kernelspec": {
   "display_name": "Python 3",
   "language": "python",
   "name": "python3"
  },
  "language_info": {
   "codemirror_mode": {
    "name": "ipython",
    "version": 3
   },
   "file_extension": ".py",
   "mimetype": "text/x-python",
   "name": "python",
   "nbconvert_exporter": "python",
   "pygments_lexer": "ipython3",
   "version": "3.9.5"
  }
 },
 "nbformat": 4,
 "nbformat_minor": 5
}

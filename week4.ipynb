{
 "cells": [
  {
   "cell_type": "markdown",
   "id": "0b7375eb",
   "metadata": {},
   "source": [
    "```\n",
    "➜  s git:(master) pyspark\n",
    "Python 3.9.6 (default, Jun 29 2021, 06:20:32) \n",
    "[Clang 12.0.0 (clang-1200.0.32.29)] on darwin\n",
    "Type \"help\", \"copyright\", \"credits\" or \"license\" for more information.\n",
    "21/09/22 04:23:06 WARN Utils: Your hostname, kangui-MacBookPro.local resolves to a loopback address: 127.0.0.1; using 192.168.0.14 instead (on interface en0)\n",
    "21/09/22 04:23:06 WARN Utils: Set SPARK_LOCAL_IP if you need to bind to another address\n",
    "WARNING: An illegal reflective access operation has occurred\n",
    "WARNING: Illegal reflective access by org.apache.spark.unsafe.Platform (file:/usr/local/lib/python3.9/site-packages/pyspark/jars/spark-unsafe_2.12-3.1.2.jar) to constructor java.nio.DirectByteBuffer(long,int)\n",
    "WARNING: Please consider reporting this to the maintainers of org.apache.spark.unsafe.Platform\n",
    "WARNING: Use --illegal-access=warn to enable warnings of further illegal reflective access operations\n",
    "WARNING: All illegal access operations will be denied in a future release\n",
    "21/09/22 04:23:07 WARN NativeCodeLoader: Unable to load native-hadoop library for your platform... using builtin-java classes where applicable\n",
    "Using Spark's default log4j profile: org/apache/spark/log4j-defaults.properties\n",
    "Setting default log level to \"WARN\".\n",
    "To adjust logging level use sc.setLogLevel(newLevel). For SparkR, use setLogLevel(newLevel).\n",
    "Welcome to\n",
    "      ____              __\n",
    "     / __/__  ___ _____/ /__\n",
    "    _\\ \\/ _ \\/ _ `/ __/  '_/\n",
    "   /__ / .__/\\_,_/_/ /_/\\_\\   version 3.1.2\n",
    "      /_/\n",
    "\n",
    "Using Python version 3.9.6 (default, Jun 29 2021 06:20:32)\n",
    "Spark context Web UI available at http://192.168.0.14:4040\n",
    "Spark context available as 'sc' (master = local[*], app id = local-1632252188331).\n",
    "SparkSession available as 'spark'.\n",
    ">>> exit\n",
    "\n",
    "```"
   ]
  },
  {
   "cell_type": "markdown",
   "id": "b736e72a",
   "metadata": {},
   "source": [
    "# 문제 1: 오픈API를 통해 데이터를 5천 ~ 1만 건 정도 수집해서 파일로 저장한다 (초과해도 좋다).\n",
    "\n",
    "- 열린데이터, 공공데이터 또는 (할 수 있다면) 트위터와 같은 SNS, 댓글 등 적합한 소스를 자신이 선택한다.\n",
    "\n",
    "- 과정의 후반으로 가서, 이 데이터를 분석하는 과제가 주어지게 된다.\n",
    "\n",
    "- 프로그램에서 몇 건을 읽었는지와 마지막 줄을 화면 출력한다.\n",
    "\n",
    "- !dir 명령어로 파일이 존재하는지 출력한다. 1만 건 정도 저장되었으니 파일의 크기가 적당한지 가늠해보자"
   ]
  },
  {
   "cell_type": "code",
   "execution_count": 1,
   "id": "a205b9be",
   "metadata": {},
   "outputs": [],
   "source": [
    "# 데이터 쌓는 중입니다.\n",
    "\n",
    "# 커뮤니티 게시글을 모으고 있습니다.\n",
    "\n"
   ]
  },
  {
   "cell_type": "markdown",
   "id": "ae9a0e27",
   "metadata": {},
   "source": [
    "# 문제 2: 노트북에서 pyspark 실행\n",
    "\n",
    "주피터 노트북을 실행한 후, 셀에서 아래 명령어를 실행하여 spark를 생성하고, 그 버전을 출력하세요.\n",
    "\n",
    "[In] spark.version\n",
    "\n",
    "[Out] '3.x.x'\n",
    "\n",
    "\n",
    "\n",
    "그리고 다음과 같이 버전을 출력한다.\n",
    "\n",
    "pyspark는 jdk가 설치되어 있어야 한다.\n",
    "\n",
    "!java --version   #spark v2.x는 java 8이 적당.\n",
    "\n",
    "!javac --version  #java 버전과 동일한지 확인한다.\n",
    "\n",
    "!python --version  \n",
    "\n",
    "!python3 --version # python 2, 3 멀티 버전이 설치된 경우에만 출력"
   ]
  },
  {
   "cell_type": "code",
   "execution_count": 42,
   "id": "fc457fd3",
   "metadata": {},
   "outputs": [
    {
     "data": {
      "text/plain": [
       "'3.1.2'"
      ]
     },
     "execution_count": 42,
     "metadata": {},
     "output_type": "execute_result"
    }
   ],
   "source": [
    "spark.version"
   ]
  },
  {
   "cell_type": "code",
   "execution_count": 45,
   "id": "e168904f",
   "metadata": {},
   "outputs": [
    {
     "name": "stdout",
     "output_type": "stream",
     "text": [
      "openjdk version \"1.8.0_222\"\n",
      "OpenJDK Runtime Environment (AdoptOpenJDK)(build 1.8.0_222-b10)\n",
      "OpenJDK 64-Bit Server VM (AdoptOpenJDK)(build 25.222-b10, mixed mode)\n",
      "javac 1.8.0_222\n",
      "Python 2.7.15\n",
      "Python 3.9.5\n"
     ]
    }
   ],
   "source": [
    "!java -version #spark v2.x는 java 8이 적당.\n",
    "\n",
    "!javac -version #java 버전과 동일한지 확인한다.\n",
    "\n",
    "!python --version\n",
    "\n",
    "!python3 --version # python 2, 3 멀티 버전이 설치된 경우에만 출력"
   ]
  },
  {
   "cell_type": "markdown",
   "id": "e8420ee3",
   "metadata": {},
   "source": [
    "# 문제 3: 다음 파일을 읽어서 RDD를 생성하고, 5줄을 화면출력하세요.\n",
    "\n",
    "결과가 깨져보인다면, 그 이유를 간단히 적으세요.\n",
    "\n",
    "* 1) 경기도 의정부시 인구현황 (파일명: ```경기도 의정부시_인구현황_20200904```)\n",
    "\n",
    "https://www.data.go.kr/data/15009613/fileData.do\n",
    "\n",
    "\n",
    "\n",
    "\n",
    "\n",
    "* 2) 제주특별자치도 서귀포시 내 연도별 65세이상 인구수 및 고령화비율, 노령화지수 현황 (파일명: ```제주특별자치도 서귀포시_고령화비율및노령화지수현황_20200623```)\n",
    "\n",
    "https://www.data.go.kr/data/15051545/fileData.do\n",
    "\n"
   ]
  },
  {
   "cell_type": "markdown",
   "id": "47bdb7f7",
   "metadata": {},
   "source": [
    "# 깨지는 이유\n",
    "\n",
    "화면에 출력하면 한글이 깨져있다. use_unicode=True설정을 주었는데도 그렇다. 다운로드 받으면서 한글이 깨져 있기 때문에 그렇다. 다운로드 받은 파일을 수정해서 출력하면 된다."
   ]
  },
  {
   "cell_type": "code",
   "execution_count": 72,
   "id": "4c8e9e17",
   "metadata": {},
   "outputs": [
    {
     "name": "stdout",
     "output_type": "stream",
     "text": [
      "Row(_c0='�������', _c1='�α���(��)', _c2='�α���(��)', _c3='�α���(��)', _c4='������(��)', _c5='������(��)', _c6='������(��)', _c7='����', _c8='�����', _c9='������α�', _c10='���������', _c11='�����μ���', _c12='�μ���ȭ��ȣ', _c13='�����ͱ�������')\n",
      "Row(_c0='������1��', _c1='32292', _c2='16538', _c3='15754', _c4='6.97', _c5='3.57', _c6='3.4', _c7='104.98', _c8='19998', _c9='1.61', _c10='�����ν�', _c11='�ο����ǰ�', _c12='031-828-2466', _c13='2021/09/10')\n",
      "Row(_c0='������2��', _c1='31380', _c2='15608', _c3='15772', _c4='6.77', _c5='3.37', _c6='3.4', _c7='98.96', _c8='16410', _c9='1.91', _c10='�����ν�', _c11='�ο����ǰ�', _c12='031-828-2466', _c13='2021/09/10')\n",
      "Row(_c0='ȣ��1��', _c1='36124', _c2='17595', _c3='18529', _c4='7.8', _c5='3.8', _c6='4', _c7='94.96', _c8='15653', _c9='2.31', _c10='�����ν�', _c11='�ο����ǰ�', _c12='031-828-2466', _c13='2021/09/10')\n",
      "Row(_c0='ȣ��2��', _c1='34957', _c2='16923', _c3='18034', _c4='7.54', _c5='3.65', _c6='3.89', _c7='93.84', _c8='13683', _c9='2.55', _c10='�����ν�', _c11='�ο����ǰ�', _c12='031-828-2466', _c13='2021/09/10')\n"
     ]
    }
   ],
   "source": [
    "df1=spark.read.csv(os.path.join(\"data\", \"경기도 의정부시_인구현황_20210910.csv\"))\n",
    "for i in df1.take(5):\n",
    "    print(i)"
   ]
  },
  {
   "cell_type": "code",
   "execution_count": 71,
   "id": "4a837bb6",
   "metadata": {},
   "outputs": [
    {
     "name": "stdout",
     "output_type": "stream",
     "text": [
      "Row(_c0='������', _c1='�������� �α���', _c2='65���̻� �α��� ', _c3='14������ �α���', _c4='���ȭ����', _c5='���ȭ����', _c6='�����ͱ�������')\n",
      "Row(_c0='2012', _c1='154057', _c2='25826', _c3='22861', _c4='16.76', _c5='112.97', _c6='2021/08/31')\n",
      "Row(_c0='2013', _c1='155641', _c2='26936', _c3='22393', _c4='17.31', _c5='120.29', _c6='2021/08/31')\n",
      "Row(_c0='2014', _c1='158512', _c2='27877', _c3='22058', _c4='17.59', _c5='126.38', _c6='2021/08/31')\n",
      "Row(_c0='2015', _c1='164519', _c2='28979', _c3='22362', _c4='17.61', _c5='129.59', _c6='2021/08/31')\n"
     ]
    }
   ],
   "source": [
    "df2=spark.read.csv(os.path.join(\"data\", \"제주특별자치도 서귀포시_고령화비율및노령화지수현황_20210831.csv\"))\n",
    "for i in df2.take(5):\n",
    "    print(i)"
   ]
  },
  {
   "cell_type": "markdown",
   "id": "1c2d2962",
   "metadata": {},
   "source": [
    "# 깨짐 고침"
   ]
  },
  {
   "cell_type": "code",
   "execution_count": 70,
   "id": "913ed077",
   "metadata": {},
   "outputs": [
    {
     "name": "stdout",
     "output_type": "stream",
     "text": [
      "Row(행정기관='의정부1동', 인구수(계)='32292', 인구수(남)='16538', 인구수(여)='15754', 구성비(계)='6.97', 구성비(남)='3.57', 구성비(여)='3.4', 성비='104.98', 세대수='19998', 세대당인구='1.61', 관리기관명='의정부시', 관리부서명='민원여권과', 부서전화번호='031-828-2466', 데이터기준일자='2021/09/10')\n",
      "Row(행정기관='의정부2동', 인구수(계)='31380', 인구수(남)='15608', 인구수(여)='15772', 구성비(계)='6.77', 구성비(남)='3.37', 구성비(여)='3.4', 성비='98.96', 세대수='16410', 세대당인구='1.91', 관리기관명='의정부시', 관리부서명='민원여권과', 부서전화번호='031-828-2466', 데이터기준일자='2021/09/10')\n",
      "Row(행정기관='호원1동', 인구수(계)='36124', 인구수(남)='17595', 인구수(여)='18529', 구성비(계)='7.8', 구성비(남)='3.8', 구성비(여)='4', 성비='94.96', 세대수='15653', 세대당인구='2.31', 관리기관명='의정부시', 관리부서명='민원여권과', 부서전화번호='031-828-2466', 데이터기준일자='2021/09/10')\n",
      "Row(행정기관='호원2동', 인구수(계)='34957', 인구수(남)='16923', 인구수(여)='18034', 구성비(계)='7.54', 구성비(남)='3.65', 구성비(여)='3.89', 성비='93.84', 세대수='13683', 세대당인구='2.55', 관리기관명='의정부시', 관리부서명='민원여권과', 부서전화번호='031-828-2466', 데이터기준일자='2021/09/10')\n",
      "Row(행정기관='장암동', 인구수(계)='20314', 인구수(남)='9714', 인구수(여)='10600', 구성비(계)='4.38', 구성비(남)='2.1', 구성비(여)='2.29', 성비='91.64', 세대수='8604', 세대당인구='2.36', 관리기관명='의정부시', 관리부서명='민원여권과', 부서전화번호='031-828-2466', 데이터기준일자='2021/09/10')\n"
     ]
    }
   ],
   "source": [
    "fixdf1= spark.read.format(\"csv\")\\\n",
    "    .option(\"delimiter\", \",\")\\\n",
    "    .option(\"ESCAPE quote\", '\"')\\\n",
    "    .option(\"header\",True)\\\n",
    "    .load(os.path.join(\"data\", \"고침_경기도 의정부시_인구현황_20210910.csv\"))\n",
    "for i in fixdf1.take(5):\n",
    "    print(i)"
   ]
  },
  {
   "cell_type": "code",
   "execution_count": 69,
   "id": "343d6a01",
   "metadata": {},
   "outputs": [
    {
     "name": "stdout",
     "output_type": "stream",
     "text": [
      "Row(연도별='2012', 서귀포시 인구수='154057', 65세이상 인구수='25826', 14세이하 인구수='22861', 고령화비율='16.76', 노령화지수='112.97', 데이터기준일자='2021/08/31')\n",
      "Row(연도별='2013', 서귀포시 인구수='155641', 65세이상 인구수='26936', 14세이하 인구수='22393', 고령화비율='17.31', 노령화지수='120.29', 데이터기준일자='2021/08/31')\n",
      "Row(연도별='2014', 서귀포시 인구수='158512', 65세이상 인구수='27877', 14세이하 인구수='22058', 고령화비율='17.59', 노령화지수='126.38', 데이터기준일자='2021/08/31')\n",
      "Row(연도별='2015', 서귀포시 인구수='164519', 65세이상 인구수='28979', 14세이하 인구수='22362', 고령화비율='17.61', 노령화지수='129.59', 데이터기준일자='2021/08/31')\n",
      "Row(연도별='2016', 서귀포시 인구수='170932', 65세이상 인구수='30030', 14세이하 인구수='23044', 고령화비율='17.57', 노령화지수='130.32', 데이터기준일자='2021/08/31')\n"
     ]
    }
   ],
   "source": [
    "fixdf2= spark.read.format(\"csv\")\\\n",
    "    .option(\"delimiter\", \",\")\\\n",
    "    .option(\"ESCAPE quote\", '\"')\\\n",
    "    .option(\"header\",True)\\\n",
    "    .load(os.path.join(\"data\", \"고침_제주특별자치도 서귀포시_고령화비율및노령화지수현황_20210831.csv\"))\n",
    "for i in fixdf2.take(5):\n",
    "    print(i)"
   ]
  },
  {
   "cell_type": "code",
   "execution_count": 28,
   "id": "a5146e6e",
   "metadata": {},
   "outputs": [],
   "source": [
    "import os"
   ]
  },
  {
   "cell_type": "code",
   "execution_count": 21,
   "id": "5225d483",
   "metadata": {},
   "outputs": [],
   "source": [
    "import requests\n",
    "import urllib\n",
    "\n",
    "\n",
    "# 경기도 의정부시_인구현황\n",
    "def fetchUijeongbuPopulationInformation():\n",
    "    # https://www.data.go.kr/iim/api/selectAPIAcountView.do \n",
    "    API_URL = \"https://api.odcloud.kr/api/15009613/v1/uddi:a3c28072-99fc-4e37-9113-8e81cab51ab9\"\n",
    "    \n",
    "    # Decoding\n",
    "    API_KEY = \"8OGTO7jd9Ih3JPZej0XBI0ITT2g6v1f1zxq7TibztJxeUYTyVjqSYAqePFeUP1eX7D5r2EKdlWU3w6Wfu9fKug==\"\n",
    "    \n",
    "    # Parameters 설정\n",
    "    # page=1&perPage=10 \n",
    "    _d=dict()\n",
    "    _d['page']= '1'\n",
    "    _d['perPage']= '1'\n",
    "    _d['serviceKey']= API_KEY\n",
    "    _d['returnType']= 'JSON'\n",
    "    \n",
    "    # url encoding\n",
    "    params=urllib.parse.urlencode(_d)\n",
    "    \n",
    "    # header\n",
    "    headers = {\n",
    "        \"Authorization\": API_KEY,\n",
    "        \"Accept\": \"application/json\",\n",
    "        \"Content-Type\": \"application/json; charset=UTF-8\"\n",
    "    }\n",
    "    \n",
    "    # data fetching\n",
    "    res=requests.get(API_URL + '?' + params, headers=headers)\n",
    "    \n",
    "    return res.json()"
   ]
  },
  {
   "cell_type": "code",
   "execution_count": 34,
   "id": "496a7d54",
   "metadata": {},
   "outputs": [],
   "source": [
    "import requests\n",
    "import urllib\n",
    "\n",
    "\n",
    "# 제주특별자치도 서귀포시_고령화비율및노령화지수현황\n",
    "def fetchJejuPopulationInformation():\n",
    "    # https://www.data.go.kr/iim/api/selectAPIAcountView.do \n",
    "    API_URL = \"https://api.odcloud.kr/api/15051545/v1/uddi:70bc1765-8633-4021-ae84-e28ea48cc9f2\"\n",
    "    \n",
    "    # Decoding\n",
    "    API_KEY = \"8OGTO7jd9Ih3JPZej0XBI0ITT2g6v1f1zxq7TibztJxeUYTyVjqSYAqePFeUP1eX7D5r2EKdlWU3w6Wfu9fKug==\"\n",
    "    \n",
    "    # Parameters 설정\n",
    "    # page=1&perPage=10 \n",
    "    _d=dict()\n",
    "    _d['page']= '1'\n",
    "    _d['perPage']= '1'\n",
    "    _d['serviceKey']= API_KEY\n",
    "    _d['returnType']= 'JSON'\n",
    "    \n",
    "    # url encoding\n",
    "    params=urllib.parse.urlencode(_d)\n",
    "    \n",
    "    # data fetching\n",
    "    res=requests.get(API_URL + '?' + params)\n",
    "    \n",
    "    return res.json()"
   ]
  },
  {
   "cell_type": "code",
   "execution_count": 35,
   "id": "0f6056a1",
   "metadata": {},
   "outputs": [],
   "source": [
    "# %%writefile data/경기도_의정부시_인구현황_20200904.txt\n",
    "\n",
    "import json\n",
    "with open(os.path.join(\"data\", \"경기도_의정부시_인구현황_20200904.txt\"), 'w') as f:\n",
    "    json.dump(fetchUijeongbuPopulationInformation(), f)"
   ]
  },
  {
   "cell_type": "code",
   "execution_count": 36,
   "id": "60ac23d4",
   "metadata": {},
   "outputs": [],
   "source": [
    "import json\n",
    "with open(os.path.join(\"data\", \"제주특별자치도_서귀포시_고령화비율및노령화지수현황_20200623.txt\"), 'w') as f:\n",
    "    json.dump(fetchJejuPopulationInformation(), f)"
   ]
  },
  {
   "cell_type": "code",
   "execution_count": 37,
   "id": "c28225e6",
   "metadata": {},
   "outputs": [],
   "source": [
    "import pyspark\n",
    "\n",
    "myConf=pyspark.SparkConf()\n",
    "spark = pyspark.sql.SparkSession\\\n",
    "    .builder\\\n",
    "    .master(\"local\")\\\n",
    "    .appName(\"myApp\")\\\n",
    "    .config(conf=myConf)\\\n",
    "    .getOrCreate()"
   ]
  },
  {
   "cell_type": "code",
   "execution_count": 38,
   "id": "510ac102",
   "metadata": {
    "scrolled": true
   },
   "outputs": [
    {
     "data": {
      "text/plain": [
       "[('spark.master', 'local'),\n",
       " ('spark.driver.port', '55060'),\n",
       " ('spark.app.name', 'myApp'),\n",
       " ('spark.rdd.compress', 'True'),\n",
       " ('spark.app.startTime', '1632305531773'),\n",
       " ('spark.serializer.objectStreamReset', '100'),\n",
       " ('spark.sql.warehouse.dir',\n",
       "  'file:/Users/kangjuyoung/Desktop/workspace_jooyoung/university/labs3-2/bigdata-engineering/spark-warehouse'),\n",
       " ('spark.submit.pyFiles', ''),\n",
       " ('spark.executor.id', 'driver'),\n",
       " ('spark.submit.deployMode', 'client'),\n",
       " ('spark.driver.host', '192.168.0.5'),\n",
       " ('spark.ui.showConsoleProgress', 'true'),\n",
       " ('spark.app.id', 'local-1632305532584')]"
      ]
     },
     "execution_count": 38,
     "metadata": {},
     "output_type": "execute_result"
    }
   ],
   "source": [
    "spark.sparkContext.getConf().getAll()"
   ]
  },
  {
   "cell_type": "code",
   "execution_count": 41,
   "id": "b5addfe6",
   "metadata": {},
   "outputs": [
    {
     "data": {
      "text/plain": [
       "['{\"currentCount\": 1, \"data\": [{\"\\\\uad00\\\\ub9ac\\\\uae30\\\\uad00\\\\uba85\": \"\\\\uc758\\\\uc815\\\\ubd80\\\\uc2dc\", \"\\\\uad00\\\\ub9ac\\\\ubd80\\\\uc11c\\\\uba85\": \"\\\\uc2dc\\\\ubbfc\\\\ubd09\\\\uc0ac\\\\uacfc\", \"\\\\uad6c\\\\uc131\\\\ube44(\\\\uacc4)\": \"6.83\", \"\\\\uad6c\\\\uc131\\\\ube44(\\\\ub0a8)\": \"3.49\", \"\\\\uad6c\\\\uc131\\\\ube44(\\\\uc5ec)\": \"3.34\", \"\\\\ub370\\\\uc774\\\\ud130\\\\uae30\\\\uc900\\\\uc77c\\\\uc790\": \"2021-01-04\", \"\\\\ubd80\\\\uc11c\\\\uc804\\\\ud654\\\\ubc88\\\\ud638\": \"031-828-2466\", \"\\\\uc131\\\\ube44\": \"104.6\", \"\\\\uc138\\\\ub300\\\\ub2f9\\\\uc778\\\\uad6c\": \"1.63\", \"\\\\uc138\\\\ub300\\\\uc218\": \"19,412\", \"\\\\uc778\\\\uad6c\\\\uc218(\\\\uacc4)\": \"31,550\", \"\\\\uc778\\\\uad6c\\\\uc218(\\\\ub0a8)\": \"16,130\", \"\\\\uc778\\\\uad6c\\\\uc218(\\\\uc5ec)\": \"15,420\", \"\\\\ud589\\\\uc815\\\\uae30\\\\uad00\": \"\\\\uc758\\\\uc815\\\\ubd801\\\\ub3d9       \"}], \"matchCount\": 14, \"page\": 1, \"perPage\": 1, \"totalCount\": 14}']"
      ]
     },
     "execution_count": 41,
     "metadata": {},
     "output_type": "execute_result"
    }
   ],
   "source": [
    "import os \n",
    "myRdd=spark.sparkContext\\\n",
    "    .textFile(os.path.join(\"data\",\"경기도_의정부시_인구현황_20200904.txt\"))\n",
    "\n",
    "myRdd.take(3)"
   ]
  },
  {
   "cell_type": "markdown",
   "id": "4d89c8d3",
   "metadata": {},
   "source": [
    "# BinaryFiles"
   ]
  },
  {
   "cell_type": "code",
   "execution_count": null,
   "id": "77f7a2e3",
   "metadata": {},
   "outputs": [],
   "source": []
  },
  {
   "cell_type": "code",
   "execution_count": null,
   "id": "ee30a67b",
   "metadata": {},
   "outputs": [],
   "source": []
  },
  {
   "cell_type": "code",
   "execution_count": null,
   "id": "a0f91c59",
   "metadata": {},
   "outputs": [],
   "source": []
  },
  {
   "cell_type": "code",
   "execution_count": null,
   "id": "2b975e55",
   "metadata": {},
   "outputs": [],
   "source": []
  },
  {
   "cell_type": "code",
   "execution_count": null,
   "id": "dd7ebb93",
   "metadata": {},
   "outputs": [],
   "source": []
  }
 ],
 "metadata": {
  "kernelspec": {
   "display_name": "Python 3",
   "language": "python",
   "name": "python3"
  },
  "language_info": {
   "codemirror_mode": {
    "name": "ipython",
    "version": 3
   },
   "file_extension": ".py",
   "mimetype": "text/x-python",
   "name": "python",
   "nbconvert_exporter": "python",
   "pygments_lexer": "ipython3",
   "version": "3.9.5"
  }
 },
 "nbformat": 4,
 "nbformat_minor": 5
}
